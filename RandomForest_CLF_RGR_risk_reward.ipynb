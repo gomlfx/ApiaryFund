{
  "nbformat": 4,
  "nbformat_minor": 0,
  "metadata": {
    "colab": {
      "name": "RandomForest_CLF_RGR_risk_reward.ipynb",
      "provenance": [],
      "collapsed_sections": [],
      "authorship_tag": "ABX9TyM2axsbmt/VC4WzqhMxHCo9",
      "include_colab_link": true
    },
    "kernelspec": {
      "name": "python3",
      "display_name": "Python 3"
    }
  },
  "cells": [
    {
      "cell_type": "markdown",
      "metadata": {
        "id": "view-in-github",
        "colab_type": "text"
      },
      "source": [
        "<a href=\"https://colab.research.google.com/github/gomlfx/apiaryfund/blob/master/RandomForest_CLF_RGR_risk_reward.ipynb\" target=\"_parent\"><img src=\"https://colab.research.google.com/assets/colab-badge.svg\" alt=\"Open In Colab\"/></a>"
      ]
    },
    {
      "cell_type": "code",
      "metadata": {
        "id": "FWur2hwTSCl4",
        "colab_type": "code",
        "colab": {}
      },
      "source": [
        "#!pip install autosklearn\n",
        "#!pip install pandas_ta"
      ],
      "execution_count": 1,
      "outputs": []
    },
    {
      "cell_type": "code",
      "metadata": {
        "id": "Nt2p7Rn4fyAn",
        "colab_type": "code",
        "colab": {}
      },
      "source": [
        "#import autosklearn\n",
        "import matplotlib.pyplot as plt\n",
        "import pandas as pd\n",
        "import lightgbm as lgb\n",
        "import numpy as np\n",
        "from lightgbm import LGBMRegressor\n",
        "from lightgbm import LGBMClassifier\n",
        "\n",
        "from sklearn.ensemble import RandomForestClassifier\n",
        "from sklearn.ensemble import RandomForestRegressor\n",
        "from sklearn.model_selection import train_test_split"
      ],
      "execution_count": 2,
      "outputs": []
    },
    {
      "cell_type": "code",
      "metadata": {
        "id": "SOBXKvbIec06",
        "colab_type": "code",
        "colab": {}
      },
      "source": [
        "#more testing\n",
        "from sklearn.naive_bayes import GaussianNB"
      ],
      "execution_count": 3,
      "outputs": []
    },
    {
      "cell_type": "code",
      "metadata": {
        "id": "tp2NybLygNJY",
        "colab_type": "code",
        "colab": {
          "base_uri": "https://localhost:8080/",
          "height": 119
        },
        "outputId": "0512e0bc-d59a-42da-97ab-a6c456ce1ad5"
      },
      "source": [
        "df = pd.read_csv(\"EURUSD_Daily_197101040000_202009110000.csv\", sep='\\t')\n",
        "print(df.head(1))\n",
        "print(df.tail(1))"
      ],
      "execution_count": 4,
      "outputs": [
        {
          "output_type": "stream",
          "text": [
            "       <DATE>  <OPEN>  <HIGH>   <LOW>  <CLOSE>  <TICKVOL>  <VOL>  <SPREAD>\n",
            "0  1971.01.04  0.5369  0.5369  0.5369   0.5369          1      0        50\n",
            "           <DATE>   <OPEN>   <HIGH>  ...  <TICKVOL>  <VOL>  <SPREAD>\n",
            "12801  2020.09.11  1.18145  1.18739  ...      46151      0         1\n",
            "\n",
            "[1 rows x 8 columns]\n"
          ],
          "name": "stdout"
        }
      ]
    },
    {
      "cell_type": "code",
      "metadata": {
        "id": "dKFomEmliiti",
        "colab_type": "code",
        "colab": {}
      },
      "source": [
        "#from pandas import to_datetime\n",
        "#df['<DATE>'] = to_datetime(df['<DATE>'])\n",
        "#df.tail()\n",
        "df['<DATE>'] = df['<DATE>'].str.replace('.', '')"
      ],
      "execution_count": 5,
      "outputs": []
    },
    {
      "cell_type": "code",
      "metadata": {
        "id": "_Pn817eKoYf2",
        "colab_type": "code",
        "colab": {
          "base_uri": "https://localhost:8080/",
          "height": 224
        },
        "outputId": "649acb24-c92c-4e3e-d7ef-928262841b90"
      },
      "source": [
        "df['shifted_high'] = df['<HIGH>'].shift(periods=-1)\n",
        "df['shifted_close'] = df['<CLOSE>'].shift(periods=-1)\n",
        "df['shifted_low'] = df['<LOW>'].shift(periods=-1)\n",
        "\n",
        "df = df.rename(columns={\"<DATE>\":\"date\",'<OPEN>':'open','<HIGH>':'high','<LOW>':'low','<CLOSE>':'close','<TICKVOL>':'tickvol','<VOL>':'volume'})\n",
        "df.tail()"
      ],
      "execution_count": 6,
      "outputs": [
        {
          "output_type": "execute_result",
          "data": {
            "text/html": [
              "<div>\n",
              "<style scoped>\n",
              "    .dataframe tbody tr th:only-of-type {\n",
              "        vertical-align: middle;\n",
              "    }\n",
              "\n",
              "    .dataframe tbody tr th {\n",
              "        vertical-align: top;\n",
              "    }\n",
              "\n",
              "    .dataframe thead th {\n",
              "        text-align: right;\n",
              "    }\n",
              "</style>\n",
              "<table border=\"1\" class=\"dataframe\">\n",
              "  <thead>\n",
              "    <tr style=\"text-align: right;\">\n",
              "      <th></th>\n",
              "      <th>date</th>\n",
              "      <th>open</th>\n",
              "      <th>high</th>\n",
              "      <th>low</th>\n",
              "      <th>close</th>\n",
              "      <th>tickvol</th>\n",
              "      <th>volume</th>\n",
              "      <th>&lt;SPREAD&gt;</th>\n",
              "      <th>shifted_high</th>\n",
              "      <th>shifted_close</th>\n",
              "      <th>shifted_low</th>\n",
              "    </tr>\n",
              "  </thead>\n",
              "  <tbody>\n",
              "    <tr>\n",
              "      <th>12797</th>\n",
              "      <td>20200907</td>\n",
              "      <td>1.18458</td>\n",
              "      <td>1.18485</td>\n",
              "      <td>1.18111</td>\n",
              "      <td>1.18136</td>\n",
              "      <td>31385</td>\n",
              "      <td>0</td>\n",
              "      <td>1</td>\n",
              "      <td>1.18273</td>\n",
              "      <td>1.17739</td>\n",
              "      <td>1.17654</td>\n",
              "    </tr>\n",
              "    <tr>\n",
              "      <th>12798</th>\n",
              "      <td>20200908</td>\n",
              "      <td>1.18136</td>\n",
              "      <td>1.18273</td>\n",
              "      <td>1.17654</td>\n",
              "      <td>1.17739</td>\n",
              "      <td>56953</td>\n",
              "      <td>0</td>\n",
              "      <td>1</td>\n",
              "      <td>1.18337</td>\n",
              "      <td>1.18027</td>\n",
              "      <td>1.17528</td>\n",
              "    </tr>\n",
              "    <tr>\n",
              "      <th>12799</th>\n",
              "      <td>20200909</td>\n",
              "      <td>1.17747</td>\n",
              "      <td>1.18337</td>\n",
              "      <td>1.17528</td>\n",
              "      <td>1.18027</td>\n",
              "      <td>50318</td>\n",
              "      <td>0</td>\n",
              "      <td>1</td>\n",
              "      <td>1.19174</td>\n",
              "      <td>1.18146</td>\n",
              "      <td>1.17994</td>\n",
              "    </tr>\n",
              "    <tr>\n",
              "      <th>12800</th>\n",
              "      <td>20200910</td>\n",
              "      <td>1.18026</td>\n",
              "      <td>1.19174</td>\n",
              "      <td>1.17994</td>\n",
              "      <td>1.18146</td>\n",
              "      <td>60593</td>\n",
              "      <td>0</td>\n",
              "      <td>1</td>\n",
              "      <td>1.18739</td>\n",
              "      <td>1.18459</td>\n",
              "      <td>1.18086</td>\n",
              "    </tr>\n",
              "    <tr>\n",
              "      <th>12801</th>\n",
              "      <td>20200911</td>\n",
              "      <td>1.18145</td>\n",
              "      <td>1.18739</td>\n",
              "      <td>1.18086</td>\n",
              "      <td>1.18459</td>\n",
              "      <td>46151</td>\n",
              "      <td>0</td>\n",
              "      <td>1</td>\n",
              "      <td>NaN</td>\n",
              "      <td>NaN</td>\n",
              "      <td>NaN</td>\n",
              "    </tr>\n",
              "  </tbody>\n",
              "</table>\n",
              "</div>"
            ],
            "text/plain": [
              "           date     open     high  ...  shifted_high  shifted_close  shifted_low\n",
              "12797  20200907  1.18458  1.18485  ...       1.18273        1.17739      1.17654\n",
              "12798  20200908  1.18136  1.18273  ...       1.18337        1.18027      1.17528\n",
              "12799  20200909  1.17747  1.18337  ...       1.19174        1.18146      1.17994\n",
              "12800  20200910  1.18026  1.19174  ...       1.18739        1.18459      1.18086\n",
              "12801  20200911  1.18145  1.18739  ...           NaN            NaN          NaN\n",
              "\n",
              "[5 rows x 11 columns]"
            ]
          },
          "metadata": {
            "tags": []
          },
          "execution_count": 6
        }
      ]
    },
    {
      "cell_type": "code",
      "metadata": {
        "id": "ZF1jUGZAFQqi",
        "colab_type": "code",
        "colab": {}
      },
      "source": [
        "#standardize: o-c, o-h, o-l\n",
        "df['st_high'] = df['high'] - df['open']\n",
        "df['st_close'] = df['close'] - df['open']\n",
        "df['st_low'] = df['low'] - df['open']\n",
        "\n",
        "#to try to standardize\n",
        "df['st_open'] = 0 \n",
        "\n",
        "df['sh_st_high'] = df['st_high'].shift(periods=-1)\n",
        "df['sh_st_close'] = df['st_close'].shift(periods=-1)\n",
        "df['sh_st_low'] = df['st_low'].shift(periods=-1)\n",
        "\n",
        "\n"
      ],
      "execution_count": 7,
      "outputs": []
    },
    {
      "cell_type": "code",
      "metadata": {
        "id": "gBsoRSjfqoVJ",
        "colab_type": "code",
        "colab": {}
      },
      "source": [
        "# from sklearn.preprocessing import MinMaxScaler\n",
        "# #scale the training df\n",
        "# scaler = MinMaxScaler()\n",
        "# scaled = scaler.fit_transform(df)\n",
        "# scaled_train = pd.DataFrame(scaled)\n",
        "# scaled_train"
      ],
      "execution_count": 8,
      "outputs": []
    },
    {
      "cell_type": "code",
      "metadata": {
        "id": "lPxQYJDM50xb",
        "colab_type": "code",
        "colab": {}
      },
      "source": [
        "#current biggest extrema is high(1) or low(0)\n",
        "conditions = [\n",
        "              (df['st_high'] > df['st_low'].multiply(-1)),\n",
        "              (df['st_high'] < df['st_low'].multiply(-1)),\n",
        "             ]\n",
        "values = [1,0]\n",
        "df['current_ext'] = np.select(conditions,values)\n",
        "\n",
        "#predicted biggest extrema is high(1) or low(0)\n",
        "conditions = [\n",
        "              (df['sh_st_high'] > df['sh_st_low'].multiply(-1)),\n",
        "              (df['sh_st_high'] < df['sh_st_low'].multiply(-1)),\n",
        "             ]\n",
        "values = [1,0]\n",
        "df['prob_sh_ext'] = np.select(conditions,values)"
      ],
      "execution_count": 9,
      "outputs": []
    },
    {
      "cell_type": "code",
      "metadata": {
        "id": "nSeaXnzMHGQq",
        "colab_type": "code",
        "colab": {
          "base_uri": "https://localhost:8080/",
          "height": 224
        },
        "outputId": "66b770c0-7c52-44af-ba3c-acc7f3eefce7"
      },
      "source": [
        "df = df.head(-25)\n",
        "df.tail()"
      ],
      "execution_count": 10,
      "outputs": [
        {
          "output_type": "execute_result",
          "data": {
            "text/html": [
              "<div>\n",
              "<style scoped>\n",
              "    .dataframe tbody tr th:only-of-type {\n",
              "        vertical-align: middle;\n",
              "    }\n",
              "\n",
              "    .dataframe tbody tr th {\n",
              "        vertical-align: top;\n",
              "    }\n",
              "\n",
              "    .dataframe thead th {\n",
              "        text-align: right;\n",
              "    }\n",
              "</style>\n",
              "<table border=\"1\" class=\"dataframe\">\n",
              "  <thead>\n",
              "    <tr style=\"text-align: right;\">\n",
              "      <th></th>\n",
              "      <th>date</th>\n",
              "      <th>open</th>\n",
              "      <th>high</th>\n",
              "      <th>low</th>\n",
              "      <th>close</th>\n",
              "      <th>tickvol</th>\n",
              "      <th>volume</th>\n",
              "      <th>&lt;SPREAD&gt;</th>\n",
              "      <th>shifted_high</th>\n",
              "      <th>shifted_close</th>\n",
              "      <th>shifted_low</th>\n",
              "      <th>st_high</th>\n",
              "      <th>st_close</th>\n",
              "      <th>st_low</th>\n",
              "      <th>st_open</th>\n",
              "      <th>sh_st_high</th>\n",
              "      <th>sh_st_close</th>\n",
              "      <th>sh_st_low</th>\n",
              "      <th>current_ext</th>\n",
              "      <th>prob_sh_ext</th>\n",
              "    </tr>\n",
              "  </thead>\n",
              "  <tbody>\n",
              "    <tr>\n",
              "      <th>12772</th>\n",
              "      <td>20200803</td>\n",
              "      <td>1.17697</td>\n",
              "      <td>1.17966</td>\n",
              "      <td>1.16957</td>\n",
              "      <td>1.17617</td>\n",
              "      <td>57376</td>\n",
              "      <td>0</td>\n",
              "      <td>0</td>\n",
              "      <td>1.18060</td>\n",
              "      <td>1.18028</td>\n",
              "      <td>1.17212</td>\n",
              "      <td>0.00269</td>\n",
              "      <td>-0.00080</td>\n",
              "      <td>-0.00740</td>\n",
              "      <td>0</td>\n",
              "      <td>0.00427</td>\n",
              "      <td>0.00395</td>\n",
              "      <td>-0.00421</td>\n",
              "      <td>0</td>\n",
              "      <td>1</td>\n",
              "    </tr>\n",
              "    <tr>\n",
              "      <th>12773</th>\n",
              "      <td>20200804</td>\n",
              "      <td>1.17633</td>\n",
              "      <td>1.18060</td>\n",
              "      <td>1.17212</td>\n",
              "      <td>1.18028</td>\n",
              "      <td>55353</td>\n",
              "      <td>0</td>\n",
              "      <td>1</td>\n",
              "      <td>1.19047</td>\n",
              "      <td>1.18629</td>\n",
              "      <td>1.17929</td>\n",
              "      <td>0.00427</td>\n",
              "      <td>0.00395</td>\n",
              "      <td>-0.00421</td>\n",
              "      <td>0</td>\n",
              "      <td>0.01021</td>\n",
              "      <td>0.00603</td>\n",
              "      <td>-0.00097</td>\n",
              "      <td>1</td>\n",
              "      <td>1</td>\n",
              "    </tr>\n",
              "    <tr>\n",
              "      <th>12774</th>\n",
              "      <td>20200805</td>\n",
              "      <td>1.18026</td>\n",
              "      <td>1.19047</td>\n",
              "      <td>1.17929</td>\n",
              "      <td>1.18629</td>\n",
              "      <td>54459</td>\n",
              "      <td>0</td>\n",
              "      <td>0</td>\n",
              "      <td>1.19160</td>\n",
              "      <td>1.18762</td>\n",
              "      <td>1.18178</td>\n",
              "      <td>0.01021</td>\n",
              "      <td>0.00603</td>\n",
              "      <td>-0.00097</td>\n",
              "      <td>0</td>\n",
              "      <td>0.00533</td>\n",
              "      <td>0.00135</td>\n",
              "      <td>-0.00449</td>\n",
              "      <td>1</td>\n",
              "      <td>1</td>\n",
              "    </tr>\n",
              "    <tr>\n",
              "      <th>12775</th>\n",
              "      <td>20200806</td>\n",
              "      <td>1.18627</td>\n",
              "      <td>1.19160</td>\n",
              "      <td>1.18178</td>\n",
              "      <td>1.18762</td>\n",
              "      <td>64120</td>\n",
              "      <td>0</td>\n",
              "      <td>0</td>\n",
              "      <td>1.18827</td>\n",
              "      <td>1.17854</td>\n",
              "      <td>1.17550</td>\n",
              "      <td>0.00533</td>\n",
              "      <td>0.00135</td>\n",
              "      <td>-0.00449</td>\n",
              "      <td>0</td>\n",
              "      <td>0.00064</td>\n",
              "      <td>-0.00909</td>\n",
              "      <td>-0.01213</td>\n",
              "      <td>1</td>\n",
              "      <td>0</td>\n",
              "    </tr>\n",
              "    <tr>\n",
              "      <th>12776</th>\n",
              "      <td>20200807</td>\n",
              "      <td>1.18763</td>\n",
              "      <td>1.18827</td>\n",
              "      <td>1.17550</td>\n",
              "      <td>1.17854</td>\n",
              "      <td>61612</td>\n",
              "      <td>0</td>\n",
              "      <td>1</td>\n",
              "      <td>1.18006</td>\n",
              "      <td>1.17371</td>\n",
              "      <td>1.17359</td>\n",
              "      <td>0.00064</td>\n",
              "      <td>-0.00909</td>\n",
              "      <td>-0.01213</td>\n",
              "      <td>0</td>\n",
              "      <td>0.00142</td>\n",
              "      <td>-0.00493</td>\n",
              "      <td>-0.00505</td>\n",
              "      <td>0</td>\n",
              "      <td>0</td>\n",
              "    </tr>\n",
              "  </tbody>\n",
              "</table>\n",
              "</div>"
            ],
            "text/plain": [
              "           date     open     high  ...  sh_st_low  current_ext  prob_sh_ext\n",
              "12772  20200803  1.17697  1.17966  ...   -0.00421            0            1\n",
              "12773  20200804  1.17633  1.18060  ...   -0.00097            1            1\n",
              "12774  20200805  1.18026  1.19047  ...   -0.00449            1            1\n",
              "12775  20200806  1.18627  1.19160  ...   -0.01213            1            0\n",
              "12776  20200807  1.18763  1.18827  ...   -0.00505            0            0\n",
              "\n",
              "[5 rows x 20 columns]"
            ]
          },
          "metadata": {
            "tags": []
          },
          "execution_count": 10
        }
      ]
    },
    {
      "cell_type": "code",
      "metadata": {
        "id": "IJx8aHDsJLu4",
        "colab_type": "code",
        "colab": {
          "base_uri": "https://localhost:8080/",
          "height": 51
        },
        "outputId": "bb2547bf-07de-4a2d-ef3b-0a4b5b4a1408"
      },
      "source": [
        "#find which extrema is predicted to hit for the day\n",
        "clf = RandomForestClassifier()\n",
        "\n",
        "features = ['open','high','low','close','current_ext']\n",
        "target = 'prob_sh_ext'\n",
        "train = df\n",
        "\n",
        "clf.fit(train[features],train[target])\n",
        "print('For risk:reward predicted extrema:')\n",
        "predicted = clf.predict([[1.17864,\t1.18006,\t1.17359,\t1.17371,0]]) \n",
        "print(predicted)"
      ],
      "execution_count": 11,
      "outputs": [
        {
          "output_type": "stream",
          "text": [
            "For risk:reward predicted extrema:\n",
            "[1]\n"
          ],
          "name": "stdout"
        }
      ]
    },
    {
      "cell_type": "code",
      "metadata": {
        "id": "aC8gXPRCi4Rj",
        "colab_type": "code",
        "colab": {
          "base_uri": "https://localhost:8080/",
          "height": 119
        },
        "outputId": "41bd5635-f37f-4af8-88ae-11bb4cd504cf"
      },
      "source": [
        "#fit df to model, find exact value for classifier prediction\n",
        "model = RandomForestRegressor(n_estimators=1000)\n",
        "features = ['open','high','low','close','current_ext']\n",
        "target1 = 'shifted_high'\n",
        "target2 = 'shifted_low'\n",
        "target3 = 'shifted_close'\n",
        "train = df\n",
        "\n",
        "model.fit(train[features],train[target1])\n",
        "print('For risk:reward predicted high:')\n",
        "predicted = model.predict([[1.17864,\t1.18006,\t1.17359,\t1.17371,1]]) \n",
        "print(predicted)\n",
        "\n",
        "model.fit(train[features],train[target3])\n",
        "print('For risk:reward predicted close:')\n",
        "predicted = model.predict([[1.17864,\t1.18006,\t1.17359,\t1.17371,1]]) \n",
        "print(predicted)\n",
        "\n",
        "model.fit(train[features],train[target2])\n",
        "print('For risk:reward predicted low:')\n",
        "predicted = model.predict([[1.17864,\t1.18006,\t1.17359,\t1.17371,1]]) \n",
        "print(predicted)\n",
        "\n"
      ],
      "execution_count": 12,
      "outputs": [
        {
          "output_type": "stream",
          "text": [
            "For risk:reward predicted high:\n",
            "[1.1765355]\n",
            "For risk:reward predicted close:\n",
            "[1.17169991]\n",
            "For risk:reward predicted low:\n",
            "[1.16775042]\n"
          ],
          "name": "stdout"
        }
      ]
    },
    {
      "cell_type": "code",
      "metadata": {
        "id": "ZJhi-mi4TRWP",
        "colab_type": "code",
        "colab": {}
      },
      "source": [
        ""
      ],
      "execution_count": 12,
      "outputs": []
    }
  ]
}