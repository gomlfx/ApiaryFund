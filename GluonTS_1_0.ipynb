{
  "nbformat": 4,
  "nbformat_minor": 0,
  "metadata": {
    "colab": {
      "name": "GluonTS_1.0.ipynb",
      "provenance": [],
      "collapsed_sections": [],
      "authorship_tag": "ABX9TyN0QkcPLycPdesd0M8OQMBz",
      "include_colab_link": true
    },
    "kernelspec": {
      "name": "python3",
      "display_name": "Python 3"
    },
    "language_info": {
      "name": "python"
    }
  },
  "cells": [
    {
      "cell_type": "markdown",
      "metadata": {
        "id": "view-in-github",
        "colab_type": "text"
      },
      "source": [
        "<a href=\"https://colab.research.google.com/github/gomlfx/ApiaryFund/blob/master/GluonTS_1_0.ipynb\" target=\"_parent\"><img src=\"https://colab.research.google.com/assets/colab-badge.svg\" alt=\"Open In Colab\"/></a>"
      ]
    },
    {
      "cell_type": "code",
      "source": [
        "import pandas as pd"
      ],
      "metadata": {
        "id": "v28DJzHXeDW9"
      },
      "execution_count": 1,
      "outputs": []
    },
    {
      "cell_type": "code",
      "execution_count": 2,
      "metadata": {
        "id": "ma1yzIATZTMD"
      },
      "outputs": [],
      "source": [
        "#install GluonTS\n",
        "#!pip install --upgrade mxnet~=1.7 gluonts"
      ]
    },
    {
      "cell_type": "code",
      "source": [
        "#metatrader 5 history file an timeframe is ok\n",
        "df = pd.read_csv('/content/EURUSD_H1_200001120000_202201120100.csv')\n"
      ],
      "metadata": {
        "id": "1vH7mX0edOyn"
      },
      "execution_count": 3,
      "outputs": []
    },
    {
      "cell_type": "code",
      "source": [
        "#split mt5 into columns\n",
        "df.columns=['header']\n",
        "df = df.header.str.split('\\t', expand=True)"
      ],
      "metadata": {
        "id": "q0wCDd8sftJx"
      },
      "execution_count": 4,
      "outputs": []
    },
    {
      "cell_type": "code",
      "source": [
        "#check the splits\n",
        "df"
      ],
      "metadata": {
        "colab": {
          "base_uri": "https://localhost:8080/",
          "height": 424
        },
        "id": "gsjnTnmNkW5i",
        "outputId": "3bca3777-5703-4507-9e28-616c8f8cea0f"
      },
      "execution_count": 5,
      "outputs": [
        {
          "output_type": "execute_result",
          "data": {
            "text/html": [
              "\n",
              "  <div id=\"df-4e9d6451-14e0-445b-bbee-367445cdda1e\">\n",
              "    <div class=\"colab-df-container\">\n",
              "      <div>\n",
              "<style scoped>\n",
              "    .dataframe tbody tr th:only-of-type {\n",
              "        vertical-align: middle;\n",
              "    }\n",
              "\n",
              "    .dataframe tbody tr th {\n",
              "        vertical-align: top;\n",
              "    }\n",
              "\n",
              "    .dataframe thead th {\n",
              "        text-align: right;\n",
              "    }\n",
              "</style>\n",
              "<table border=\"1\" class=\"dataframe\">\n",
              "  <thead>\n",
              "    <tr style=\"text-align: right;\">\n",
              "      <th></th>\n",
              "      <th>0</th>\n",
              "      <th>1</th>\n",
              "      <th>2</th>\n",
              "      <th>3</th>\n",
              "      <th>4</th>\n",
              "      <th>5</th>\n",
              "      <th>6</th>\n",
              "      <th>7</th>\n",
              "      <th>8</th>\n",
              "    </tr>\n",
              "  </thead>\n",
              "  <tbody>\n",
              "    <tr>\n",
              "      <th>0</th>\n",
              "      <td>2000.01.12</td>\n",
              "      <td>00:00:00</td>\n",
              "      <td>1.03370</td>\n",
              "      <td>1.03380</td>\n",
              "      <td>1.03300</td>\n",
              "      <td>1.03360</td>\n",
              "      <td>132</td>\n",
              "      <td>0</td>\n",
              "      <td>50</td>\n",
              "    </tr>\n",
              "    <tr>\n",
              "      <th>1</th>\n",
              "      <td>2000.01.12</td>\n",
              "      <td>01:00:00</td>\n",
              "      <td>1.03370</td>\n",
              "      <td>1.03380</td>\n",
              "      <td>1.03190</td>\n",
              "      <td>1.03220</td>\n",
              "      <td>221</td>\n",
              "      <td>0</td>\n",
              "      <td>50</td>\n",
              "    </tr>\n",
              "    <tr>\n",
              "      <th>2</th>\n",
              "      <td>2000.01.12</td>\n",
              "      <td>02:00:00</td>\n",
              "      <td>1.03260</td>\n",
              "      <td>1.03300</td>\n",
              "      <td>1.03190</td>\n",
              "      <td>1.03290</td>\n",
              "      <td>171</td>\n",
              "      <td>0</td>\n",
              "      <td>50</td>\n",
              "    </tr>\n",
              "    <tr>\n",
              "      <th>3</th>\n",
              "      <td>2000.01.12</td>\n",
              "      <td>03:00:00</td>\n",
              "      <td>1.03280</td>\n",
              "      <td>1.03350</td>\n",
              "      <td>1.03230</td>\n",
              "      <td>1.03280</td>\n",
              "      <td>195</td>\n",
              "      <td>0</td>\n",
              "      <td>50</td>\n",
              "    </tr>\n",
              "    <tr>\n",
              "      <th>4</th>\n",
              "      <td>2000.01.12</td>\n",
              "      <td>04:00:00</td>\n",
              "      <td>1.03290</td>\n",
              "      <td>1.03380</td>\n",
              "      <td>1.03280</td>\n",
              "      <td>1.03330</td>\n",
              "      <td>145</td>\n",
              "      <td>0</td>\n",
              "      <td>50</td>\n",
              "    </tr>\n",
              "    <tr>\n",
              "      <th>...</th>\n",
              "      <td>...</td>\n",
              "      <td>...</td>\n",
              "      <td>...</td>\n",
              "      <td>...</td>\n",
              "      <td>...</td>\n",
              "      <td>...</td>\n",
              "      <td>...</td>\n",
              "      <td>...</td>\n",
              "      <td>...</td>\n",
              "    </tr>\n",
              "    <tr>\n",
              "      <th>136563</th>\n",
              "      <td>2022.01.11</td>\n",
              "      <td>21:00:00</td>\n",
              "      <td>1.13667</td>\n",
              "      <td>1.13753</td>\n",
              "      <td>1.13627</td>\n",
              "      <td>1.13667</td>\n",
              "      <td>1775</td>\n",
              "      <td>0</td>\n",
              "      <td>0</td>\n",
              "    </tr>\n",
              "    <tr>\n",
              "      <th>136564</th>\n",
              "      <td>2022.01.11</td>\n",
              "      <td>22:00:00</td>\n",
              "      <td>1.13668</td>\n",
              "      <td>1.13694</td>\n",
              "      <td>1.13638</td>\n",
              "      <td>1.13657</td>\n",
              "      <td>1757</td>\n",
              "      <td>0</td>\n",
              "      <td>0</td>\n",
              "    </tr>\n",
              "    <tr>\n",
              "      <th>136565</th>\n",
              "      <td>2022.01.11</td>\n",
              "      <td>23:00:00</td>\n",
              "      <td>1.13657</td>\n",
              "      <td>1.13693</td>\n",
              "      <td>1.13648</td>\n",
              "      <td>1.13666</td>\n",
              "      <td>772</td>\n",
              "      <td>0</td>\n",
              "      <td>0</td>\n",
              "    </tr>\n",
              "    <tr>\n",
              "      <th>136566</th>\n",
              "      <td>2022.01.12</td>\n",
              "      <td>00:00:00</td>\n",
              "      <td>1.13655</td>\n",
              "      <td>1.13681</td>\n",
              "      <td>1.13624</td>\n",
              "      <td>1.13681</td>\n",
              "      <td>628</td>\n",
              "      <td>0</td>\n",
              "      <td>16</td>\n",
              "    </tr>\n",
              "    <tr>\n",
              "      <th>136567</th>\n",
              "      <td>2022.01.12</td>\n",
              "      <td>01:00:00</td>\n",
              "      <td>1.13681</td>\n",
              "      <td>1.13706</td>\n",
              "      <td>1.13623</td>\n",
              "      <td>1.13656</td>\n",
              "      <td>521</td>\n",
              "      <td>0</td>\n",
              "      <td>6</td>\n",
              "    </tr>\n",
              "  </tbody>\n",
              "</table>\n",
              "<p>136568 rows × 9 columns</p>\n",
              "</div>\n",
              "      <button class=\"colab-df-convert\" onclick=\"convertToInteractive('df-4e9d6451-14e0-445b-bbee-367445cdda1e')\"\n",
              "              title=\"Convert this dataframe to an interactive table.\"\n",
              "              style=\"display:none;\">\n",
              "        \n",
              "  <svg xmlns=\"http://www.w3.org/2000/svg\" height=\"24px\"viewBox=\"0 0 24 24\"\n",
              "       width=\"24px\">\n",
              "    <path d=\"M0 0h24v24H0V0z\" fill=\"none\"/>\n",
              "    <path d=\"M18.56 5.44l.94 2.06.94-2.06 2.06-.94-2.06-.94-.94-2.06-.94 2.06-2.06.94zm-11 1L8.5 8.5l.94-2.06 2.06-.94-2.06-.94L8.5 2.5l-.94 2.06-2.06.94zm10 10l.94 2.06.94-2.06 2.06-.94-2.06-.94-.94-2.06-.94 2.06-2.06.94z\"/><path d=\"M17.41 7.96l-1.37-1.37c-.4-.4-.92-.59-1.43-.59-.52 0-1.04.2-1.43.59L10.3 9.45l-7.72 7.72c-.78.78-.78 2.05 0 2.83L4 21.41c.39.39.9.59 1.41.59.51 0 1.02-.2 1.41-.59l7.78-7.78 2.81-2.81c.8-.78.8-2.07 0-2.86zM5.41 20L4 18.59l7.72-7.72 1.47 1.35L5.41 20z\"/>\n",
              "  </svg>\n",
              "      </button>\n",
              "      \n",
              "  <style>\n",
              "    .colab-df-container {\n",
              "      display:flex;\n",
              "      flex-wrap:wrap;\n",
              "      gap: 12px;\n",
              "    }\n",
              "\n",
              "    .colab-df-convert {\n",
              "      background-color: #E8F0FE;\n",
              "      border: none;\n",
              "      border-radius: 50%;\n",
              "      cursor: pointer;\n",
              "      display: none;\n",
              "      fill: #1967D2;\n",
              "      height: 32px;\n",
              "      padding: 0 0 0 0;\n",
              "      width: 32px;\n",
              "    }\n",
              "\n",
              "    .colab-df-convert:hover {\n",
              "      background-color: #E2EBFA;\n",
              "      box-shadow: 0px 1px 2px rgba(60, 64, 67, 0.3), 0px 1px 3px 1px rgba(60, 64, 67, 0.15);\n",
              "      fill: #174EA6;\n",
              "    }\n",
              "\n",
              "    [theme=dark] .colab-df-convert {\n",
              "      background-color: #3B4455;\n",
              "      fill: #D2E3FC;\n",
              "    }\n",
              "\n",
              "    [theme=dark] .colab-df-convert:hover {\n",
              "      background-color: #434B5C;\n",
              "      box-shadow: 0px 1px 3px 1px rgba(0, 0, 0, 0.15);\n",
              "      filter: drop-shadow(0px 1px 2px rgba(0, 0, 0, 0.3));\n",
              "      fill: #FFFFFF;\n",
              "    }\n",
              "  </style>\n",
              "\n",
              "      <script>\n",
              "        const buttonEl =\n",
              "          document.querySelector('#df-4e9d6451-14e0-445b-bbee-367445cdda1e button.colab-df-convert');\n",
              "        buttonEl.style.display =\n",
              "          google.colab.kernel.accessAllowed ? 'block' : 'none';\n",
              "\n",
              "        async function convertToInteractive(key) {\n",
              "          const element = document.querySelector('#df-4e9d6451-14e0-445b-bbee-367445cdda1e');\n",
              "          const dataTable =\n",
              "            await google.colab.kernel.invokeFunction('convertToInteractive',\n",
              "                                                     [key], {});\n",
              "          if (!dataTable) return;\n",
              "\n",
              "          const docLinkHtml = 'Like what you see? Visit the ' +\n",
              "            '<a target=\"_blank\" href=https://colab.research.google.com/notebooks/data_table.ipynb>data table notebook</a>'\n",
              "            + ' to learn more about interactive tables.';\n",
              "          element.innerHTML = '';\n",
              "          dataTable['output_type'] = 'display_data';\n",
              "          await google.colab.output.renderOutput(dataTable, element);\n",
              "          const docLink = document.createElement('div');\n",
              "          docLink.innerHTML = docLinkHtml;\n",
              "          element.appendChild(docLink);\n",
              "        }\n",
              "      </script>\n",
              "    </div>\n",
              "  </div>\n",
              "  "
            ],
            "text/plain": [
              "                 0         1        2        3        4        5     6  7   8\n",
              "0       2000.01.12  00:00:00  1.03370  1.03380  1.03300  1.03360   132  0  50\n",
              "1       2000.01.12  01:00:00  1.03370  1.03380  1.03190  1.03220   221  0  50\n",
              "2       2000.01.12  02:00:00  1.03260  1.03300  1.03190  1.03290   171  0  50\n",
              "3       2000.01.12  03:00:00  1.03280  1.03350  1.03230  1.03280   195  0  50\n",
              "4       2000.01.12  04:00:00  1.03290  1.03380  1.03280  1.03330   145  0  50\n",
              "...            ...       ...      ...      ...      ...      ...   ... ..  ..\n",
              "136563  2022.01.11  21:00:00  1.13667  1.13753  1.13627  1.13667  1775  0   0\n",
              "136564  2022.01.11  22:00:00  1.13668  1.13694  1.13638  1.13657  1757  0   0\n",
              "136565  2022.01.11  23:00:00  1.13657  1.13693  1.13648  1.13666   772  0   0\n",
              "136566  2022.01.12  00:00:00  1.13655  1.13681  1.13624  1.13681   628  0  16\n",
              "136567  2022.01.12  01:00:00  1.13681  1.13706  1.13623  1.13656   521  0   6\n",
              "\n",
              "[136568 rows x 9 columns]"
            ]
          },
          "metadata": {},
          "execution_count": 5
        }
      ]
    },
    {
      "cell_type": "code",
      "source": [
        "#merge date and time to convert object to datetime to use as GluonTS index\n",
        "selected_columns = df[[0,1,5]]\n",
        "new_df = selected_columns.copy()\n",
        "print(new_df)"
      ],
      "metadata": {
        "colab": {
          "base_uri": "https://localhost:8080/"
        },
        "id": "IKMZcqOfkZMd",
        "outputId": "beeed794-a8f3-40fc-e01c-cdb85936ceec"
      },
      "execution_count": 6,
      "outputs": [
        {
          "output_type": "stream",
          "name": "stdout",
          "text": [
            "                 0         1        5\n",
            "0       2000.01.12  00:00:00  1.03360\n",
            "1       2000.01.12  01:00:00  1.03220\n",
            "2       2000.01.12  02:00:00  1.03290\n",
            "3       2000.01.12  03:00:00  1.03280\n",
            "4       2000.01.12  04:00:00  1.03330\n",
            "...            ...       ...      ...\n",
            "136563  2022.01.11  21:00:00  1.13667\n",
            "136564  2022.01.11  22:00:00  1.13657\n",
            "136565  2022.01.11  23:00:00  1.13666\n",
            "136566  2022.01.12  00:00:00  1.13681\n",
            "136567  2022.01.12  01:00:00  1.13656\n",
            "\n",
            "[136568 rows x 3 columns]\n"
          ]
        }
      ]
    },
    {
      "cell_type": "code",
      "source": [
        "new_df['date_time_index'] = df[0] +' '+ df[1]\n",
        "new_df = new_df.drop(columns = [0,1])"
      ],
      "metadata": {
        "id": "tRRqEkwdlXmT"
      },
      "execution_count": 7,
      "outputs": []
    },
    {
      "cell_type": "code",
      "source": [
        "new_df = new_df.rename(columns={5:'price'})"
      ],
      "metadata": {
        "id": "td9O8CwRqiBs"
      },
      "execution_count": 8,
      "outputs": []
    },
    {
      "cell_type": "code",
      "source": [
        "#convert mt5 object formats to datetime and float\n",
        "df2 = new_df[['date_time_index','price']]\n",
        "df2['date_time_index'] = pd.to_datetime(df2['date_time_index'])\n",
        "df2['price'] = df2['price'].astype(float, errors = 'raise')\n",
        "df2 = df2.set_index('date_time_index')\n",
        "print(df2)"
      ],
      "metadata": {
        "colab": {
          "base_uri": "https://localhost:8080/"
        },
        "id": "RO96StzjrLVJ",
        "outputId": "491f35a3-907f-477b-8d6e-85dd8c9213d7"
      },
      "execution_count": 9,
      "outputs": [
        {
          "output_type": "stream",
          "name": "stdout",
          "text": [
            "                       price\n",
            "date_time_index             \n",
            "2000-01-12 00:00:00  1.03360\n",
            "2000-01-12 01:00:00  1.03220\n",
            "2000-01-12 02:00:00  1.03290\n",
            "2000-01-12 03:00:00  1.03280\n",
            "2000-01-12 04:00:00  1.03330\n",
            "...                      ...\n",
            "2022-01-11 21:00:00  1.13667\n",
            "2022-01-11 22:00:00  1.13657\n",
            "2022-01-11 23:00:00  1.13666\n",
            "2022-01-12 00:00:00  1.13681\n",
            "2022-01-12 01:00:00  1.13656\n",
            "\n",
            "[136568 rows x 1 columns]\n"
          ]
        }
      ]
    },
    {
      "cell_type": "code",
      "source": [
        "#check it is done\n",
        "df2.info()"
      ],
      "metadata": {
        "colab": {
          "base_uri": "https://localhost:8080/"
        },
        "id": "9rlTE6bgtEKd",
        "outputId": "18f6827a-59ea-4881-d2f0-48ad31894c9f"
      },
      "execution_count": 10,
      "outputs": [
        {
          "output_type": "stream",
          "name": "stdout",
          "text": [
            "<class 'pandas.core.frame.DataFrame'>\n",
            "DatetimeIndex: 136568 entries, 2000-01-12 00:00:00 to 2022-01-12 01:00:00\n",
            "Data columns (total 1 columns):\n",
            " #   Column  Non-Null Count   Dtype  \n",
            "---  ------  --------------   -----  \n",
            " 0   price   136568 non-null  float64\n",
            "dtypes: float64(1)\n",
            "memory usage: 2.1 MB\n"
          ]
        }
      ]
    },
    {
      "cell_type": "code",
      "source": [
        "#print the data range from above\n",
        "import matplotlib.pyplot as plt\n",
        "df2[:100].plot(linewidth=2)\n",
        "plt.grid(which='both')\n",
        "plt.show()"
      ],
      "metadata": {
        "colab": {
          "base_uri": "https://localhost:8080/",
          "height": 286
        },
        "id": "yYzS14iSZjRi",
        "outputId": "df9000ea-b600-4950-9fc3-174679d26e43"
      },
      "execution_count": 11,
      "outputs": [
        {
          "output_type": "display_data",
          "data": {
            "image/png": "[encoded data removed]",
            "text/plain": [
              "<Figure size 432x288 with 1 Axes>"
            ]
          },
          "metadata": {
            "needs_background": "light"
          }
        }
      ]
    },
    {
      "cell_type": "code",
      "source": [
        "#import Gluon\n",
        "from gluonts.dataset.common import ListDataset"
      ],
      "metadata": {
        "colab": {
          "base_uri": "https://localhost:8080/"
        },
        "id": "y2jkSwYoZjz7",
        "outputId": "030af244-dc23-4176-c2b6-e8cba28d271c"
      },
      "execution_count": 12,
      "outputs": [
        {
          "output_type": "stream",
          "name": "stderr",
          "text": [
            "/usr/local/lib/python3.7/dist-packages/gluonts/json.py:46: UserWarning: Using `json`-module for json-handling. Consider installing one of `orjson`, `ujson` to speed up serialization and deserialization.\n",
            "  \"Using `json`-module for json-handling. \"\n"
          ]
        }
      ]
    },
    {
      "cell_type": "code",
      "source": [
        "#choose data range to train\n",
        "training_data = ListDataset(\n",
        "    [{\"start\": df2.index[0], \"target\": df2.price[\"2000-01-01 00:00:00\":\"2022-01-12 00:00:00\"]}], \n",
        "    freq = \"1H\"\n",
        "    )"
      ],
      "metadata": {
        "id": "_BAzJE6l1LS0"
      },
      "execution_count": 13,
      "outputs": []
    },
    {
      "cell_type": "code",
      "source": [
        "#import model \n",
        "from gluonts.model.deepar import DeepAREstimator\n",
        "from gluonts.mx.trainer import Trainer"
      ],
      "metadata": {
        "id": "QjFfjoxq2zKd"
      },
      "execution_count": 14,
      "outputs": []
    },
    {
      "cell_type": "code",
      "source": [
        "#train model\n",
        "estimator = DeepAREstimator(freq=\"1H\", prediction_length=24, trainer=Trainer(epochs=10))\n",
        "predictor = estimator.train(training_data=training_data)"
      ],
      "metadata": {
        "colab": {
          "base_uri": "https://localhost:8080/"
        },
        "id": "Sl6QDq3u26Ma",
        "outputId": "2af09088-fb74-455a-a836-c36ef4be0ed1"
      },
      "execution_count": null,
      "outputs": [
        {
          "output_type": "stream",
          "name": "stderr",
          "text": [
            " 78%|███████▊  | 39/50 [00:10<00:02,  3.82it/s, epoch=1/10, avg_epoch_loss=0.119]"
          ]
        }
      ]
    },
    {
      "cell_type": "code",
      "source": [
        "#choose data range to predict\n",
        "test_data = ListDataset(\n",
        "    [{\"start\": df2.index[0], \"target\": df2.price[:\"2022-01-12 00:00:00\"]}],\n",
        "    freq = \"1H\"\n",
        ")"
      ],
      "metadata": {
        "id": "k2FSTP4e3q65"
      },
      "execution_count": null,
      "outputs": []
    },
    {
      "cell_type": "code",
      "source": [
        "#plot prediction graph\n",
        "from gluonts.dataset.util import to_pandas\n",
        "\n",
        "for test_entry, forecast in zip(test_data, predictor.predict(test_data)):\n",
        "    to_pandas(test_entry)[-60:].plot(linewidth=2)\n",
        "    forecast.plot(color='g', prediction_intervals=[1.0, 5.0])\n",
        "plt.grid(which='both')"
      ],
      "metadata": {
        "id": "F3s2XjNb9BWr"
      },
      "execution_count": null,
      "outputs": []
    }
  ]
}