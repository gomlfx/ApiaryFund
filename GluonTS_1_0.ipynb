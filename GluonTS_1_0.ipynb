{
  "nbformat": 4,
  "nbformat_minor": 0,
  "metadata": {
    "colab": {
      "name": "GluonTS_1.0.ipynb",
      "provenance": [],
      "collapsed_sections": [],
      "authorship_tag": "ABX9TyOolL95C9HMmACWrM0LtfB+",
      "include_colab_link": true
    },
    "kernelspec": {
      "name": "python3",
      "display_name": "Python 3"
    },
    "language_info": {
      "name": "python"
    }
  },
  "cells": [
    {
      "cell_type": "markdown",
      "metadata": {
        "id": "view-in-github",
        "colab_type": "text"
      },
      "source": [
        "<a href=\"https://colab.research.google.com/github/gomlfx/ApiaryFund/blob/master/GluonTS_1_0.ipynb\" target=\"_parent\"><img src=\"https://colab.research.google.com/assets/colab-badge.svg\" alt=\"Open In Colab\"/></a>"
      ]
    },
    {
      "cell_type": "code",
      "source": [
        "import pandas as pd"
      ],
      "metadata": {
        "id": "v28DJzHXeDW9"
      },
      "execution_count": 1,
      "outputs": []
    },
    {
      "cell_type": "code",
      "execution_count": 2,
      "metadata": {
        "id": "ma1yzIATZTMD"
      },
      "outputs": [],
      "source": [
        "#install GluonTS\n",
        "#!pip install --upgrade mxnet~=1.7 gluonts"
      ]
    },
    {
      "cell_type": "code",
      "source": [
        "#metatrader 5 history file an timeframe is ok\n",
        "df = pd.read_csv('/content/EURUSD_H1_197101040000_202201212300.csv')\n"
      ],
      "metadata": {
        "id": "1vH7mX0edOyn"
      },
      "execution_count": 3,
      "outputs": []
    },
    {
      "cell_type": "code",
      "source": [
        "#split mt5 into columns\n",
        "df.columns=['header']\n",
        "df = df.header.str.split('\\t', expand=True)"
      ],
      "metadata": {
        "id": "q0wCDd8sftJx"
      },
      "execution_count": 4,
      "outputs": []
    },
    {
      "cell_type": "code",
      "source": [
        "#check the splits\n",
        "df"
      ],
      "metadata": {
        "colab": {
          "base_uri": "https://localhost:8080/",
          "height": 424
        },
        "id": "gsjnTnmNkW5i",
        "outputId": "a378e19d-0415-4276-9baf-4bd7d516329b"
      },
      "execution_count": 5,
      "outputs": [
        {
          "output_type": "execute_result",
          "data": {
            "text/html": [
              "\n",
              "  <div id=\"df-f7c94871-64d1-4743-b82a-1d227f7d879a\">\n",
              "    <div class=\"colab-df-container\">\n",
              "      <div>\n",
              "<style scoped>\n",
              "    .dataframe tbody tr th:only-of-type {\n",
              "        vertical-align: middle;\n",
              "    }\n",
              "\n",
              "    .dataframe tbody tr th {\n",
              "        vertical-align: top;\n",
              "    }\n",
              "\n",
              "    .dataframe thead th {\n",
              "        text-align: right;\n",
              "    }\n",
              "</style>\n",
              "<table border=\"1\" class=\"dataframe\">\n",
              "  <thead>\n",
              "    <tr style=\"text-align: right;\">\n",
              "      <th></th>\n",
              "      <th>0</th>\n",
              "      <th>1</th>\n",
              "      <th>2</th>\n",
              "      <th>3</th>\n",
              "      <th>4</th>\n",
              "      <th>5</th>\n",
              "      <th>6</th>\n",
              "      <th>7</th>\n",
              "      <th>8</th>\n",
              "    </tr>\n",
              "  </thead>\n",
              "  <tbody>\n",
              "    <tr>\n",
              "      <th>0</th>\n",
              "      <td>1971.01.04</td>\n",
              "      <td>00:00:00</td>\n",
              "      <td>0.53690</td>\n",
              "      <td>0.53690</td>\n",
              "      <td>0.53690</td>\n",
              "      <td>0.53690</td>\n",
              "      <td>1</td>\n",
              "      <td>0</td>\n",
              "      <td>50</td>\n",
              "    </tr>\n",
              "    <tr>\n",
              "      <th>1</th>\n",
              "      <td>1971.01.05</td>\n",
              "      <td>00:00:00</td>\n",
              "      <td>0.53660</td>\n",
              "      <td>0.53660</td>\n",
              "      <td>0.53660</td>\n",
              "      <td>0.53660</td>\n",
              "      <td>1</td>\n",
              "      <td>0</td>\n",
              "      <td>50</td>\n",
              "    </tr>\n",
              "    <tr>\n",
              "      <th>2</th>\n",
              "      <td>1971.01.06</td>\n",
              "      <td>00:00:00</td>\n",
              "      <td>0.53650</td>\n",
              "      <td>0.53650</td>\n",
              "      <td>0.53650</td>\n",
              "      <td>0.53650</td>\n",
              "      <td>1</td>\n",
              "      <td>0</td>\n",
              "      <td>50</td>\n",
              "    </tr>\n",
              "    <tr>\n",
              "      <th>3</th>\n",
              "      <td>1971.01.07</td>\n",
              "      <td>00:00:00</td>\n",
              "      <td>0.53680</td>\n",
              "      <td>0.53680</td>\n",
              "      <td>0.53680</td>\n",
              "      <td>0.53680</td>\n",
              "      <td>1</td>\n",
              "      <td>0</td>\n",
              "      <td>50</td>\n",
              "    </tr>\n",
              "    <tr>\n",
              "      <th>4</th>\n",
              "      <td>1971.01.08</td>\n",
              "      <td>00:00:00</td>\n",
              "      <td>0.53710</td>\n",
              "      <td>0.53710</td>\n",
              "      <td>0.53710</td>\n",
              "      <td>0.53710</td>\n",
              "      <td>1</td>\n",
              "      <td>0</td>\n",
              "      <td>50</td>\n",
              "    </tr>\n",
              "    <tr>\n",
              "      <th>...</th>\n",
              "      <td>...</td>\n",
              "      <td>...</td>\n",
              "      <td>...</td>\n",
              "      <td>...</td>\n",
              "      <td>...</td>\n",
              "      <td>...</td>\n",
              "      <td>...</td>\n",
              "      <td>...</td>\n",
              "      <td>...</td>\n",
              "    </tr>\n",
              "    <tr>\n",
              "      <th>150257</th>\n",
              "      <td>2022.01.21</td>\n",
              "      <td>19:00:00</td>\n",
              "      <td>1.13456</td>\n",
              "      <td>1.13498</td>\n",
              "      <td>1.13397</td>\n",
              "      <td>1.13457</td>\n",
              "      <td>2378</td>\n",
              "      <td>0</td>\n",
              "      <td>0</td>\n",
              "    </tr>\n",
              "    <tr>\n",
              "      <th>150258</th>\n",
              "      <td>2022.01.21</td>\n",
              "      <td>20:00:00</td>\n",
              "      <td>1.13457</td>\n",
              "      <td>1.13490</td>\n",
              "      <td>1.13417</td>\n",
              "      <td>1.13444</td>\n",
              "      <td>1714</td>\n",
              "      <td>0</td>\n",
              "      <td>0</td>\n",
              "    </tr>\n",
              "    <tr>\n",
              "      <th>150259</th>\n",
              "      <td>2022.01.21</td>\n",
              "      <td>21:00:00</td>\n",
              "      <td>1.13443</td>\n",
              "      <td>1.13465</td>\n",
              "      <td>1.13407</td>\n",
              "      <td>1.13413</td>\n",
              "      <td>1480</td>\n",
              "      <td>0</td>\n",
              "      <td>0</td>\n",
              "    </tr>\n",
              "    <tr>\n",
              "      <th>150260</th>\n",
              "      <td>2022.01.21</td>\n",
              "      <td>22:00:00</td>\n",
              "      <td>1.13411</td>\n",
              "      <td>1.13452</td>\n",
              "      <td>1.13380</td>\n",
              "      <td>1.13412</td>\n",
              "      <td>2289</td>\n",
              "      <td>0</td>\n",
              "      <td>0</td>\n",
              "    </tr>\n",
              "    <tr>\n",
              "      <th>150261</th>\n",
              "      <td>2022.01.21</td>\n",
              "      <td>23:00:00</td>\n",
              "      <td>1.13417</td>\n",
              "      <td>1.13453</td>\n",
              "      <td>1.13387</td>\n",
              "      <td>1.13421</td>\n",
              "      <td>1075</td>\n",
              "      <td>0</td>\n",
              "      <td>0</td>\n",
              "    </tr>\n",
              "  </tbody>\n",
              "</table>\n",
              "<p>150262 rows × 9 columns</p>\n",
              "</div>\n",
              "      <button class=\"colab-df-convert\" onclick=\"convertToInteractive('df-f7c94871-64d1-4743-b82a-1d227f7d879a')\"\n",
              "              title=\"Convert this dataframe to an interactive table.\"\n",
              "              style=\"display:none;\">\n",
              "        \n",
              "  <svg xmlns=\"http://www.w3.org/2000/svg\" height=\"24px\"viewBox=\"0 0 24 24\"\n",
              "       width=\"24px\">\n",
              "    <path d=\"M0 0h24v24H0V0z\" fill=\"none\"/>\n",
              "    <path d=\"M18.56 5.44l.94 2.06.94-2.06 2.06-.94-2.06-.94-.94-2.06-.94 2.06-2.06.94zm-11 1L8.5 8.5l.94-2.06 2.06-.94-2.06-.94L8.5 2.5l-.94 2.06-2.06.94zm10 10l.94 2.06.94-2.06 2.06-.94-2.06-.94-.94-2.06-.94 2.06-2.06.94z\"/><path d=\"M17.41 7.96l-1.37-1.37c-.4-.4-.92-.59-1.43-.59-.52 0-1.04.2-1.43.59L10.3 9.45l-7.72 7.72c-.78.78-.78 2.05 0 2.83L4 21.41c.39.39.9.59 1.41.59.51 0 1.02-.2 1.41-.59l7.78-7.78 2.81-2.81c.8-.78.8-2.07 0-2.86zM5.41 20L4 18.59l7.72-7.72 1.47 1.35L5.41 20z\"/>\n",
              "  </svg>\n",
              "      </button>\n",
              "      \n",
              "  <style>\n",
              "    .colab-df-container {\n",
              "      display:flex;\n",
              "      flex-wrap:wrap;\n",
              "      gap: 12px;\n",
              "    }\n",
              "\n",
              "    .colab-df-convert {\n",
              "      background-color: #E8F0FE;\n",
              "      border: none;\n",
              "      border-radius: 50%;\n",
              "      cursor: pointer;\n",
              "      display: none;\n",
              "      fill: #1967D2;\n",
              "      height: 32px;\n",
              "      padding: 0 0 0 0;\n",
              "      width: 32px;\n",
              "    }\n",
              "\n",
              "    .colab-df-convert:hover {\n",
              "      background-color: #E2EBFA;\n",
              "      box-shadow: 0px 1px 2px rgba(60, 64, 67, 0.3), 0px 1px 3px 1px rgba(60, 64, 67, 0.15);\n",
              "      fill: #174EA6;\n",
              "    }\n",
              "\n",
              "    [theme=dark] .colab-df-convert {\n",
              "      background-color: #3B4455;\n",
              "      fill: #D2E3FC;\n",
              "    }\n",
              "\n",
              "    [theme=dark] .colab-df-convert:hover {\n",
              "      background-color: #434B5C;\n",
              "      box-shadow: 0px 1px 3px 1px rgba(0, 0, 0, 0.15);\n",
              "      filter: drop-shadow(0px 1px 2px rgba(0, 0, 0, 0.3));\n",
              "      fill: #FFFFFF;\n",
              "    }\n",
              "  </style>\n",
              "\n",
              "      <script>\n",
              "        const buttonEl =\n",
              "          document.querySelector('#df-f7c94871-64d1-4743-b82a-1d227f7d879a button.colab-df-convert');\n",
              "        buttonEl.style.display =\n",
              "          google.colab.kernel.accessAllowed ? 'block' : 'none';\n",
              "\n",
              "        async function convertToInteractive(key) {\n",
              "          const element = document.querySelector('#df-f7c94871-64d1-4743-b82a-1d227f7d879a');\n",
              "          const dataTable =\n",
              "            await google.colab.kernel.invokeFunction('convertToInteractive',\n",
              "                                                     [key], {});\n",
              "          if (!dataTable) return;\n",
              "\n",
              "          const docLinkHtml = 'Like what you see? Visit the ' +\n",
              "            '<a target=\"_blank\" href=https://colab.research.google.com/notebooks/data_table.ipynb>data table notebook</a>'\n",
              "            + ' to learn more about interactive tables.';\n",
              "          element.innerHTML = '';\n",
              "          dataTable['output_type'] = 'display_data';\n",
              "          await google.colab.output.renderOutput(dataTable, element);\n",
              "          const docLink = document.createElement('div');\n",
              "          docLink.innerHTML = docLinkHtml;\n",
              "          element.appendChild(docLink);\n",
              "        }\n",
              "      </script>\n",
              "    </div>\n",
              "  </div>\n",
              "  "
            ],
            "text/plain": [
              "                 0         1        2        3        4        5     6  7   8\n",
              "0       1971.01.04  00:00:00  0.53690  0.53690  0.53690  0.53690     1  0  50\n",
              "1       1971.01.05  00:00:00  0.53660  0.53660  0.53660  0.53660     1  0  50\n",
              "2       1971.01.06  00:00:00  0.53650  0.53650  0.53650  0.53650     1  0  50\n",
              "3       1971.01.07  00:00:00  0.53680  0.53680  0.53680  0.53680     1  0  50\n",
              "4       1971.01.08  00:00:00  0.53710  0.53710  0.53710  0.53710     1  0  50\n",
              "...            ...       ...      ...      ...      ...      ...   ... ..  ..\n",
              "150257  2022.01.21  19:00:00  1.13456  1.13498  1.13397  1.13457  2378  0   0\n",
              "150258  2022.01.21  20:00:00  1.13457  1.13490  1.13417  1.13444  1714  0   0\n",
              "150259  2022.01.21  21:00:00  1.13443  1.13465  1.13407  1.13413  1480  0   0\n",
              "150260  2022.01.21  22:00:00  1.13411  1.13452  1.13380  1.13412  2289  0   0\n",
              "150261  2022.01.21  23:00:00  1.13417  1.13453  1.13387  1.13421  1075  0   0\n",
              "\n",
              "[150262 rows x 9 columns]"
            ]
          },
          "metadata": {},
          "execution_count": 5
        }
      ]
    },
    {
      "cell_type": "code",
      "source": [
        "#merge date and time to convert object to datetime to use as GluonTS index\n",
        "selected_columns = df[[0,1,5]]\n",
        "new_df = selected_columns.copy()\n",
        "print(new_df)"
      ],
      "metadata": {
        "colab": {
          "base_uri": "https://localhost:8080/"
        },
        "id": "IKMZcqOfkZMd",
        "outputId": "958321c3-8cc0-4204-f564-ed95e194656d"
      },
      "execution_count": 6,
      "outputs": [
        {
          "output_type": "stream",
          "name": "stdout",
          "text": [
            "                 0         1        5\n",
            "0       1971.01.04  00:00:00  0.53690\n",
            "1       1971.01.05  00:00:00  0.53660\n",
            "2       1971.01.06  00:00:00  0.53650\n",
            "3       1971.01.07  00:00:00  0.53680\n",
            "4       1971.01.08  00:00:00  0.53710\n",
            "...            ...       ...      ...\n",
            "150257  2022.01.21  19:00:00  1.13457\n",
            "150258  2022.01.21  20:00:00  1.13444\n",
            "150259  2022.01.21  21:00:00  1.13413\n",
            "150260  2022.01.21  22:00:00  1.13412\n",
            "150261  2022.01.21  23:00:00  1.13421\n",
            "\n",
            "[150262 rows x 3 columns]\n"
          ]
        }
      ]
    },
    {
      "cell_type": "code",
      "source": [
        "new_df['date_time_index'] = df[0] +' '+ df[1]\n",
        "new_df = new_df.drop(columns = [0,1])"
      ],
      "metadata": {
        "id": "tRRqEkwdlXmT"
      },
      "execution_count": 7,
      "outputs": []
    },
    {
      "cell_type": "code",
      "source": [
        "new_df = new_df.rename(columns={5:'price'})"
      ],
      "metadata": {
        "id": "td9O8CwRqiBs"
      },
      "execution_count": 8,
      "outputs": []
    },
    {
      "cell_type": "code",
      "source": [
        "#convert mt5 object formats to datetime and float\n",
        "df2 = new_df[['date_time_index','price']]\n",
        "df2['date_time_index'] = pd.to_datetime(df2['date_time_index'])\n",
        "df2['price'] = df2['price'].astype(float, errors = 'raise')\n",
        "df2 = df2.set_index('date_time_index')\n",
        "print(df2)"
      ],
      "metadata": {
        "colab": {
          "base_uri": "https://localhost:8080/"
        },
        "id": "RO96StzjrLVJ",
        "outputId": "012fef3f-50d2-46ed-afc0-f23d57090f76"
      },
      "execution_count": 9,
      "outputs": [
        {
          "output_type": "stream",
          "name": "stdout",
          "text": [
            "                       price\n",
            "date_time_index             \n",
            "1971-01-04 00:00:00  0.53690\n",
            "1971-01-05 00:00:00  0.53660\n",
            "1971-01-06 00:00:00  0.53650\n",
            "1971-01-07 00:00:00  0.53680\n",
            "1971-01-08 00:00:00  0.53710\n",
            "...                      ...\n",
            "2022-01-21 19:00:00  1.13457\n",
            "2022-01-21 20:00:00  1.13444\n",
            "2022-01-21 21:00:00  1.13413\n",
            "2022-01-21 22:00:00  1.13412\n",
            "2022-01-21 23:00:00  1.13421\n",
            "\n",
            "[150262 rows x 1 columns]\n"
          ]
        }
      ]
    },
    {
      "cell_type": "code",
      "source": [
        "#check it is done\n",
        "df2.info()"
      ],
      "metadata": {
        "colab": {
          "base_uri": "https://localhost:8080/"
        },
        "id": "9rlTE6bgtEKd",
        "outputId": "48ede458-8843-42ba-c958-2a5e7fb7b566"
      },
      "execution_count": 10,
      "outputs": [
        {
          "output_type": "stream",
          "name": "stdout",
          "text": [
            "<class 'pandas.core.frame.DataFrame'>\n",
            "DatetimeIndex: 150262 entries, 1971-01-04 00:00:00 to 2022-01-21 23:00:00\n",
            "Data columns (total 1 columns):\n",
            " #   Column  Non-Null Count   Dtype  \n",
            "---  ------  --------------   -----  \n",
            " 0   price   150262 non-null  float64\n",
            "dtypes: float64(1)\n",
            "memory usage: 2.3 MB\n"
          ]
        }
      ]
    },
    {
      "cell_type": "code",
      "source": [
        "#print the data range from above\n",
        "import matplotlib.pyplot as plt\n",
        "df2[:100].plot(linewidth=2)\n",
        "plt.grid(which='both')\n",
        "plt.show()"
      ],
      "metadata": {
        "colab": {
          "base_uri": "https://localhost:8080/",
          "height": 278
        },
        "id": "yYzS14iSZjRi",
        "outputId": "a81854c5-6bc3-4826-998f-a29d31206a21"
      },
      "execution_count": 11,
      "outputs": [
        {
          "output_type": "display_data",
          "data": {
            "image/png": "[encoded data removed]",
            "text/plain": [
              "<Figure size 432x288 with 1 Axes>"
            ]
          },
          "metadata": {
            "needs_background": "light"
          }
        }
      ]
    },
    {
      "cell_type": "code",
      "source": [
        "#import Gluon\n",
        "from gluonts.dataset.common import ListDataset"
      ],
      "metadata": {
        "colab": {
          "base_uri": "https://localhost:8080/"
        },
        "id": "y2jkSwYoZjz7",
        "outputId": "c0ed530e-90d1-4fa0-f781-10163789cc62"
      },
      "execution_count": 12,
      "outputs": [
        {
          "output_type": "stream",
          "name": "stderr",
          "text": [
            "/usr/local/lib/python3.7/dist-packages/gluonts/json.py:46: UserWarning: Using `json`-module for json-handling. Consider installing one of `orjson`, `ujson` to speed up serialization and deserialization.\n",
            "  \"Using `json`-module for json-handling. \"\n"
          ]
        }
      ]
    },
    {
      "cell_type": "code",
      "source": [
        "#choose data range to train\n",
        "training_data = ListDataset(\n",
        "    [{\"start\": df2.index[0], \"target\": df2.price[\"2000-01-01 01:00:00\":\"2022-01-12 01:00:00\"]}], \n",
        "    freq = \"1H\"\n",
        "    )"
      ],
      "metadata": {
        "id": "_BAzJE6l1LS0"
      },
      "execution_count": 31,
      "outputs": []
    },
    {
      "cell_type": "code",
      "source": [
        "#import model \n",
        "from gluonts.model.deepar import DeepAREstimator\n",
        "from gluonts.mx.trainer import Trainer"
      ],
      "metadata": {
        "id": "QjFfjoxq2zKd"
      },
      "execution_count": 14,
      "outputs": []
    },
    {
      "cell_type": "code",
      "source": [
        "#train model\n",
        "estimator = DeepAREstimator(freq=\"1H\", prediction_length=24, trainer=Trainer(epochs=10))\n",
        "predictor = estimator.train(training_data=training_data)"
      ],
      "metadata": {
        "colab": {
          "base_uri": "https://localhost:8080/"
        },
        "id": "Sl6QDq3u26Ma",
        "outputId": "b727e50f-9148-4370-95c1-47d34b0a8547"
      },
      "execution_count": null,
      "outputs": [
        {
          "output_type": "stream",
          "name": "stderr",
          "text": [
            "100%|██████████| 50/50 [00:12<00:00,  3.97it/s, epoch=1/10, avg_epoch_loss=-.541]\n",
            "  0%|          | 0/50 [00:00<?, ?it/s]"
          ]
        }
      ]
    },
    {
      "cell_type": "code",
      "source": [
        "#choose data range to predict\n",
        "test_data = ListDataset(\n",
        "    [{\"start\": df2.index[0], \"target\": df2.price[:\"2022-01-18 01:00:00\"]}],\n",
        "    freq = \"1H\"\n",
        ")"
      ],
      "metadata": {
        "id": "k2FSTP4e3q65"
      },
      "execution_count": 28,
      "outputs": []
    },
    {
      "cell_type": "code",
      "source": [
        "#plot prediction graph\n",
        "from gluonts.dataset.util import to_pandas\n",
        "\n",
        "for test_entry, forecast in zip(test_data, predictor.predict(test_data)):\n",
        "    to_pandas(test_entry)[-60:].plot(linewidth=2)\n",
        "    forecast.plot(color='g', prediction_intervals=[50.0, 90.0])\n",
        "plt.grid(which='both')"
      ],
      "metadata": {
        "id": "F3s2XjNb9BWr",
        "colab": {
          "base_uri": "https://localhost:8080/",
          "height": 289
        },
        "outputId": "44558285-c93e-4cdf-8761-e7a20a24c48e"
      },
      "execution_count": 30,
      "outputs": [
        {
          "output_type": "display_data",
          "data": {
            "image/png": "[encoded data removed]",
            "text/plain": [
              "<Figure size 432x288 with 1 Axes>"
            ]
          },
          "metadata": {
            "needs_background": "light"
          }
        }
      ]
    }
  ]
}