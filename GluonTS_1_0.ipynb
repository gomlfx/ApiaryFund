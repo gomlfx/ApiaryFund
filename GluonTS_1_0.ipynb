{
  "nbformat": 4,
  "nbformat_minor": 0,
  "metadata": {
    "colab": {
      "name": "GluonTS_1.0.ipynb",
      "provenance": [],
      "collapsed_sections": [],
      "authorship_tag": "ABX9TyPbtDMe6zPil/GMYPU5EkX4",
      "include_colab_link": true
    },
    "kernelspec": {
      "name": "python3",
      "display_name": "Python 3"
    },
    "language_info": {
      "name": "python"
    }
  },
  "cells": [
    {
      "cell_type": "markdown",
      "metadata": {
        "id": "view-in-github",
        "colab_type": "text"
      },
      "source": [
        "<a href=\"https://colab.research.google.com/github/gomlfx/ApiaryFund/blob/master/GluonTS_1_0.ipynb\" target=\"_parent\"><img src=\"https://colab.research.google.com/assets/colab-badge.svg\" alt=\"Open In Colab\"/></a>"
      ]
    },
    {
      "cell_type": "code",
      "source": [
        "import pandas as pd"
      ],
      "metadata": {
        "id": "v28DJzHXeDW9"
      },
      "execution_count": 1,
      "outputs": []
    },
    {
      "cell_type": "code",
      "execution_count": 2,
      "metadata": {
        "id": "ma1yzIATZTMD"
      },
      "outputs": [],
      "source": [
        "#install GluonTS\n",
        "#!pip install --upgrade mxnet~=1.7 gluonts"
      ]
    },
    {
      "cell_type": "code",
      "source": [
        "#metatrader 5 history file an timeframe is ok\n",
        "df = pd.read_csv('/content/EURUSD_H1_202101040000_202201140100.csv')\n"
      ],
      "metadata": {
        "id": "1vH7mX0edOyn"
      },
      "execution_count": 3,
      "outputs": []
    },
    {
      "cell_type": "code",
      "source": [
        "#split mt5 into columns\n",
        "df.columns=['header']\n",
        "df = df.header.str.split('\\t', expand=True)"
      ],
      "metadata": {
        "id": "q0wCDd8sftJx"
      },
      "execution_count": 4,
      "outputs": []
    },
    {
      "cell_type": "code",
      "source": [
        "#check the splits\n",
        "df"
      ],
      "metadata": {
        "colab": {
          "base_uri": "https://localhost:8080/",
          "height": 424
        },
        "id": "gsjnTnmNkW5i",
        "outputId": "c32ca714-138f-4962-c0f0-257a04c894ef"
      },
      "execution_count": 5,
      "outputs": [
        {
          "output_type": "execute_result",
          "data": {
            "text/html": [
              "\n",
              "  <div id=\"df-748039f5-e9a1-4384-a183-300f02e1f3a0\">\n",
              "    <div class=\"colab-df-container\">\n",
              "      <div>\n",
              "<style scoped>\n",
              "    .dataframe tbody tr th:only-of-type {\n",
              "        vertical-align: middle;\n",
              "    }\n",
              "\n",
              "    .dataframe tbody tr th {\n",
              "        vertical-align: top;\n",
              "    }\n",
              "\n",
              "    .dataframe thead th {\n",
              "        text-align: right;\n",
              "    }\n",
              "</style>\n",
              "<table border=\"1\" class=\"dataframe\">\n",
              "  <thead>\n",
              "    <tr style=\"text-align: right;\">\n",
              "      <th></th>\n",
              "      <th>0</th>\n",
              "      <th>1</th>\n",
              "      <th>2</th>\n",
              "      <th>3</th>\n",
              "      <th>4</th>\n",
              "      <th>5</th>\n",
              "      <th>6</th>\n",
              "      <th>7</th>\n",
              "      <th>8</th>\n",
              "    </tr>\n",
              "  </thead>\n",
              "  <tbody>\n",
              "    <tr>\n",
              "      <th>0</th>\n",
              "      <td>2021.01.04</td>\n",
              "      <td>00:00:00</td>\n",
              "      <td>1.22395</td>\n",
              "      <td>1.22398</td>\n",
              "      <td>1.22280</td>\n",
              "      <td>1.22341</td>\n",
              "      <td>521</td>\n",
              "      <td>0</td>\n",
              "      <td>0</td>\n",
              "    </tr>\n",
              "    <tr>\n",
              "      <th>1</th>\n",
              "      <td>2021.01.04</td>\n",
              "      <td>01:00:00</td>\n",
              "      <td>1.22336</td>\n",
              "      <td>1.22528</td>\n",
              "      <td>1.22304</td>\n",
              "      <td>1.22501</td>\n",
              "      <td>3052</td>\n",
              "      <td>0</td>\n",
              "      <td>0</td>\n",
              "    </tr>\n",
              "    <tr>\n",
              "      <th>2</th>\n",
              "      <td>2021.01.04</td>\n",
              "      <td>02:00:00</td>\n",
              "      <td>1.22501</td>\n",
              "      <td>1.22501</td>\n",
              "      <td>1.22386</td>\n",
              "      <td>1.22407</td>\n",
              "      <td>3534</td>\n",
              "      <td>0</td>\n",
              "      <td>0</td>\n",
              "    </tr>\n",
              "    <tr>\n",
              "      <th>3</th>\n",
              "      <td>2021.01.04</td>\n",
              "      <td>03:00:00</td>\n",
              "      <td>1.22407</td>\n",
              "      <td>1.22557</td>\n",
              "      <td>1.22398</td>\n",
              "      <td>1.22526</td>\n",
              "      <td>3564</td>\n",
              "      <td>0</td>\n",
              "      <td>0</td>\n",
              "    </tr>\n",
              "    <tr>\n",
              "      <th>4</th>\n",
              "      <td>2021.01.04</td>\n",
              "      <td>04:00:00</td>\n",
              "      <td>1.22526</td>\n",
              "      <td>1.22585</td>\n",
              "      <td>1.22495</td>\n",
              "      <td>1.22538</td>\n",
              "      <td>3348</td>\n",
              "      <td>0</td>\n",
              "      <td>0</td>\n",
              "    </tr>\n",
              "    <tr>\n",
              "      <th>...</th>\n",
              "      <td>...</td>\n",
              "      <td>...</td>\n",
              "      <td>...</td>\n",
              "      <td>...</td>\n",
              "      <td>...</td>\n",
              "      <td>...</td>\n",
              "      <td>...</td>\n",
              "      <td>...</td>\n",
              "      <td>...</td>\n",
              "    </tr>\n",
              "    <tr>\n",
              "      <th>6445</th>\n",
              "      <td>2022.01.13</td>\n",
              "      <td>21:00:00</td>\n",
              "      <td>1.14588</td>\n",
              "      <td>1.14653</td>\n",
              "      <td>1.14576</td>\n",
              "      <td>1.14618</td>\n",
              "      <td>1934</td>\n",
              "      <td>0</td>\n",
              "      <td>0</td>\n",
              "    </tr>\n",
              "    <tr>\n",
              "      <th>6446</th>\n",
              "      <td>2022.01.13</td>\n",
              "      <td>22:00:00</td>\n",
              "      <td>1.14615</td>\n",
              "      <td>1.14624</td>\n",
              "      <td>1.14508</td>\n",
              "      <td>1.14523</td>\n",
              "      <td>1970</td>\n",
              "      <td>0</td>\n",
              "      <td>0</td>\n",
              "    </tr>\n",
              "    <tr>\n",
              "      <th>6447</th>\n",
              "      <td>2022.01.13</td>\n",
              "      <td>23:00:00</td>\n",
              "      <td>1.14523</td>\n",
              "      <td>1.14555</td>\n",
              "      <td>1.14509</td>\n",
              "      <td>1.14539</td>\n",
              "      <td>775</td>\n",
              "      <td>0</td>\n",
              "      <td>0</td>\n",
              "    </tr>\n",
              "    <tr>\n",
              "      <th>6448</th>\n",
              "      <td>2022.01.14</td>\n",
              "      <td>00:00:00</td>\n",
              "      <td>1.14531</td>\n",
              "      <td>1.14569</td>\n",
              "      <td>1.14531</td>\n",
              "      <td>1.14544</td>\n",
              "      <td>652</td>\n",
              "      <td>0</td>\n",
              "      <td>10</td>\n",
              "    </tr>\n",
              "    <tr>\n",
              "      <th>6449</th>\n",
              "      <td>2022.01.14</td>\n",
              "      <td>01:00:00</td>\n",
              "      <td>1.14542</td>\n",
              "      <td>1.14590</td>\n",
              "      <td>1.14537</td>\n",
              "      <td>1.14565</td>\n",
              "      <td>586</td>\n",
              "      <td>0</td>\n",
              "      <td>7</td>\n",
              "    </tr>\n",
              "  </tbody>\n",
              "</table>\n",
              "<p>6450 rows × 9 columns</p>\n",
              "</div>\n",
              "      <button class=\"colab-df-convert\" onclick=\"convertToInteractive('df-748039f5-e9a1-4384-a183-300f02e1f3a0')\"\n",
              "              title=\"Convert this dataframe to an interactive table.\"\n",
              "              style=\"display:none;\">\n",
              "        \n",
              "  <svg xmlns=\"http://www.w3.org/2000/svg\" height=\"24px\"viewBox=\"0 0 24 24\"\n",
              "       width=\"24px\">\n",
              "    <path d=\"M0 0h24v24H0V0z\" fill=\"none\"/>\n",
              "    <path d=\"M18.56 5.44l.94 2.06.94-2.06 2.06-.94-2.06-.94-.94-2.06-.94 2.06-2.06.94zm-11 1L8.5 8.5l.94-2.06 2.06-.94-2.06-.94L8.5 2.5l-.94 2.06-2.06.94zm10 10l.94 2.06.94-2.06 2.06-.94-2.06-.94-.94-2.06-.94 2.06-2.06.94z\"/><path d=\"M17.41 7.96l-1.37-1.37c-.4-.4-.92-.59-1.43-.59-.52 0-1.04.2-1.43.59L10.3 9.45l-7.72 7.72c-.78.78-.78 2.05 0 2.83L4 21.41c.39.39.9.59 1.41.59.51 0 1.02-.2 1.41-.59l7.78-7.78 2.81-2.81c.8-.78.8-2.07 0-2.86zM5.41 20L4 18.59l7.72-7.72 1.47 1.35L5.41 20z\"/>\n",
              "  </svg>\n",
              "      </button>\n",
              "      \n",
              "  <style>\n",
              "    .colab-df-container {\n",
              "      display:flex;\n",
              "      flex-wrap:wrap;\n",
              "      gap: 12px;\n",
              "    }\n",
              "\n",
              "    .colab-df-convert {\n",
              "      background-color: #E8F0FE;\n",
              "      border: none;\n",
              "      border-radius: 50%;\n",
              "      cursor: pointer;\n",
              "      display: none;\n",
              "      fill: #1967D2;\n",
              "      height: 32px;\n",
              "      padding: 0 0 0 0;\n",
              "      width: 32px;\n",
              "    }\n",
              "\n",
              "    .colab-df-convert:hover {\n",
              "      background-color: #E2EBFA;\n",
              "      box-shadow: 0px 1px 2px rgba(60, 64, 67, 0.3), 0px 1px 3px 1px rgba(60, 64, 67, 0.15);\n",
              "      fill: #174EA6;\n",
              "    }\n",
              "\n",
              "    [theme=dark] .colab-df-convert {\n",
              "      background-color: #3B4455;\n",
              "      fill: #D2E3FC;\n",
              "    }\n",
              "\n",
              "    [theme=dark] .colab-df-convert:hover {\n",
              "      background-color: #434B5C;\n",
              "      box-shadow: 0px 1px 3px 1px rgba(0, 0, 0, 0.15);\n",
              "      filter: drop-shadow(0px 1px 2px rgba(0, 0, 0, 0.3));\n",
              "      fill: #FFFFFF;\n",
              "    }\n",
              "  </style>\n",
              "\n",
              "      <script>\n",
              "        const buttonEl =\n",
              "          document.querySelector('#df-748039f5-e9a1-4384-a183-300f02e1f3a0 button.colab-df-convert');\n",
              "        buttonEl.style.display =\n",
              "          google.colab.kernel.accessAllowed ? 'block' : 'none';\n",
              "\n",
              "        async function convertToInteractive(key) {\n",
              "          const element = document.querySelector('#df-748039f5-e9a1-4384-a183-300f02e1f3a0');\n",
              "          const dataTable =\n",
              "            await google.colab.kernel.invokeFunction('convertToInteractive',\n",
              "                                                     [key], {});\n",
              "          if (!dataTable) return;\n",
              "\n",
              "          const docLinkHtml = 'Like what you see? Visit the ' +\n",
              "            '<a target=\"_blank\" href=https://colab.research.google.com/notebooks/data_table.ipynb>data table notebook</a>'\n",
              "            + ' to learn more about interactive tables.';\n",
              "          element.innerHTML = '';\n",
              "          dataTable['output_type'] = 'display_data';\n",
              "          await google.colab.output.renderOutput(dataTable, element);\n",
              "          const docLink = document.createElement('div');\n",
              "          docLink.innerHTML = docLinkHtml;\n",
              "          element.appendChild(docLink);\n",
              "        }\n",
              "      </script>\n",
              "    </div>\n",
              "  </div>\n",
              "  "
            ],
            "text/plain": [
              "               0         1        2        3        4        5     6  7   8\n",
              "0     2021.01.04  00:00:00  1.22395  1.22398  1.22280  1.22341   521  0   0\n",
              "1     2021.01.04  01:00:00  1.22336  1.22528  1.22304  1.22501  3052  0   0\n",
              "2     2021.01.04  02:00:00  1.22501  1.22501  1.22386  1.22407  3534  0   0\n",
              "3     2021.01.04  03:00:00  1.22407  1.22557  1.22398  1.22526  3564  0   0\n",
              "4     2021.01.04  04:00:00  1.22526  1.22585  1.22495  1.22538  3348  0   0\n",
              "...          ...       ...      ...      ...      ...      ...   ... ..  ..\n",
              "6445  2022.01.13  21:00:00  1.14588  1.14653  1.14576  1.14618  1934  0   0\n",
              "6446  2022.01.13  22:00:00  1.14615  1.14624  1.14508  1.14523  1970  0   0\n",
              "6447  2022.01.13  23:00:00  1.14523  1.14555  1.14509  1.14539   775  0   0\n",
              "6448  2022.01.14  00:00:00  1.14531  1.14569  1.14531  1.14544   652  0  10\n",
              "6449  2022.01.14  01:00:00  1.14542  1.14590  1.14537  1.14565   586  0   7\n",
              "\n",
              "[6450 rows x 9 columns]"
            ]
          },
          "metadata": {},
          "execution_count": 5
        }
      ]
    },
    {
      "cell_type": "code",
      "source": [
        "#merge date and time to convert object to datetime to use as GluonTS index\n",
        "selected_columns = df[[0,1,5]]\n",
        "new_df = selected_columns.copy()\n",
        "print(new_df)"
      ],
      "metadata": {
        "colab": {
          "base_uri": "https://localhost:8080/"
        },
        "id": "IKMZcqOfkZMd",
        "outputId": "c3752eed-8382-4470-95b8-c989e7d8f5c8"
      },
      "execution_count": 6,
      "outputs": [
        {
          "output_type": "stream",
          "name": "stdout",
          "text": [
            "               0         1        5\n",
            "0     2021.01.04  00:00:00  1.22341\n",
            "1     2021.01.04  01:00:00  1.22501\n",
            "2     2021.01.04  02:00:00  1.22407\n",
            "3     2021.01.04  03:00:00  1.22526\n",
            "4     2021.01.04  04:00:00  1.22538\n",
            "...          ...       ...      ...\n",
            "6445  2022.01.13  21:00:00  1.14618\n",
            "6446  2022.01.13  22:00:00  1.14523\n",
            "6447  2022.01.13  23:00:00  1.14539\n",
            "6448  2022.01.14  00:00:00  1.14544\n",
            "6449  2022.01.14  01:00:00  1.14565\n",
            "\n",
            "[6450 rows x 3 columns]\n"
          ]
        }
      ]
    },
    {
      "cell_type": "code",
      "source": [
        "new_df['date_time_index'] = df[0] +' '+ df[1]\n",
        "new_df = new_df.drop(columns = [0,1])"
      ],
      "metadata": {
        "id": "tRRqEkwdlXmT"
      },
      "execution_count": 7,
      "outputs": []
    },
    {
      "cell_type": "code",
      "source": [
        "new_df = new_df.rename(columns={5:'price'})"
      ],
      "metadata": {
        "id": "td9O8CwRqiBs"
      },
      "execution_count": 8,
      "outputs": []
    },
    {
      "cell_type": "code",
      "source": [
        "#convert mt5 object formats to datetime and float\n",
        "df2 = new_df[['date_time_index','price']]\n",
        "df2['date_time_index'] = pd.to_datetime(df2['date_time_index'])\n",
        "df2['price'] = df2['price'].astype(float, errors = 'raise')\n",
        "df2 = df2.set_index('date_time_index')\n",
        "print(df2)"
      ],
      "metadata": {
        "colab": {
          "base_uri": "https://localhost:8080/"
        },
        "id": "RO96StzjrLVJ",
        "outputId": "384e262e-337c-49d2-b5b2-1cd5c7d548eb"
      },
      "execution_count": 9,
      "outputs": [
        {
          "output_type": "stream",
          "name": "stdout",
          "text": [
            "                       price\n",
            "date_time_index             \n",
            "2021-01-04 00:00:00  1.22341\n",
            "2021-01-04 01:00:00  1.22501\n",
            "2021-01-04 02:00:00  1.22407\n",
            "2021-01-04 03:00:00  1.22526\n",
            "2021-01-04 04:00:00  1.22538\n",
            "...                      ...\n",
            "2022-01-13 21:00:00  1.14618\n",
            "2022-01-13 22:00:00  1.14523\n",
            "2022-01-13 23:00:00  1.14539\n",
            "2022-01-14 00:00:00  1.14544\n",
            "2022-01-14 01:00:00  1.14565\n",
            "\n",
            "[6450 rows x 1 columns]\n"
          ]
        }
      ]
    },
    {
      "cell_type": "code",
      "source": [
        "#check it is done\n",
        "df2.info()"
      ],
      "metadata": {
        "colab": {
          "base_uri": "https://localhost:8080/"
        },
        "id": "9rlTE6bgtEKd",
        "outputId": "e684ae00-bf80-4854-be57-e425c4dc582c"
      },
      "execution_count": 10,
      "outputs": [
        {
          "output_type": "stream",
          "name": "stdout",
          "text": [
            "<class 'pandas.core.frame.DataFrame'>\n",
            "DatetimeIndex: 6450 entries, 2021-01-04 00:00:00 to 2022-01-14 01:00:00\n",
            "Data columns (total 1 columns):\n",
            " #   Column  Non-Null Count  Dtype  \n",
            "---  ------  --------------  -----  \n",
            " 0   price   6450 non-null   float64\n",
            "dtypes: float64(1)\n",
            "memory usage: 100.8 KB\n"
          ]
        }
      ]
    },
    {
      "cell_type": "code",
      "source": [
        "#print the data range from above\n",
        "import matplotlib.pyplot as plt\n",
        "df2[:100].plot(linewidth=2)\n",
        "plt.grid(which='both')\n",
        "plt.show()"
      ],
      "metadata": {
        "colab": {
          "base_uri": "https://localhost:8080/",
          "height": 302
        },
        "id": "yYzS14iSZjRi",
        "outputId": "10e7cf7b-7c95-4039-8769-c33c2af1229a"
      },
      "execution_count": 11,
      "outputs": [
        {
          "output_type": "display_data",
          "data": {
            "image/png": "[encoded data removed]",
            "text/plain": [
              "<Figure size 432x288 with 1 Axes>"
            ]
          },
          "metadata": {
            "needs_background": "light"
          }
        }
      ]
    },
    {
      "cell_type": "code",
      "source": [
        "#import Gluon\n",
        "from gluonts.dataset.common import ListDataset"
      ],
      "metadata": {
        "colab": {
          "base_uri": "https://localhost:8080/"
        },
        "id": "y2jkSwYoZjz7",
        "outputId": "245ef466-74e2-4258-e4fb-edcc870ab71d"
      },
      "execution_count": 12,
      "outputs": [
        {
          "output_type": "stream",
          "name": "stderr",
          "text": [
            "/usr/local/lib/python3.7/dist-packages/gluonts/json.py:46: UserWarning: Using `json`-module for json-handling. Consider installing one of `orjson`, `ujson` to speed up serialization and deserialization.\n",
            "  \"Using `json`-module for json-handling. \"\n"
          ]
        }
      ]
    },
    {
      "cell_type": "code",
      "source": [
        "#choose data range to train\n",
        "training_data = ListDataset(\n",
        "    [{\"start\": df2.index[0], \"target\": df2.price[\"2021-01-01 00:00:00\":\"2022-01-14 00:00:00\"]}], \n",
        "    freq = \"1H\"\n",
        "    )"
      ],
      "metadata": {
        "id": "_BAzJE6l1LS0"
      },
      "execution_count": 13,
      "outputs": []
    },
    {
      "cell_type": "code",
      "source": [
        "#import model \n",
        "from gluonts.model.deepar import DeepAREstimator\n",
        "from gluonts.mx.trainer import Trainer"
      ],
      "metadata": {
        "id": "QjFfjoxq2zKd"
      },
      "execution_count": 14,
      "outputs": []
    },
    {
      "cell_type": "code",
      "source": [
        "#train model\n",
        "estimator = DeepAREstimator(freq=\"1H\", prediction_length=24, trainer=Trainer(epochs=10))\n",
        "predictor = estimator.train(training_data=training_data)"
      ],
      "metadata": {
        "colab": {
          "base_uri": "https://localhost:8080/"
        },
        "id": "Sl6QDq3u26Ma",
        "outputId": "c389fe27-8f4c-4dea-da7a-c1ba49ae4de7"
      },
      "execution_count": null,
      "outputs": [
        {
          "output_type": "stream",
          "name": "stderr",
          "text": [
            "100%|██████████| 50/50 [00:05<00:00,  9.87it/s, epoch=1/10, avg_epoch_loss=-.268]\n",
            "100%|██████████| 50/50 [00:04<00:00, 10.43it/s, epoch=2/10, avg_epoch_loss=-2.15]\n",
            "100%|██████████| 50/50 [00:04<00:00, 10.58it/s, epoch=3/10, avg_epoch_loss=-2.66]\n",
            "100%|██████████| 50/50 [00:04<00:00, 10.46it/s, epoch=4/10, avg_epoch_loss=-2.15]\n",
            "100%|██████████| 50/50 [00:04<00:00, 10.65it/s, epoch=5/10, avg_epoch_loss=-2.74]\n",
            "100%|██████████| 50/50 [00:04<00:00, 10.30it/s, epoch=6/10, avg_epoch_loss=-3]\n",
            "  0%|          | 0/50 [00:00<?, ?it/s]"
          ]
        }
      ]
    },
    {
      "cell_type": "code",
      "source": [
        "#choose data range to predict\n",
        "test_data = ListDataset(\n",
        "    [{\"start\": df2.index[0], \"target\": df2.price[\"2022-01-14 00:00:00\":\"2022-01-14 01:00:00\"]}],\n",
        "    freq = \"1H\"\n",
        ")"
      ],
      "metadata": {
        "id": "k2FSTP4e3q65"
      },
      "execution_count": null,
      "outputs": []
    },
    {
      "cell_type": "code",
      "source": [
        "#plot prediction graph\n",
        "from gluonts.dataset.util import to_pandas\n",
        "\n",
        "for test_entry, forecast in zip(test_data, predictor.predict(test_data)):\n",
        "    to_pandas(test_entry)[-60:].plot(linewidth=2)\n",
        "    forecast.plot(color='g', prediction_intervals=[1.0, 5.0])\n",
        "plt.grid(which='both')"
      ],
      "metadata": {
        "id": "F3s2XjNb9BWr"
      },
      "execution_count": null,
      "outputs": []
    }
  ]
}