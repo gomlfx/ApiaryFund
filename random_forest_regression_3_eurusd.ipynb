{
  "nbformat": 4,
  "nbformat_minor": 0,
  "metadata": {
    "colab": {
      "name": "random_forest_regression_3_eurusd.ipynb",
      "provenance": [],
      "collapsed_sections": [],
      "authorship_tag": "ABX9TyOQtQVA9ONKx8XTDpIQ8R5K",
      "include_colab_link": true
    },
    "kernelspec": {
      "name": "python3",
      "display_name": "Python 3"
    },
    "language_info": {
      "name": "python"
    }
  },
  "cells": [
    {
      "cell_type": "markdown",
      "metadata": {
        "id": "view-in-github",
        "colab_type": "text"
      },
      "source": [
        "<a href=\"https://colab.research.google.com/github/gomlfx/ApiaryFund/blob/master/random_forest_regression_3_eurusd.ipynb\" target=\"_parent\"><img src=\"https://colab.research.google.com/assets/colab-badge.svg\" alt=\"Open In Colab\"/></a>"
      ]
    },
    {
      "cell_type": "code",
      "metadata": {
        "colab": {
          "base_uri": "https://localhost:8080/",
          "height": 111
        },
        "id": "L33tTbkVyHeD",
        "outputId": "a5d3c1a7-5096-4b23-93d8-a406f3760e78"
      },
      "source": [
        "import pandas as pd\n",
        "import numpy as np\n",
        "# Import matplotlib for plotting and use magic command for Jupyter Notebooks\n",
        "import matplotlib.pyplot as plt\n",
        "%matplotlib inline\n",
        "#import normalization\n",
        "from sklearn import preprocessing\n",
        "from sklearn.ensemble import RandomForestRegressor\n",
        "#using eurusd, change to your preferred asset\n",
        "eu = pd.read_csv('EURUSD1440.csv')\n",
        "eu.tail(2)"
      ],
      "execution_count": 1,
      "outputs": [
        {
          "output_type": "execute_result",
          "data": {
            "text/html": [
              "<div>\n",
              "<style scoped>\n",
              "    .dataframe tbody tr th:only-of-type {\n",
              "        vertical-align: middle;\n",
              "    }\n",
              "\n",
              "    .dataframe tbody tr th {\n",
              "        vertical-align: top;\n",
              "    }\n",
              "\n",
              "    .dataframe thead th {\n",
              "        text-align: right;\n",
              "    }\n",
              "</style>\n",
              "<table border=\"1\" class=\"dataframe\">\n",
              "  <thead>\n",
              "    <tr style=\"text-align: right;\">\n",
              "      <th></th>\n",
              "      <th>1971.01.04</th>\n",
              "      <th>00:00</th>\n",
              "      <th>0.53690</th>\n",
              "      <th>0.53690.1</th>\n",
              "      <th>0.53690.2</th>\n",
              "      <th>0.53690.3</th>\n",
              "      <th>1</th>\n",
              "    </tr>\n",
              "  </thead>\n",
              "  <tbody>\n",
              "    <tr>\n",
              "      <th>12769</th>\n",
              "      <td>2021.11.16</td>\n",
              "      <td>00:00</td>\n",
              "      <td>1.13672</td>\n",
              "      <td>1.13855</td>\n",
              "      <td>1.13090</td>\n",
              "      <td>1.13189</td>\n",
              "      <td>91550</td>\n",
              "    </tr>\n",
              "    <tr>\n",
              "      <th>12770</th>\n",
              "      <td>2021.11.17</td>\n",
              "      <td>00:00</td>\n",
              "      <td>1.13208</td>\n",
              "      <td>1.13321</td>\n",
              "      <td>1.12635</td>\n",
              "      <td>1.13217</td>\n",
              "      <td>84391</td>\n",
              "    </tr>\n",
              "  </tbody>\n",
              "</table>\n",
              "</div>"
            ],
            "text/plain": [
              "       1971.01.04  00:00  0.53690  0.53690.1  0.53690.2  0.53690.3      1\n",
              "12769  2021.11.16  00:00  1.13672    1.13855    1.13090    1.13189  91550\n",
              "12770  2021.11.17  00:00  1.13208    1.13321    1.12635    1.13217  84391"
            ]
          },
          "metadata": {},
          "execution_count": 1
        }
      ]
    },
    {
      "cell_type": "code",
      "metadata": {
        "id": "MT4vPMgBZrg8",
        "colab": {
          "base_uri": "https://localhost:8080/"
        },
        "outputId": "c89afdcc-732d-49fc-cbff-37f4ac42d451"
      },
      "source": [
        "eu.columns=['Date','Time','eu_Open','eu_High','eu_Low','eu_Close','Volume']\n",
        "#Use D1 at least 2000 observations, change below for the number of rows you have.\n",
        "#session crash or slow computing time may require you to use less rows. \n",
        "eu = eu.iloc[-2000:] \n",
        "#eu = eu.iloc[-3000:] \n",
        "eu = eu.reset_index(drop=True)\n",
        "eu['Index']=eu.index\n",
        "eu.set_index('Index', drop=True, append=False, inplace=True, verify_integrity=False)\n",
        "#and make index a feature\n",
        "eu.reset_index(inplace=True)\n",
        "#drop last rows if needed\n",
        "#eu = eu[:-1]\n",
        "print(eu.head())\n",
        "print(eu.tail())"
      ],
      "execution_count": 2,
      "outputs": [
        {
          "output_type": "stream",
          "name": "stdout",
          "text": [
            "   Index        Date   Time  eu_Open  eu_High   eu_Low  eu_Close  Volume\n",
            "0      0  2014.03.04  00:00  1.37362  1.37812  1.37206   1.37395   33906\n",
            "1      1  2014.03.05  00:00  1.37396  1.37491  1.37072   1.37361   31330\n",
            "2      2  2014.03.06  00:00  1.37361  1.38723  1.37210   1.38596   36137\n",
            "3      3  2014.03.07  00:00  1.38599  1.39146  1.38522   1.38746   46032\n",
            "4      4  2014.03.10  00:00  1.38761  1.38976  1.38614   1.38769   47580\n",
            "      Index        Date   Time  eu_Open  eu_High   eu_Low  eu_Close  Volume\n",
            "1995   1995  2021.11.11  00:00  1.14769  1.14874  1.14429   1.14488   67531\n",
            "1996   1996  2021.11.12  00:00  1.14468  1.14620  1.14327   1.14428   70130\n",
            "1997   1997  2021.11.15  00:00  1.14470  1.14638  1.13561   1.13666   80978\n",
            "1998   1998  2021.11.16  00:00  1.13672  1.13855  1.13090   1.13189   91550\n",
            "1999   1999  2021.11.17  00:00  1.13208  1.13321  1.12635   1.13217   84391\n"
          ]
        }
      ]
    },
    {
      "cell_type": "code",
      "metadata": {
        "colab": {
          "base_uri": "https://localhost:8080/",
          "height": 419
        },
        "id": "pmYf01az8OPL",
        "outputId": "7cdba464-8b27-4c19-bf97-9af462963540"
      },
      "source": [
        "eu['eu_High_next_day'] = eu['eu_High'].shift(-1)\n",
        "eu['eu_Low_next_day'] = eu['eu_Low'].shift(-1)\n",
        "eu['eu_Close_next_day'] = eu['eu_Close'].shift(-1)\n",
        "eu = eu.dropna()\n",
        "eu"
      ],
      "execution_count": 3,
      "outputs": [
        {
          "output_type": "execute_result",
          "data": {
            "text/html": [
              "<div>\n",
              "<style scoped>\n",
              "    .dataframe tbody tr th:only-of-type {\n",
              "        vertical-align: middle;\n",
              "    }\n",
              "\n",
              "    .dataframe tbody tr th {\n",
              "        vertical-align: top;\n",
              "    }\n",
              "\n",
              "    .dataframe thead th {\n",
              "        text-align: right;\n",
              "    }\n",
              "</style>\n",
              "<table border=\"1\" class=\"dataframe\">\n",
              "  <thead>\n",
              "    <tr style=\"text-align: right;\">\n",
              "      <th></th>\n",
              "      <th>Index</th>\n",
              "      <th>Date</th>\n",
              "      <th>Time</th>\n",
              "      <th>eu_Open</th>\n",
              "      <th>eu_High</th>\n",
              "      <th>eu_Low</th>\n",
              "      <th>eu_Close</th>\n",
              "      <th>Volume</th>\n",
              "      <th>eu_High_next_day</th>\n",
              "      <th>eu_Low_next_day</th>\n",
              "      <th>eu_Close_next_day</th>\n",
              "    </tr>\n",
              "  </thead>\n",
              "  <tbody>\n",
              "    <tr>\n",
              "      <th>0</th>\n",
              "      <td>0</td>\n",
              "      <td>2014.03.04</td>\n",
              "      <td>00:00</td>\n",
              "      <td>1.37362</td>\n",
              "      <td>1.37812</td>\n",
              "      <td>1.37206</td>\n",
              "      <td>1.37395</td>\n",
              "      <td>33906</td>\n",
              "      <td>1.37491</td>\n",
              "      <td>1.37072</td>\n",
              "      <td>1.37361</td>\n",
              "    </tr>\n",
              "    <tr>\n",
              "      <th>1</th>\n",
              "      <td>1</td>\n",
              "      <td>2014.03.05</td>\n",
              "      <td>00:00</td>\n",
              "      <td>1.37396</td>\n",
              "      <td>1.37491</td>\n",
              "      <td>1.37072</td>\n",
              "      <td>1.37361</td>\n",
              "      <td>31330</td>\n",
              "      <td>1.38723</td>\n",
              "      <td>1.37210</td>\n",
              "      <td>1.38596</td>\n",
              "    </tr>\n",
              "    <tr>\n",
              "      <th>2</th>\n",
              "      <td>2</td>\n",
              "      <td>2014.03.06</td>\n",
              "      <td>00:00</td>\n",
              "      <td>1.37361</td>\n",
              "      <td>1.38723</td>\n",
              "      <td>1.37210</td>\n",
              "      <td>1.38596</td>\n",
              "      <td>36137</td>\n",
              "      <td>1.39146</td>\n",
              "      <td>1.38522</td>\n",
              "      <td>1.38746</td>\n",
              "    </tr>\n",
              "    <tr>\n",
              "      <th>3</th>\n",
              "      <td>3</td>\n",
              "      <td>2014.03.07</td>\n",
              "      <td>00:00</td>\n",
              "      <td>1.38599</td>\n",
              "      <td>1.39146</td>\n",
              "      <td>1.38522</td>\n",
              "      <td>1.38746</td>\n",
              "      <td>46032</td>\n",
              "      <td>1.38976</td>\n",
              "      <td>1.38614</td>\n",
              "      <td>1.38769</td>\n",
              "    </tr>\n",
              "    <tr>\n",
              "      <th>4</th>\n",
              "      <td>4</td>\n",
              "      <td>2014.03.10</td>\n",
              "      <td>00:00</td>\n",
              "      <td>1.38761</td>\n",
              "      <td>1.38976</td>\n",
              "      <td>1.38614</td>\n",
              "      <td>1.38769</td>\n",
              "      <td>47580</td>\n",
              "      <td>1.38784</td>\n",
              "      <td>1.38335</td>\n",
              "      <td>1.38545</td>\n",
              "    </tr>\n",
              "    <tr>\n",
              "      <th>...</th>\n",
              "      <td>...</td>\n",
              "      <td>...</td>\n",
              "      <td>...</td>\n",
              "      <td>...</td>\n",
              "      <td>...</td>\n",
              "      <td>...</td>\n",
              "      <td>...</td>\n",
              "      <td>...</td>\n",
              "      <td>...</td>\n",
              "      <td>...</td>\n",
              "      <td>...</td>\n",
              "    </tr>\n",
              "    <tr>\n",
              "      <th>1994</th>\n",
              "      <td>1994</td>\n",
              "      <td>2021.11.10</td>\n",
              "      <td>00:00</td>\n",
              "      <td>1.15915</td>\n",
              "      <td>1.15952</td>\n",
              "      <td>1.14759</td>\n",
              "      <td>1.14764</td>\n",
              "      <td>109854</td>\n",
              "      <td>1.14874</td>\n",
              "      <td>1.14429</td>\n",
              "      <td>1.14488</td>\n",
              "    </tr>\n",
              "    <tr>\n",
              "      <th>1995</th>\n",
              "      <td>1995</td>\n",
              "      <td>2021.11.11</td>\n",
              "      <td>00:00</td>\n",
              "      <td>1.14769</td>\n",
              "      <td>1.14874</td>\n",
              "      <td>1.14429</td>\n",
              "      <td>1.14488</td>\n",
              "      <td>67531</td>\n",
              "      <td>1.14620</td>\n",
              "      <td>1.14327</td>\n",
              "      <td>1.14428</td>\n",
              "    </tr>\n",
              "    <tr>\n",
              "      <th>1996</th>\n",
              "      <td>1996</td>\n",
              "      <td>2021.11.12</td>\n",
              "      <td>00:00</td>\n",
              "      <td>1.14468</td>\n",
              "      <td>1.14620</td>\n",
              "      <td>1.14327</td>\n",
              "      <td>1.14428</td>\n",
              "      <td>70130</td>\n",
              "      <td>1.14638</td>\n",
              "      <td>1.13561</td>\n",
              "      <td>1.13666</td>\n",
              "    </tr>\n",
              "    <tr>\n",
              "      <th>1997</th>\n",
              "      <td>1997</td>\n",
              "      <td>2021.11.15</td>\n",
              "      <td>00:00</td>\n",
              "      <td>1.14470</td>\n",
              "      <td>1.14638</td>\n",
              "      <td>1.13561</td>\n",
              "      <td>1.13666</td>\n",
              "      <td>80978</td>\n",
              "      <td>1.13855</td>\n",
              "      <td>1.13090</td>\n",
              "      <td>1.13189</td>\n",
              "    </tr>\n",
              "    <tr>\n",
              "      <th>1998</th>\n",
              "      <td>1998</td>\n",
              "      <td>2021.11.16</td>\n",
              "      <td>00:00</td>\n",
              "      <td>1.13672</td>\n",
              "      <td>1.13855</td>\n",
              "      <td>1.13090</td>\n",
              "      <td>1.13189</td>\n",
              "      <td>91550</td>\n",
              "      <td>1.13321</td>\n",
              "      <td>1.12635</td>\n",
              "      <td>1.13217</td>\n",
              "    </tr>\n",
              "  </tbody>\n",
              "</table>\n",
              "<p>1999 rows × 11 columns</p>\n",
              "</div>"
            ],
            "text/plain": [
              "      Index        Date  ... eu_Low_next_day  eu_Close_next_day\n",
              "0         0  2014.03.04  ...         1.37072            1.37361\n",
              "1         1  2014.03.05  ...         1.37210            1.38596\n",
              "2         2  2014.03.06  ...         1.38522            1.38746\n",
              "3         3  2014.03.07  ...         1.38614            1.38769\n",
              "4         4  2014.03.10  ...         1.38335            1.38545\n",
              "...     ...         ...  ...             ...                ...\n",
              "1994   1994  2021.11.10  ...         1.14429            1.14488\n",
              "1995   1995  2021.11.11  ...         1.14327            1.14428\n",
              "1996   1996  2021.11.12  ...         1.13561            1.13666\n",
              "1997   1997  2021.11.15  ...         1.13090            1.13189\n",
              "1998   1998  2021.11.16  ...         1.12635            1.13217\n",
              "\n",
              "[1999 rows x 11 columns]"
            ]
          },
          "metadata": {},
          "execution_count": 3
        }
      ]
    },
    {
      "cell_type": "code",
      "metadata": {
        "id": "lH-WYfsO_n5j"
      },
      "source": [
        "#You must run prediction before 0GMT in order to get..."
      ],
      "execution_count": 4,
      "outputs": []
    },
    {
      "cell_type": "code",
      "metadata": {
        "id": "QhfQ9UadZ1PE",
        "colab": {
          "base_uri": "https://localhost:8080/"
        },
        "outputId": "51ce5d4c-c927-4df6-83d2-c55cd9a8762d"
      },
      "source": [
        "#for close prediction\n",
        "#select rows to use for x,y\n",
        "x = eu.iloc[:,[6]].values\n",
        "print(x)\n",
        "y = eu.iloc[:,[10]].values\n",
        "print(y)"
      ],
      "execution_count": 5,
      "outputs": [
        {
          "output_type": "stream",
          "name": "stdout",
          "text": [
            "[[1.37395]\n",
            " [1.37361]\n",
            " [1.38596]\n",
            " ...\n",
            " [1.14428]\n",
            " [1.13666]\n",
            " [1.13189]]\n",
            "[[1.37361]\n",
            " [1.38596]\n",
            " [1.38746]\n",
            " ...\n",
            " [1.13666]\n",
            " [1.13189]\n",
            " [1.13217]]\n"
          ]
        }
      ]
    },
    {
      "cell_type": "code",
      "metadata": {
        "id": "cqTW_s-u3g67"
      },
      "source": [
        "from sklearn.model_selection import train_test_split\n",
        "X_train, X_test, y_train, y_test = train_test_split(x, y, test_size = 0.30)"
      ],
      "execution_count": 6,
      "outputs": []
    },
    {
      "cell_type": "code",
      "metadata": {
        "id": "3HCgL_QEZ1dr",
        "colab": {
          "base_uri": "https://localhost:8080/"
        },
        "outputId": "30444da9-b53a-4721-c531-0912c1eaa05a"
      },
      "source": [
        "#for close prediction and accuracy test\n",
        "# Fitting Random Forest Regression to the dataset\n",
        "# import the regressor\n",
        "from sklearn.ensemble import RandomForestRegressor\n",
        "# create regressor object\n",
        "regressor = RandomForestRegressor(n_estimators = 4000, n_jobs=-1, criterion='mse',random_state=1)\n",
        "#regressor = RandomForestRegressor(n_jobs=-1)\n",
        "# fit the regressor with x and y data\n",
        "regressor.fit(X_train, y_train)"
      ],
      "execution_count": 7,
      "outputs": [
        {
          "output_type": "stream",
          "name": "stderr",
          "text": [
            "/usr/local/lib/python3.7/dist-packages/ipykernel_launcher.py:9: DataConversionWarning: A column-vector y was passed when a 1d array was expected. Please change the shape of y to (n_samples,), for example using ravel().\n",
            "  if __name__ == '__main__':\n",
            "/usr/local/lib/python3.7/dist-packages/sklearn/ensemble/_forest.py:392: FutureWarning: Criterion 'mse' was deprecated in v1.0 and will be removed in version 1.2. Use `criterion='squared_error'` which is equivalent.\n",
            "  FutureWarning,\n"
          ]
        },
        {
          "output_type": "execute_result",
          "data": {
            "text/plain": [
              "RandomForestRegressor(criterion='mse', n_estimators=4000, n_jobs=-1,\n",
              "                      random_state=1)"
            ]
          },
          "metadata": {},
          "execution_count": 7
        }
      ]
    },
    {
      "cell_type": "code",
      "metadata": {
        "id": "xmHBSVwEPp5t"
      },
      "source": [
        "y_pred = regressor.predict(X_test)"
      ],
      "execution_count": 8,
      "outputs": []
    },
    {
      "cell_type": "code",
      "metadata": {
        "id": "Z4bGcB9U62Js"
      },
      "source": [
        "def mean_absolute_percentage_error(y_true,y_pred):\n",
        "  y_true, y_pred = np.array(y_true), np.array(y_pred)\n",
        "  return np.mean(np.abs((y_true - y_pred) / y_true)) * 100\n",
        "\n",
        "mape = mean_absolute_percentage_error(y_test,y_pred)"
      ],
      "execution_count": 9,
      "outputs": []
    },
    {
      "cell_type": "code",
      "metadata": {
        "id": "suK5rCpV0p9g",
        "colab": {
          "base_uri": "https://localhost:8080/"
        },
        "outputId": "c0515563-b266-49d7-8668-a9dd4ced9495"
      },
      "source": [
        "#for regression score\n",
        "from sklearn import metrics \n",
        "print('MAE:', metrics.mean_absolute_error(y_test,y_pred))\n",
        "print('MSE:', metrics.mean_squared_error(y_test, y_pred))\n",
        "print('RMSE:', np.sqrt(metrics.mean_squared_error(y_test, y_pred)))\n",
        "print('MAPE:', mape)\n"
      ],
      "execution_count": 10,
      "outputs": [
        {
          "output_type": "stream",
          "name": "stdout",
          "text": [
            "MAE: 0.004924565317761688\n",
            "MSE: 4.403475289358524e-05\n",
            "RMSE: 0.0066358686615683735\n",
            "MAPE: 6.552250076257407\n"
          ]
        }
      ]
    },
    {
      "cell_type": "code",
      "metadata": {
        "id": "-rIgGSY5_2Ug"
      },
      "source": [
        "#Add current close price into np.array()"
      ],
      "execution_count": 11,
      "outputs": []
    },
    {
      "cell_type": "code",
      "metadata": {
        "id": "We73bOV2Z1uQ",
        "colab": {
          "base_uri": "https://localhost:8080/"
        },
        "outputId": "d7d67f7a-8ccb-4a33-9dc5-a8dcf8d13a30"
      },
      "source": [
        "#for close prediction\n",
        "y_pred_c = regressor.predict(np.array(1.13246).reshape(1, 1)) # test the output by changing values\n",
        "y_pred_c"
      ],
      "execution_count": 12,
      "outputs": [
        {
          "output_type": "execute_result",
          "data": {
            "text/plain": [
              "array([1.13238274])"
            ]
          },
          "metadata": {},
          "execution_count": 12
        }
      ]
    },
    {
      "cell_type": "code",
      "metadata": {
        "id": "85rbSjDxemSP",
        "colab": {
          "base_uri": "https://localhost:8080/",
          "height": 295
        },
        "outputId": "9e938fec-d692-49a6-d519-08d9943bc718"
      },
      "source": [
        "#for close prediction\n",
        "# Visualising the Random Forest Regression results\n",
        "\n",
        "# arange for creating a range of values\n",
        "# from min value of x to max\n",
        "# value of x with a difference of 0.01\n",
        "# between two consecutive values\n",
        "X_grid = np.arange(min(x), max(x), 1)\n",
        "\n",
        "# reshape for reshaping the data into a len(X_grid)*1 array,\n",
        "# i.e. to make a column out of the X_grid value\t\t\t\t\n",
        "X_grid = X_grid.reshape((len(X_grid), 1))\n",
        "\n",
        "# Scatter plot for original data\n",
        "plt.scatter(x, y, color = 'blue')\n",
        "\n",
        "# plot predicted data\n",
        "plt.scatter(X_grid, regressor.predict(X_grid),\n",
        "\t\tcolor = 'green')\n",
        "plt.title('Random Forest Regression')\n",
        "plt.xlabel('Position level')\n",
        "plt.ylabel('EURUSD')\n",
        "plt.xlim(1980,2002)\n",
        "plt.ylim(1.15,1.17)\n",
        "plt.show()\n"
      ],
      "execution_count": 13,
      "outputs": [
        {
          "output_type": "display_data",
          "data": {
            "image/png": "[encoded data removed]",
            "text/plain": [
              "<Figure size 432x288 with 1 Axes>"
            ]
          },
          "metadata": {
            "needs_background": "light"
          }
        }
      ]
    },
    {
      "cell_type": "code",
      "metadata": {
        "id": "kIHV30_ZH5eg",
        "colab": {
          "base_uri": "https://localhost:8080/"
        },
        "outputId": "54fe0f4a-e2f1-4648-e563-16df8f1c2237"
      },
      "source": [
        "#for low prediction\n",
        "#select rows to use for x,y\n",
        "x = eu.iloc[:,[5]].values\n",
        "print(x)\n",
        "y = eu.iloc[:,[9]].values\n",
        "print(y)"
      ],
      "execution_count": 14,
      "outputs": [
        {
          "output_type": "stream",
          "name": "stdout",
          "text": [
            "[[1.37206]\n",
            " [1.37072]\n",
            " [1.3721 ]\n",
            " ...\n",
            " [1.14327]\n",
            " [1.13561]\n",
            " [1.1309 ]]\n",
            "[[1.37072]\n",
            " [1.3721 ]\n",
            " [1.38522]\n",
            " ...\n",
            " [1.13561]\n",
            " [1.1309 ]\n",
            " [1.12635]]\n"
          ]
        }
      ]
    },
    {
      "cell_type": "code",
      "metadata": {
        "id": "s-d3TjyWS22Q"
      },
      "source": [
        "#for low prediction\n",
        "from sklearn.model_selection import train_test_split\n",
        "X_train, X_test, y_train, y_test = train_test_split(x, y, test_size = 0.30)"
      ],
      "execution_count": 15,
      "outputs": []
    },
    {
      "cell_type": "code",
      "metadata": {
        "id": "W2CQQyXSS22R",
        "colab": {
          "base_uri": "https://localhost:8080/"
        },
        "outputId": "65741819-483e-4831-d245-b2af71fa352c"
      },
      "source": [
        "#for low prediction and accuracy test\n",
        "# Fitting Random Forest Regression to the dataset\n",
        "# import the regressor\n",
        "from sklearn.ensemble import RandomForestRegressor\n",
        "# create regressor object\n",
        "regressor = RandomForestRegressor(n_estimators = 4000, n_jobs=-1, criterion='mse',random_state=2)\n",
        "#regressor = RandomForestRegressor(n_jobs=-1)\n",
        "# fit the regressor with x and y data\n",
        "regressor.fit(X_train, y_train)"
      ],
      "execution_count": 16,
      "outputs": [
        {
          "output_type": "stream",
          "name": "stderr",
          "text": [
            "/usr/local/lib/python3.7/dist-packages/ipykernel_launcher.py:9: DataConversionWarning: A column-vector y was passed when a 1d array was expected. Please change the shape of y to (n_samples,), for example using ravel().\n",
            "  if __name__ == '__main__':\n",
            "/usr/local/lib/python3.7/dist-packages/sklearn/ensemble/_forest.py:392: FutureWarning: Criterion 'mse' was deprecated in v1.0 and will be removed in version 1.2. Use `criterion='squared_error'` which is equivalent.\n",
            "  FutureWarning,\n"
          ]
        },
        {
          "output_type": "execute_result",
          "data": {
            "text/plain": [
              "RandomForestRegressor(criterion='mse', n_estimators=4000, n_jobs=-1,\n",
              "                      random_state=2)"
            ]
          },
          "metadata": {},
          "execution_count": 16
        }
      ]
    },
    {
      "cell_type": "code",
      "metadata": {
        "id": "DSflbgeHS22R"
      },
      "source": [
        "#for low pred \n",
        "y_pred = regressor.predict(X_test)\n",
        "mape = mean_absolute_percentage_error(y_test,y_pred)"
      ],
      "execution_count": 17,
      "outputs": []
    },
    {
      "cell_type": "code",
      "metadata": {
        "id": "HAlEpAY7S22R",
        "colab": {
          "base_uri": "https://localhost:8080/"
        },
        "outputId": "5fab0779-fe45-4ded-d490-378faf7cf32d"
      },
      "source": [
        "#for low pred regression score\n",
        "from sklearn import metrics \n",
        "print('MAE:', metrics.mean_absolute_error(y_test,y_pred))\n",
        "print('MSE:', metrics.mean_squared_error(y_test, y_pred))\n",
        "print('RMSE:', np.sqrt(metrics.mean_squared_error(y_test, y_pred)))\n",
        "print('MAPE:', mape)"
      ],
      "execution_count": 18,
      "outputs": [
        {
          "output_type": "stream",
          "name": "stdout",
          "text": [
            "MAE: 0.004525844938750117\n",
            "MSE: 3.652210445252079e-05\n",
            "RMSE: 0.006043352087419762\n",
            "MAPE: 6.753377400248521\n"
          ]
        }
      ]
    },
    {
      "cell_type": "code",
      "metadata": {
        "id": "UOTprk7WAbhE"
      },
      "source": [
        "#Add current low price into np.array()"
      ],
      "execution_count": 19,
      "outputs": []
    },
    {
      "cell_type": "code",
      "metadata": {
        "id": "imhGUfGcS22R",
        "colab": {
          "base_uri": "https://localhost:8080/"
        },
        "outputId": "4b2449db-bf0a-456e-b985-6e75bdb59c34"
      },
      "source": [
        "#for low pred \n",
        "y_pred_l = regressor.predict(np.array([1.12635]).reshape(1, 1)) # test the output by changing values\n",
        "y_pred_l"
      ],
      "execution_count": 20,
      "outputs": [
        {
          "output_type": "execute_result",
          "data": {
            "text/plain": [
              "array([1.12750367])"
            ]
          },
          "metadata": {},
          "execution_count": 20
        }
      ]
    },
    {
      "cell_type": "code",
      "metadata": {
        "id": "DvA_vsGiIJvu",
        "colab": {
          "base_uri": "https://localhost:8080/",
          "height": 295
        },
        "outputId": "49ad59e9-fc14-4fb2-da07-13121ae145a3"
      },
      "source": [
        "#for low prediction\n",
        "# Visualising the Random Forest Regression results\n",
        "\n",
        "# arange for creating a range of values\n",
        "# from min value of x to max\n",
        "# value of x with a difference of 0.01\n",
        "# between two consecutive values\n",
        "X_grid = np.arange(min(x), max(x), 1)\n",
        "\n",
        "# reshape for reshaping the data into a len(X_grid)*1 array,\n",
        "# i.e. to make a column out of the X_grid value\t\t\t\t\n",
        "X_grid = X_grid.reshape((len(X_grid), 1))\n",
        "\n",
        "# Scatter plot for original data\n",
        "plt.scatter(x, y, color = 'blue')\n",
        "\n",
        "# plot predicted data\n",
        "plt.scatter(X_grid, regressor.predict(X_grid),\n",
        "\t\tcolor = 'green')\n",
        "plt.title('Random Forest Regression')\n",
        "plt.xlabel('Position level')\n",
        "plt.ylabel('EURUSD')\n",
        "plt.xlim(1980,2002)\n",
        "plt.ylim(1.15,1.17)\n",
        "plt.show()"
      ],
      "execution_count": 21,
      "outputs": [
        {
          "output_type": "display_data",
          "data": {
            "image/png": "[encoded data removed]",
            "text/plain": [
              "<Figure size 432x288 with 1 Axes>"
            ]
          },
          "metadata": {
            "needs_background": "light"
          }
        }
      ]
    },
    {
      "cell_type": "code",
      "metadata": {
        "id": "CNQOZ0oNIwHQ",
        "colab": {
          "base_uri": "https://localhost:8080/"
        },
        "outputId": "ebb8f773-4763-454f-f9d7-8c122d2896f4"
      },
      "source": [
        "#for high prediction\n",
        "#select rows to use for x,y\n",
        "x = eu.iloc[:,[4]].values\n",
        "print(x)\n",
        "y = eu.iloc[:,[8]].values\n",
        "print(y)"
      ],
      "execution_count": 22,
      "outputs": [
        {
          "output_type": "stream",
          "name": "stdout",
          "text": [
            "[[1.37812]\n",
            " [1.37491]\n",
            " [1.38723]\n",
            " ...\n",
            " [1.1462 ]\n",
            " [1.14638]\n",
            " [1.13855]]\n",
            "[[1.37491]\n",
            " [1.38723]\n",
            " [1.39146]\n",
            " ...\n",
            " [1.14638]\n",
            " [1.13855]\n",
            " [1.13321]]\n"
          ]
        }
      ]
    },
    {
      "cell_type": "code",
      "metadata": {
        "id": "WEJIyPqMViu4"
      },
      "source": [
        "#for high prediction\n",
        "from sklearn.model_selection import train_test_split\n",
        "X_train, X_test, y_train, y_test = train_test_split(x, y, test_size = 0.30)"
      ],
      "execution_count": 23,
      "outputs": []
    },
    {
      "cell_type": "code",
      "metadata": {
        "id": "g_WdTiJbViu4",
        "colab": {
          "base_uri": "https://localhost:8080/"
        },
        "outputId": "72d89ab4-850c-48ee-908d-f695e57d2177"
      },
      "source": [
        "#for high prediction and accuracy test\n",
        "# Fitting Random Forest Regression to the dataset\n",
        "# import the regressor\n",
        "from sklearn.ensemble import RandomForestRegressor\n",
        "# create regressor object\n",
        "regressor = RandomForestRegressor(n_estimators = 4000, n_jobs=-1, criterion='mse',random_state=3)\n",
        "#regressor = RandomForestRegressor(n_jobs=-1)\n",
        "# fit the regressor with x and y data\n",
        "regressor.fit(X_train, y_train)"
      ],
      "execution_count": 24,
      "outputs": [
        {
          "output_type": "stream",
          "name": "stderr",
          "text": [
            "/usr/local/lib/python3.7/dist-packages/ipykernel_launcher.py:9: DataConversionWarning: A column-vector y was passed when a 1d array was expected. Please change the shape of y to (n_samples,), for example using ravel().\n",
            "  if __name__ == '__main__':\n",
            "/usr/local/lib/python3.7/dist-packages/sklearn/ensemble/_forest.py:392: FutureWarning: Criterion 'mse' was deprecated in v1.0 and will be removed in version 1.2. Use `criterion='squared_error'` which is equivalent.\n",
            "  FutureWarning,\n"
          ]
        },
        {
          "output_type": "execute_result",
          "data": {
            "text/plain": [
              "RandomForestRegressor(criterion='mse', n_estimators=4000, n_jobs=-1,\n",
              "                      random_state=3)"
            ]
          },
          "metadata": {},
          "execution_count": 24
        }
      ]
    },
    {
      "cell_type": "code",
      "metadata": {
        "id": "lviE4TesViu5"
      },
      "source": [
        "#for high prediction\n",
        "y_pred = regressor.predict(X_test)\n",
        "#mape = mean_absolute_percentage_error(y_test,y_pred)"
      ],
      "execution_count": 25,
      "outputs": []
    },
    {
      "cell_type": "code",
      "metadata": {
        "id": "9N5zeqU0Viu5",
        "colab": {
          "base_uri": "https://localhost:8080/"
        },
        "outputId": "8747d51c-e065-468a-f887-e4e5b30a2242"
      },
      "source": [
        "#for high regression score\n",
        "from sklearn import metrics \n",
        "print('MAE:', metrics.mean_absolute_error(y_test,y_pred))\n",
        "print('MSE:', metrics.mean_squared_error(y_test, y_pred))\n",
        "print('RMSE:', np.sqrt(metrics.mean_squared_error(y_test, y_pred)))\n",
        "#print('MAPE:', mape)\n",
        "print('MedAE', metrics.median_absolute_error(y_test,y_pred)) \n",
        "#print('MdAPE', metrics)"
      ],
      "execution_count": 26,
      "outputs": [
        {
          "output_type": "stream",
          "name": "stdout",
          "text": [
            "MAE: 0.004701632808884787\n",
            "MSE: 4.2461636356326065e-05\n",
            "RMSE: 0.006516259383751238\n",
            "MedAE 0.0034985081250080707\n"
          ]
        }
      ]
    },
    {
      "cell_type": "code",
      "metadata": {
        "id": "md9uSeR5Asxx"
      },
      "source": [
        "#Add current high price into np.array()"
      ],
      "execution_count": 27,
      "outputs": []
    },
    {
      "cell_type": "code",
      "metadata": {
        "id": "NzvYU1gFViu5",
        "colab": {
          "base_uri": "https://localhost:8080/"
        },
        "outputId": "0291c95e-2a0d-4e55-9b14-a0ccbb643a3d"
      },
      "source": [
        "#for high prediction\n",
        "y_pred_h = regressor.predict(np.array([1.13317]).reshape(1, 1)) # test the output by changing values\n",
        "y_pred_h"
      ],
      "execution_count": 28,
      "outputs": [
        {
          "output_type": "execute_result",
          "data": {
            "text/plain": [
              "array([1.13266768])"
            ]
          },
          "metadata": {},
          "execution_count": 28
        }
      ]
    },
    {
      "cell_type": "code",
      "metadata": {
        "id": "coLwLO0xJ76K",
        "colab": {
          "base_uri": "https://localhost:8080/",
          "height": 295
        },
        "outputId": "d60c2d79-a5b5-4b36-982e-ab4a26e4a238"
      },
      "source": [
        "#for high prediction\n",
        "# Visualising the Random Forest Regression results\n",
        "\n",
        "# arange for creating a range of values\n",
        "# from min value of x to max\n",
        "# value of x with a difference of 0.01\n",
        "# between two consecutive values\n",
        "X_grid = np.arange(min(x), max(x), 1)\n",
        "\n",
        "# reshape for reshaping the data into a len(X_grid)*1 array,\n",
        "# i.e. to make a column out of the X_grid value\t\t\t\t\n",
        "X_grid = X_grid.reshape((len(X_grid), 1))\n",
        "\n",
        "# Scatter plot for original data\n",
        "plt.scatter(x, y, color = 'blue')\n",
        "\n",
        "# plot predicted data\n",
        "plt.scatter(X_grid, regressor.predict(X_grid),\n",
        "\t\tcolor = 'green')\n",
        "plt.title('Random Forest Regression')\n",
        "plt.xlabel('Position level')\n",
        "plt.ylabel('EURUSD')\n",
        "plt.xlim(1980,2002)\n",
        "plt.ylim(1.15,1.17)\n",
        "plt.show()"
      ],
      "execution_count": 29,
      "outputs": [
        {
          "output_type": "display_data",
          "data": {
            "image/png": "[encoded data removed]",
            "text/plain": [
              "<Figure size 432x288 with 1 Axes>"
            ]
          },
          "metadata": {
            "needs_background": "light"
          }
        }
      ]
    },
    {
      "cell_type": "code",
      "metadata": {
        "id": "8S3vHOq712ks",
        "colab": {
          "base_uri": "https://localhost:8080/"
        },
        "outputId": "e31ca56b-df31-4f83-f460-43aa65c3ea57"
      },
      "source": [
        "print(y_pred_h)\n",
        "print(y_pred_c)\n",
        "print(y_pred_l)"
      ],
      "execution_count": 30,
      "outputs": [
        {
          "output_type": "stream",
          "name": "stdout",
          "text": [
            "[1.13266768]\n",
            "[1.13238274]\n",
            "[1.12750367]\n"
          ]
        }
      ]
    },
    {
      "cell_type": "code",
      "metadata": {
        "id": "wg2MIJjEq7m9",
        "colab": {
          "base_uri": "https://localhost:8080/",
          "height": 269
        },
        "outputId": "2d4f6b5e-402c-4660-8c11-3a3dfba1162d"
      },
      "source": [
        "import matplotlib.pyplot as plt \n",
        "plt.ylabel('some numbers')\n",
        "plt.show()"
      ],
      "execution_count": 31,
      "outputs": [
        {
          "output_type": "display_data",
          "data": {
            "image/png": "[encoded data removed]",
            "text/plain": [
              "<Figure size 432x288 with 1 Axes>"
            ]
          },
          "metadata": {
            "needs_background": "light"
          }
        }
      ]
    }
  ]
}