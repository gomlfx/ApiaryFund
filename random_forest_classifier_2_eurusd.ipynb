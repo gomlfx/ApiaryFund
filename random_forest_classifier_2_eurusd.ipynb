{
  "nbformat": 4,
  "nbformat_minor": 0,
  "metadata": {
    "colab": {
      "name": "random_forest_classifier_2_eurusd.ipynb",
      "provenance": [],
      "collapsed_sections": [],
      "authorship_tag": "ABX9TyNZtzSVQgqhNqUegjz3UB8e",
      "include_colab_link": true
    },
    "kernelspec": {
      "name": "python3",
      "display_name": "Python 3"
    },
    "language_info": {
      "name": "python"
    }
  },
  "cells": [
    {
      "cell_type": "markdown",
      "metadata": {
        "id": "view-in-github",
        "colab_type": "text"
      },
      "source": [
        "<a href=\"https://colab.research.google.com/github/gomlfx/ApiaryFund/blob/master/random_forest_classifier_2_eurusd.ipynb\" target=\"_parent\"><img src=\"https://colab.research.google.com/assets/colab-badge.svg\" alt=\"Open In Colab\"/></a>"
      ]
    },
    {
      "cell_type": "code",
      "metadata": {
        "colab": {
          "base_uri": "https://localhost:8080/",
          "height": 111
        },
        "id": "L33tTbkVyHeD",
        "outputId": "fc7c2533-a628-453e-e441-39544b271fdf"
      },
      "source": [
        "import pandas as pd\n",
        "import numpy as np\n",
        "# Import matplotlib for plotting and use magic command for Jupyter Notebooks\n",
        "import matplotlib.pyplot as plt\n",
        "%matplotlib inline\n",
        "#import normalization\n",
        "from sklearn import preprocessing\n",
        "from sklearn.ensemble import RandomForestClassifier\n",
        "#using eurusd, change to your preferred asset\n",
        "eu = pd.read_csv('EURUSD1440.csv')\n",
        "eu.tail(2)"
      ],
      "execution_count": 1,
      "outputs": [
        {
          "output_type": "execute_result",
          "data": {
            "text/html": [
              "<div>\n",
              "<style scoped>\n",
              "    .dataframe tbody tr th:only-of-type {\n",
              "        vertical-align: middle;\n",
              "    }\n",
              "\n",
              "    .dataframe tbody tr th {\n",
              "        vertical-align: top;\n",
              "    }\n",
              "\n",
              "    .dataframe thead th {\n",
              "        text-align: right;\n",
              "    }\n",
              "</style>\n",
              "<table border=\"1\" class=\"dataframe\">\n",
              "  <thead>\n",
              "    <tr style=\"text-align: right;\">\n",
              "      <th></th>\n",
              "      <th>1971.01.04</th>\n",
              "      <th>00:00</th>\n",
              "      <th>0.53690</th>\n",
              "      <th>0.53690.1</th>\n",
              "      <th>0.53690.2</th>\n",
              "      <th>0.53690.3</th>\n",
              "      <th>1</th>\n",
              "    </tr>\n",
              "  </thead>\n",
              "  <tbody>\n",
              "    <tr>\n",
              "      <th>12766</th>\n",
              "      <td>2021.11.11</td>\n",
              "      <td>00:00</td>\n",
              "      <td>1.14769</td>\n",
              "      <td>1.14874</td>\n",
              "      <td>1.14429</td>\n",
              "      <td>1.14488</td>\n",
              "      <td>67531</td>\n",
              "    </tr>\n",
              "    <tr>\n",
              "      <th>12767</th>\n",
              "      <td>2021.11.12</td>\n",
              "      <td>00:00</td>\n",
              "      <td>1.14468</td>\n",
              "      <td>1.14500</td>\n",
              "      <td>1.14449</td>\n",
              "      <td>1.14490</td>\n",
              "      <td>70</td>\n",
              "    </tr>\n",
              "  </tbody>\n",
              "</table>\n",
              "</div>"
            ],
            "text/plain": [
              "       1971.01.04  00:00  0.53690  0.53690.1  0.53690.2  0.53690.3      1\n",
              "12766  2021.11.11  00:00  1.14769    1.14874    1.14429    1.14488  67531\n",
              "12767  2021.11.12  00:00  1.14468    1.14500    1.14449    1.14490     70"
            ]
          },
          "metadata": {},
          "execution_count": 1
        }
      ]
    },
    {
      "cell_type": "code",
      "metadata": {
        "colab": {
          "base_uri": "https://localhost:8080/"
        },
        "id": "MT4vPMgBZrg8",
        "outputId": "77aef303-c250-4287-f39c-0beaa2b048d8"
      },
      "source": [
        "eu.columns=['Date','Time','eu_Open','eu_High','eu_Low','eu_Close','Volume']\n",
        "#Use D1 at least 2000 observations, change below for the number of rows you have.\n",
        "#session crash or slow computing time may require you to use less rows. \n",
        "#eu = eu.iloc[-2000:] \n",
        "eu = eu.iloc[-8000:] \n",
        "eu = eu.reset_index(drop=True)\n",
        "eu['Index']=eu.index\n",
        "eu.set_index('Index', drop=True, append=False, inplace=True, verify_integrity=False)\n",
        "#and make index a feature\n",
        "eu.reset_index(inplace=True)\n",
        "#drop last rows if needed\n",
        "eu = eu[:-3]\n",
        "print(eu.head())\n",
        "print(eu.tail())"
      ],
      "execution_count": 2,
      "outputs": [
        {
          "output_type": "stream",
          "name": "stdout",
          "text": [
            "   Index        Date   Time  eu_Open  eu_High  eu_Low  eu_Close  Volume\n",
            "0      0  1990.09.03  00:00   1.2400   1.2429  1.2325    1.2348    1561\n",
            "1      1  1990.09.04  00:00   1.2351   1.2429  1.2327    1.2381    1741\n",
            "2      2  1990.09.05  00:00   1.2375   1.2559  1.2368    1.2554    2031\n",
            "3      3  1990.09.06  00:00   1.2549   1.2595  1.2523    1.2584    1091\n",
            "4      4  1990.09.07  00:00   1.2583   1.2590  1.2466    1.2472    1371\n",
            "      Index        Date   Time  eu_Open  eu_High   eu_Low  eu_Close  Volume\n",
            "7992   7992  2021.11.03  00:00  1.15801  1.16161  1.15621   1.16123   89626\n",
            "7993   7993  2021.11.04  00:00  1.16085  1.16163  1.15281   1.15541   85558\n",
            "7994   7994  2021.11.05  00:00  1.15505  1.15732  1.15132   1.15662   85159\n",
            "7995   7995  2021.11.08  00:00  1.15610  1.15949  1.15503   1.15869   67543\n",
            "7996   7996  2021.11.09  00:00  1.15830  1.16086  1.15696   1.15941   84689\n"
          ]
        }
      ]
    },
    {
      "cell_type": "code",
      "metadata": {
        "colab": {
          "base_uri": "https://localhost:8080/",
          "height": 359
        },
        "id": "TEsqQZZg7u6A",
        "outputId": "c2e4eee4-7447-42e2-f022-230574d9866c"
      },
      "source": [
        "#new column to predict which high or low is greater today?\n",
        "eu['high_or_low'] = (eu.eu_Close > eu.eu_Open) \n",
        "eu.high_or_low = eu.high_or_low.replace({True:1,False:0})\n",
        "eu.tail(10)"
      ],
      "execution_count": 3,
      "outputs": [
        {
          "output_type": "execute_result",
          "data": {
            "text/html": [
              "<div>\n",
              "<style scoped>\n",
              "    .dataframe tbody tr th:only-of-type {\n",
              "        vertical-align: middle;\n",
              "    }\n",
              "\n",
              "    .dataframe tbody tr th {\n",
              "        vertical-align: top;\n",
              "    }\n",
              "\n",
              "    .dataframe thead th {\n",
              "        text-align: right;\n",
              "    }\n",
              "</style>\n",
              "<table border=\"1\" class=\"dataframe\">\n",
              "  <thead>\n",
              "    <tr style=\"text-align: right;\">\n",
              "      <th></th>\n",
              "      <th>Index</th>\n",
              "      <th>Date</th>\n",
              "      <th>Time</th>\n",
              "      <th>eu_Open</th>\n",
              "      <th>eu_High</th>\n",
              "      <th>eu_Low</th>\n",
              "      <th>eu_Close</th>\n",
              "      <th>Volume</th>\n",
              "      <th>high_or_low</th>\n",
              "    </tr>\n",
              "  </thead>\n",
              "  <tbody>\n",
              "    <tr>\n",
              "      <th>7987</th>\n",
              "      <td>7987</td>\n",
              "      <td>2021.10.27</td>\n",
              "      <td>00:00</td>\n",
              "      <td>1.15868</td>\n",
              "      <td>1.16257</td>\n",
              "      <td>1.15848</td>\n",
              "      <td>1.16025</td>\n",
              "      <td>85984</td>\n",
              "      <td>1</td>\n",
              "    </tr>\n",
              "    <tr>\n",
              "      <th>7988</th>\n",
              "      <td>7988</td>\n",
              "      <td>2021.10.28</td>\n",
              "      <td>00:00</td>\n",
              "      <td>1.16018</td>\n",
              "      <td>1.16919</td>\n",
              "      <td>1.15821</td>\n",
              "      <td>1.16822</td>\n",
              "      <td>112541</td>\n",
              "      <td>1</td>\n",
              "    </tr>\n",
              "    <tr>\n",
              "      <th>7989</th>\n",
              "      <td>7989</td>\n",
              "      <td>2021.10.29</td>\n",
              "      <td>00:00</td>\n",
              "      <td>1.16794</td>\n",
              "      <td>1.16899</td>\n",
              "      <td>1.15350</td>\n",
              "      <td>1.15622</td>\n",
              "      <td>100657</td>\n",
              "      <td>0</td>\n",
              "    </tr>\n",
              "    <tr>\n",
              "      <th>7990</th>\n",
              "      <td>7990</td>\n",
              "      <td>2021.11.01</td>\n",
              "      <td>00:00</td>\n",
              "      <td>1.15567</td>\n",
              "      <td>1.16088</td>\n",
              "      <td>1.15458</td>\n",
              "      <td>1.16064</td>\n",
              "      <td>71633</td>\n",
              "      <td>1</td>\n",
              "    </tr>\n",
              "    <tr>\n",
              "      <th>7991</th>\n",
              "      <td>7991</td>\n",
              "      <td>2021.11.02</td>\n",
              "      <td>00:00</td>\n",
              "      <td>1.16019</td>\n",
              "      <td>1.16132</td>\n",
              "      <td>1.15750</td>\n",
              "      <td>1.15790</td>\n",
              "      <td>74444</td>\n",
              "      <td>0</td>\n",
              "    </tr>\n",
              "    <tr>\n",
              "      <th>7992</th>\n",
              "      <td>7992</td>\n",
              "      <td>2021.11.03</td>\n",
              "      <td>00:00</td>\n",
              "      <td>1.15801</td>\n",
              "      <td>1.16161</td>\n",
              "      <td>1.15621</td>\n",
              "      <td>1.16123</td>\n",
              "      <td>89626</td>\n",
              "      <td>1</td>\n",
              "    </tr>\n",
              "    <tr>\n",
              "      <th>7993</th>\n",
              "      <td>7993</td>\n",
              "      <td>2021.11.04</td>\n",
              "      <td>00:00</td>\n",
              "      <td>1.16085</td>\n",
              "      <td>1.16163</td>\n",
              "      <td>1.15281</td>\n",
              "      <td>1.15541</td>\n",
              "      <td>85558</td>\n",
              "      <td>0</td>\n",
              "    </tr>\n",
              "    <tr>\n",
              "      <th>7994</th>\n",
              "      <td>7994</td>\n",
              "      <td>2021.11.05</td>\n",
              "      <td>00:00</td>\n",
              "      <td>1.15505</td>\n",
              "      <td>1.15732</td>\n",
              "      <td>1.15132</td>\n",
              "      <td>1.15662</td>\n",
              "      <td>85159</td>\n",
              "      <td>1</td>\n",
              "    </tr>\n",
              "    <tr>\n",
              "      <th>7995</th>\n",
              "      <td>7995</td>\n",
              "      <td>2021.11.08</td>\n",
              "      <td>00:00</td>\n",
              "      <td>1.15610</td>\n",
              "      <td>1.15949</td>\n",
              "      <td>1.15503</td>\n",
              "      <td>1.15869</td>\n",
              "      <td>67543</td>\n",
              "      <td>1</td>\n",
              "    </tr>\n",
              "    <tr>\n",
              "      <th>7996</th>\n",
              "      <td>7996</td>\n",
              "      <td>2021.11.09</td>\n",
              "      <td>00:00</td>\n",
              "      <td>1.15830</td>\n",
              "      <td>1.16086</td>\n",
              "      <td>1.15696</td>\n",
              "      <td>1.15941</td>\n",
              "      <td>84689</td>\n",
              "      <td>1</td>\n",
              "    </tr>\n",
              "  </tbody>\n",
              "</table>\n",
              "</div>"
            ],
            "text/plain": [
              "      Index        Date   Time  eu_Open  ...   eu_Low  eu_Close  Volume  high_or_low\n",
              "7987   7987  2021.10.27  00:00  1.15868  ...  1.15848   1.16025   85984            1\n",
              "7988   7988  2021.10.28  00:00  1.16018  ...  1.15821   1.16822  112541            1\n",
              "7989   7989  2021.10.29  00:00  1.16794  ...  1.15350   1.15622  100657            0\n",
              "7990   7990  2021.11.01  00:00  1.15567  ...  1.15458   1.16064   71633            1\n",
              "7991   7991  2021.11.02  00:00  1.16019  ...  1.15750   1.15790   74444            0\n",
              "7992   7992  2021.11.03  00:00  1.15801  ...  1.15621   1.16123   89626            1\n",
              "7993   7993  2021.11.04  00:00  1.16085  ...  1.15281   1.15541   85558            0\n",
              "7994   7994  2021.11.05  00:00  1.15505  ...  1.15132   1.15662   85159            1\n",
              "7995   7995  2021.11.08  00:00  1.15610  ...  1.15503   1.15869   67543            1\n",
              "7996   7996  2021.11.09  00:00  1.15830  ...  1.15696   1.15941   84689            1\n",
              "\n",
              "[10 rows x 9 columns]"
            ]
          },
          "metadata": {},
          "execution_count": 3
        }
      ]
    },
    {
      "cell_type": "code",
      "metadata": {
        "colab": {
          "base_uri": "https://localhost:8080/",
          "height": 359
        },
        "id": "79Ns3ECyyPSV",
        "outputId": "73b56c5a-36c5-48d5-ea7d-5d2a4255af6b"
      },
      "source": [
        "#new column to predict is today close under or above yesterday's?\n",
        "eu['new_close'] = (eu.eu_Close > eu.eu_Open) \n",
        "eu.new_close = eu.new_close.replace({True:1,False:0})\n",
        "eu.tail(10)"
      ],
      "execution_count": 4,
      "outputs": [
        {
          "output_type": "execute_result",
          "data": {
            "text/html": [
              "<div>\n",
              "<style scoped>\n",
              "    .dataframe tbody tr th:only-of-type {\n",
              "        vertical-align: middle;\n",
              "    }\n",
              "\n",
              "    .dataframe tbody tr th {\n",
              "        vertical-align: top;\n",
              "    }\n",
              "\n",
              "    .dataframe thead th {\n",
              "        text-align: right;\n",
              "    }\n",
              "</style>\n",
              "<table border=\"1\" class=\"dataframe\">\n",
              "  <thead>\n",
              "    <tr style=\"text-align: right;\">\n",
              "      <th></th>\n",
              "      <th>Index</th>\n",
              "      <th>Date</th>\n",
              "      <th>Time</th>\n",
              "      <th>eu_Open</th>\n",
              "      <th>eu_High</th>\n",
              "      <th>eu_Low</th>\n",
              "      <th>eu_Close</th>\n",
              "      <th>Volume</th>\n",
              "      <th>high_or_low</th>\n",
              "      <th>new_close</th>\n",
              "    </tr>\n",
              "  </thead>\n",
              "  <tbody>\n",
              "    <tr>\n",
              "      <th>7987</th>\n",
              "      <td>7987</td>\n",
              "      <td>2021.10.27</td>\n",
              "      <td>00:00</td>\n",
              "      <td>1.15868</td>\n",
              "      <td>1.16257</td>\n",
              "      <td>1.15848</td>\n",
              "      <td>1.16025</td>\n",
              "      <td>85984</td>\n",
              "      <td>1</td>\n",
              "      <td>1</td>\n",
              "    </tr>\n",
              "    <tr>\n",
              "      <th>7988</th>\n",
              "      <td>7988</td>\n",
              "      <td>2021.10.28</td>\n",
              "      <td>00:00</td>\n",
              "      <td>1.16018</td>\n",
              "      <td>1.16919</td>\n",
              "      <td>1.15821</td>\n",
              "      <td>1.16822</td>\n",
              "      <td>112541</td>\n",
              "      <td>1</td>\n",
              "      <td>1</td>\n",
              "    </tr>\n",
              "    <tr>\n",
              "      <th>7989</th>\n",
              "      <td>7989</td>\n",
              "      <td>2021.10.29</td>\n",
              "      <td>00:00</td>\n",
              "      <td>1.16794</td>\n",
              "      <td>1.16899</td>\n",
              "      <td>1.15350</td>\n",
              "      <td>1.15622</td>\n",
              "      <td>100657</td>\n",
              "      <td>0</td>\n",
              "      <td>0</td>\n",
              "    </tr>\n",
              "    <tr>\n",
              "      <th>7990</th>\n",
              "      <td>7990</td>\n",
              "      <td>2021.11.01</td>\n",
              "      <td>00:00</td>\n",
              "      <td>1.15567</td>\n",
              "      <td>1.16088</td>\n",
              "      <td>1.15458</td>\n",
              "      <td>1.16064</td>\n",
              "      <td>71633</td>\n",
              "      <td>1</td>\n",
              "      <td>1</td>\n",
              "    </tr>\n",
              "    <tr>\n",
              "      <th>7991</th>\n",
              "      <td>7991</td>\n",
              "      <td>2021.11.02</td>\n",
              "      <td>00:00</td>\n",
              "      <td>1.16019</td>\n",
              "      <td>1.16132</td>\n",
              "      <td>1.15750</td>\n",
              "      <td>1.15790</td>\n",
              "      <td>74444</td>\n",
              "      <td>0</td>\n",
              "      <td>0</td>\n",
              "    </tr>\n",
              "    <tr>\n",
              "      <th>7992</th>\n",
              "      <td>7992</td>\n",
              "      <td>2021.11.03</td>\n",
              "      <td>00:00</td>\n",
              "      <td>1.15801</td>\n",
              "      <td>1.16161</td>\n",
              "      <td>1.15621</td>\n",
              "      <td>1.16123</td>\n",
              "      <td>89626</td>\n",
              "      <td>1</td>\n",
              "      <td>1</td>\n",
              "    </tr>\n",
              "    <tr>\n",
              "      <th>7993</th>\n",
              "      <td>7993</td>\n",
              "      <td>2021.11.04</td>\n",
              "      <td>00:00</td>\n",
              "      <td>1.16085</td>\n",
              "      <td>1.16163</td>\n",
              "      <td>1.15281</td>\n",
              "      <td>1.15541</td>\n",
              "      <td>85558</td>\n",
              "      <td>0</td>\n",
              "      <td>0</td>\n",
              "    </tr>\n",
              "    <tr>\n",
              "      <th>7994</th>\n",
              "      <td>7994</td>\n",
              "      <td>2021.11.05</td>\n",
              "      <td>00:00</td>\n",
              "      <td>1.15505</td>\n",
              "      <td>1.15732</td>\n",
              "      <td>1.15132</td>\n",
              "      <td>1.15662</td>\n",
              "      <td>85159</td>\n",
              "      <td>1</td>\n",
              "      <td>1</td>\n",
              "    </tr>\n",
              "    <tr>\n",
              "      <th>7995</th>\n",
              "      <td>7995</td>\n",
              "      <td>2021.11.08</td>\n",
              "      <td>00:00</td>\n",
              "      <td>1.15610</td>\n",
              "      <td>1.15949</td>\n",
              "      <td>1.15503</td>\n",
              "      <td>1.15869</td>\n",
              "      <td>67543</td>\n",
              "      <td>1</td>\n",
              "      <td>1</td>\n",
              "    </tr>\n",
              "    <tr>\n",
              "      <th>7996</th>\n",
              "      <td>7996</td>\n",
              "      <td>2021.11.09</td>\n",
              "      <td>00:00</td>\n",
              "      <td>1.15830</td>\n",
              "      <td>1.16086</td>\n",
              "      <td>1.15696</td>\n",
              "      <td>1.15941</td>\n",
              "      <td>84689</td>\n",
              "      <td>1</td>\n",
              "      <td>1</td>\n",
              "    </tr>\n",
              "  </tbody>\n",
              "</table>\n",
              "</div>"
            ],
            "text/plain": [
              "      Index        Date   Time  ...  Volume  high_or_low  new_close\n",
              "7987   7987  2021.10.27  00:00  ...   85984            1          1\n",
              "7988   7988  2021.10.28  00:00  ...  112541            1          1\n",
              "7989   7989  2021.10.29  00:00  ...  100657            0          0\n",
              "7990   7990  2021.11.01  00:00  ...   71633            1          1\n",
              "7991   7991  2021.11.02  00:00  ...   74444            0          0\n",
              "7992   7992  2021.11.03  00:00  ...   89626            1          1\n",
              "7993   7993  2021.11.04  00:00  ...   85558            0          0\n",
              "7994   7994  2021.11.05  00:00  ...   85159            1          1\n",
              "7995   7995  2021.11.08  00:00  ...   67543            1          1\n",
              "7996   7996  2021.11.09  00:00  ...   84689            1          1\n",
              "\n",
              "[10 rows x 10 columns]"
            ]
          },
          "metadata": {},
          "execution_count": 4
        }
      ]
    },
    {
      "cell_type": "code",
      "metadata": {
        "colab": {
          "base_uri": "https://localhost:8080/"
        },
        "id": "QhfQ9UadZ1PE",
        "outputId": "170ebf5a-15d6-4a34-ad24-b798956db318"
      },
      "source": [
        "#for extrema prediction\n",
        "#select rows to use for x,y\n",
        "x = eu.iloc[:,[0]].values\n",
        "print(x)\n",
        "y = eu.iloc[:,[8]].values\n",
        "print(y)"
      ],
      "execution_count": 5,
      "outputs": [
        {
          "output_type": "stream",
          "name": "stdout",
          "text": [
            "[[   0]\n",
            " [   1]\n",
            " [   2]\n",
            " ...\n",
            " [7994]\n",
            " [7995]\n",
            " [7996]]\n",
            "[[0]\n",
            " [1]\n",
            " [1]\n",
            " ...\n",
            " [1]\n",
            " [1]\n",
            " [1]]\n"
          ]
        }
      ]
    },
    {
      "cell_type": "code",
      "metadata": {
        "id": "cqTW_s-u3g67"
      },
      "source": [
        "from sklearn.model_selection import train_test_split\n",
        "X_train, X_test, y_train, y_test = train_test_split(x, y, test_size = 0.30)"
      ],
      "execution_count": 6,
      "outputs": []
    },
    {
      "cell_type": "code",
      "metadata": {
        "colab": {
          "base_uri": "https://localhost:8080/"
        },
        "id": "3HCgL_QEZ1dr",
        "outputId": "dd7db64c-ee2a-4297-f776-c381302345e1"
      },
      "source": [
        "#for extrema prediction and accuracy score\n",
        "# Fitting Random Forest Classifier to the dataset\n",
        "# import the classifier\n",
        "from sklearn.ensemble import RandomForestClassifier\n",
        "# create classifier object\n",
        "classifier = RandomForestClassifier(n_estimators = 20000, n_jobs=-1, random_state=1)\n",
        "# fit the classifier with x and y data\n",
        "classifier.fit(X_train, y_train)"
      ],
      "execution_count": 7,
      "outputs": [
        {
          "output_type": "stream",
          "name": "stderr",
          "text": [
            "/usr/local/lib/python3.7/dist-packages/ipykernel_launcher.py:8: DataConversionWarning: A column-vector y was passed when a 1d array was expected. Please change the shape of y to (n_samples,), for example using ravel().\n",
            "  \n"
          ]
        },
        {
          "output_type": "execute_result",
          "data": {
            "text/plain": [
              "RandomForestClassifier(bootstrap=True, ccp_alpha=0.0, class_weight=None,\n",
              "                       criterion='gini', max_depth=None, max_features='auto',\n",
              "                       max_leaf_nodes=None, max_samples=None,\n",
              "                       min_impurity_decrease=0.0, min_impurity_split=None,\n",
              "                       min_samples_leaf=1, min_samples_split=2,\n",
              "                       min_weight_fraction_leaf=0.0, n_estimators=20000,\n",
              "                       n_jobs=-1, oob_score=False, random_state=1, verbose=0,\n",
              "                       warm_start=False)"
            ]
          },
          "metadata": {},
          "execution_count": 7
        }
      ]
    },
    {
      "cell_type": "code",
      "metadata": {
        "id": "xmHBSVwEPp5t"
      },
      "source": [
        "y_pred = classifier.predict(X_test)"
      ],
      "execution_count": 8,
      "outputs": []
    },
    {
      "cell_type": "code",
      "metadata": {
        "colab": {
          "base_uri": "https://localhost:8080/"
        },
        "id": "suK5rCpV0p9g",
        "outputId": "da073550-e0a9-4ae0-ebc4-d7450d363149"
      },
      "source": [
        "#for classifier score\n",
        "from sklearn.metrics import classification_report, confusion_matrix, accuracy_score\n",
        "result = confusion_matrix(y_test, y_pred)\n",
        "print(\"Confusion Matrix:\")\n",
        "print(result)\n",
        "result1 = classification_report(y_test, y_pred)\n",
        "print(\"Classification Report:\",)\n",
        "print (result1)\n",
        "result2 = accuracy_score(y_test,y_pred)\n",
        "print(\"Accuracy:\",result2)\n"
      ],
      "execution_count": 9,
      "outputs": [
        {
          "output_type": "stream",
          "name": "stdout",
          "text": [
            "Confusion Matrix:\n",
            "[[550 634]\n",
            " [617 599]]\n",
            "Classification Report:\n",
            "              precision    recall  f1-score   support\n",
            "\n",
            "           0       0.47      0.46      0.47      1184\n",
            "           1       0.49      0.49      0.49      1216\n",
            "\n",
            "    accuracy                           0.48      2400\n",
            "   macro avg       0.48      0.48      0.48      2400\n",
            "weighted avg       0.48      0.48      0.48      2400\n",
            "\n",
            "Accuracy: 0.47875\n"
          ]
        }
      ]
    },
    {
      "cell_type": "code",
      "metadata": {
        "colab": {
          "base_uri": "https://localhost:8080/"
        },
        "id": "We73bOV2Z1uQ",
        "outputId": "0c1c33a4-aa62-4d40-f522-e3f9000be16b"
      },
      "source": [
        "#for extrema prediction\n",
        "y_pred = classifier.predict(np.array(7997).reshape(1, 1)) # test the output by changing values\n",
        "y_pred"
      ],
      "execution_count": 10,
      "outputs": [
        {
          "output_type": "execute_result",
          "data": {
            "text/plain": [
              "array([1])"
            ]
          },
          "metadata": {},
          "execution_count": 10
        }
      ]
    },
    {
      "cell_type": "code",
      "metadata": {
        "id": "85rbSjDxemSP",
        "colab": {
          "base_uri": "https://localhost:8080/",
          "height": 295
        },
        "outputId": "68af8037-03d1-4466-e8bc-8d6b58074430"
      },
      "source": [
        "#for extrema prediction\n",
        "# Visualising the Random Forest Regression results\n",
        "\n",
        "# arange for creating a range of values\n",
        "# from min value of x to max\n",
        "# value of x with a difference of 0.01\n",
        "# between two consecutive values\n",
        "X_grid = np.arange(min(x), max(x), 1)\n",
        "\n",
        "# reshape for reshaping the data into a len(X_grid)*1 array,\n",
        "# i.e. to make a column out of the X_grid value\t\t\t\t\n",
        "X_grid = X_grid.reshape((len(X_grid), 1))\n",
        "\n",
        "# Scatter plot for original data\n",
        "plt.scatter(x, y, color = 'blue')\n",
        "\n",
        "# plot predicted data\n",
        "plt.scatter(X_grid, classifier.predict(X_grid),\n",
        "\t\tcolor = 'green')\n",
        "plt.title('Random Forest Classifier')\n",
        "plt.xlabel('Position level')\n",
        "plt.ylabel('EURUSD')\n",
        "plt.xlim(7980,8002)\n",
        "plt.ylim(-1,2)\n",
        "plt.show()\n"
      ],
      "execution_count": 11,
      "outputs": [
        {
          "output_type": "display_data",
          "data": {
            "image/png": "[encoded data removed]",
            "text/plain": [
              "<Figure size 432x288 with 1 Axes>"
            ]
          },
          "metadata": {
            "needs_background": "light"
          }
        }
      ]
    },
    {
      "cell_type": "code",
      "metadata": {
        "colab": {
          "base_uri": "https://localhost:8080/"
        },
        "id": "NkV4zktj0FWU",
        "outputId": "042f3485-8631-46a9-88cd-fd74089a3fc1"
      },
      "source": [
        "#for close prediction\n",
        "#select rows to use for x,y\n",
        "x = eu.iloc[:,[0]].values\n",
        "print(x)\n",
        "y = eu.iloc[:,[9]].values\n",
        "print(y)"
      ],
      "execution_count": 12,
      "outputs": [
        {
          "output_type": "stream",
          "name": "stdout",
          "text": [
            "[[   0]\n",
            " [   1]\n",
            " [   2]\n",
            " ...\n",
            " [7994]\n",
            " [7995]\n",
            " [7996]]\n",
            "[[0]\n",
            " [1]\n",
            " [1]\n",
            " ...\n",
            " [1]\n",
            " [1]\n",
            " [1]]\n"
          ]
        }
      ]
    },
    {
      "cell_type": "code",
      "metadata": {
        "id": "sQrJJmT50FWU"
      },
      "source": [
        "from sklearn.model_selection import train_test_split\n",
        "X_train, X_test, y_train, y_test = train_test_split(x, y, test_size = 0.30)"
      ],
      "execution_count": 13,
      "outputs": []
    },
    {
      "cell_type": "code",
      "metadata": {
        "colab": {
          "base_uri": "https://localhost:8080/"
        },
        "id": "Nbwgu2Z00FWU",
        "outputId": "678afa3f-eb35-4480-a97b-0abf1b4309b0"
      },
      "source": [
        "#for close prediction and accuracy score\n",
        "# Fitting Random Forest Classifier to the dataset\n",
        "# import the classifier\n",
        "from sklearn.ensemble import RandomForestClassifier\n",
        "# create classifier object\n",
        "classifier = RandomForestClassifier(n_estimators = 20000, n_jobs=-1, random_state=2)\n",
        "# fit the classifier with x and y data\n",
        "classifier.fit(X_train, y_train)"
      ],
      "execution_count": 14,
      "outputs": [
        {
          "output_type": "stream",
          "name": "stderr",
          "text": [
            "/usr/local/lib/python3.7/dist-packages/ipykernel_launcher.py:8: DataConversionWarning: A column-vector y was passed when a 1d array was expected. Please change the shape of y to (n_samples,), for example using ravel().\n",
            "  \n"
          ]
        },
        {
          "output_type": "execute_result",
          "data": {
            "text/plain": [
              "RandomForestClassifier(bootstrap=True, ccp_alpha=0.0, class_weight=None,\n",
              "                       criterion='gini', max_depth=None, max_features='auto',\n",
              "                       max_leaf_nodes=None, max_samples=None,\n",
              "                       min_impurity_decrease=0.0, min_impurity_split=None,\n",
              "                       min_samples_leaf=1, min_samples_split=2,\n",
              "                       min_weight_fraction_leaf=0.0, n_estimators=20000,\n",
              "                       n_jobs=-1, oob_score=False, random_state=2, verbose=0,\n",
              "                       warm_start=False)"
            ]
          },
          "metadata": {},
          "execution_count": 14
        }
      ]
    },
    {
      "cell_type": "code",
      "metadata": {
        "id": "oXRtVhaS0FWU"
      },
      "source": [
        "y_pred = classifier.predict(X_test)"
      ],
      "execution_count": 15,
      "outputs": []
    },
    {
      "cell_type": "code",
      "metadata": {
        "colab": {
          "base_uri": "https://localhost:8080/"
        },
        "id": "21QgXYao0FWU",
        "outputId": "75bf9f8d-ba65-4e34-d42f-8b37cb6cb9d5"
      },
      "source": [
        "#for classifier score\n",
        "from sklearn.metrics import classification_report, confusion_matrix, accuracy_score\n",
        "result = confusion_matrix(y_test, y_pred)\n",
        "print(\"Confusion Matrix:\")\n",
        "print(result)\n",
        "result1 = classification_report(y_test, y_pred)\n",
        "print(\"Classification Report:\",)\n",
        "print (result1)\n",
        "result2 = accuracy_score(y_test,y_pred)\n",
        "print(\"Accuracy:\",result2)\n"
      ],
      "execution_count": 16,
      "outputs": [
        {
          "output_type": "stream",
          "name": "stdout",
          "text": [
            "Confusion Matrix:\n",
            "[[546 640]\n",
            " [653 561]]\n",
            "Classification Report:\n",
            "              precision    recall  f1-score   support\n",
            "\n",
            "           0       0.46      0.46      0.46      1186\n",
            "           1       0.47      0.46      0.46      1214\n",
            "\n",
            "    accuracy                           0.46      2400\n",
            "   macro avg       0.46      0.46      0.46      2400\n",
            "weighted avg       0.46      0.46      0.46      2400\n",
            "\n",
            "Accuracy: 0.46125\n"
          ]
        }
      ]
    },
    {
      "cell_type": "code",
      "metadata": {
        "colab": {
          "base_uri": "https://localhost:8080/"
        },
        "id": "k0dv5ae80FWV",
        "outputId": "cf110e02-bfff-490a-fdf1-bdf9df8301d0"
      },
      "source": [
        "#for close prediction\n",
        "y_pred = classifier.predict(np.array(7997).reshape(1, 1)) # test the output by changing values\n",
        "y_pred"
      ],
      "execution_count": 17,
      "outputs": [
        {
          "output_type": "execute_result",
          "data": {
            "text/plain": [
              "array([1])"
            ]
          },
          "metadata": {},
          "execution_count": 17
        }
      ]
    },
    {
      "cell_type": "code",
      "metadata": {
        "colab": {
          "base_uri": "https://localhost:8080/",
          "height": 295
        },
        "id": "9DrSiRJ50FWV",
        "outputId": "09cee53f-d7a3-471d-eeb1-506bb0343d83"
      },
      "source": [
        "#for close prediction\n",
        "# Visualising the Random Forest Regression results\n",
        "\n",
        "# arange for creating a range of values\n",
        "# from min value of x to max\n",
        "# value of x with a difference of 0.01\n",
        "# between two consecutive values\n",
        "X_grid = np.arange(min(x), max(x), 1)\n",
        "\n",
        "# reshape for reshaping the data into a len(X_grid)*1 array,\n",
        "# i.e. to make a column out of the X_grid value\t\t\t\t\n",
        "X_grid = X_grid.reshape((len(X_grid), 1))\n",
        "\n",
        "# Scatter plot for original data\n",
        "plt.scatter(x, y, color = 'blue')\n",
        "\n",
        "# plot predicted data\n",
        "plt.scatter(X_grid, classifier.predict(X_grid),\n",
        "\t\tcolor = 'green')\n",
        "plt.title('Random Forest Classifier')\n",
        "plt.xlabel('Position level')\n",
        "plt.ylabel('EURUSD')\n",
        "plt.xlim(7980,8002)\n",
        "plt.ylim(-1,2)\n",
        "plt.show()\n"
      ],
      "execution_count": 18,
      "outputs": [
        {
          "output_type": "display_data",
          "data": {
            "image/png": "[encoded data removed]",
            "text/plain": [
              "<Figure size 432x288 with 1 Axes>"
            ]
          },
          "metadata": {
            "needs_background": "light"
          }
        }
      ]
    }
  ]
}