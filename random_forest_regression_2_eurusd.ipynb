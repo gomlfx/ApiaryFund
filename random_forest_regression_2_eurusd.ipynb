{
  "nbformat": 4,
  "nbformat_minor": 0,
  "metadata": {
    "colab": {
      "name": "random_forest_regression_2_eurusd.ipynb",
      "provenance": [],
      "collapsed_sections": [],
      "authorship_tag": "ABX9TyMfQL91Fc5PDIl2at1tbRCw",
      "include_colab_link": true
    },
    "kernelspec": {
      "name": "python3",
      "display_name": "Python 3"
    },
    "language_info": {
      "name": "python"
    }
  },
  "cells": [
    {
      "cell_type": "markdown",
      "metadata": {
        "id": "view-in-github",
        "colab_type": "text"
      },
      "source": [
        "<a href=\"https://colab.research.google.com/github/gomlfx/ApiaryFund/blob/master/random_forest_regression_2_eurusd.ipynb\" target=\"_parent\"><img src=\"https://colab.research.google.com/assets/colab-badge.svg\" alt=\"Open In Colab\"/></a>"
      ]
    },
    {
      "cell_type": "code",
      "metadata": {
        "colab": {
          "base_uri": "https://localhost:8080/",
          "height": 111
        },
        "id": "L33tTbkVyHeD",
        "outputId": "fdb38b68-f997-424a-d233-164cf249dfe1"
      },
      "source": [
        "import pandas as pd\n",
        "import numpy as np\n",
        "# Import matplotlib for plotting and use magic command for Jupyter Notebooks\n",
        "import matplotlib.pyplot as plt\n",
        "%matplotlib inline\n",
        "#import normalization\n",
        "from sklearn import preprocessing\n",
        "from sklearn.ensemble import RandomForestRegressor\n",
        "#using eurusd, change to your preferred asset\n",
        "eu = pd.read_csv('EURUSD1440.csv')\n",
        "eu.tail(2)"
      ],
      "execution_count": 2,
      "outputs": [
        {
          "output_type": "execute_result",
          "data": {
            "text/html": [
              "<div>\n",
              "<style scoped>\n",
              "    .dataframe tbody tr th:only-of-type {\n",
              "        vertical-align: middle;\n",
              "    }\n",
              "\n",
              "    .dataframe tbody tr th {\n",
              "        vertical-align: top;\n",
              "    }\n",
              "\n",
              "    .dataframe thead th {\n",
              "        text-align: right;\n",
              "    }\n",
              "</style>\n",
              "<table border=\"1\" class=\"dataframe\">\n",
              "  <thead>\n",
              "    <tr style=\"text-align: right;\">\n",
              "      <th></th>\n",
              "      <th>1971.01.04</th>\n",
              "      <th>00:00</th>\n",
              "      <th>0.53690</th>\n",
              "      <th>0.53690.1</th>\n",
              "      <th>0.53690.2</th>\n",
              "      <th>0.53690.3</th>\n",
              "      <th>1</th>\n",
              "    </tr>\n",
              "  </thead>\n",
              "  <tbody>\n",
              "    <tr>\n",
              "      <th>12767</th>\n",
              "      <td>2021.11.12</td>\n",
              "      <td>00:00</td>\n",
              "      <td>1.14468</td>\n",
              "      <td>1.1462</td>\n",
              "      <td>1.14327</td>\n",
              "      <td>1.14428</td>\n",
              "      <td>70130</td>\n",
              "    </tr>\n",
              "    <tr>\n",
              "      <th>12768</th>\n",
              "      <td>2021.11.15</td>\n",
              "      <td>00:00</td>\n",
              "      <td>1.14470</td>\n",
              "      <td>1.1447</td>\n",
              "      <td>1.14425</td>\n",
              "      <td>1.14431</td>\n",
              "      <td>231</td>\n",
              "    </tr>\n",
              "  </tbody>\n",
              "</table>\n",
              "</div>"
            ],
            "text/plain": [
              "       1971.01.04  00:00  0.53690  0.53690.1  0.53690.2  0.53690.3      1\n",
              "12767  2021.11.12  00:00  1.14468     1.1462    1.14327    1.14428  70130\n",
              "12768  2021.11.15  00:00  1.14470     1.1447    1.14425    1.14431    231"
            ]
          },
          "metadata": {},
          "execution_count": 2
        }
      ]
    },
    {
      "cell_type": "code",
      "metadata": {
        "colab": {
          "base_uri": "https://localhost:8080/"
        },
        "id": "MT4vPMgBZrg8",
        "outputId": "818bd67e-5f28-4895-d50a-b4536c81b1cf"
      },
      "source": [
        "eu.columns=['Date','Time','eu_Open','eu_High','eu_Low','eu_Close','Volume']\n",
        "#Use D1 at least 2000 observations, change below for the number of rows you have.\n",
        "#session crash or slow computing time may require you to use less rows. \n",
        "#eu = eu.iloc[-2000:] \n",
        "eu = eu.iloc[-8000:] \n",
        "eu = eu.reset_index(drop=True)\n",
        "eu['Index']=eu.index\n",
        "eu.set_index('Index', drop=True, append=False, inplace=True, verify_integrity=False)\n",
        "#and make index a feature\n",
        "eu.reset_index(inplace=True)\n",
        "#drop last rows if needed\n",
        "#eu = eu[:-1]\n",
        "print(eu.head())\n",
        "print(eu.tail())"
      ],
      "execution_count": 3,
      "outputs": [
        {
          "output_type": "stream",
          "name": "stdout",
          "text": [
            "   Index        Date   Time  eu_Open  eu_High  eu_Low  eu_Close  Volume\n",
            "0      0  1990.09.04  00:00   1.2351   1.2429  1.2327    1.2381    1741\n",
            "1      1  1990.09.05  00:00   1.2375   1.2559  1.2368    1.2554    2031\n",
            "2      2  1990.09.06  00:00   1.2549   1.2595  1.2523    1.2584    1091\n",
            "3      3  1990.09.07  00:00   1.2583   1.2590  1.2466    1.2472    1371\n",
            "4      4  1990.09.10  00:00   1.2501   1.2523  1.2341    1.2369    2321\n",
            "      Index        Date   Time  eu_Open  eu_High   eu_Low  eu_Close  Volume\n",
            "7995   7995  2021.11.09  00:00  1.15830  1.16086  1.15696   1.15941   84689\n",
            "7996   7996  2021.11.10  00:00  1.15915  1.15952  1.14759   1.14764  109854\n",
            "7997   7997  2021.11.11  00:00  1.14769  1.14874  1.14429   1.14488   67531\n",
            "7998   7998  2021.11.12  00:00  1.14468  1.14620  1.14327   1.14428   70130\n",
            "7999   7999  2021.11.15  00:00  1.14470  1.14470  1.14425   1.14431     231\n"
          ]
        }
      ]
    },
    {
      "cell_type": "code",
      "metadata": {
        "colab": {
          "base_uri": "https://localhost:8080/"
        },
        "id": "QhfQ9UadZ1PE",
        "outputId": "c5e0aa10-f43e-4abe-d9bd-af66bf20f94e"
      },
      "source": [
        "#for close prediction\n",
        "#select rows to use for x,y\n",
        "x = eu.iloc[:,[0]].values\n",
        "print(x)\n",
        "y = eu.iloc[:,[6]].values\n",
        "print(y)"
      ],
      "execution_count": 4,
      "outputs": [
        {
          "output_type": "stream",
          "name": "stdout",
          "text": [
            "[[   0]\n",
            " [   1]\n",
            " [   2]\n",
            " ...\n",
            " [7997]\n",
            " [7998]\n",
            " [7999]]\n",
            "[[1.2381 ]\n",
            " [1.2554 ]\n",
            " [1.2584 ]\n",
            " ...\n",
            " [1.14488]\n",
            " [1.14428]\n",
            " [1.14431]]\n"
          ]
        }
      ]
    },
    {
      "cell_type": "code",
      "metadata": {
        "id": "cqTW_s-u3g67"
      },
      "source": [
        "from sklearn.model_selection import train_test_split\n",
        "X_train, X_test, y_train, y_test = train_test_split(x, y, test_size = 0.30)"
      ],
      "execution_count": 5,
      "outputs": []
    },
    {
      "cell_type": "code",
      "metadata": {
        "colab": {
          "base_uri": "https://localhost:8080/"
        },
        "id": "3HCgL_QEZ1dr",
        "outputId": "faffcc00-5f77-4c52-bee0-72fe83a7a7f9"
      },
      "source": [
        "#for close prediction and accuracy test\n",
        "# Fitting Random Forest Regression to the dataset\n",
        "# import the regressor\n",
        "from sklearn.ensemble import RandomForestRegressor\n",
        "# create regressor object\n",
        "regressor = RandomForestRegressor(n_estimators = 10000, n_jobs=-1)\n",
        "#regressor = RandomForestRegressor(n_jobs=-1)\n",
        "# fit the regressor with x and y data\n",
        "regressor.fit(X_train, y_train)"
      ],
      "execution_count": null,
      "outputs": [
        {
          "output_type": "stream",
          "name": "stderr",
          "text": [
            "/usr/local/lib/python3.7/dist-packages/ipykernel_launcher.py:9: DataConversionWarning: A column-vector y was passed when a 1d array was expected. Please change the shape of y to (n_samples,), for example using ravel().\n",
            "  if __name__ == '__main__':\n"
          ]
        }
      ]
    },
    {
      "cell_type": "code",
      "metadata": {
        "id": "xmHBSVwEPp5t"
      },
      "source": [
        "y_pred = regressor.predict(X_test)"
      ],
      "execution_count": 36,
      "outputs": []
    },
    {
      "cell_type": "code",
      "metadata": {
        "id": "Z4bGcB9U62Js"
      },
      "source": [
        "def mean_absolute_percentage_error(y_true,y_pred):\n",
        "  y_true, y_pred = np.array(y_true), np.array(y_pred)\n",
        "  return np.mean(np.abs((y_true - y_pred) / y_true)) * 100\n",
        "\n",
        "mape = mean_absolute_percentage_error(y_test,y_pred)"
      ],
      "execution_count": 37,
      "outputs": []
    },
    {
      "cell_type": "code",
      "metadata": {
        "colab": {
          "base_uri": "https://localhost:8080/"
        },
        "id": "suK5rCpV0p9g",
        "outputId": "8b1b34d8-a8a7-4555-e2d1-1c4498c9257f"
      },
      "source": [
        "#for regression score\n",
        "from sklearn import metrics \n",
        "print('MAE:', metrics.mean_absolute_error(y_test,y_pred))\n",
        "print('MSE:', metrics.mean_squared_error(y_test, y_pred))\n",
        "print('RMSE:', np.sqrt(metrics.mean_squared_error(y_test, y_pred)))\n",
        "print('MAPE:', mape)\n"
      ],
      "execution_count": 38,
      "outputs": [
        {
          "output_type": "stream",
          "name": "stdout",
          "text": [
            "MAE: 0.005038535724272741\n",
            "MSE: 4.816036736888794e-05\n",
            "RMSE: 0.00693976709759686\n",
            "MAPE: 13.860070262083548\n"
          ]
        }
      ]
    },
    {
      "cell_type": "code",
      "metadata": {
        "id": "We73bOV2Z1uQ"
      },
      "source": [
        "#for close prediction\n",
        "y_pred_c = regressor.predict(np.array(7999).reshape(1, 1)) # test the output by changing values\n",
        "y_pred_c"
      ],
      "execution_count": null,
      "outputs": []
    },
    {
      "cell_type": "code",
      "metadata": {
        "id": "85rbSjDxemSP",
        "colab": {
          "base_uri": "https://localhost:8080/",
          "height": 295
        },
        "outputId": "4af2e147-f639-416c-cb7c-42a5203e9a7b"
      },
      "source": [
        "#for close prediction\n",
        "# Visualising the Random Forest Regression results\n",
        "\n",
        "# arange for creating a range of values\n",
        "# from min value of x to max\n",
        "# value of x with a difference of 0.01\n",
        "# between two consecutive values\n",
        "X_grid = np.arange(min(x), max(x), 1)\n",
        "\n",
        "# reshape for reshaping the data into a len(X_grid)*1 array,\n",
        "# i.e. to make a column out of the X_grid value\t\t\t\t\n",
        "X_grid = X_grid.reshape((len(X_grid), 1))\n",
        "\n",
        "# Scatter plot for original data\n",
        "plt.scatter(x, y, color = 'blue')\n",
        "\n",
        "# plot predicted data\n",
        "plt.scatter(X_grid, regressor.predict(X_grid),\n",
        "\t\tcolor = 'green')\n",
        "plt.title('Random Forest Regression')\n",
        "plt.xlabel('Position level')\n",
        "plt.ylabel('EURUSD')\n",
        "plt.xlim(7980,8002)\n",
        "plt.ylim(1.15,1.17)\n",
        "plt.show()\n"
      ],
      "execution_count": 10,
      "outputs": [
        {
          "output_type": "display_data",
          "data": {
            "image/png": "[encoded data removed]",
            "text/plain": [
              "<Figure size 432x288 with 1 Axes>"
            ]
          },
          "metadata": {
            "needs_background": "light"
          }
        }
      ]
    },
    {
      "cell_type": "code",
      "metadata": {
        "colab": {
          "base_uri": "https://localhost:8080/"
        },
        "id": "kIHV30_ZH5eg",
        "outputId": "7acc937f-fb88-4c3a-8647-7b8b7441b51f"
      },
      "source": [
        "#for low prediction\n",
        "#select rows to use for x,y\n",
        "x = eu.iloc[:,[0]].values\n",
        "print(x)\n",
        "y = eu.iloc[:,[5]].values\n",
        "print(y)"
      ],
      "execution_count": 11,
      "outputs": [
        {
          "output_type": "stream",
          "name": "stdout",
          "text": [
            "[[   0]\n",
            " [   1]\n",
            " [   2]\n",
            " ...\n",
            " [7996]\n",
            " [7997]\n",
            " [7998]]\n",
            "[[1.2327 ]\n",
            " [1.2368 ]\n",
            " [1.2523 ]\n",
            " ...\n",
            " [1.14759]\n",
            " [1.14429]\n",
            " [1.14327]]\n"
          ]
        }
      ]
    },
    {
      "cell_type": "code",
      "metadata": {
        "id": "s-d3TjyWS22Q"
      },
      "source": [
        "#for low prediction\n",
        "from sklearn.model_selection import train_test_split\n",
        "X_train, X_test, y_train, y_test = train_test_split(x, y, test_size = 0.30)"
      ],
      "execution_count": 12,
      "outputs": []
    },
    {
      "cell_type": "code",
      "metadata": {
        "colab": {
          "base_uri": "https://localhost:8080/"
        },
        "id": "W2CQQyXSS22R",
        "outputId": "ce0731b1-229d-4d87-eb4c-e0a8205d5967"
      },
      "source": [
        "#for low prediction and accuracy test\n",
        "# Fitting Random Forest Regression to the dataset\n",
        "# import the regressor\n",
        "from sklearn.ensemble import RandomForestRegressor\n",
        "# create regressor object\n",
        "regressor = RandomForestRegressor(n_estimators = 2000, n_jobs=-1, criterion='mae')\n",
        "#regressor = RandomForestRegressor(n_jobs=-1)\n",
        "# fit the regressor with x and y data\n",
        "regressor.fit(X_train, y_train)"
      ],
      "execution_count": 13,
      "outputs": [
        {
          "output_type": "stream",
          "name": "stderr",
          "text": [
            "/usr/local/lib/python3.7/dist-packages/ipykernel_launcher.py:9: DataConversionWarning: A column-vector y was passed when a 1d array was expected. Please change the shape of y to (n_samples,), for example using ravel().\n",
            "  if __name__ == '__main__':\n"
          ]
        },
        {
          "output_type": "execute_result",
          "data": {
            "text/plain": [
              "RandomForestRegressor(bootstrap=True, ccp_alpha=0.0, criterion='mae',\n",
              "                      max_depth=None, max_features='auto', max_leaf_nodes=None,\n",
              "                      max_samples=None, min_impurity_decrease=0.0,\n",
              "                      min_impurity_split=None, min_samples_leaf=1,\n",
              "                      min_samples_split=2, min_weight_fraction_leaf=0.0,\n",
              "                      n_estimators=2000, n_jobs=-1, oob_score=False,\n",
              "                      random_state=None, verbose=0, warm_start=False)"
            ]
          },
          "metadata": {},
          "execution_count": 13
        }
      ]
    },
    {
      "cell_type": "code",
      "metadata": {
        "id": "DSflbgeHS22R"
      },
      "source": [
        "#for low pred \n",
        "y_pred = regressor.predict(X_test)\n",
        "mape = mean_absolute_percentage_error(y_test,y_pred)"
      ],
      "execution_count": 14,
      "outputs": []
    },
    {
      "cell_type": "code",
      "metadata": {
        "colab": {
          "base_uri": "https://localhost:8080/"
        },
        "id": "HAlEpAY7S22R",
        "outputId": "b71c0119-03bc-4d1a-948d-0a8faf6ba3ac"
      },
      "source": [
        "#for low pred regression score\n",
        "from sklearn import metrics \n",
        "print('MAE:', metrics.mean_absolute_error(y_test,y_pred))\n",
        "print('MSE:', metrics.mean_squared_error(y_test, y_pred))\n",
        "print('RMSE:', np.sqrt(metrics.mean_squared_error(y_test, y_pred)))\n",
        "print('MAPE:', mape)"
      ],
      "execution_count": 15,
      "outputs": [
        {
          "output_type": "stream",
          "name": "stdout",
          "text": [
            "MAE: 0.004226923533333671\n",
            "MSE: 3.508685091380057e-05\n",
            "RMSE: 0.005923415477053807\n",
            "MAPE: 14.054918614489958\n"
          ]
        }
      ]
    },
    {
      "cell_type": "code",
      "metadata": {
        "colab": {
          "base_uri": "https://localhost:8080/"
        },
        "id": "imhGUfGcS22R",
        "outputId": "efd8267a-e712-4804-b69b-7901153e3df0"
      },
      "source": [
        "#for low pred \n",
        "y_pred_l = regressor.predict(np.array([7999]).reshape(1, 1)) # test the output by changing values\n",
        "y_pred_l"
      ],
      "execution_count": 16,
      "outputs": [
        {
          "output_type": "execute_result",
          "data": {
            "text/plain": [
              "array([1.14436341])"
            ]
          },
          "metadata": {},
          "execution_count": 16
        }
      ]
    },
    {
      "cell_type": "code",
      "metadata": {
        "id": "DvA_vsGiIJvu",
        "colab": {
          "base_uri": "https://localhost:8080/",
          "height": 295
        },
        "outputId": "5355bbbc-a12e-4a43-aac4-a6c727d1be3b"
      },
      "source": [
        "#for low prediction\n",
        "# Visualising the Random Forest Regression results\n",
        "\n",
        "# arange for creating a range of values\n",
        "# from min value of x to max\n",
        "# value of x with a difference of 0.01\n",
        "# between two consecutive values\n",
        "X_grid = np.arange(min(x), max(x), 1)\n",
        "\n",
        "# reshape for reshaping the data into a len(X_grid)*1 array,\n",
        "# i.e. to make a column out of the X_grid value\t\t\t\t\n",
        "X_grid = X_grid.reshape((len(X_grid), 1))\n",
        "\n",
        "# Scatter plot for original data\n",
        "plt.scatter(x, y, color = 'blue')\n",
        "\n",
        "# plot predicted data\n",
        "plt.scatter(X_grid, regressor.predict(X_grid),\n",
        "\t\tcolor = 'green')\n",
        "plt.title('Random Forest Regression')\n",
        "plt.xlabel('Position level')\n",
        "plt.ylabel('EURUSD')\n",
        "plt.xlim(7980,8000)\n",
        "plt.ylim(1.15,1.17)\n",
        "plt.show()"
      ],
      "execution_count": 17,
      "outputs": [
        {
          "output_type": "display_data",
          "data": {
            "image/png": "[encoded data removed]",
            "text/plain": [
              "<Figure size 432x288 with 1 Axes>"
            ]
          },
          "metadata": {
            "needs_background": "light"
          }
        }
      ]
    },
    {
      "cell_type": "code",
      "metadata": {
        "colab": {
          "base_uri": "https://localhost:8080/"
        },
        "id": "CNQOZ0oNIwHQ",
        "outputId": "559f004e-c288-4b6b-f893-fdf46d37ca43"
      },
      "source": [
        "#for high prediction\n",
        "#select rows to use for x,y\n",
        "x = eu.iloc[:,[0]].values\n",
        "print(x)\n",
        "y = eu.iloc[:,[4]].values\n",
        "print(y)"
      ],
      "execution_count": 18,
      "outputs": [
        {
          "output_type": "stream",
          "name": "stdout",
          "text": [
            "[[   0]\n",
            " [   1]\n",
            " [   2]\n",
            " ...\n",
            " [7996]\n",
            " [7997]\n",
            " [7998]]\n",
            "[[1.2429 ]\n",
            " [1.2559 ]\n",
            " [1.2595 ]\n",
            " ...\n",
            " [1.15952]\n",
            " [1.14874]\n",
            " [1.1462 ]]\n"
          ]
        }
      ]
    },
    {
      "cell_type": "code",
      "metadata": {
        "id": "WEJIyPqMViu4"
      },
      "source": [
        "#for high prediction\n",
        "from sklearn.model_selection import train_test_split\n",
        "X_train, X_test, y_train, y_test = train_test_split(x, y, test_size = 0.30)"
      ],
      "execution_count": 19,
      "outputs": []
    },
    {
      "cell_type": "code",
      "metadata": {
        "colab": {
          "base_uri": "https://localhost:8080/"
        },
        "id": "g_WdTiJbViu4",
        "outputId": "363131cd-b323-4ed8-f7bb-d11256d81f2a"
      },
      "source": [
        "#for high prediction and accuracy test\n",
        "# Fitting Random Forest Regression to the dataset\n",
        "# import the regressor\n",
        "from sklearn.ensemble import RandomForestRegressor\n",
        "# create regressor object\n",
        "regressor = RandomForestRegressor(n_estimators = 2000, n_jobs=-1, criterion='mae')\n",
        "#regressor = RandomForestRegressor(n_jobs=-1)\n",
        "# fit the regressor with x and y data\n",
        "regressor.fit(X_train, y_train)"
      ],
      "execution_count": 20,
      "outputs": [
        {
          "output_type": "stream",
          "name": "stderr",
          "text": [
            "/usr/local/lib/python3.7/dist-packages/ipykernel_launcher.py:9: DataConversionWarning: A column-vector y was passed when a 1d array was expected. Please change the shape of y to (n_samples,), for example using ravel().\n",
            "  if __name__ == '__main__':\n"
          ]
        },
        {
          "output_type": "execute_result",
          "data": {
            "text/plain": [
              "RandomForestRegressor(bootstrap=True, ccp_alpha=0.0, criterion='mae',\n",
              "                      max_depth=None, max_features='auto', max_leaf_nodes=None,\n",
              "                      max_samples=None, min_impurity_decrease=0.0,\n",
              "                      min_impurity_split=None, min_samples_leaf=1,\n",
              "                      min_samples_split=2, min_weight_fraction_leaf=0.0,\n",
              "                      n_estimators=2000, n_jobs=-1, oob_score=False,\n",
              "                      random_state=None, verbose=0, warm_start=False)"
            ]
          },
          "metadata": {},
          "execution_count": 20
        }
      ]
    },
    {
      "cell_type": "code",
      "metadata": {
        "id": "lviE4TesViu5"
      },
      "source": [
        "#for high prediction\n",
        "y_pred = regressor.predict(X_test)\n",
        "mape = mean_absolute_percentage_error(y_test,y_pred)"
      ],
      "execution_count": 21,
      "outputs": []
    },
    {
      "cell_type": "code",
      "metadata": {
        "id": "9N5zeqU0Viu5",
        "colab": {
          "base_uri": "https://localhost:8080/"
        },
        "outputId": "627d236b-6bf4-4538-ec29-d6f6b6466ddc"
      },
      "source": [
        "#for high regression score\n",
        "from sklearn import metrics \n",
        "print('MAE:', metrics.mean_absolute_error(y_test,y_pred))\n",
        "print('MSE:', metrics.mean_squared_error(y_test, y_pred))\n",
        "print('RMSE:', np.sqrt(metrics.mean_squared_error(y_test, y_pred)))\n",
        "print('MAPE:', mape)\n",
        "print('MedAE', metrics.median_absolute_error(y_test,y_pred)) \n",
        "#print('MdAPE', metrics)"
      ],
      "execution_count": 22,
      "outputs": [
        {
          "output_type": "stream",
          "name": "stdout",
          "text": [
            "MAE: 0.004411888268750945\n",
            "MSE: 3.692375703567101e-05\n",
            "RMSE: 0.006076492165359141\n",
            "MAPE: 13.995694237259604\n",
            "MedAE 0.003345456249999379\n"
          ]
        }
      ]
    },
    {
      "cell_type": "code",
      "metadata": {
        "id": "NzvYU1gFViu5",
        "colab": {
          "base_uri": "https://localhost:8080/"
        },
        "outputId": "4f047f17-1c93-4926-eb59-b5284097208b"
      },
      "source": [
        "#for high prediction\n",
        "y_pred_h = regressor.predict(np.array([7999]).reshape(1, 1)) # test the output by changing values\n",
        "y_pred_h"
      ],
      "execution_count": 23,
      "outputs": [
        {
          "output_type": "execute_result",
          "data": {
            "text/plain": [
              "array([1.14875738])"
            ]
          },
          "metadata": {},
          "execution_count": 23
        }
      ]
    },
    {
      "cell_type": "code",
      "metadata": {
        "id": "coLwLO0xJ76K",
        "colab": {
          "base_uri": "https://localhost:8080/",
          "height": 295
        },
        "outputId": "53a07e14-ebd9-4913-8f25-6852483b9ae9"
      },
      "source": [
        "#for high prediction\n",
        "# Visualising the Random Forest Regression results\n",
        "\n",
        "# arange for creating a range of values\n",
        "# from min value of x to max\n",
        "# value of x with a difference of 0.01\n",
        "# between two consecutive values\n",
        "X_grid = np.arange(min(x), max(x), 1)\n",
        "\n",
        "# reshape for reshaping the data into a len(X_grid)*1 array,\n",
        "# i.e. to make a column out of the X_grid value\t\t\t\t\n",
        "X_grid = X_grid.reshape((len(X_grid), 1))\n",
        "\n",
        "# Scatter plot for original data\n",
        "plt.scatter(x, y, color = 'blue')\n",
        "\n",
        "# plot predicted data\n",
        "plt.scatter(X_grid, regressor.predict(X_grid),\n",
        "\t\tcolor = 'green')\n",
        "plt.title('Random Forest Regression')\n",
        "plt.xlabel('Position level')\n",
        "plt.ylabel('EURUSD')\n",
        "plt.xlim(7980,8002)\n",
        "plt.ylim(1.15,1.17)\n",
        "plt.show()"
      ],
      "execution_count": 24,
      "outputs": [
        {
          "output_type": "display_data",
          "data": {
            "image/png": "[encoded data removed]",
            "text/plain": [
              "<Figure size 432x288 with 1 Axes>"
            ]
          },
          "metadata": {
            "needs_background": "light"
          }
        }
      ]
    },
    {
      "cell_type": "code",
      "metadata": {
        "colab": {
          "base_uri": "https://localhost:8080/",
          "height": 265
        },
        "id": "wg2MIJjEq7m9",
        "outputId": "e192df61-0a7e-4adc-a728-6655a2f6a3a7"
      },
      "source": [
        "import matplotlib.pyplot as plt\n",
        "plt.plot([y_pred_c, y_pred_l, y_pred_h])\n",
        "plt.ylabel('some numbers')\n",
        "plt.show()"
      ],
      "execution_count": 25,
      "outputs": [
        {
          "output_type": "display_data",
          "data": {
            "image/png": "[encoded data removed]",
            "text/plain": [
              "<Figure size 432x288 with 1 Axes>"
            ]
          },
          "metadata": {
            "needs_background": "light"
          }
        }
      ]
    }
  ]
}