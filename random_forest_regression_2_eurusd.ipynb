{
  "nbformat": 4,
  "nbformat_minor": 0,
  "metadata": {
    "colab": {
      "name": "random_forest_regression_2_eurusd.ipynb",
      "provenance": [],
      "collapsed_sections": [],
      "authorship_tag": "ABX9TyPf3Rbm21bOZchAqV7ed7+l",
      "include_colab_link": true
    },
    "kernelspec": {
      "name": "python3",
      "display_name": "Python 3"
    },
    "language_info": {
      "name": "python"
    }
  },
  "cells": [
    {
      "cell_type": "markdown",
      "metadata": {
        "id": "view-in-github",
        "colab_type": "text"
      },
      "source": [
        "<a href=\"https://colab.research.google.com/github/gomlfx/ApiaryFund/blob/master/random_forest_regression_2_eurusd.ipynb\" target=\"_parent\"><img src=\"https://colab.research.google.com/assets/colab-badge.svg\" alt=\"Open In Colab\"/></a>"
      ]
    },
    {
      "cell_type": "code",
      "metadata": {
        "colab": {
          "base_uri": "https://localhost:8080/",
          "height": 111
        },
        "id": "L33tTbkVyHeD",
        "outputId": "fc95bb50-a06a-49e5-b39f-7296a7a7e3b9"
      },
      "source": [
        "import pandas as pd\n",
        "import numpy as np\n",
        "# Import matplotlib for plotting and use magic command for Jupyter Notebooks\n",
        "import matplotlib.pyplot as plt\n",
        "%matplotlib inline\n",
        "#import normalization\n",
        "from sklearn import preprocessing\n",
        "from sklearn.ensemble import RandomForestRegressor\n",
        "#using eurusd, change to your preferred asset\n",
        "eu = pd.read_csv('EURUSD1440.csv')\n",
        "eu.tail(2)"
      ],
      "execution_count": 2,
      "outputs": [
        {
          "output_type": "execute_result",
          "data": {
            "text/html": [
              "<div>\n",
              "<style scoped>\n",
              "    .dataframe tbody tr th:only-of-type {\n",
              "        vertical-align: middle;\n",
              "    }\n",
              "\n",
              "    .dataframe tbody tr th {\n",
              "        vertical-align: top;\n",
              "    }\n",
              "\n",
              "    .dataframe thead th {\n",
              "        text-align: right;\n",
              "    }\n",
              "</style>\n",
              "<table border=\"1\" class=\"dataframe\">\n",
              "  <thead>\n",
              "    <tr style=\"text-align: right;\">\n",
              "      <th></th>\n",
              "      <th>1971.01.04</th>\n",
              "      <th>00:00</th>\n",
              "      <th>0.53690</th>\n",
              "      <th>0.53690.1</th>\n",
              "      <th>0.53690.2</th>\n",
              "      <th>0.53690.3</th>\n",
              "      <th>1</th>\n",
              "    </tr>\n",
              "  </thead>\n",
              "  <tbody>\n",
              "    <tr>\n",
              "      <th>12761</th>\n",
              "      <td>2021.11.04</td>\n",
              "      <td>00:00</td>\n",
              "      <td>1.16085</td>\n",
              "      <td>1.16163</td>\n",
              "      <td>1.15281</td>\n",
              "      <td>1.15541</td>\n",
              "      <td>85558</td>\n",
              "    </tr>\n",
              "    <tr>\n",
              "      <th>12762</th>\n",
              "      <td>2021.11.05</td>\n",
              "      <td>00:00</td>\n",
              "      <td>1.15505</td>\n",
              "      <td>1.15509</td>\n",
              "      <td>1.15505</td>\n",
              "      <td>1.15508</td>\n",
              "      <td>5</td>\n",
              "    </tr>\n",
              "  </tbody>\n",
              "</table>\n",
              "</div>"
            ],
            "text/plain": [
              "       1971.01.04  00:00  0.53690  0.53690.1  0.53690.2  0.53690.3      1\n",
              "12761  2021.11.04  00:00  1.16085    1.16163    1.15281    1.15541  85558\n",
              "12762  2021.11.05  00:00  1.15505    1.15509    1.15505    1.15508      5"
            ]
          },
          "metadata": {},
          "execution_count": 2
        }
      ]
    },
    {
      "cell_type": "code",
      "metadata": {
        "colab": {
          "base_uri": "https://localhost:8080/"
        },
        "id": "MT4vPMgBZrg8",
        "outputId": "390c8e9a-0a50-438c-809e-948857c075ac"
      },
      "source": [
        "eu.columns=['Date','Time','eu_Open','eu_High','eu_Low','eu_Close','Volume']\n",
        "#Use D1 at least 2000 observations, change below for the number of rows you have.\n",
        "#session crash or slow computing time may require you to use less rows. \n",
        "#eu = eu.iloc[-2000:] \n",
        "eu = eu.iloc[-8000:] \n",
        "eu = eu.reset_index(drop=True)\n",
        "eu['Index']=eu.index\n",
        "eu.set_index('Index', drop=True, append=False, inplace=True, verify_integrity=False)\n",
        "#and make index a feature\n",
        "eu.reset_index(inplace=True)\n",
        "#drop last rows if needed\n",
        "eu = eu[:-1]\n",
        "print(eu.head())\n",
        "print(eu.tail())"
      ],
      "execution_count": 3,
      "outputs": [
        {
          "output_type": "stream",
          "name": "stdout",
          "text": [
            "   Index        Date   Time  eu_Open  eu_High  eu_Low  eu_Close  Volume\n",
            "0      0  1990.08.27  00:00   1.2647   1.2686  1.2539    1.2597    2441\n",
            "1      1  1990.08.28  00:00   1.2598   1.2671  1.2547    1.2560    2101\n",
            "2      2  1990.08.29  00:00   1.2567   1.2612  1.2546    1.2570    1291\n",
            "3      3  1990.08.30  00:00   1.2494   1.2510  1.2454    1.2503    1031\n",
            "4      4  1990.08.31  00:00   1.2503   1.2555  1.2387    1.2407    2401\n",
            "      Index        Date   Time  eu_Open  eu_High   eu_Low  eu_Close  Volume\n",
            "7994   7994  2021.10.29  00:00  1.16794  1.16899  1.15350   1.15622  100657\n",
            "7995   7995  2021.11.01  00:00  1.15567  1.16088  1.15458   1.16064   71633\n",
            "7996   7996  2021.11.02  00:00  1.16019  1.16132  1.15750   1.15790   74444\n",
            "7997   7997  2021.11.03  00:00  1.15801  1.16161  1.15621   1.16123   89626\n",
            "7998   7998  2021.11.04  00:00  1.16085  1.16163  1.15281   1.15541   85558\n"
          ]
        }
      ]
    },
    {
      "cell_type": "code",
      "metadata": {
        "colab": {
          "base_uri": "https://localhost:8080/"
        },
        "id": "QhfQ9UadZ1PE",
        "outputId": "e732f52b-254d-4a87-a50a-bb695fbdb516"
      },
      "source": [
        "#for close prediction\n",
        "#select rows to use for x,y\n",
        "x = eu.iloc[:,[0]].values\n",
        "print(x)\n",
        "y = eu.iloc[:,[6]].values\n",
        "print(y)"
      ],
      "execution_count": 4,
      "outputs": [
        {
          "output_type": "stream",
          "name": "stdout",
          "text": [
            "[[   0]\n",
            " [   1]\n",
            " [   2]\n",
            " ...\n",
            " [7996]\n",
            " [7997]\n",
            " [7998]]\n",
            "[[1.2597 ]\n",
            " [1.256  ]\n",
            " [1.257  ]\n",
            " ...\n",
            " [1.1579 ]\n",
            " [1.16123]\n",
            " [1.15541]]\n"
          ]
        }
      ]
    },
    {
      "cell_type": "code",
      "metadata": {
        "id": "cqTW_s-u3g67"
      },
      "source": [
        "from sklearn.model_selection import train_test_split\n",
        "X_train, X_test, y_train, y_test = train_test_split(x, y, test_size = 0.30)"
      ],
      "execution_count": 5,
      "outputs": []
    },
    {
      "cell_type": "code",
      "metadata": {
        "colab": {
          "base_uri": "https://localhost:8080/"
        },
        "id": "3HCgL_QEZ1dr",
        "outputId": "9ab8aa8b-194d-42c5-82d1-8c520c949b42"
      },
      "source": [
        "#for close prediction and accuracy test\n",
        "# Fitting Random Forest Regression to the dataset\n",
        "# import the regressor\n",
        "from sklearn.ensemble import RandomForestRegressor\n",
        "# create regressor object\n",
        "regressor = RandomForestRegressor(n_estimators = 10000, n_jobs=-1, criterion='mae', random_state = 1)\n",
        "# fit the regressor with x and y data\n",
        "regressor.fit(X_train, y_train)"
      ],
      "execution_count": 6,
      "outputs": [
        {
          "output_type": "stream",
          "name": "stderr",
          "text": [
            "/usr/local/lib/python3.7/dist-packages/ipykernel_launcher.py:8: DataConversionWarning: A column-vector y was passed when a 1d array was expected. Please change the shape of y to (n_samples,), for example using ravel().\n",
            "  \n"
          ]
        },
        {
          "output_type": "execute_result",
          "data": {
            "text/plain": [
              "RandomForestRegressor(bootstrap=True, ccp_alpha=0.0, criterion='mae',\n",
              "                      max_depth=None, max_features='auto', max_leaf_nodes=None,\n",
              "                      max_samples=None, min_impurity_decrease=0.0,\n",
              "                      min_impurity_split=None, min_samples_leaf=1,\n",
              "                      min_samples_split=2, min_weight_fraction_leaf=0.0,\n",
              "                      n_estimators=2000, n_jobs=-1, oob_score=False,\n",
              "                      random_state=0, verbose=0, warm_start=False)"
            ]
          },
          "metadata": {},
          "execution_count": 6
        }
      ]
    },
    {
      "cell_type": "code",
      "metadata": {
        "id": "xmHBSVwEPp5t"
      },
      "source": [
        "y_pred = regressor.predict(X_test)"
      ],
      "execution_count": 7,
      "outputs": []
    },
    {
      "cell_type": "code",
      "metadata": {
        "id": "Z4bGcB9U62Js"
      },
      "source": [
        "def mean_absolute_percentage_error(y_true,y_pred):\n",
        "  y_true, y_pred = np.array(y_true), np.array(y_pred)\n",
        "  return np.mean(np.abs((y_true - y_pred) / y_true)) * 100\n",
        "\n",
        "mape = mean_absolute_percentage_error(y_test,y_pred)"
      ],
      "execution_count": 9,
      "outputs": []
    },
    {
      "cell_type": "code",
      "metadata": {
        "colab": {
          "base_uri": "https://localhost:8080/"
        },
        "id": "suK5rCpV0p9g",
        "outputId": "04524f3e-5489-4b61-bf4a-c9599ec935d4"
      },
      "source": [
        "#for regression score\n",
        "from sklearn import metrics \n",
        "print('MAE:', metrics.mean_absolute_error(y_test,y_pred))\n",
        "print('MSE:', metrics.mean_squared_error(y_test, y_pred))\n",
        "print('RMSE:', np.sqrt(metrics.mean_squared_error(y_test, y_pred)))\n",
        "print('MAPE:', mape)\n"
      ],
      "execution_count": 11,
      "outputs": [
        {
          "output_type": "stream",
          "name": "stdout",
          "text": [
            "MAE: 0.0049405975843747445\n",
            "MSE: 4.6875967394385485e-05\n",
            "RMSE: 0.006846602616946998\n",
            "MAPE: 13.830524429615862\n"
          ]
        }
      ]
    },
    {
      "cell_type": "code",
      "metadata": {
        "colab": {
          "base_uri": "https://localhost:8080/"
        },
        "id": "We73bOV2Z1uQ",
        "outputId": "e6fc2524-2e33-4915-af01-2b07aefcd96c"
      },
      "source": [
        "#for close prediction\n",
        "y_pred = regressor.predict(np.array([7999]).reshape(1, 1)) # test the output by changing values\n",
        "y_pred"
      ],
      "execution_count": 68,
      "outputs": [
        {
          "output_type": "execute_result",
          "data": {
            "text/plain": [
              "array([1.16085312])"
            ]
          },
          "metadata": {},
          "execution_count": 68
        }
      ]
    },
    {
      "cell_type": "code",
      "metadata": {
        "id": "85rbSjDxemSP"
      },
      "source": [
        "# #for close prediction\n",
        "# # Visualising the Random Forest Regression results\n",
        "\n",
        "# # arange for creating a range of values\n",
        "# # from min value of x to max\n",
        "# # value of x with a difference of 0.01\n",
        "# # between two consecutive values\n",
        "# X_grid = np.arange(min(x), max(x), .01)\n",
        "\n",
        "# # reshape for reshaping the data into a len(X_grid)*1 array,\n",
        "# # i.e. to make a column out of the X_grid value\t\t\t\t\n",
        "# X_grid = X_grid.reshape((len(X_grid), 1))\n",
        "\n",
        "# # Scatter plot for original data\n",
        "# plt.scatter(x, y, color = 'blue')\n",
        "\n",
        "# # plot predicted data\n",
        "# plt.plot(X_grid, regressor.predict(X_grid),\n",
        "# \t\tcolor = 'green')\n",
        "# plt.title('Random Forest Regression')\n",
        "# plt.xlabel('Position level')\n",
        "# plt.ylabel('EURUSD')\n",
        "# plt.xlim(80,100)\n",
        "# plt.ylim(1.15,1.167)\n",
        "# plt.show()\n"
      ],
      "execution_count": null,
      "outputs": []
    },
    {
      "cell_type": "code",
      "metadata": {
        "colab": {
          "base_uri": "https://localhost:8080/"
        },
        "id": "kIHV30_ZH5eg",
        "outputId": "00ed2bd9-ae56-4384-bd3f-d0bc9795e17e"
      },
      "source": [
        "#for low prediction\n",
        "#select rows to use for x,y\n",
        "x = eu.iloc[:,[0]].values\n",
        "print(x)\n",
        "y = eu.iloc[:,[5]].values\n",
        "print(y)"
      ],
      "execution_count": 12,
      "outputs": [
        {
          "output_type": "stream",
          "name": "stdout",
          "text": [
            "[[   0]\n",
            " [   1]\n",
            " [   2]\n",
            " ...\n",
            " [7996]\n",
            " [7997]\n",
            " [7998]]\n",
            "[[1.2539 ]\n",
            " [1.2547 ]\n",
            " [1.2546 ]\n",
            " ...\n",
            " [1.1575 ]\n",
            " [1.15621]\n",
            " [1.15281]]\n"
          ]
        }
      ]
    },
    {
      "cell_type": "code",
      "metadata": {
        "id": "s-d3TjyWS22Q"
      },
      "source": [
        "#for low prediction\n",
        "from sklearn.model_selection import train_test_split\n",
        "X_train, X_test, y_train, y_test = train_test_split(x, y, test_size = 0.30)"
      ],
      "execution_count": 13,
      "outputs": []
    },
    {
      "cell_type": "code",
      "metadata": {
        "colab": {
          "base_uri": "https://localhost:8080/"
        },
        "id": "W2CQQyXSS22R",
        "outputId": "384315a2-7532-429c-a21f-5b26c98455ab"
      },
      "source": [
        "#for low prediction and accuracy test\n",
        "# Fitting Random Forest Regression to the dataset\n",
        "# import the regressor\n",
        "from sklearn.ensemble import RandomForestRegressor\n",
        "# create regressor object\n",
        "regressor = RandomForestRegressor(n_estimators = 10000, n_jobs=-1, criterion='mae', random_state = 2)\n",
        "# fit the regressor with x and y data\n",
        "regressor.fit(X_train, y_train)"
      ],
      "execution_count": 28,
      "outputs": [
        {
          "output_type": "stream",
          "name": "stderr",
          "text": [
            "/usr/local/lib/python3.7/dist-packages/ipykernel_launcher.py:8: DataConversionWarning: A column-vector y was passed when a 1d array was expected. Please change the shape of y to (n_samples,), for example using ravel().\n",
            "  \n"
          ]
        },
        {
          "output_type": "execute_result",
          "data": {
            "text/plain": [
              "RandomForestRegressor(bootstrap=True, ccp_alpha=0.0, criterion='mae',\n",
              "                      max_depth=None, max_features='auto', max_leaf_nodes=None,\n",
              "                      max_samples=None, min_impurity_decrease=0.0,\n",
              "                      min_impurity_split=None, min_samples_leaf=1,\n",
              "                      min_samples_split=2, min_weight_fraction_leaf=0.0,\n",
              "                      n_estimators=2000, n_jobs=-1, oob_score=False,\n",
              "                      random_state=2, verbose=0, warm_start=False)"
            ]
          },
          "metadata": {},
          "execution_count": 28
        }
      ]
    },
    {
      "cell_type": "code",
      "metadata": {
        "id": "DSflbgeHS22R"
      },
      "source": [
        "#for low pred \n",
        "y_pred = regressor.predict(X_test)\n",
        "mape = mean_absolute_percentage_error(y_test,y_pred)"
      ],
      "execution_count": 29,
      "outputs": []
    },
    {
      "cell_type": "code",
      "metadata": {
        "colab": {
          "base_uri": "https://localhost:8080/"
        },
        "id": "HAlEpAY7S22R",
        "outputId": "986e5538-7b99-4c0e-daa5-77df08ba71e6"
      },
      "source": [
        "#for low pred regression score\n",
        "from sklearn import metrics \n",
        "print('MAE:', metrics.mean_absolute_error(y_test,y_pred))\n",
        "print('MSE:', metrics.mean_squared_error(y_test, y_pred))\n",
        "print('RMSE:', np.sqrt(metrics.mean_squared_error(y_test, y_pred)))\n",
        "print('MAPE:', mape)"
      ],
      "execution_count": 30,
      "outputs": [
        {
          "output_type": "stream",
          "name": "stdout",
          "text": [
            "MAE: 0.004395564028123851\n",
            "MSE: 3.9120892924876805e-05\n",
            "RMSE: 0.006254669689510135\n",
            "MAPE: 14.06445250451888\n"
          ]
        }
      ]
    },
    {
      "cell_type": "code",
      "metadata": {
        "colab": {
          "base_uri": "https://localhost:8080/"
        },
        "id": "imhGUfGcS22R",
        "outputId": "375652c8-39b8-4717-e02a-411d8bd7a170"
      },
      "source": [
        "#for low pred \n",
        "y_pred = regressor.predict(np.array([7999]).reshape(1, 1)) # test the output by changing values\n",
        "y_pred"
      ],
      "execution_count": 74,
      "outputs": [
        {
          "output_type": "execute_result",
          "data": {
            "text/plain": [
              "array([1.15377476])"
            ]
          },
          "metadata": {},
          "execution_count": 74
        }
      ]
    },
    {
      "cell_type": "code",
      "metadata": {
        "id": "DvA_vsGiIJvu"
      },
      "source": [
        "# #for low prediction\n",
        "# # Visualising the Random Forest Regression results\n",
        "\n",
        "# # arange for creating a range of values\n",
        "# # from min value of x to max\n",
        "# # value of x with a difference of 0.01\n",
        "# # between two consecutive values\n",
        "# X_grid = np.arange(min(x), max(x), .01)\n",
        "\n",
        "# # reshape for reshaping the data into a len(X_grid)*1 array,\n",
        "# # i.e. to make a column out of the X_grid value\t\t\t\t\n",
        "# X_grid = X_grid.reshape((len(X_grid), 1))\n",
        "\n",
        "# # Scatter plot for original data\n",
        "# plt.scatter(x, y, color = 'blue')\n",
        "\n",
        "# # plot predicted data\n",
        "# plt.plot(X_grid, regressor.predict(X_grid),\n",
        "# \t\tcolor = 'green')\n",
        "# plt.title('Random Forest Regression')\n",
        "# plt.xlabel('Position level')\n",
        "# plt.ylabel('EURUSD')\n",
        "# plt.xlim(80,100)\n",
        "# plt.ylim(1.15,1.167)\n",
        "# plt.show()"
      ],
      "execution_count": null,
      "outputs": []
    },
    {
      "cell_type": "code",
      "metadata": {
        "colab": {
          "base_uri": "https://localhost:8080/"
        },
        "id": "CNQOZ0oNIwHQ",
        "outputId": "3bd86a59-eb2d-4178-f5d3-67b0c1fe1e73"
      },
      "source": [
        "#for high prediction\n",
        "#select rows to use for x,y\n",
        "x = eu.iloc[:,[0]].values\n",
        "print(x)\n",
        "y = eu.iloc[:,[4]].values\n",
        "print(y)"
      ],
      "execution_count": 31,
      "outputs": [
        {
          "output_type": "stream",
          "name": "stdout",
          "text": [
            "[[   0]\n",
            " [   1]\n",
            " [   2]\n",
            " ...\n",
            " [7996]\n",
            " [7997]\n",
            " [7998]]\n",
            "[[1.2686 ]\n",
            " [1.2671 ]\n",
            " [1.2612 ]\n",
            " ...\n",
            " [1.16132]\n",
            " [1.16161]\n",
            " [1.16163]]\n"
          ]
        }
      ]
    },
    {
      "cell_type": "code",
      "metadata": {
        "id": "WEJIyPqMViu4"
      },
      "source": [
        "#for high prediction\n",
        "from sklearn.model_selection import train_test_split\n",
        "X_train, X_test, y_train, y_test = train_test_split(x, y, test_size = 0.30)"
      ],
      "execution_count": 32,
      "outputs": []
    },
    {
      "cell_type": "code",
      "metadata": {
        "colab": {
          "base_uri": "https://localhost:8080/"
        },
        "id": "g_WdTiJbViu4",
        "outputId": "3dbb90c6-d24f-4281-e0ab-eaaad46404e5"
      },
      "source": [
        "#for high prediction and accuracy test\n",
        "# Fitting Random Forest Regression to the dataset\n",
        "# import the regressor\n",
        "from sklearn.ensemble import RandomForestRegressor\n",
        "# create regressor object\n",
        "regressor = RandomForestRegressor(n_estimators = 10000, n_jobs=-1, criterion='mae', random_state = 3)\n",
        "# fit the regressor with x and y data\n",
        "regressor.fit(X_train, y_train)"
      ],
      "execution_count": 33,
      "outputs": [
        {
          "output_type": "stream",
          "name": "stderr",
          "text": [
            "/usr/local/lib/python3.7/dist-packages/ipykernel_launcher.py:8: DataConversionWarning: A column-vector y was passed when a 1d array was expected. Please change the shape of y to (n_samples,), for example using ravel().\n",
            "  \n"
          ]
        },
        {
          "output_type": "execute_result",
          "data": {
            "text/plain": [
              "RandomForestRegressor(bootstrap=True, ccp_alpha=0.0, criterion='mae',\n",
              "                      max_depth=None, max_features='auto', max_leaf_nodes=None,\n",
              "                      max_samples=None, min_impurity_decrease=0.0,\n",
              "                      min_impurity_split=None, min_samples_leaf=1,\n",
              "                      min_samples_split=2, min_weight_fraction_leaf=0.0,\n",
              "                      n_estimators=10000, n_jobs=-1, oob_score=False,\n",
              "                      random_state=3, verbose=0, warm_start=False)"
            ]
          },
          "metadata": {},
          "execution_count": 33
        }
      ]
    },
    {
      "cell_type": "code",
      "metadata": {
        "id": "lviE4TesViu5"
      },
      "source": [
        "#for high prediction\n",
        "y_pred = regressor.predict(X_test)\n",
        "mape = mean_absolute_percentage_error(y_test,y_pred)"
      ],
      "execution_count": 34,
      "outputs": []
    },
    {
      "cell_type": "code",
      "metadata": {
        "colab": {
          "base_uri": "https://localhost:8080/"
        },
        "id": "9N5zeqU0Viu5",
        "outputId": "79467e6a-6657-4d34-e527-46b7bd569548"
      },
      "source": [
        "#for high regression score\n",
        "from sklearn import metrics \n",
        "print('MAE:', metrics.mean_absolute_error(y_test,y_pred))\n",
        "print('MSE:', metrics.mean_squared_error(y_test, y_pred))\n",
        "print('RMSE:', np.sqrt(metrics.mean_squared_error(y_test, y_pred)))\n",
        "print('MAPE:', mape)"
      ],
      "execution_count": 35,
      "outputs": [
        {
          "output_type": "stream",
          "name": "stdout",
          "text": [
            "MAE: 0.004358945131874337\n",
            "MSE: 3.8017134852548364e-05\n",
            "RMSE: 0.0061658036663964876\n",
            "MAPE: 13.882898113992484\n"
          ]
        }
      ]
    },
    {
      "cell_type": "code",
      "metadata": {
        "colab": {
          "base_uri": "https://localhost:8080/"
        },
        "id": "NzvYU1gFViu5",
        "outputId": "1cbc6489-2566-4272-ca94-2a2bcd2d4273"
      },
      "source": [
        "#for high prediction\n",
        "y_pred = regressor.predict(np.array([7999]).reshape(1, 1)) # test the output by changing values\n",
        "y_pred"
      ],
      "execution_count": 36,
      "outputs": [
        {
          "output_type": "execute_result",
          "data": {
            "text/plain": [
              "array([1.16170369])"
            ]
          },
          "metadata": {},
          "execution_count": 36
        }
      ]
    },
    {
      "cell_type": "code",
      "metadata": {
        "id": "coLwLO0xJ76K"
      },
      "source": [
        "# #for high prediction\n",
        "# # Visualising the Random Forest Regression results\n",
        "\n",
        "# # arange for creating a range of values\n",
        "# # from min value of x to max\n",
        "# # value of x with a difference of 0.01\n",
        "# # between two consecutive values\n",
        "# X_grid = np.arange(min(x), max(x), .01)\n",
        "\n",
        "# # reshape for reshaping the data into a len(X_grid)*1 array,\n",
        "# # i.e. to make a column out of the X_grid value\t\t\t\t\n",
        "# X_grid = X_grid.reshape((len(X_grid), 1))\n",
        "\n",
        "# # Scatter plot for original data\n",
        "# plt.scatter(x, y, color = 'blue')\n",
        "\n",
        "# # plot predicted data\n",
        "# plt.plot(X_grid, regressor.predict(X_grid),\n",
        "# \t\tcolor = 'green')\n",
        "# plt.title('Random Forest Regression')\n",
        "# plt.xlabel('Position level')\n",
        "# plt.ylabel('EURUSD')\n",
        "# plt.xlim(7900,8000)\n",
        "# plt.ylim(1.155,1.19)\n",
        "# plt.show()"
      ],
      "execution_count": null,
      "outputs": []
    }
  ]
}