{
  "nbformat": 4,
  "nbformat_minor": 0,
  "metadata": {
    "colab": {
      "name": "random_forest_regression_2_eurusd.ipynb",
      "provenance": [],
      "authorship_tag": "ABX9TyNmABRyx4dFTE+LDwp0u3Um",
      "include_colab_link": true
    },
    "kernelspec": {
      "name": "python3",
      "display_name": "Python 3"
    },
    "language_info": {
      "name": "python"
    }
  },
  "cells": [
    {
      "cell_type": "markdown",
      "metadata": {
        "id": "view-in-github",
        "colab_type": "text"
      },
      "source": [
        "<a href=\"https://colab.research.google.com/github/gomlfx/apiaryfund/blob/master/random_forest_regression_2_eurusd.ipynb\" target=\"_parent\"><img src=\"https://colab.research.google.com/assets/colab-badge.svg\" alt=\"Open In Colab\"/></a>"
      ]
    },
    {
      "cell_type": "code",
      "metadata": {
        "colab": {
          "base_uri": "https://localhost:8080/"
        },
        "id": "MT4vPMgBZrg8",
        "outputId": "c06b381c-d606-473a-b349-38f1e923a008"
      },
      "source": [
        "import pandas as pd\n",
        "import numpy as np\n",
        "# Import matplotlib for plotting and use magic command for Jupyter Notebooks\n",
        "import matplotlib.pyplot as plt\n",
        "%matplotlib inline\n",
        "#import normalization\n",
        "from sklearn import preprocessing\n",
        "from sklearn.ensemble import RandomForestRegressor\n",
        "#using eurusd, change to your preferred asset\n",
        "eu = pd.read_csv('EURUSD1440.csv')\n",
        "eu.columns=['Date','Time','eu_Open','eu_High','eu_Low','eu_Close','Volume']\n",
        "#Use D1 at least 2000 observations, change below for the number of rows you have.\n",
        "#session crash or slow computing time may require you to use less rows. \n",
        "eu = eu.iloc[-2000:] \n",
        "#eu = eu.iloc[-8000:] \n",
        "eu = eu.reset_index(drop=True)\n",
        "eu['Index']=eu.index\n",
        "eu.set_index('Index', drop=True, append=False, inplace=True, verify_integrity=False)\n",
        "#and make index a feature\n",
        "eu.reset_index(inplace=True)\n",
        "#drop last rows if needed\n",
        "eu = eu[:-1]\n",
        "print(eu.head())\n",
        "print(eu.tail())"
      ],
      "execution_count": 1,
      "outputs": [
        {
          "output_type": "stream",
          "name": "stdout",
          "text": [
            "   Index        Date   Time  eu_Open  eu_High   eu_Low  eu_Close  Volume\n",
            "0      0  2014.02.14  00:00  1.36785  1.37145  1.36735   1.36918   33267\n",
            "1      1  2014.02.17  00:00  1.37007  1.37240  1.36919   1.37047   24544\n",
            "2      2  2014.02.18  00:00  1.37047  1.37696  1.36943   1.37604   32235\n",
            "3      3  2014.02.19  00:00  1.37601  1.37730  1.37242   1.37321   28863\n",
            "4      4  2014.02.20  00:00  1.37322  1.37623  1.36857   1.37202   34443\n",
            "      Index        Date   Time  eu_Open  eu_High   eu_Low  eu_Close  Volume\n",
            "1994   1994  2021.10.25  00:00  1.16398  1.16650  1.15906   1.16100   72911\n",
            "1995   1995  2021.10.26  00:00  1.16083  1.16256  1.15848   1.15956   68126\n",
            "1996   1996  2021.10.27  00:00  1.15868  1.16257  1.15848   1.16025   85984\n",
            "1997   1997  2021.10.28  00:00  1.16018  1.16919  1.15821   1.16822  112541\n",
            "1998   1998  2021.10.29  00:00  1.16794  1.16899  1.15350   1.15622  100657\n"
          ]
        }
      ]
    },
    {
      "cell_type": "code",
      "metadata": {
        "colab": {
          "base_uri": "https://localhost:8080/"
        },
        "id": "QhfQ9UadZ1PE",
        "outputId": "3f49c3d5-88d4-4c23-e1d2-203158cdd184"
      },
      "source": [
        "#for close prediction\n",
        "#select rows to use for x,y\n",
        "x = eu.iloc[:,[0]].values\n",
        "print(x)\n",
        "y = eu.iloc[:,[6]].values\n",
        "print(y)"
      ],
      "execution_count": 2,
      "outputs": [
        {
          "output_type": "stream",
          "name": "stdout",
          "text": [
            "[[   0]\n",
            " [   1]\n",
            " [   2]\n",
            " ...\n",
            " [1996]\n",
            " [1997]\n",
            " [1998]]\n",
            "[[1.36918]\n",
            " [1.37047]\n",
            " [1.37604]\n",
            " ...\n",
            " [1.16025]\n",
            " [1.16822]\n",
            " [1.15622]]\n"
          ]
        }
      ]
    },
    {
      "cell_type": "code",
      "metadata": {
        "colab": {
          "base_uri": "https://localhost:8080/"
        },
        "id": "3HCgL_QEZ1dr",
        "outputId": "2de869b6-b0bd-44fb-f973-d7bc933f75e2"
      },
      "source": [
        "#for close prediction\n",
        "# Fitting Random Forest Regression to the dataset\n",
        "# import the regressor\n",
        "from sklearn.ensemble import RandomForestRegressor\n",
        "\n",
        "# create regressor object\n",
        "regressor = RandomForestRegressor(n_estimators = 10000, random_state = 0)\n",
        "\n",
        "# fit the regressor with x and y data\n",
        "regressor.fit(x, y)"
      ],
      "execution_count": 3,
      "outputs": [
        {
          "output_type": "stream",
          "name": "stderr",
          "text": [
            "/usr/local/lib/python3.7/dist-packages/ipykernel_launcher.py:10: DataConversionWarning: A column-vector y was passed when a 1d array was expected. Please change the shape of y to (n_samples,), for example using ravel().\n",
            "  # Remove the CWD from sys.path while we load stuff.\n"
          ]
        },
        {
          "output_type": "execute_result",
          "data": {
            "text/plain": [
              "RandomForestRegressor(bootstrap=True, ccp_alpha=0.0, criterion='mse',\n",
              "                      max_depth=None, max_features='auto', max_leaf_nodes=None,\n",
              "                      max_samples=None, min_impurity_decrease=0.0,\n",
              "                      min_impurity_split=None, min_samples_leaf=1,\n",
              "                      min_samples_split=2, min_weight_fraction_leaf=0.0,\n",
              "                      n_estimators=10000, n_jobs=None, oob_score=False,\n",
              "                      random_state=0, verbose=0, warm_start=False)"
            ]
          },
          "metadata": {},
          "execution_count": 3
        }
      ]
    },
    {
      "cell_type": "code",
      "metadata": {
        "colab": {
          "base_uri": "https://localhost:8080/"
        },
        "id": "We73bOV2Z1uQ",
        "outputId": "1d94b203-75f9-4c76-bc84-d44d5b89f7d4"
      },
      "source": [
        "#for close prediction\n",
        "Y_pred = regressor.predict(np.array([1999]).reshape(1, 1)) # test the output by changing values\n",
        "Y_pred"
      ],
      "execution_count": 4,
      "outputs": [
        {
          "output_type": "execute_result",
          "data": {
            "text/plain": [
              "array([1.15966956])"
            ]
          },
          "metadata": {},
          "execution_count": 4
        }
      ]
    },
    {
      "cell_type": "code",
      "metadata": {
        "id": "85rbSjDxemSP"
      },
      "source": [
        "# #for close prediction\n",
        "# # Visualising the Random Forest Regression results\n",
        "\n",
        "# # arange for creating a range of values\n",
        "# # from min value of x to max\n",
        "# # value of x with a difference of 0.01\n",
        "# # between two consecutive values\n",
        "# X_grid = np.arange(min(x), max(x), .01)\n",
        "\n",
        "# # reshape for reshaping the data into a len(X_grid)*1 array,\n",
        "# # i.e. to make a column out of the X_grid value\t\t\t\t\n",
        "# X_grid = X_grid.reshape((len(X_grid), 1))\n",
        "\n",
        "# # Scatter plot for original data\n",
        "# plt.scatter(x, y, color = 'blue')\n",
        "\n",
        "# # plot predicted data\n",
        "# plt.plot(X_grid, regressor.predict(X_grid),\n",
        "# \t\tcolor = 'green')\n",
        "# plt.title('Random Forest Regression')\n",
        "# plt.xlabel('Position level')\n",
        "# plt.ylabel('EURUSD')\n",
        "# plt.xlim(80,100)\n",
        "# plt.ylim(1.15,1.167)\n",
        "# plt.show()\n"
      ],
      "execution_count": 5,
      "outputs": []
    },
    {
      "cell_type": "code",
      "metadata": {
        "colab": {
          "base_uri": "https://localhost:8080/"
        },
        "id": "kIHV30_ZH5eg",
        "outputId": "c0b1d066-b0df-49dd-e3e6-d3b010d6b24f"
      },
      "source": [
        "#for low prediction\n",
        "#select rows to use for x,y\n",
        "x = eu.iloc[:,[0]].values\n",
        "print(x)\n",
        "y = eu.iloc[:,[5]].values\n",
        "print(y)"
      ],
      "execution_count": 6,
      "outputs": [
        {
          "output_type": "stream",
          "name": "stdout",
          "text": [
            "[[   0]\n",
            " [   1]\n",
            " [   2]\n",
            " ...\n",
            " [1996]\n",
            " [1997]\n",
            " [1998]]\n",
            "[[1.36735]\n",
            " [1.36919]\n",
            " [1.36943]\n",
            " ...\n",
            " [1.15848]\n",
            " [1.15821]\n",
            " [1.1535 ]]\n"
          ]
        }
      ]
    },
    {
      "cell_type": "code",
      "metadata": {
        "colab": {
          "base_uri": "https://localhost:8080/"
        },
        "id": "h4Ow5P-AIAra",
        "outputId": "c3d4626b-f576-4096-f81d-88d8506ec2ee"
      },
      "source": [
        "#for low prediction\n",
        "# Fitting Random Forest Regression to the dataset\n",
        "# import the regressor\n",
        "from sklearn.ensemble import RandomForestRegressor\n",
        "\n",
        "# create regressor object\n",
        "regressor = RandomForestRegressor(n_estimators = 10000, random_state = 0)\n",
        "\n",
        "# fit the regressor with x and y data\n",
        "regressor.fit(x, y)"
      ],
      "execution_count": 7,
      "outputs": [
        {
          "output_type": "stream",
          "name": "stderr",
          "text": [
            "/usr/local/lib/python3.7/dist-packages/ipykernel_launcher.py:10: DataConversionWarning: A column-vector y was passed when a 1d array was expected. Please change the shape of y to (n_samples,), for example using ravel().\n",
            "  # Remove the CWD from sys.path while we load stuff.\n"
          ]
        },
        {
          "output_type": "execute_result",
          "data": {
            "text/plain": [
              "RandomForestRegressor(bootstrap=True, ccp_alpha=0.0, criterion='mse',\n",
              "                      max_depth=None, max_features='auto', max_leaf_nodes=None,\n",
              "                      max_samples=None, min_impurity_decrease=0.0,\n",
              "                      min_impurity_split=None, min_samples_leaf=1,\n",
              "                      min_samples_split=2, min_weight_fraction_leaf=0.0,\n",
              "                      n_estimators=10000, n_jobs=None, oob_score=False,\n",
              "                      random_state=0, verbose=0, warm_start=False)"
            ]
          },
          "metadata": {},
          "execution_count": 7
        }
      ]
    },
    {
      "cell_type": "code",
      "metadata": {
        "colab": {
          "base_uri": "https://localhost:8080/"
        },
        "id": "_Jf2RmmWICqb",
        "outputId": "43647450-e134-424c-af1e-874cf5a05c36"
      },
      "source": [
        "#for low prediction\n",
        "Y_pred = regressor.predict(np.array([1999]).reshape(1, 1)) # test the output by changing values\n",
        "Y_pred"
      ],
      "execution_count": 8,
      "outputs": [
        {
          "output_type": "execute_result",
          "data": {
            "text/plain": [
              "array([1.15539656])"
            ]
          },
          "metadata": {},
          "execution_count": 8
        }
      ]
    },
    {
      "cell_type": "code",
      "metadata": {
        "id": "DvA_vsGiIJvu"
      },
      "source": [
        "# #for low prediction\n",
        "# # Visualising the Random Forest Regression results\n",
        "\n",
        "# # arange for creating a range of values\n",
        "# # from min value of x to max\n",
        "# # value of x with a difference of 0.01\n",
        "# # between two consecutive values\n",
        "# X_grid = np.arange(min(x), max(x), .01)\n",
        "\n",
        "# # reshape for reshaping the data into a len(X_grid)*1 array,\n",
        "# # i.e. to make a column out of the X_grid value\t\t\t\t\n",
        "# X_grid = X_grid.reshape((len(X_grid), 1))\n",
        "\n",
        "# # Scatter plot for original data\n",
        "# plt.scatter(x, y, color = 'blue')\n",
        "\n",
        "# # plot predicted data\n",
        "# plt.plot(X_grid, regressor.predict(X_grid),\n",
        "# \t\tcolor = 'green')\n",
        "# plt.title('Random Forest Regression')\n",
        "# plt.xlabel('Position level')\n",
        "# plt.ylabel('EURUSD')\n",
        "# plt.xlim(80,100)\n",
        "# plt.ylim(1.15,1.167)\n",
        "# plt.show()"
      ],
      "execution_count": 9,
      "outputs": []
    },
    {
      "cell_type": "code",
      "metadata": {
        "colab": {
          "base_uri": "https://localhost:8080/"
        },
        "id": "CNQOZ0oNIwHQ",
        "outputId": "9011a5d7-3685-45f5-900f-bbebd20fcaef"
      },
      "source": [
        "#for high prediction\n",
        "#select rows to use for x,y\n",
        "x = eu.iloc[:,[0]].values\n",
        "print(x)\n",
        "y = eu.iloc[:,[4]].values\n",
        "print(y)"
      ],
      "execution_count": 10,
      "outputs": [
        {
          "output_type": "stream",
          "name": "stdout",
          "text": [
            "[[   0]\n",
            " [   1]\n",
            " [   2]\n",
            " ...\n",
            " [1996]\n",
            " [1997]\n",
            " [1998]]\n",
            "[[1.37145]\n",
            " [1.3724 ]\n",
            " [1.37696]\n",
            " ...\n",
            " [1.16257]\n",
            " [1.16919]\n",
            " [1.16899]]\n"
          ]
        }
      ]
    },
    {
      "cell_type": "code",
      "metadata": {
        "colab": {
          "base_uri": "https://localhost:8080/"
        },
        "id": "0DT2eNsQIy8V",
        "outputId": "82359958-e265-426e-841d-d609db3b03ac"
      },
      "source": [
        "#for high prediction\n",
        "# Fitting Random Forest Regression to the dataset\n",
        "# import the regressor\n",
        "from sklearn.ensemble import RandomForestRegressor\n",
        "\n",
        "# create regressor object\n",
        "regressor = RandomForestRegressor(n_estimators = 10000, random_state = 0)\n",
        "\n",
        "# fit the regressor with x and y data\n",
        "regressor.fit(x, y)"
      ],
      "execution_count": 11,
      "outputs": [
        {
          "output_type": "stream",
          "name": "stderr",
          "text": [
            "/usr/local/lib/python3.7/dist-packages/ipykernel_launcher.py:10: DataConversionWarning: A column-vector y was passed when a 1d array was expected. Please change the shape of y to (n_samples,), for example using ravel().\n",
            "  # Remove the CWD from sys.path while we load stuff.\n"
          ]
        },
        {
          "output_type": "execute_result",
          "data": {
            "text/plain": [
              "RandomForestRegressor(bootstrap=True, ccp_alpha=0.0, criterion='mse',\n",
              "                      max_depth=None, max_features='auto', max_leaf_nodes=None,\n",
              "                      max_samples=None, min_impurity_decrease=0.0,\n",
              "                      min_impurity_split=None, min_samples_leaf=1,\n",
              "                      min_samples_split=2, min_weight_fraction_leaf=0.0,\n",
              "                      n_estimators=10000, n_jobs=None, oob_score=False,\n",
              "                      random_state=0, verbose=0, warm_start=False)"
            ]
          },
          "metadata": {},
          "execution_count": 11
        }
      ]
    },
    {
      "cell_type": "code",
      "metadata": {
        "colab": {
          "base_uri": "https://localhost:8080/"
        },
        "id": "WBLHiNXwJBtJ",
        "outputId": "ce5a4875-22b7-445b-f232-5c506cbd0896"
      },
      "source": [
        "#for high prediction\n",
        "Y_pred = regressor.predict(np.array([1999]).reshape(1, 1)) # test the output by changing values\n",
        "Y_pred"
      ],
      "execution_count": 12,
      "outputs": [
        {
          "output_type": "execute_result",
          "data": {
            "text/plain": [
              "array([1.16828097])"
            ]
          },
          "metadata": {},
          "execution_count": 12
        }
      ]
    },
    {
      "cell_type": "code",
      "metadata": {
        "id": "coLwLO0xJ76K"
      },
      "source": [
        "# #for high prediction\n",
        "# # Visualising the Random Forest Regression results\n",
        "\n",
        "# # arange for creating a range of values\n",
        "# # from min value of x to max\n",
        "# # value of x with a difference of 0.01\n",
        "# # between two consecutive values\n",
        "# X_grid = np.arange(min(x), max(x), .01)\n",
        "\n",
        "# # reshape for reshaping the data into a len(X_grid)*1 array,\n",
        "# # i.e. to make a column out of the X_grid value\t\t\t\t\n",
        "# X_grid = X_grid.reshape((len(X_grid), 1))\n",
        "\n",
        "# # Scatter plot for original data\n",
        "# plt.scatter(x, y, color = 'blue')\n",
        "\n",
        "# # plot predicted data\n",
        "# plt.plot(X_grid, regressor.predict(X_grid),\n",
        "# \t\tcolor = 'green')\n",
        "# plt.title('Random Forest Regression')\n",
        "# plt.xlabel('Position level')\n",
        "# plt.ylabel('EURUSD')\n",
        "# plt.xlim(80,100)\n",
        "# plt.ylim(1.15,1.167)\n",
        "# plt.show()"
      ],
      "execution_count": 13,
      "outputs": []
    }
  ]
}