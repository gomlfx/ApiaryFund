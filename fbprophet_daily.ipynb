{
  "nbformat": 4,
  "nbformat_minor": 0,
  "metadata": {
    "colab": {
      "name": "fbprophet_daily.ipynb",
      "provenance": [],
      "collapsed_sections": [],
      "authorship_tag": "ABX9TyMxxripiOUvp/wZnunHB/o3",
      "include_colab_link": true
    },
    "kernelspec": {
      "name": "python3",
      "display_name": "Python 3"
    }
  },
  "cells": [
    {
      "cell_type": "markdown",
      "metadata": {
        "id": "view-in-github",
        "colab_type": "text"
      },
      "source": [
        "<a href=\"https://colab.research.google.com/github/gomlfx/apiaryfund/blob/master/fbprophet_daily.ipynb\" target=\"_parent\"><img src=\"https://colab.research.google.com/assets/colab-badge.svg\" alt=\"Open In Colab\"/></a>"
      ]
    },
    {
      "cell_type": "code",
      "metadata": {
        "id": "_4Ut_tez7muF",
        "colab_type": "code",
        "colab": {}
      },
      "source": [
        "import pandas as pd\n",
        "from fbprophet import Prophet\n",
        "from datetime import datetime\n",
        "import matplotlib.pyplot as plt\n",
        "pd.plotting.register_matplotlib_converters()\n",
        "%matplotlib inline"
      ],
      "execution_count": 1,
      "outputs": []
    },
    {
      "cell_type": "code",
      "metadata": {
        "id": "b1QarBUd-BWZ",
        "colab_type": "code",
        "colab": {
          "base_uri": "https://localhost:8080/",
          "height": 114
        },
        "outputId": "3c589c26-f81c-4028-9d79-e09c3008faec"
      },
      "source": [
        "#for the high prediction\n",
        "df = pd.read_csv('EURUSD_Daily_197101040000_202009180000.csv', sep='\\t')\n",
        "pd_df2 = pd.DataFrame(data = df.tail(1000))\n",
        "pd_df2.rename(columns={\"<DATE>\":\"ds\",\"<HIGH>\":\"y\"}, inplace=True)\n",
        "df = pd_df2\n",
        "df['ds'] = pd.to_datetime(df['ds'])\n",
        "m = Prophet().fit(df)\n",
        "future = m.make_future_dataframe(periods=1, freq='D')\n",
        "#making sure to drop weekends before running into m.predict\n",
        "future = future[future['ds'].dt.dayofweek < 5]\n",
        "fcst_h = m.predict(future)\n",
        "fcst_h[['ds','yhat']].tail(1)"
      ],
      "execution_count": 5,
      "outputs": [
        {
          "output_type": "stream",
          "text": [
            "INFO:numexpr.utils:NumExpr defaulting to 2 threads.\n",
            "INFO:fbprophet:Disabling daily seasonality. Run prophet with daily_seasonality=True to override this.\n"
          ],
          "name": "stderr"
        },
        {
          "output_type": "execute_result",
          "data": {
            "text/html": [
              "<div>\n",
              "<style scoped>\n",
              "    .dataframe tbody tr th:only-of-type {\n",
              "        vertical-align: middle;\n",
              "    }\n",
              "\n",
              "    .dataframe tbody tr th {\n",
              "        vertical-align: top;\n",
              "    }\n",
              "\n",
              "    .dataframe thead th {\n",
              "        text-align: right;\n",
              "    }\n",
              "</style>\n",
              "<table border=\"1\" class=\"dataframe\">\n",
              "  <thead>\n",
              "    <tr style=\"text-align: right;\">\n",
              "      <th></th>\n",
              "      <th>ds</th>\n",
              "      <th>yhat</th>\n",
              "    </tr>\n",
              "  </thead>\n",
              "  <tbody>\n",
              "    <tr>\n",
              "      <th>999</th>\n",
              "      <td>2020-09-18</td>\n",
              "      <td>1.194038</td>\n",
              "    </tr>\n",
              "  </tbody>\n",
              "</table>\n",
              "</div>"
            ],
            "text/plain": [
              "            ds      yhat\n",
              "999 2020-09-18  1.194038"
            ]
          },
          "metadata": {
            "tags": []
          },
          "execution_count": 5
        }
      ]
    },
    {
      "cell_type": "code",
      "metadata": {
        "id": "ZszXl0Nc8TEI",
        "colab_type": "code",
        "colab": {
          "base_uri": "https://localhost:8080/",
          "height": 97
        },
        "outputId": "06a3136f-af48-458d-a889-66eebc4e6c0d"
      },
      "source": [
        "#for the close prediction\n",
        "#m = Prophet(daily_seasonality=True,weekly_seasonality=True,yearly_seasonality=True).fit(df) \n",
        "df = pd.read_csv('EURUSD_Daily_197101040000_202009180000.csv', sep='\\t')\n",
        "pd_df2 = pd.DataFrame(data = df.tail(1000))\n",
        "pd_df2.rename(columns={\"<DATE>\":\"ds\",\"<CLOSE>\":\"y\"}, inplace=True)\n",
        "df = pd_df2\n",
        "m = Prophet().fit(df)\n",
        "future = m.make_future_dataframe(periods=1, freq='D')\n",
        "#making sure to drop weekends before running into m.predict\n",
        "future = future[future['ds'].dt.dayofweek < 5]\n",
        "fcst_c = m.predict(future)\n",
        "fcst_c[['ds','yhat']].tail(1)"
      ],
      "execution_count": 6,
      "outputs": [
        {
          "output_type": "stream",
          "text": [
            "INFO:fbprophet:Disabling daily seasonality. Run prophet with daily_seasonality=True to override this.\n"
          ],
          "name": "stderr"
        },
        {
          "output_type": "execute_result",
          "data": {
            "text/html": [
              "<div>\n",
              "<style scoped>\n",
              "    .dataframe tbody tr th:only-of-type {\n",
              "        vertical-align: middle;\n",
              "    }\n",
              "\n",
              "    .dataframe tbody tr th {\n",
              "        vertical-align: top;\n",
              "    }\n",
              "\n",
              "    .dataframe thead th {\n",
              "        text-align: right;\n",
              "    }\n",
              "</style>\n",
              "<table border=\"1\" class=\"dataframe\">\n",
              "  <thead>\n",
              "    <tr style=\"text-align: right;\">\n",
              "      <th></th>\n",
              "      <th>ds</th>\n",
              "      <th>yhat</th>\n",
              "    </tr>\n",
              "  </thead>\n",
              "  <tbody>\n",
              "    <tr>\n",
              "      <th>999</th>\n",
              "      <td>2020-09-18</td>\n",
              "      <td>1.188846</td>\n",
              "    </tr>\n",
              "  </tbody>\n",
              "</table>\n",
              "</div>"
            ],
            "text/plain": [
              "            ds      yhat\n",
              "999 2020-09-18  1.188846"
            ]
          },
          "metadata": {
            "tags": []
          },
          "execution_count": 6
        }
      ]
    },
    {
      "cell_type": "code",
      "metadata": {
        "id": "vi7-B1f_-N59",
        "colab_type": "code",
        "colab": {
          "base_uri": "https://localhost:8080/",
          "height": 97
        },
        "outputId": "bc21f1a0-bd39-4224-f193-f812ef4fb92c"
      },
      "source": [
        "#for the low prediction\n",
        "df = pd.read_csv('EURUSD_Daily_197101040000_202009180000.csv', sep='\\t')\n",
        "pd_df2 = pd.DataFrame(data = df.tail(1000))\n",
        "pd_df2.rename(columns={\"<DATE>\":\"ds\",\"<LOW>\":\"y\"}, inplace=True)\n",
        "df = pd_df2\n",
        "df['ds'] = pd.to_datetime(df['ds'])\n",
        "m = Prophet().fit(df)\n",
        "future = m.make_future_dataframe(periods=1, freq='D')\n",
        "#making sure to drop weekends before running into m.predict\n",
        "future = future[future['ds'].dt.dayofweek < 5]\n",
        "fcst_l = m.predict(future)\n",
        "fcst_l[['ds','yhat']].tail(1)"
      ],
      "execution_count": 7,
      "outputs": [
        {
          "output_type": "stream",
          "text": [
            "INFO:fbprophet:Disabling daily seasonality. Run prophet with daily_seasonality=True to override this.\n"
          ],
          "name": "stderr"
        },
        {
          "output_type": "execute_result",
          "data": {
            "text/html": [
              "<div>\n",
              "<style scoped>\n",
              "    .dataframe tbody tr th:only-of-type {\n",
              "        vertical-align: middle;\n",
              "    }\n",
              "\n",
              "    .dataframe tbody tr th {\n",
              "        vertical-align: top;\n",
              "    }\n",
              "\n",
              "    .dataframe thead th {\n",
              "        text-align: right;\n",
              "    }\n",
              "</style>\n",
              "<table border=\"1\" class=\"dataframe\">\n",
              "  <thead>\n",
              "    <tr style=\"text-align: right;\">\n",
              "      <th></th>\n",
              "      <th>ds</th>\n",
              "      <th>yhat</th>\n",
              "    </tr>\n",
              "  </thead>\n",
              "  <tbody>\n",
              "    <tr>\n",
              "      <th>999</th>\n",
              "      <td>2020-09-18</td>\n",
              "      <td>1.184747</td>\n",
              "    </tr>\n",
              "  </tbody>\n",
              "</table>\n",
              "</div>"
            ],
            "text/plain": [
              "            ds      yhat\n",
              "999 2020-09-18  1.184747"
            ]
          },
          "metadata": {
            "tags": []
          },
          "execution_count": 7
        }
      ]
    },
    {
      "cell_type": "code",
      "metadata": {
        "id": "Ij3oD3qD-XT1",
        "colab_type": "code",
        "colab": {
          "base_uri": "https://localhost:8080/",
          "height": 1000
        },
        "outputId": "abe37930-edb6-4d6d-d77f-67481e3981bd"
      },
      "source": [
        "#combine on a single chart\n",
        "pd.plotting.register_matplotlib_converters()\n",
        "%matplotlib inline\n",
        "fig = m.plot(fcst_h)\n",
        "plt.xlim('2020-09-15 01:00:00','2020-09-26 01:00:00')\n",
        "plt.ylim(1.17,1.22)\n",
        "\n",
        "fig = m.plot(fcst_c)\n",
        "plt.xlim('2020-09-15 01:00:00','2020-09-26 01:00:00')\n",
        "plt.ylim(1.17,1.22)\n",
        "\n",
        "fig = m.plot(fcst_l)\n",
        "plt.xlim('2020-09-15 01:00:00','2020-09-26 01:00:00')\n",
        "plt.ylim(1.17,1.22)\n",
        "# fcst_h\n",
        "# fcst_c\n",
        "# fcst_l\n"
      ],
      "execution_count": 8,
      "outputs": [
        {
          "output_type": "execute_result",
          "data": {
            "text/plain": [
              "(1.17, 1.22)"
            ]
          },
          "metadata": {
            "tags": []
          },
          "execution_count": 8
        },
        {
          "output_type": "display_data",
          "data": {
            "image/png": "[encoded data removed]",
            "text/plain": [
              "<Figure size 720x432 with 1 Axes>"
            ]
          },
          "metadata": {
            "tags": []
          }
        },
        {
          "output_type": "display_data",
          "data": {
            "image/png": "[encoded data removed]",
            "text/plain": [
              "<Figure size 720x432 with 1 Axes>"
            ]
          },
          "metadata": {
            "tags": []
          }
        },
        {
          "output_type": "display_data",
          "data": {
            "image/png": "[encoded data removed]",
            "text/plain": [
              "<Figure size 720x432 with 1 Axes>"
            ]
          },
          "metadata": {
            "tags": []
          }
        }
      ]
    },
    {
      "cell_type": "code",
      "metadata": {
        "id": "07NWN1fQEqv-",
        "colab_type": "code",
        "colab": {}
      },
      "source": [
        ""
      ],
      "execution_count": 8,
      "outputs": []
    }
  ]
}