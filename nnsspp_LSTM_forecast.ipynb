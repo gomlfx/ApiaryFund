{
  "nbformat": 4,
  "nbformat_minor": 0,
  "metadata": {
    "colab": {
      "name": "nnsspp.ipynb",
      "provenance": [],
      "collapsed_sections": [],
      "authorship_tag": "ABX9TyMIRQGEY3AU6fyD/J9ID3n+",
      "include_colab_link": true
    },
    "kernelspec": {
      "name": "python3",
      "display_name": "Python 3"
    }
  },
  "cells": [
    {
      "cell_type": "markdown",
      "metadata": {
        "id": "view-in-github",
        "colab_type": "text"
      },
      "source": [
        "<a href=\"https://colab.research.google.com/github/gomlfx/apiaryfund/blob/master/nnsspp_LSTM_forecast.ipynb\" target=\"_parent\"><img src=\"https://colab.research.google.com/assets/colab-badge.svg\" alt=\"Open In Colab\"/></a>"
      ]
    },
    {
      "cell_type": "code",
      "metadata": {
        "id": "IrXSP99WX_ek",
        "colab_type": "code",
        "colab": {}
      },
      "source": [
        "import numpy as np\n",
        "import pandas as pd\n",
        "import matplotlib.pyplot as plt\n",
        "from sklearn.preprocessing import MinMaxScaler\n",
        "from keras.models import Sequential, load_model\n",
        "from keras.layers import LSTM, Dense, Dropout\n",
        "import os\n",
        "import tensorflow as tf"
      ],
      "execution_count": 40,
      "outputs": []
    },
    {
      "cell_type": "code",
      "metadata": {
        "id": "_gmBqKdwYXFz",
        "colab_type": "code",
        "colab": {
          "base_uri": "https://localhost:8080/",
          "height": 425
        },
        "outputId": "3f4603dc-a8fe-4004-a9bd-50411842dd25"
      },
      "source": [
        "df = pd.read_csv('EURUSD60.csv')\n",
        "df.columns=[\"date\",\"time\",\"open\",\"high\",\"low\",\"close\",\"volume\"]\n",
        "df['datetime'] = df['date'] + \" \" + df['time']\n",
        "df.tail()"
      ],
      "execution_count": null,
      "outputs": [
        {
          "output_type": "error",
          "ename": "FileNotFoundError",
          "evalue": "ignored",
          "traceback": [
            "\u001b[0;31m---------------------------------------------------------------------------\u001b[0m",
            "\u001b[0;31mFileNotFoundError\u001b[0m                         Traceback (most recent call last)",
            "\u001b[0;32m<ipython-input-2-12436a7f0529>\u001b[0m in \u001b[0;36m<module>\u001b[0;34m()\u001b[0m\n\u001b[0;32m----> 1\u001b[0;31m \u001b[0mdf\u001b[0m \u001b[0;34m=\u001b[0m \u001b[0mpd\u001b[0m\u001b[0;34m.\u001b[0m\u001b[0mread_csv\u001b[0m\u001b[0;34m(\u001b[0m\u001b[0;34m'EURUSD60.csv'\u001b[0m\u001b[0;34m)\u001b[0m\u001b[0;34m\u001b[0m\u001b[0;34m\u001b[0m\u001b[0m\n\u001b[0m\u001b[1;32m      2\u001b[0m \u001b[0mdf\u001b[0m\u001b[0;34m.\u001b[0m\u001b[0mcolumns\u001b[0m\u001b[0;34m=\u001b[0m\u001b[0;34m[\u001b[0m\u001b[0;34m\"date\"\u001b[0m\u001b[0;34m,\u001b[0m\u001b[0;34m\"time\"\u001b[0m\u001b[0;34m,\u001b[0m\u001b[0;34m\"open\"\u001b[0m\u001b[0;34m,\u001b[0m\u001b[0;34m\"high\"\u001b[0m\u001b[0;34m,\u001b[0m\u001b[0;34m\"low\"\u001b[0m\u001b[0;34m,\u001b[0m\u001b[0;34m\"close\"\u001b[0m\u001b[0;34m,\u001b[0m\u001b[0;34m\"volume\"\u001b[0m\u001b[0;34m]\u001b[0m\u001b[0;34m\u001b[0m\u001b[0;34m\u001b[0m\u001b[0m\n\u001b[1;32m      3\u001b[0m \u001b[0mdf\u001b[0m\u001b[0;34m[\u001b[0m\u001b[0;34m'datetime'\u001b[0m\u001b[0;34m]\u001b[0m \u001b[0;34m=\u001b[0m \u001b[0mdf\u001b[0m\u001b[0;34m[\u001b[0m\u001b[0;34m'date'\u001b[0m\u001b[0;34m]\u001b[0m \u001b[0;34m+\u001b[0m \u001b[0;34m\" \"\u001b[0m \u001b[0;34m+\u001b[0m \u001b[0mdf\u001b[0m\u001b[0;34m[\u001b[0m\u001b[0;34m'time'\u001b[0m\u001b[0;34m]\u001b[0m\u001b[0;34m\u001b[0m\u001b[0;34m\u001b[0m\u001b[0m\n\u001b[1;32m      4\u001b[0m \u001b[0mdf\u001b[0m\u001b[0;34m.\u001b[0m\u001b[0mtail\u001b[0m\u001b[0;34m(\u001b[0m\u001b[0;34m)\u001b[0m\u001b[0;34m\u001b[0m\u001b[0;34m\u001b[0m\u001b[0m\n",
            "\u001b[0;32m/usr/local/lib/python3.6/dist-packages/pandas/io/parsers.py\u001b[0m in \u001b[0;36mparser_f\u001b[0;34m(filepath_or_buffer, sep, delimiter, header, names, index_col, usecols, squeeze, prefix, mangle_dupe_cols, dtype, engine, converters, true_values, false_values, skipinitialspace, skiprows, skipfooter, nrows, na_values, keep_default_na, na_filter, verbose, skip_blank_lines, parse_dates, infer_datetime_format, keep_date_col, date_parser, dayfirst, cache_dates, iterator, chunksize, compression, thousands, decimal, lineterminator, quotechar, quoting, doublequote, escapechar, comment, encoding, dialect, error_bad_lines, warn_bad_lines, delim_whitespace, low_memory, memory_map, float_precision)\u001b[0m\n\u001b[1;32m    674\u001b[0m         )\n\u001b[1;32m    675\u001b[0m \u001b[0;34m\u001b[0m\u001b[0m\n\u001b[0;32m--> 676\u001b[0;31m         \u001b[0;32mreturn\u001b[0m \u001b[0m_read\u001b[0m\u001b[0;34m(\u001b[0m\u001b[0mfilepath_or_buffer\u001b[0m\u001b[0;34m,\u001b[0m \u001b[0mkwds\u001b[0m\u001b[0;34m)\u001b[0m\u001b[0;34m\u001b[0m\u001b[0;34m\u001b[0m\u001b[0m\n\u001b[0m\u001b[1;32m    677\u001b[0m \u001b[0;34m\u001b[0m\u001b[0m\n\u001b[1;32m    678\u001b[0m     \u001b[0mparser_f\u001b[0m\u001b[0;34m.\u001b[0m\u001b[0m__name__\u001b[0m \u001b[0;34m=\u001b[0m \u001b[0mname\u001b[0m\u001b[0;34m\u001b[0m\u001b[0;34m\u001b[0m\u001b[0m\n",
            "\u001b[0;32m/usr/local/lib/python3.6/dist-packages/pandas/io/parsers.py\u001b[0m in \u001b[0;36m_read\u001b[0;34m(filepath_or_buffer, kwds)\u001b[0m\n\u001b[1;32m    446\u001b[0m \u001b[0;34m\u001b[0m\u001b[0m\n\u001b[1;32m    447\u001b[0m     \u001b[0;31m# Create the parser.\u001b[0m\u001b[0;34m\u001b[0m\u001b[0;34m\u001b[0m\u001b[0;34m\u001b[0m\u001b[0m\n\u001b[0;32m--> 448\u001b[0;31m     \u001b[0mparser\u001b[0m \u001b[0;34m=\u001b[0m \u001b[0mTextFileReader\u001b[0m\u001b[0;34m(\u001b[0m\u001b[0mfp_or_buf\u001b[0m\u001b[0;34m,\u001b[0m \u001b[0;34m**\u001b[0m\u001b[0mkwds\u001b[0m\u001b[0;34m)\u001b[0m\u001b[0;34m\u001b[0m\u001b[0;34m\u001b[0m\u001b[0m\n\u001b[0m\u001b[1;32m    449\u001b[0m \u001b[0;34m\u001b[0m\u001b[0m\n\u001b[1;32m    450\u001b[0m     \u001b[0;32mif\u001b[0m \u001b[0mchunksize\u001b[0m \u001b[0;32mor\u001b[0m \u001b[0miterator\u001b[0m\u001b[0;34m:\u001b[0m\u001b[0;34m\u001b[0m\u001b[0;34m\u001b[0m\u001b[0m\n",
            "\u001b[0;32m/usr/local/lib/python3.6/dist-packages/pandas/io/parsers.py\u001b[0m in \u001b[0;36m__init__\u001b[0;34m(self, f, engine, **kwds)\u001b[0m\n\u001b[1;32m    878\u001b[0m             \u001b[0mself\u001b[0m\u001b[0;34m.\u001b[0m\u001b[0moptions\u001b[0m\u001b[0;34m[\u001b[0m\u001b[0;34m\"has_index_names\"\u001b[0m\u001b[0;34m]\u001b[0m \u001b[0;34m=\u001b[0m \u001b[0mkwds\u001b[0m\u001b[0;34m[\u001b[0m\u001b[0;34m\"has_index_names\"\u001b[0m\u001b[0;34m]\u001b[0m\u001b[0;34m\u001b[0m\u001b[0;34m\u001b[0m\u001b[0m\n\u001b[1;32m    879\u001b[0m \u001b[0;34m\u001b[0m\u001b[0m\n\u001b[0;32m--> 880\u001b[0;31m         \u001b[0mself\u001b[0m\u001b[0;34m.\u001b[0m\u001b[0m_make_engine\u001b[0m\u001b[0;34m(\u001b[0m\u001b[0mself\u001b[0m\u001b[0;34m.\u001b[0m\u001b[0mengine\u001b[0m\u001b[0;34m)\u001b[0m\u001b[0;34m\u001b[0m\u001b[0;34m\u001b[0m\u001b[0m\n\u001b[0m\u001b[1;32m    881\u001b[0m \u001b[0;34m\u001b[0m\u001b[0m\n\u001b[1;32m    882\u001b[0m     \u001b[0;32mdef\u001b[0m \u001b[0mclose\u001b[0m\u001b[0;34m(\u001b[0m\u001b[0mself\u001b[0m\u001b[0;34m)\u001b[0m\u001b[0;34m:\u001b[0m\u001b[0;34m\u001b[0m\u001b[0;34m\u001b[0m\u001b[0m\n",
            "\u001b[0;32m/usr/local/lib/python3.6/dist-packages/pandas/io/parsers.py\u001b[0m in \u001b[0;36m_make_engine\u001b[0;34m(self, engine)\u001b[0m\n\u001b[1;32m   1112\u001b[0m     \u001b[0;32mdef\u001b[0m \u001b[0m_make_engine\u001b[0m\u001b[0;34m(\u001b[0m\u001b[0mself\u001b[0m\u001b[0;34m,\u001b[0m \u001b[0mengine\u001b[0m\u001b[0;34m=\u001b[0m\u001b[0;34m\"c\"\u001b[0m\u001b[0;34m)\u001b[0m\u001b[0;34m:\u001b[0m\u001b[0;34m\u001b[0m\u001b[0;34m\u001b[0m\u001b[0m\n\u001b[1;32m   1113\u001b[0m         \u001b[0;32mif\u001b[0m \u001b[0mengine\u001b[0m \u001b[0;34m==\u001b[0m \u001b[0;34m\"c\"\u001b[0m\u001b[0;34m:\u001b[0m\u001b[0;34m\u001b[0m\u001b[0;34m\u001b[0m\u001b[0m\n\u001b[0;32m-> 1114\u001b[0;31m             \u001b[0mself\u001b[0m\u001b[0;34m.\u001b[0m\u001b[0m_engine\u001b[0m \u001b[0;34m=\u001b[0m \u001b[0mCParserWrapper\u001b[0m\u001b[0;34m(\u001b[0m\u001b[0mself\u001b[0m\u001b[0;34m.\u001b[0m\u001b[0mf\u001b[0m\u001b[0;34m,\u001b[0m \u001b[0;34m**\u001b[0m\u001b[0mself\u001b[0m\u001b[0;34m.\u001b[0m\u001b[0moptions\u001b[0m\u001b[0;34m)\u001b[0m\u001b[0;34m\u001b[0m\u001b[0;34m\u001b[0m\u001b[0m\n\u001b[0m\u001b[1;32m   1115\u001b[0m         \u001b[0;32melse\u001b[0m\u001b[0;34m:\u001b[0m\u001b[0;34m\u001b[0m\u001b[0;34m\u001b[0m\u001b[0m\n\u001b[1;32m   1116\u001b[0m             \u001b[0;32mif\u001b[0m \u001b[0mengine\u001b[0m \u001b[0;34m==\u001b[0m \u001b[0;34m\"python\"\u001b[0m\u001b[0;34m:\u001b[0m\u001b[0;34m\u001b[0m\u001b[0;34m\u001b[0m\u001b[0m\n",
            "\u001b[0;32m/usr/local/lib/python3.6/dist-packages/pandas/io/parsers.py\u001b[0m in \u001b[0;36m__init__\u001b[0;34m(self, src, **kwds)\u001b[0m\n\u001b[1;32m   1889\u001b[0m         \u001b[0mkwds\u001b[0m\u001b[0;34m[\u001b[0m\u001b[0;34m\"usecols\"\u001b[0m\u001b[0;34m]\u001b[0m \u001b[0;34m=\u001b[0m \u001b[0mself\u001b[0m\u001b[0;34m.\u001b[0m\u001b[0musecols\u001b[0m\u001b[0;34m\u001b[0m\u001b[0;34m\u001b[0m\u001b[0m\n\u001b[1;32m   1890\u001b[0m \u001b[0;34m\u001b[0m\u001b[0m\n\u001b[0;32m-> 1891\u001b[0;31m         \u001b[0mself\u001b[0m\u001b[0;34m.\u001b[0m\u001b[0m_reader\u001b[0m \u001b[0;34m=\u001b[0m \u001b[0mparsers\u001b[0m\u001b[0;34m.\u001b[0m\u001b[0mTextReader\u001b[0m\u001b[0;34m(\u001b[0m\u001b[0msrc\u001b[0m\u001b[0;34m,\u001b[0m \u001b[0;34m**\u001b[0m\u001b[0mkwds\u001b[0m\u001b[0;34m)\u001b[0m\u001b[0;34m\u001b[0m\u001b[0;34m\u001b[0m\u001b[0m\n\u001b[0m\u001b[1;32m   1892\u001b[0m         \u001b[0mself\u001b[0m\u001b[0;34m.\u001b[0m\u001b[0munnamed_cols\u001b[0m \u001b[0;34m=\u001b[0m \u001b[0mself\u001b[0m\u001b[0;34m.\u001b[0m\u001b[0m_reader\u001b[0m\u001b[0;34m.\u001b[0m\u001b[0munnamed_cols\u001b[0m\u001b[0;34m\u001b[0m\u001b[0;34m\u001b[0m\u001b[0m\n\u001b[1;32m   1893\u001b[0m \u001b[0;34m\u001b[0m\u001b[0m\n",
            "\u001b[0;32mpandas/_libs/parsers.pyx\u001b[0m in \u001b[0;36mpandas._libs.parsers.TextReader.__cinit__\u001b[0;34m()\u001b[0m\n",
            "\u001b[0;32mpandas/_libs/parsers.pyx\u001b[0m in \u001b[0;36mpandas._libs.parsers.TextReader._setup_parser_source\u001b[0;34m()\u001b[0m\n",
            "\u001b[0;31mFileNotFoundError\u001b[0m: [Errno 2] File EURUSD60.csv does not exist: 'EURUSD60.csv'"
          ]
        }
      ]
    },
    {
      "cell_type": "code",
      "metadata": {
        "id": "vXIQg805YunG",
        "colab_type": "code",
        "colab": {}
      },
      "source": [
        "#preprocessing\n",
        "df = df['close'].values\n",
        "df = df.reshape(-1,1)\n",
        "print(df.shape)\n",
        "df[:7]"
      ],
      "execution_count": null,
      "outputs": []
    },
    {
      "cell_type": "code",
      "metadata": {
        "id": "bgnE02yGcSOU",
        "colab_type": "code",
        "colab": {}
      },
      "source": [
        "dataset_train = np.array(df[:int(df.shape[0]*0.8)])\n",
        "dataset_test = np.array(df[int(df.shape[0]*0.8)-50:])\n",
        "print(dataset_train.shape)\n",
        "print(dataset_test.shape)"
      ],
      "execution_count": null,
      "outputs": []
    },
    {
      "cell_type": "code",
      "metadata": {
        "id": "FYMR_b6JdO1f",
        "colab_type": "code",
        "colab": {}
      },
      "source": [
        "scaler = MinMaxScaler(feature_range=(0,1))\n",
        "dataset_train = scaler.fit_transform(dataset_train)\n",
        "dataset_train[:7]"
      ],
      "execution_count": null,
      "outputs": []
    },
    {
      "cell_type": "code",
      "metadata": {
        "id": "hPdqe3g6ejTV",
        "colab_type": "code",
        "colab": {}
      },
      "source": [
        "dataset_test = scaler.transform(dataset_test)\n",
        "dataset_test[:7]"
      ],
      "execution_count": null,
      "outputs": []
    },
    {
      "cell_type": "code",
      "metadata": {
        "id": "lLIHrdtLfE91",
        "colab_type": "code",
        "colab": {}
      },
      "source": [
        "def create_my_dataset(df):\n",
        "  x = []\n",
        "  y = []\n",
        "  for i in range(50,df.shape[0]):\n",
        "    x.append(df[i-50:i,0])\n",
        "    y.append(df[i,0])\n",
        "  x = np.array(x)\n",
        "  y = np.array(y)\n",
        "  return x,y"
      ],
      "execution_count": null,
      "outputs": []
    },
    {
      "cell_type": "code",
      "metadata": {
        "id": "L2dPuPmIgAoc",
        "colab_type": "code",
        "colab": {}
      },
      "source": [
        "x_train, y_train = create_my_dataset(dataset_train)\n",
        "x_train[:1]"
      ],
      "execution_count": null,
      "outputs": []
    },
    {
      "cell_type": "code",
      "metadata": {
        "id": "qUvzqAmGgZ7l",
        "colab_type": "code",
        "colab": {}
      },
      "source": [
        "y_train[:1]"
      ],
      "execution_count": null,
      "outputs": []
    },
    {
      "cell_type": "code",
      "metadata": {
        "id": "fPykF36Yg0xT",
        "colab_type": "code",
        "colab": {}
      },
      "source": [
        "x_test, y_test = create_my_dataset(dataset_test)\n",
        "x_test[:1]"
      ],
      "execution_count": null,
      "outputs": []
    },
    {
      "cell_type": "code",
      "metadata": {
        "id": "qBx_RvKCg733",
        "colab_type": "code",
        "colab": {}
      },
      "source": [
        "#reshaping for LSTM\n",
        "x_train = np.reshape(x_train, (x_train.shape[0],x_train.shape[1],1))\n",
        "x_test = np.reshape(x_test, (x_test.shape[0], x_test.shape[1],1))\n",
        "print(x_train.shape)\n",
        "print(x_test.shape)"
      ],
      "execution_count": null,
      "outputs": []
    },
    {
      "cell_type": "code",
      "metadata": {
        "id": "1NpamRoThavO",
        "colab_type": "code",
        "colab": {}
      },
      "source": [
        "#tf.logging.set_verbosity(tf.logging.ERROR)\n",
        "model = Sequential()\n",
        "model.add(LSTM(units = 96, return_sequences=True, input_shape=(x_train.shape[1],1)))\n",
        "model.add(Dropout(0.2))\n",
        "model.add(LSTM(units=96, return_sequences=True))\n",
        "model.add(Dropout(0.2))\n",
        "model.add(LSTM(units=96))\n",
        "model.add(Dropout(0.2))\n",
        "model.add(Dense(units=1))"
      ],
      "execution_count": null,
      "outputs": []
    },
    {
      "cell_type": "code",
      "metadata": {
        "id": "itrryqv9hgBo",
        "colab_type": "code",
        "colab": {}
      },
      "source": [
        "model.summary()"
      ],
      "execution_count": null,
      "outputs": []
    },
    {
      "cell_type": "code",
      "metadata": {
        "id": "WjLz7YqhlWBo",
        "colab_type": "code",
        "colab": {}
      },
      "source": [
        "model.compile(loss='mean_squared_error', optimizer='adam')"
      ],
      "execution_count": null,
      "outputs": []
    },
    {
      "cell_type": "code",
      "metadata": {
        "id": "ZLQUr1lxlxkq",
        "colab_type": "code",
        "colab": {}
      },
      "source": [
        "if(not os.path.exists(r'C:\\Users\\admin\\Desktop\\EURUSD60.h5')):\n",
        "  model.fit(x_train, y_train, epochs=50, batch_size=32)\n",
        "  model.save(r'C:\\Users\\admin\\Desktop\\EURUSD60.h5')"
      ],
      "execution_count": null,
      "outputs": []
    },
    {
      "cell_type": "code",
      "metadata": {
        "id": "mUTqbKiynHf5",
        "colab_type": "code",
        "colab": {}
      },
      "source": [
        "model = load_model(r'C:\\Users\\admin\\Desktop\\EURUSD60.h5')"
      ],
      "execution_count": null,
      "outputs": []
    },
    {
      "cell_type": "code",
      "metadata": {
        "id": "v2rJADyEtuyO",
        "colab_type": "code",
        "colab": {}
      },
      "source": [
        "%matplotlib inline \n",
        "predictions = model.predict(x_test)\n",
        "predictions = scaler.inverse_transform(predictions)\n",
        "\n",
        "fig, ax = plt.subplots(figsize=(8,4))\n",
        "plt.plot(df, color='red', label='original price')\n",
        "ax.plot(range(len(y_train)+50, len(y_train)+50+len(predictions)), predictions, color='blue', label='predicted')\n",
        "plt.legend()\n",
        "print(range(len(y_train)+50, len(y_train)+50+len(predictions)))"
      ],
      "execution_count": null,
      "outputs": []
    },
    {
      "cell_type": "code",
      "metadata": {
        "id": "Ul0XQDt3wl-B",
        "colab_type": "code",
        "colab": {}
      },
      "source": [
        "y_test_scaled = scaler.inverse_transform(y_test.reshape(-1,1))\n",
        "fig, ax = plt.subplots(figsize=(8,4))\n",
        "ax.plot(y_test_scaled, color='red', label = 'True Price of testing set')\n",
        "plt.plot(predictions, color = 'blue', label='predicted')\n",
        "plt.legend()"
      ],
      "execution_count": null,
      "outputs": []
    },
    {
      "cell_type": "code",
      "metadata": {
        "id": "PC951jY3xo95",
        "colab_type": "code",
        "colab": {}
      },
      "source": [
        "import matplotlib.pyplot as plt\n",
        "plt.style.use('ggplot')"
      ],
      "execution_count": 41,
      "outputs": []
    },
    {
      "cell_type": "code",
      "metadata": {
        "id": "wZTPqkruyrcu",
        "colab_type": "code",
        "colab": {
          "base_uri": "https://localhost:8080/",
          "height": 224
        },
        "outputId": "7d43388c-7b74-46d0-8f38-a0b3cce9b02b"
      },
      "source": [
        "df = pd.read_csv('EURUSD_H1_197101040000_202008052300.csv', sep='\\t')\n",
        "df.head()\n",
        "# df.columns=[\"date\",\"time\",\"open\",\"high\",\"low\",\"close\",\"volume\"]\n",
        "# df['datetime'] = df['date'] + \" \" + df['time']\n",
        "# df = pd.DataFrame(df)\n",
        "# df.tail()"
      ],
      "execution_count": 43,
      "outputs": [
        {
          "output_type": "execute_result",
          "data": {
            "text/html": [
              "<div>\n",
              "<style scoped>\n",
              "    .dataframe tbody tr th:only-of-type {\n",
              "        vertical-align: middle;\n",
              "    }\n",
              "\n",
              "    .dataframe tbody tr th {\n",
              "        vertical-align: top;\n",
              "    }\n",
              "\n",
              "    .dataframe thead th {\n",
              "        text-align: right;\n",
              "    }\n",
              "</style>\n",
              "<table border=\"1\" class=\"dataframe\">\n",
              "  <thead>\n",
              "    <tr style=\"text-align: right;\">\n",
              "      <th></th>\n",
              "      <th>&lt;DATE&gt;</th>\n",
              "      <th>&lt;TIME&gt;</th>\n",
              "      <th>&lt;OPEN&gt;</th>\n",
              "      <th>&lt;HIGH&gt;</th>\n",
              "      <th>&lt;LOW&gt;</th>\n",
              "      <th>&lt;CLOSE&gt;</th>\n",
              "      <th>&lt;TICKVOL&gt;</th>\n",
              "      <th>&lt;VOL&gt;</th>\n",
              "      <th>&lt;SPREAD&gt;</th>\n",
              "    </tr>\n",
              "  </thead>\n",
              "  <tbody>\n",
              "    <tr>\n",
              "      <th>0</th>\n",
              "      <td>1971.01.04</td>\n",
              "      <td>00:00:00</td>\n",
              "      <td>0.5369</td>\n",
              "      <td>0.5369</td>\n",
              "      <td>0.5369</td>\n",
              "      <td>0.5369</td>\n",
              "      <td>1</td>\n",
              "      <td>0</td>\n",
              "      <td>50</td>\n",
              "    </tr>\n",
              "    <tr>\n",
              "      <th>1</th>\n",
              "      <td>1971.01.05</td>\n",
              "      <td>00:00:00</td>\n",
              "      <td>0.5366</td>\n",
              "      <td>0.5366</td>\n",
              "      <td>0.5366</td>\n",
              "      <td>0.5366</td>\n",
              "      <td>1</td>\n",
              "      <td>0</td>\n",
              "      <td>50</td>\n",
              "    </tr>\n",
              "    <tr>\n",
              "      <th>2</th>\n",
              "      <td>1971.01.06</td>\n",
              "      <td>00:00:00</td>\n",
              "      <td>0.5365</td>\n",
              "      <td>0.5365</td>\n",
              "      <td>0.5365</td>\n",
              "      <td>0.5365</td>\n",
              "      <td>1</td>\n",
              "      <td>0</td>\n",
              "      <td>50</td>\n",
              "    </tr>\n",
              "    <tr>\n",
              "      <th>3</th>\n",
              "      <td>1971.01.07</td>\n",
              "      <td>00:00:00</td>\n",
              "      <td>0.5368</td>\n",
              "      <td>0.5368</td>\n",
              "      <td>0.5368</td>\n",
              "      <td>0.5368</td>\n",
              "      <td>1</td>\n",
              "      <td>0</td>\n",
              "      <td>50</td>\n",
              "    </tr>\n",
              "    <tr>\n",
              "      <th>4</th>\n",
              "      <td>1971.01.08</td>\n",
              "      <td>00:00:00</td>\n",
              "      <td>0.5371</td>\n",
              "      <td>0.5371</td>\n",
              "      <td>0.5371</td>\n",
              "      <td>0.5371</td>\n",
              "      <td>1</td>\n",
              "      <td>0</td>\n",
              "      <td>50</td>\n",
              "    </tr>\n",
              "  </tbody>\n",
              "</table>\n",
              "</div>"
            ],
            "text/plain": [
              "       <DATE>    <TIME>  <OPEN>  <HIGH>  ...  <CLOSE>  <TICKVOL>  <VOL>  <SPREAD>\n",
              "0  1971.01.04  00:00:00  0.5369  0.5369  ...   0.5369          1      0        50\n",
              "1  1971.01.05  00:00:00  0.5366  0.5366  ...   0.5366          1      0        50\n",
              "2  1971.01.06  00:00:00  0.5365  0.5365  ...   0.5365          1      0        50\n",
              "3  1971.01.07  00:00:00  0.5368  0.5368  ...   0.5368          1      0        50\n",
              "4  1971.01.08  00:00:00  0.5371  0.5371  ...   0.5371          1      0        50\n",
              "\n",
              "[5 rows x 9 columns]"
            ]
          },
          "metadata": {
            "tags": []
          },
          "execution_count": 43
        }
      ]
    },
    {
      "cell_type": "code",
      "metadata": {
        "id": "AD_pNnFxeL5i",
        "colab_type": "code",
        "colab": {
          "base_uri": "https://localhost:8080/",
          "height": 309
        },
        "outputId": "9af2519e-18fd-4662-ab7d-e3831651508b"
      },
      "source": [
        "df['<DATETIME>'] = df['<DATE>'] + \" \" + df['<TIME>']\n",
        "df = pd.DataFrame(df)\n",
        "df.tail()"
      ],
      "execution_count": 44,
      "outputs": [
        {
          "output_type": "execute_result",
          "data": {
            "text/html": [
              "<div>\n",
              "<style scoped>\n",
              "    .dataframe tbody tr th:only-of-type {\n",
              "        vertical-align: middle;\n",
              "    }\n",
              "\n",
              "    .dataframe tbody tr th {\n",
              "        vertical-align: top;\n",
              "    }\n",
              "\n",
              "    .dataframe thead th {\n",
              "        text-align: right;\n",
              "    }\n",
              "</style>\n",
              "<table border=\"1\" class=\"dataframe\">\n",
              "  <thead>\n",
              "    <tr style=\"text-align: right;\">\n",
              "      <th></th>\n",
              "      <th>&lt;DATE&gt;</th>\n",
              "      <th>&lt;TIME&gt;</th>\n",
              "      <th>&lt;OPEN&gt;</th>\n",
              "      <th>&lt;HIGH&gt;</th>\n",
              "      <th>&lt;LOW&gt;</th>\n",
              "      <th>&lt;CLOSE&gt;</th>\n",
              "      <th>&lt;TICKVOL&gt;</th>\n",
              "      <th>&lt;VOL&gt;</th>\n",
              "      <th>&lt;SPREAD&gt;</th>\n",
              "      <th>&lt;DATETIME&gt;</th>\n",
              "    </tr>\n",
              "  </thead>\n",
              "  <tbody>\n",
              "    <tr>\n",
              "      <th>141150</th>\n",
              "      <td>2020.08.05</td>\n",
              "      <td>19:00:00</td>\n",
              "      <td>1.18968</td>\n",
              "      <td>1.18982</td>\n",
              "      <td>1.18670</td>\n",
              "      <td>1.18732</td>\n",
              "      <td>2770</td>\n",
              "      <td>0</td>\n",
              "      <td>1</td>\n",
              "      <td>2020.08.05 19:00:00</td>\n",
              "    </tr>\n",
              "    <tr>\n",
              "      <th>141151</th>\n",
              "      <td>2020.08.05</td>\n",
              "      <td>20:00:00</td>\n",
              "      <td>1.18732</td>\n",
              "      <td>1.18787</td>\n",
              "      <td>1.18625</td>\n",
              "      <td>1.18655</td>\n",
              "      <td>1537</td>\n",
              "      <td>0</td>\n",
              "      <td>1</td>\n",
              "      <td>2020.08.05 20:00:00</td>\n",
              "    </tr>\n",
              "    <tr>\n",
              "      <th>141152</th>\n",
              "      <td>2020.08.05</td>\n",
              "      <td>21:00:00</td>\n",
              "      <td>1.18654</td>\n",
              "      <td>1.18678</td>\n",
              "      <td>1.18545</td>\n",
              "      <td>1.18599</td>\n",
              "      <td>1389</td>\n",
              "      <td>0</td>\n",
              "      <td>1</td>\n",
              "      <td>2020.08.05 21:00:00</td>\n",
              "    </tr>\n",
              "    <tr>\n",
              "      <th>141153</th>\n",
              "      <td>2020.08.05</td>\n",
              "      <td>22:00:00</td>\n",
              "      <td>1.18599</td>\n",
              "      <td>1.18660</td>\n",
              "      <td>1.18581</td>\n",
              "      <td>1.18590</td>\n",
              "      <td>1594</td>\n",
              "      <td>0</td>\n",
              "      <td>1</td>\n",
              "      <td>2020.08.05 22:00:00</td>\n",
              "    </tr>\n",
              "    <tr>\n",
              "      <th>141154</th>\n",
              "      <td>2020.08.05</td>\n",
              "      <td>23:00:00</td>\n",
              "      <td>1.18590</td>\n",
              "      <td>1.18593</td>\n",
              "      <td>1.18555</td>\n",
              "      <td>1.18581</td>\n",
              "      <td>213</td>\n",
              "      <td>0</td>\n",
              "      <td>2</td>\n",
              "      <td>2020.08.05 23:00:00</td>\n",
              "    </tr>\n",
              "  </tbody>\n",
              "</table>\n",
              "</div>"
            ],
            "text/plain": [
              "            <DATE>    <TIME>   <OPEN>  ...  <VOL>  <SPREAD>           <DATETIME>\n",
              "141150  2020.08.05  19:00:00  1.18968  ...      0         1  2020.08.05 19:00:00\n",
              "141151  2020.08.05  20:00:00  1.18732  ...      0         1  2020.08.05 20:00:00\n",
              "141152  2020.08.05  21:00:00  1.18654  ...      0         1  2020.08.05 21:00:00\n",
              "141153  2020.08.05  22:00:00  1.18599  ...      0         1  2020.08.05 22:00:00\n",
              "141154  2020.08.05  23:00:00  1.18590  ...      0         2  2020.08.05 23:00:00\n",
              "\n",
              "[5 rows x 10 columns]"
            ]
          },
          "metadata": {
            "tags": []
          },
          "execution_count": 44
        }
      ]
    },
    {
      "cell_type": "code",
      "metadata": {
        "id": "c_c9a5a0y4Yw",
        "colab_type": "code",
        "colab": {
          "base_uri": "https://localhost:8080/",
          "height": 235
        },
        "outputId": "d3cf61b9-db8c-4d96-8d23-4334d56e04b1"
      },
      "source": [
        "df = df.set_index('<DATETIME>')[['<CLOSE>']].tail(24000)\n",
        "df = df.set_index(pd.to_datetime(df.index))\n",
        "df.head()"
      ],
      "execution_count": 45,
      "outputs": [
        {
          "output_type": "execute_result",
          "data": {
            "text/html": [
              "<div>\n",
              "<style scoped>\n",
              "    .dataframe tbody tr th:only-of-type {\n",
              "        vertical-align: middle;\n",
              "    }\n",
              "\n",
              "    .dataframe tbody tr th {\n",
              "        vertical-align: top;\n",
              "    }\n",
              "\n",
              "    .dataframe thead th {\n",
              "        text-align: right;\n",
              "    }\n",
              "</style>\n",
              "<table border=\"1\" class=\"dataframe\">\n",
              "  <thead>\n",
              "    <tr style=\"text-align: right;\">\n",
              "      <th></th>\n",
              "      <th>&lt;CLOSE&gt;</th>\n",
              "    </tr>\n",
              "    <tr>\n",
              "      <th>&lt;DATETIME&gt;</th>\n",
              "      <th></th>\n",
              "    </tr>\n",
              "  </thead>\n",
              "  <tbody>\n",
              "    <tr>\n",
              "      <th>2016-09-23 13:00:00</th>\n",
              "      <td>1.12233</td>\n",
              "    </tr>\n",
              "    <tr>\n",
              "      <th>2016-09-23 14:00:00</th>\n",
              "      <td>1.12148</td>\n",
              "    </tr>\n",
              "    <tr>\n",
              "      <th>2016-09-23 15:00:00</th>\n",
              "      <td>1.12172</td>\n",
              "    </tr>\n",
              "    <tr>\n",
              "      <th>2016-09-23 16:00:00</th>\n",
              "      <td>1.12170</td>\n",
              "    </tr>\n",
              "    <tr>\n",
              "      <th>2016-09-23 17:00:00</th>\n",
              "      <td>1.12182</td>\n",
              "    </tr>\n",
              "  </tbody>\n",
              "</table>\n",
              "</div>"
            ],
            "text/plain": [
              "                     <CLOSE>\n",
              "<DATETIME>                  \n",
              "2016-09-23 13:00:00  1.12233\n",
              "2016-09-23 14:00:00  1.12148\n",
              "2016-09-23 15:00:00  1.12172\n",
              "2016-09-23 16:00:00  1.12170\n",
              "2016-09-23 17:00:00  1.12182"
            ]
          },
          "metadata": {
            "tags": []
          },
          "execution_count": 45
        }
      ]
    },
    {
      "cell_type": "code",
      "metadata": {
        "id": "k-4c3tWizkMG",
        "colab_type": "code",
        "colab": {
          "base_uri": "https://localhost:8080/",
          "height": 235
        },
        "outputId": "ecc47907-77ab-4da2-d2a9-33a9963c3201"
      },
      "source": [
        "scaler = MinMaxScaler()\n",
        "df = pd.DataFrame(scaler.fit_transform(df), columns = df.columns, index = df.index)\n",
        "df.head()\n"
      ],
      "execution_count": 46,
      "outputs": [
        {
          "output_type": "execute_result",
          "data": {
            "text/html": [
              "<div>\n",
              "<style scoped>\n",
              "    .dataframe tbody tr th:only-of-type {\n",
              "        vertical-align: middle;\n",
              "    }\n",
              "\n",
              "    .dataframe tbody tr th {\n",
              "        vertical-align: top;\n",
              "    }\n",
              "\n",
              "    .dataframe thead th {\n",
              "        text-align: right;\n",
              "    }\n",
              "</style>\n",
              "<table border=\"1\" class=\"dataframe\">\n",
              "  <thead>\n",
              "    <tr style=\"text-align: right;\">\n",
              "      <th></th>\n",
              "      <th>&lt;CLOSE&gt;</th>\n",
              "    </tr>\n",
              "    <tr>\n",
              "      <th>&lt;DATETIME&gt;</th>\n",
              "      <th></th>\n",
              "    </tr>\n",
              "  </thead>\n",
              "  <tbody>\n",
              "    <tr>\n",
              "      <th>2016-09-23 13:00:00</th>\n",
              "      <td>0.395596</td>\n",
              "    </tr>\n",
              "    <tr>\n",
              "      <th>2016-09-23 14:00:00</th>\n",
              "      <td>0.391721</td>\n",
              "    </tr>\n",
              "    <tr>\n",
              "      <th>2016-09-23 15:00:00</th>\n",
              "      <td>0.392815</td>\n",
              "    </tr>\n",
              "    <tr>\n",
              "      <th>2016-09-23 16:00:00</th>\n",
              "      <td>0.392724</td>\n",
              "    </tr>\n",
              "    <tr>\n",
              "      <th>2016-09-23 17:00:00</th>\n",
              "      <td>0.393271</td>\n",
              "    </tr>\n",
              "  </tbody>\n",
              "</table>\n",
              "</div>"
            ],
            "text/plain": [
              "                      <CLOSE>\n",
              "<DATETIME>                   \n",
              "2016-09-23 13:00:00  0.395596\n",
              "2016-09-23 14:00:00  0.391721\n",
              "2016-09-23 15:00:00  0.392815\n",
              "2016-09-23 16:00:00  0.392724\n",
              "2016-09-23 17:00:00  0.393271"
            ]
          },
          "metadata": {
            "tags": []
          },
          "execution_count": 46
        }
      ]
    },
    {
      "cell_type": "code",
      "metadata": {
        "id": "DD4WaWhN0-oI",
        "colab_type": "code",
        "colab": {
          "base_uri": "https://localhost:8080/",
          "height": 375
        },
        "outputId": "e250ba82-8dcc-426b-90a5-025a496e67a6"
      },
      "source": [
        "df.plot(figsize=(14,8))\n",
        "plt.title('eurusd prices')\n",
        "plt.ylabel('normalized prices')\n",
        "plt.show()"
      ],
      "execution_count": 47,
      "outputs": [
        {
          "output_type": "display_data",
          "data": {
            "image/png": "[encoded data removed]",
            "text/plain": [
              "<Figure size 1008x576 with 1 Axes>"
            ]
          },
          "metadata": {
            "tags": []
          }
        }
      ]
    },
    {
      "cell_type": "code",
      "metadata": {
        "id": "sm5_Thpk1OF7",
        "colab_type": "code",
        "colab": {}
      },
      "source": [
        "def split_sequences(seq, n_steps_in, n_steps_out):\n",
        "  X,y =[], []\n",
        "\n",
        "  for i in range(len(seq)):\n",
        "    end = i+n_steps_in\n",
        "    out_end = end + n_steps_out\n",
        "\n",
        "    if out_end > len(seq):\n",
        "      break\n",
        "\n",
        "    seq_x, seq_y = seq[i:end], seq[end:out_end]\n",
        "\n",
        "    X.append(seq_x)\n",
        "    y.append(seq_y)\n",
        "\n",
        "  return np.array(X), np.array(y)"
      ],
      "execution_count": 48,
      "outputs": []
    },
    {
      "cell_type": "code",
      "metadata": {
        "id": "2iR21ZyM2mHv",
        "colab_type": "code",
        "colab": {}
      },
      "source": [
        "def visualize_results(results):\n",
        "  history = results.history\n",
        "  plt.figure(figsize=(12,4))\n",
        "  plt.plot(history['val_loss'])\n",
        "  plt.plot(history['loss'])\n",
        "  plt.legend(['val_loss','loss'])\n",
        "  plt.title('Loss')\n",
        "  plt.xlabel('epochs')\n",
        "  plt.ylabel('loss')\n",
        "  plt.show()\n",
        "\n",
        "  plt.figure(figsize=(12,4))\n",
        "  plt.plot(history['val_accuracy'])\n",
        "  plt.plot(history['accuracy'])\n",
        "  plt.legend(['val_accuracy','accuracy'])\n",
        "  plt.title('Accuracy')\n",
        "  plt.xlabel('epochs')\n",
        "  plt.ylabel('accuracy')\n",
        "  plt.show()"
      ],
      "execution_count": 49,
      "outputs": []
    },
    {
      "cell_type": "code",
      "metadata": {
        "id": "4AZh4tr_GbxJ",
        "colab_type": "code",
        "colab": {
          "base_uri": "https://localhost:8080/",
          "height": 51
        },
        "outputId": "4161849a-8241-4584-822f-a1ca6d14f73c"
      },
      "source": [
        "n_per_in = 20000\n",
        "n_per_out = 24\n",
        "\n",
        "n_features = 1\n",
        "\n",
        "X,y = split_sequences(list(df['<CLOSE>']), n_per_in, n_per_out)\n",
        "\n",
        "print(X.shape)\n",
        "\n",
        "X = X.reshape(X.shape[0],X.shape[1],n_features)\n",
        "\n",
        "print(X.shape)"
      ],
      "execution_count": 50,
      "outputs": [
        {
          "output_type": "stream",
          "text": [
            "(3977, 20000)\n",
            "(3977, 20000, 1)\n"
          ],
          "name": "stdout"
        }
      ]
    },
    {
      "cell_type": "code",
      "metadata": {
        "id": "LMiy3ohnHIwf",
        "colab_type": "code",
        "colab": {
          "base_uri": "https://localhost:8080/",
          "height": 391
        },
        "outputId": "c6eac5a9-3dfa-42da-9897-fa8cb2de192b"
      },
      "source": [
        "model = Sequential()\n",
        "model.add(LSTM(units=100, return_sequences=True, input_shape=(n_per_in,n_features)))\n",
        "model.add(Dropout(0.2))\n",
        "model.add(LSTM(units=100, return_sequences=True))\n",
        "model.add(Dropout(0.2))\n",
        "model.add(LSTM(units=100))\n",
        "model.add(Dropout(0.2))\n",
        "model.add(Dense(n_per_out))\n",
        "\n",
        "model.summary()"
      ],
      "execution_count": 51,
      "outputs": [
        {
          "output_type": "stream",
          "text": [
            "Model: \"sequential_2\"\n",
            "_________________________________________________________________\n",
            "Layer (type)                 Output Shape              Param #   \n",
            "=================================================================\n",
            "lstm_6 (LSTM)                (None, 20000, 100)        40800     \n",
            "_________________________________________________________________\n",
            "dropout_6 (Dropout)          (None, 20000, 100)        0         \n",
            "_________________________________________________________________\n",
            "lstm_7 (LSTM)                (None, 20000, 100)        80400     \n",
            "_________________________________________________________________\n",
            "dropout_7 (Dropout)          (None, 20000, 100)        0         \n",
            "_________________________________________________________________\n",
            "lstm_8 (LSTM)                (None, 100)               80400     \n",
            "_________________________________________________________________\n",
            "dropout_8 (Dropout)          (None, 100)               0         \n",
            "_________________________________________________________________\n",
            "dense_2 (Dense)              (None, 24)                2424      \n",
            "=================================================================\n",
            "Total params: 204,024\n",
            "Trainable params: 204,024\n",
            "Non-trainable params: 0\n",
            "_________________________________________________________________\n"
          ],
          "name": "stdout"
        }
      ]
    },
    {
      "cell_type": "code",
      "metadata": {
        "id": "Ez8T7debMknf",
        "colab_type": "code",
        "colab": {}
      },
      "source": [
        "model.compile(optimizer='adam', loss='mse', metrics=['accuracy'])"
      ],
      "execution_count": 52,
      "outputs": []
    },
    {
      "cell_type": "code",
      "metadata": {
        "id": "2ajq_uIhM5Yl",
        "colab_type": "code",
        "colab": {
          "base_uri": "https://localhost:8080/",
          "height": 71
        },
        "outputId": "5021ed3c-077c-42c5-a0fc-398d462156cf"
      },
      "source": [
        "res = model.fit(X,y, epochs=5, batch_size=32, validation_split=0.1)"
      ],
      "execution_count": null,
      "outputs": [
        {
          "output_type": "stream",
          "text": [
            "Epoch 1/5\n",
            " 48/112 [===========>..................] - ETA: 2:02:28 - loss: 0.0154 - accuracy: 0.0495"
          ],
          "name": "stdout"
        }
      ]
    },
    {
      "cell_type": "markdown",
      "metadata": {
        "id": "uoXrGJH0EqOX",
        "colab_type": "text"
      },
      "source": [
        ""
      ]
    },
    {
      "cell_type": "code",
      "metadata": {
        "id": "SljNm63fNS-I",
        "colab_type": "code",
        "colab": {
          "base_uri": "https://localhost:8080/",
          "height": 581
        },
        "outputId": "a930f5d9-754b-451a-b3ee-a007540d7a9c"
      },
      "source": [
        "visualize_results(res)"
      ],
      "execution_count": null,
      "outputs": [
        {
          "output_type": "display_data",
          "data": {
            "image/png": "[encoded data removed]",
            "text/plain": [
              "<Figure size 864x288 with 1 Axes>"
            ]
          },
          "metadata": {
            "tags": []
          }
        },
        {
          "output_type": "display_data",
          "data": {
            "image/png": "[encoded data removed]",
            "text/plain": [
              "<Figure size 864x288 with 1 Axes>"
            ]
          },
          "metadata": {
            "tags": []
          }
        }
      ]
    },
    {
      "cell_type": "code",
      "metadata": {
        "id": "HVUI4uIaOVeb",
        "colab_type": "code",
        "colab": {
          "base_uri": "https://localhost:8080/",
          "height": 336
        },
        "outputId": "75e79e17-2721-4040-eca8-aba512dafa1b"
      },
      "source": [
        "plt.figure(figsize=(12,4))\n",
        "\n",
        "yhat = model.predict(X[-1].reshape(1,n_per_in,n_features)).tolist()[0]\n",
        "\n",
        "yhat = scaler.inverse_transform(np.array(yhat).reshape(-1,1)).tolist()\n",
        "\n",
        "actual = scaler.inverse_transform(y[-1].reshape(-1,1))\n",
        "\n",
        "print(\"predicted \", yhat)\n",
        "plt.plot(yhat, label=\"predicted\")\n",
        "\n",
        "print(\"actuals \", actual.tolist())\n",
        "plt.plot(actual.tolist(), label=\"actual\")\n",
        "\n",
        "plt.title(\"Predicted vs Actual\")\n",
        "plt.ylabel('price')\n",
        "plt.legend()\n",
        "plt.show()"
      ],
      "execution_count": null,
      "outputs": [
        {
          "output_type": "stream",
          "text": [
            "predicted  [[1.16873287027359], [1.1672121300065517], [1.1691203569424151], [1.1667271976578235], [1.169033090956211], [1.167362505276799], [1.1672017897498608], [1.1666467555987834], [1.168234265986085], [1.168179819075465], [1.1671259478205442], [1.1665988917708396], [1.1665647079098225], [1.167935827552676], [1.1668290588200092], [1.1670841211611032], [1.1675480117297172], [1.1661027681815623], [1.1677000969958304], [1.1668819562977553], [1.1651261518102884], [1.1667201328861714], [1.1662154191768168], [1.1661713205510378]]\n",
            "actuals  [[1.17519], [1.1758899999999999], [1.1764], [1.17617], [1.176], [1.17602], [1.17601], [1.1753499999999997], [1.17582], [1.17721], [1.17675], [1.1773799999999999], [1.17666], [1.17766], [1.17864], [1.17924], [1.17945], [1.1770100000000001], [1.1761], [1.1728100000000001], [1.1724199999999998], [1.17565], [1.17652], [1.1777600000000004]]\n"
          ],
          "name": "stdout"
        },
        {
          "output_type": "display_data",
          "data": {
            "image/png": "[encoded data removed]",
            "text/plain": [
              "<Figure size 864x288 with 1 Axes>"
            ]
          },
          "metadata": {
            "tags": []
          }
        }
      ]
    },
    {
      "cell_type": "code",
      "metadata": {
        "id": "q5oSzcEHPZqU",
        "colab_type": "code",
        "colab": {
          "base_uri": "https://localhost:8080/",
          "height": 724
        },
        "outputId": "b40f1431-201a-4de7-c402-68922e4dc746"
      },
      "source": [
        "yhat = model.predict(np.array(df.tail(n_per_in)).reshape(1,n_per_in,n_features)).tolist()[0]\n",
        "yhat = scaler.inverse_transform(np.array(yhat).reshape(-1,1)).tolist()\n",
        "\n",
        "preds = pd.DataFrame(yhat, index=pd.date_range(start=df.index[-1], periods=len(yhat),freq='H'), columns=df.columns)\n",
        "\n",
        "print(preds)\n",
        "\n",
        "periods = 10\n",
        "\n",
        "actual = pd.DataFrame(scaler.inverse_transform(df[['<CLOSE>']].tail(periods)), index = df['<CLOSE>'].tail(periods).index, columns = df.columns).append(preds.head(1))\n",
        "\n",
        "plt.figure(figsize=(12,4))\n",
        "#plt.plot(actual, label='actuals')\n",
        "plt.plot(preds, label='predictions')\n",
        "plt.ylabel('price')\n",
        "plt.xlabel('dates')\n",
        "plt.title(f'forecasting the next {len(yhat)} hours')\n",
        "plt.legend()\n",
        "plt.show()\n"
      ],
      "execution_count": null,
      "outputs": [
        {
          "output_type": "stream",
          "text": [
            "                      <CLOSE>\n",
            "2020-08-04 19:00:00  1.172030\n",
            "2020-08-04 20:00:00  1.170256\n",
            "2020-08-04 21:00:00  1.172312\n",
            "2020-08-04 22:00:00  1.169760\n",
            "2020-08-04 23:00:00  1.172072\n",
            "2020-08-05 00:00:00  1.170355\n",
            "2020-08-05 01:00:00  1.170168\n",
            "2020-08-05 02:00:00  1.169629\n",
            "2020-08-05 03:00:00  1.171380\n",
            "2020-08-05 04:00:00  1.171308\n",
            "2020-08-05 05:00:00  1.170205\n",
            "2020-08-05 06:00:00  1.169814\n",
            "2020-08-05 07:00:00  1.169516\n",
            "2020-08-05 08:00:00  1.171050\n",
            "2020-08-05 09:00:00  1.169864\n",
            "2020-08-05 10:00:00  1.170189\n",
            "2020-08-05 11:00:00  1.170734\n",
            "2020-08-05 12:00:00  1.169253\n",
            "2020-08-05 13:00:00  1.170846\n",
            "2020-08-05 14:00:00  1.169989\n",
            "2020-08-05 15:00:00  1.168230\n",
            "2020-08-05 16:00:00  1.169867\n",
            "2020-08-05 17:00:00  1.169280\n",
            "2020-08-05 18:00:00  1.169295\n"
          ],
          "name": "stdout"
        },
        {
          "output_type": "display_data",
          "data": {
            "image/png": "[encoded data removed]",
            "text/plain": [
              "<Figure size 864x288 with 1 Axes>"
            ]
          },
          "metadata": {
            "tags": []
          }
        }
      ]
    },
    {
      "cell_type": "code",
      "metadata": {
        "id": "oUb1mhWnSaUg",
        "colab_type": "code",
        "colab": {}
      },
      "source": [
        ""
      ],
      "execution_count": null,
      "outputs": []
    }
  ]
}