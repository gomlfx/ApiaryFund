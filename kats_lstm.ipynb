{
  "nbformat": 4,
  "nbformat_minor": 0,
  "metadata": {
    "colab": {
      "name": "Untitled1.ipynb",
      "provenance": [],
      "collapsed_sections": [],
      "toc_visible": true,
      "authorship_tag": "ABX9TyPoXknXaijufSOxFj5jecuU",
      "include_colab_link": true
    },
    "kernelspec": {
      "name": "python3",
      "display_name": "Python 3"
    },
    "language_info": {
      "name": "python"
    }
  },
  "cells": [
    {
      "cell_type": "markdown",
      "metadata": {
        "id": "view-in-github",
        "colab_type": "text"
      },
      "source": [
        "<a href=\"https://colab.research.google.com/github/gomlfx/apiaryfund/blob/master/kats_lstm.ipynb\" target=\"_parent\"><img src=\"https://colab.research.google.com/assets/colab-badge.svg\" alt=\"Open In Colab\"/></a>"
      ]
    },
    {
      "cell_type": "code",
      "metadata": {
        "colab": {
          "base_uri": "https://localhost:8080/"
        },
        "id": "CTG2I2IeQxQ3",
        "outputId": "6989e966-fc21-4d85-cdb7-34dc61d48339"
      },
      "source": [
        "!pip install --upgrade pip\n",
        "!pip install kats"
      ],
      "execution_count": 1,
      "outputs": [
        {
          "output_type": "stream",
          "text": [
            "Collecting pip\n",
            "\u001b[?25l  Downloading https://files.pythonhosted.org/packages/47/ca/f0d790b6e18b3a6f3bd5e80c2ee4edbb5807286c21cdd0862ca933f751dd/pip-21.1.3-py3-none-any.whl (1.5MB)\n",
            "\u001b[K     |████████████████████████████████| 1.6MB 7.2MB/s \n",
            "\u001b[?25hInstalling collected packages: pip\n",
            "  Found existing installation: pip 19.3.1\n",
            "    Uninstalling pip-19.3.1:\n",
            "      Successfully uninstalled pip-19.3.1\n",
            "Successfully installed pip-21.1.3\n",
            "Collecting kats\n",
            "  Downloading kats-0.1.0.tar.gz (6.3 MB)\n",
            "\u001b[K     |████████████████████████████████| 6.3 MB 8.0 MB/s \n",
            "\u001b[?25hRequirement already satisfied: LunarCalendar>=0.0.9 in /usr/local/lib/python3.7/dist-packages (from kats) (0.0.9)\n",
            "Requirement already satisfied: attrs>=21.2.0 in /usr/local/lib/python3.7/dist-packages (from kats) (21.2.0)\n",
            "Collecting ax-platform\n",
            "  Downloading ax_platform-0.2.0-py3-none-any.whl (815 kB)\n",
            "\u001b[K     |████████████████████████████████| 815 kB 43.1 MB/s \n",
            "\u001b[?25hRequirement already satisfied: convertdate>=2.1.2 in /usr/local/lib/python3.7/dist-packages (from kats) (2.3.2)\n",
            "Collecting fbprophet==0.7\n",
            "  Downloading fbprophet-0.7.tar.gz (64 kB)\n",
            "\u001b[K     |████████████████████████████████| 64 kB 2.1 MB/s \n",
            "\u001b[?25hCollecting gpytorch\n",
            "  Downloading gpytorch-1.5.0-py2.py3-none-any.whl (498 kB)\n",
            "\u001b[K     |████████████████████████████████| 498 kB 53.1 MB/s \n",
            "\u001b[?25hRequirement already satisfied: holidays>=0.10.2 in /usr/local/lib/python3.7/dist-packages (from kats) (0.10.5.2)\n",
            "Requirement already satisfied: matplotlib>=2.0.0 in /usr/local/lib/python3.7/dist-packages (from kats) (3.2.2)\n",
            "Requirement already satisfied: numpy>=1.15.4 in /usr/local/lib/python3.7/dist-packages (from kats) (1.19.5)\n",
            "Collecting numba>=0.52.0\n",
            "  Downloading numba-0.53.1-cp37-cp37m-manylinux2014_x86_64.whl (3.4 MB)\n",
            "\u001b[K     |████████████████████████████████| 3.4 MB 38.2 MB/s \n",
            "\u001b[?25hRequirement already satisfied: pandas>=1.0.4 in /usr/local/lib/python3.7/dist-packages (from kats) (1.1.5)\n",
            "Collecting plotly>=4.14.3\n",
            "  Downloading plotly-5.1.0-py2.py3-none-any.whl (20.6 MB)\n",
            "\u001b[K     |████████████████████████████████| 20.6 MB 1.3 MB/s \n",
            "\u001b[?25hCollecting pymannkendall>=1.4.1\n",
            "  Downloading pymannkendall-1.4.2-py3-none-any.whl (12 kB)\n",
            "Requirement already satisfied: pystan==2.19.1.1 in /usr/local/lib/python3.7/dist-packages (from kats) (2.19.1.1)\n",
            "Requirement already satisfied: python-dateutil>=2.8.0 in /usr/local/lib/python3.7/dist-packages (from kats) (2.8.1)\n",
            "Requirement already satisfied: scikit-learn>+0.24.2 in /usr/local/lib/python3.7/dist-packages (from kats) (0.22.2.post1)\n",
            "Requirement already satisfied: setuptools-git>=1.2 in /usr/local/lib/python3.7/dist-packages (from kats) (1.2)\n",
            "Requirement already satisfied: seaborn>=0.11.1 in /usr/local/lib/python3.7/dist-packages (from kats) (0.11.1)\n",
            "Collecting statsmodels>=0.12.2\n",
            "  Downloading statsmodels-0.12.2-cp37-cp37m-manylinux1_x86_64.whl (9.5 MB)\n",
            "\u001b[K     |████████████████████████████████| 9.5 MB 41.2 MB/s \n",
            "\u001b[?25hRequirement already satisfied: torch>=1.8.1 in /usr/local/lib/python3.7/dist-packages (from kats) (1.9.0+cu102)\n",
            "Requirement already satisfied: tqdm>=4.36.1 in /usr/local/lib/python3.7/dist-packages (from kats) (4.41.1)\n",
            "Requirement already satisfied: Cython>=0.22 in /usr/local/lib/python3.7/dist-packages (from fbprophet==0.7->kats) (0.29.23)\n",
            "Requirement already satisfied: cmdstanpy==0.9.5 in /usr/local/lib/python3.7/dist-packages (from fbprophet==0.7->kats) (0.9.5)\n",
            "Requirement already satisfied: pytz>=2014.10 in /usr/local/lib/python3.7/dist-packages (from convertdate>=2.1.2->kats) (2018.9)\n",
            "Requirement already satisfied: pymeeus<=1,>=0.3.13 in /usr/local/lib/python3.7/dist-packages (from convertdate>=2.1.2->kats) (0.5.11)\n",
            "Requirement already satisfied: korean-lunar-calendar in /usr/local/lib/python3.7/dist-packages (from holidays>=0.10.2->kats) (0.2.1)\n",
            "Requirement already satisfied: six in /usr/local/lib/python3.7/dist-packages (from holidays>=0.10.2->kats) (1.15.0)\n",
            "Requirement already satisfied: hijri-converter in /usr/local/lib/python3.7/dist-packages (from holidays>=0.10.2->kats) (2.1.2)\n",
            "Requirement already satisfied: ephem>=3.7.5.3 in /usr/local/lib/python3.7/dist-packages (from LunarCalendar>=0.0.9->kats) (4.0.0.2)\n",
            "Requirement already satisfied: pyparsing!=2.0.4,!=2.1.2,!=2.1.6,>=2.0.1 in /usr/local/lib/python3.7/dist-packages (from matplotlib>=2.0.0->kats) (2.4.7)\n",
            "Requirement already satisfied: kiwisolver>=1.0.1 in /usr/local/lib/python3.7/dist-packages (from matplotlib>=2.0.0->kats) (1.3.1)\n",
            "Requirement already satisfied: cycler>=0.10 in /usr/local/lib/python3.7/dist-packages (from matplotlib>=2.0.0->kats) (0.10.0)\n",
            "Requirement already satisfied: setuptools in /usr/local/lib/python3.7/dist-packages (from numba>=0.52.0->kats) (57.0.0)\n",
            "Collecting llvmlite<0.37,>=0.36.0rc1\n",
            "  Downloading llvmlite-0.36.0-cp37-cp37m-manylinux2010_x86_64.whl (25.3 MB)\n",
            "\u001b[K     |████████████████████████████████| 25.3 MB 75 kB/s \n",
            "\u001b[?25hCollecting tenacity>=6.2.0\n",
            "  Downloading tenacity-7.0.0-py2.py3-none-any.whl (23 kB)\n",
            "Requirement already satisfied: scipy in /usr/local/lib/python3.7/dist-packages (from pymannkendall>=1.4.1->kats) (1.4.1)\n",
            "Requirement already satisfied: joblib>=0.11 in /usr/local/lib/python3.7/dist-packages (from scikit-learn>+0.24.2->kats) (1.0.1)\n",
            "Requirement already satisfied: patsy>=0.5 in /usr/local/lib/python3.7/dist-packages (from statsmodels>=0.12.2->kats) (0.5.1)\n",
            "Requirement already satisfied: typing-extensions in /usr/local/lib/python3.7/dist-packages (from torch>=1.8.1->kats) (3.7.4.3)\n",
            "Collecting botorch==0.5.0\n",
            "  Downloading botorch-0.5.0-py3-none-any.whl (475 kB)\n",
            "\u001b[K     |████████████████████████████████| 475 kB 59.8 MB/s \n",
            "\u001b[?25hRequirement already satisfied: typeguard in /usr/local/lib/python3.7/dist-packages (from ax-platform->kats) (2.7.1)\n",
            "Requirement already satisfied: jinja2 in /usr/local/lib/python3.7/dist-packages (from ax-platform->kats) (2.11.3)\n",
            "Requirement already satisfied: MarkupSafe>=0.23 in /usr/local/lib/python3.7/dist-packages (from jinja2->ax-platform->kats) (2.0.1)\n",
            "Building wheels for collected packages: kats, fbprophet\n",
            "  Building wheel for kats (setup.py) ... \u001b[?25l\u001b[?25hdone\n",
            "  Created wheel for kats: filename=kats-0.1.0-py3-none-any.whl size=286608 sha256=391741d582e4740747c1ee210e585d7cd88032657edbd9a820d475167499efa7\n",
            "  Stored in directory: /root/.cache/pip/wheels/c8/dd/5b/cc7cb7fc37c5b838c65e504437bba4c1828a3fbb473c0c11be\n",
            "  Building wheel for fbprophet (setup.py) ... \u001b[?25l\u001b[?25hdone\n",
            "  Created wheel for fbprophet: filename=fbprophet-0.7-py3-none-any.whl size=6636097 sha256=ef765f5b2b2f19a42780df8fc90662b10ba9bc715bf098cbababa4d25d42247d\n",
            "  Stored in directory: /root/.cache/pip/wheels/82/e8/a8/53f37f0a409bc51f8693e967dcce8f88bfd33632b40a594a28\n",
            "Successfully built kats fbprophet\n",
            "Installing collected packages: tenacity, gpytorch, plotly, llvmlite, botorch, statsmodels, pymannkendall, numba, fbprophet, ax-platform, kats\n",
            "  Attempting uninstall: plotly\n",
            "    Found existing installation: plotly 4.4.1\n",
            "    Uninstalling plotly-4.4.1:\n",
            "      Successfully uninstalled plotly-4.4.1\n",
            "  Attempting uninstall: llvmlite\n",
            "    Found existing installation: llvmlite 0.34.0\n",
            "    Uninstalling llvmlite-0.34.0:\n",
            "      Successfully uninstalled llvmlite-0.34.0\n",
            "  Attempting uninstall: statsmodels\n",
            "    Found existing installation: statsmodels 0.10.2\n",
            "    Uninstalling statsmodels-0.10.2:\n",
            "      Successfully uninstalled statsmodels-0.10.2\n",
            "  Attempting uninstall: numba\n",
            "    Found existing installation: numba 0.51.2\n",
            "    Uninstalling numba-0.51.2:\n",
            "      Successfully uninstalled numba-0.51.2\n",
            "  Attempting uninstall: fbprophet\n",
            "    Found existing installation: fbprophet 0.7.1\n",
            "    Uninstalling fbprophet-0.7.1:\n",
            "      Successfully uninstalled fbprophet-0.7.1\n",
            "Successfully installed ax-platform-0.2.0 botorch-0.5.0 fbprophet-0.7 gpytorch-1.5.0 kats-0.1.0 llvmlite-0.36.0 numba-0.53.1 plotly-5.1.0 pymannkendall-1.4.2 statsmodels-0.12.2 tenacity-7.0.0\n",
            "\u001b[33mWARNING: Running pip as the 'root' user can result in broken permissions and conflicting behaviour with the system package manager. It is recommended to use a virtual environment instead: https://pip.pypa.io/warnings/venv\u001b[0m\n"
          ],
          "name": "stdout"
        }
      ]
    },
    {
      "cell_type": "code",
      "metadata": {
        "id": "iKSv8GLkpjBX",
        "outputId": "3821c027-4a1a-4adc-d16b-4a4e148e749b",
        "colab": {
          "base_uri": "https://localhost:8080/"
        }
      },
      "source": [
        "# !pip install auto-ts"
      ],
      "execution_count": 2,
      "outputs": [
        {
          "output_type": "stream",
          "text": [
            "Collecting auto-ts\n",
            "  Downloading auto_ts-0.0.37-py3-none-any.whl (90 kB)\n",
            "\u001b[?25l\r\u001b[K     |███▋                            | 10 kB 19.9 MB/s eta 0:00:01\r\u001b[K     |███████▎                        | 20 kB 26.3 MB/s eta 0:00:01\r\u001b[K     |██████████▉                     | 30 kB 26.5 MB/s eta 0:00:01\r\u001b[K     |██████████████▌                 | 40 kB 19.3 MB/s eta 0:00:01\r\u001b[K     |██████████████████              | 51 kB 8.6 MB/s eta 0:00:01\r\u001b[K     |█████████████████████▊          | 61 kB 9.8 MB/s eta 0:00:01\r\u001b[K     |█████████████████████████▎      | 71 kB 8.4 MB/s eta 0:00:01\r\u001b[K     |█████████████████████████████   | 81 kB 9.2 MB/s eta 0:00:01\r\u001b[K     |████████████████████████████████| 90 kB 4.4 MB/s \n",
            "\u001b[?25hRequirement already satisfied: prettytable in /usr/local/lib/python3.7/dist-packages (from auto-ts) (2.1.0)\n",
            "Collecting scikit-learn>=0.24.0\n",
            "  Downloading scikit_learn-0.24.2-cp37-cp37m-manylinux2010_x86_64.whl (22.3 MB)\n",
            "\u001b[K     |████████████████████████████████| 22.3 MB 27 kB/s \n",
            "\u001b[?25hRequirement already satisfied: fbprophet in /usr/local/lib/python3.7/dist-packages (from auto-ts) (0.7)\n",
            "Requirement already satisfied: xgboost in /usr/local/lib/python3.7/dist-packages (from auto-ts) (0.90)\n",
            "Collecting pmdarima\n",
            "  Downloading pmdarima-1.8.2-cp37-cp37m-manylinux1_x86_64.whl (1.5 MB)\n",
            "\u001b[K     |████████████████████████████████| 1.5 MB 34.9 MB/s \n",
            "\u001b[?25hRequirement already satisfied: matplotlib in /usr/local/lib/python3.7/dist-packages (from auto-ts) (3.2.2)\n",
            "Requirement already satisfied: ipython in /usr/local/lib/python3.7/dist-packages (from auto-ts) (5.5.0)\n",
            "Requirement already satisfied: seaborn in /usr/local/lib/python3.7/dist-packages (from auto-ts) (0.11.1)\n",
            "Requirement already satisfied: statsmodels in /usr/local/lib/python3.7/dist-packages (from auto-ts) (0.12.2)\n",
            "Requirement already satisfied: pandas in /usr/local/lib/python3.7/dist-packages (from auto-ts) (1.1.5)\n",
            "Collecting dask>=2.30.0\n",
            "  Downloading dask-2021.6.2-py3-none-any.whl (973 kB)\n",
            "\u001b[K     |████████████████████████████████| 973 kB 45.4 MB/s \n",
            "\u001b[?25hRequirement already satisfied: jupyter in /usr/local/lib/python3.7/dist-packages (from auto-ts) (1.0.0)\n",
            "Collecting fsspec>=0.6.0\n",
            "  Downloading fsspec-2021.6.1-py3-none-any.whl (115 kB)\n",
            "\u001b[K     |████████████████████████████████| 115 kB 72.9 MB/s \n",
            "\u001b[?25hRequirement already satisfied: cloudpickle>=1.1.1 in /usr/local/lib/python3.7/dist-packages (from dask>=2.30.0->auto-ts) (1.3.0)\n",
            "Collecting partd>=0.3.10\n",
            "  Downloading partd-1.2.0-py3-none-any.whl (19 kB)\n",
            "Requirement already satisfied: pyyaml in /usr/local/lib/python3.7/dist-packages (from dask>=2.30.0->auto-ts) (3.13)\n",
            "Requirement already satisfied: toolz>=0.8.2 in /usr/local/lib/python3.7/dist-packages (from dask>=2.30.0->auto-ts) (0.11.1)\n",
            "Collecting locket\n",
            "  Downloading locket-0.2.1-py2.py3-none-any.whl (4.1 kB)\n",
            "Requirement already satisfied: joblib>=0.11 in /usr/local/lib/python3.7/dist-packages (from scikit-learn>=0.24.0->auto-ts) (1.0.1)\n",
            "Collecting threadpoolctl>=2.0.0\n",
            "  Downloading threadpoolctl-2.1.0-py3-none-any.whl (12 kB)\n",
            "Requirement already satisfied: scipy>=0.19.1 in /usr/local/lib/python3.7/dist-packages (from scikit-learn>=0.24.0->auto-ts) (1.4.1)\n",
            "Requirement already satisfied: numpy>=1.13.3 in /usr/local/lib/python3.7/dist-packages (from scikit-learn>=0.24.0->auto-ts) (1.19.5)\n",
            "Requirement already satisfied: Cython>=0.22 in /usr/local/lib/python3.7/dist-packages (from fbprophet->auto-ts) (0.29.23)\n",
            "Requirement already satisfied: tqdm>=4.36.1 in /usr/local/lib/python3.7/dist-packages (from fbprophet->auto-ts) (4.41.1)\n",
            "Requirement already satisfied: LunarCalendar>=0.0.9 in /usr/local/lib/python3.7/dist-packages (from fbprophet->auto-ts) (0.0.9)\n",
            "Requirement already satisfied: holidays>=0.9.5 in /usr/local/lib/python3.7/dist-packages (from fbprophet->auto-ts) (0.10.5.2)\n",
            "Requirement already satisfied: pystan>=2.14 in /usr/local/lib/python3.7/dist-packages (from fbprophet->auto-ts) (2.19.1.1)\n",
            "Requirement already satisfied: cmdstanpy==0.9.5 in /usr/local/lib/python3.7/dist-packages (from fbprophet->auto-ts) (0.9.5)\n",
            "Requirement already satisfied: convertdate>=2.1.2 in /usr/local/lib/python3.7/dist-packages (from fbprophet->auto-ts) (2.3.2)\n",
            "Requirement already satisfied: setuptools-git>=1.2 in /usr/local/lib/python3.7/dist-packages (from fbprophet->auto-ts) (1.2)\n",
            "Requirement already satisfied: python-dateutil>=2.8.0 in /usr/local/lib/python3.7/dist-packages (from fbprophet->auto-ts) (2.8.1)\n",
            "Requirement already satisfied: pymeeus<=1,>=0.3.13 in /usr/local/lib/python3.7/dist-packages (from convertdate>=2.1.2->fbprophet->auto-ts) (0.5.11)\n",
            "Requirement already satisfied: pytz>=2014.10 in /usr/local/lib/python3.7/dist-packages (from convertdate>=2.1.2->fbprophet->auto-ts) (2018.9)\n",
            "Requirement already satisfied: six in /usr/local/lib/python3.7/dist-packages (from holidays>=0.9.5->fbprophet->auto-ts) (1.15.0)\n",
            "Requirement already satisfied: korean-lunar-calendar in /usr/local/lib/python3.7/dist-packages (from holidays>=0.9.5->fbprophet->auto-ts) (0.2.1)\n",
            "Requirement already satisfied: hijri-converter in /usr/local/lib/python3.7/dist-packages (from holidays>=0.9.5->fbprophet->auto-ts) (2.1.2)\n",
            "Requirement already satisfied: ephem>=3.7.5.3 in /usr/local/lib/python3.7/dist-packages (from LunarCalendar>=0.0.9->fbprophet->auto-ts) (4.0.0.2)\n",
            "Requirement already satisfied: cycler>=0.10 in /usr/local/lib/python3.7/dist-packages (from matplotlib->auto-ts) (0.10.0)\n",
            "Requirement already satisfied: kiwisolver>=1.0.1 in /usr/local/lib/python3.7/dist-packages (from matplotlib->auto-ts) (1.3.1)\n",
            "Requirement already satisfied: pyparsing!=2.0.4,!=2.1.2,!=2.1.6,>=2.0.1 in /usr/local/lib/python3.7/dist-packages (from matplotlib->auto-ts) (2.4.7)\n",
            "Requirement already satisfied: pexpect in /usr/local/lib/python3.7/dist-packages (from ipython->auto-ts) (4.8.0)\n",
            "Requirement already satisfied: simplegeneric>0.8 in /usr/local/lib/python3.7/dist-packages (from ipython->auto-ts) (0.8.1)\n",
            "Requirement already satisfied: pickleshare in /usr/local/lib/python3.7/dist-packages (from ipython->auto-ts) (0.7.5)\n",
            "Requirement already satisfied: traitlets>=4.2 in /usr/local/lib/python3.7/dist-packages (from ipython->auto-ts) (5.0.5)\n",
            "Requirement already satisfied: prompt-toolkit<2.0.0,>=1.0.4 in /usr/local/lib/python3.7/dist-packages (from ipython->auto-ts) (1.0.18)\n",
            "Requirement already satisfied: decorator in /usr/local/lib/python3.7/dist-packages (from ipython->auto-ts) (4.4.2)\n",
            "Requirement already satisfied: pygments in /usr/local/lib/python3.7/dist-packages (from ipython->auto-ts) (2.6.1)\n",
            "Requirement already satisfied: setuptools>=18.5 in /usr/local/lib/python3.7/dist-packages (from ipython->auto-ts) (57.0.0)\n",
            "Requirement already satisfied: wcwidth in /usr/local/lib/python3.7/dist-packages (from prompt-toolkit<2.0.0,>=1.0.4->ipython->auto-ts) (0.2.5)\n",
            "Requirement already satisfied: ipython-genutils in /usr/local/lib/python3.7/dist-packages (from traitlets>=4.2->ipython->auto-ts) (0.2.0)\n",
            "Requirement already satisfied: qtconsole in /usr/local/lib/python3.7/dist-packages (from jupyter->auto-ts) (5.1.0)\n",
            "Requirement already satisfied: ipywidgets in /usr/local/lib/python3.7/dist-packages (from jupyter->auto-ts) (7.6.3)\n",
            "Requirement already satisfied: ipykernel in /usr/local/lib/python3.7/dist-packages (from jupyter->auto-ts) (4.10.1)\n",
            "Requirement already satisfied: nbconvert in /usr/local/lib/python3.7/dist-packages (from jupyter->auto-ts) (5.6.1)\n",
            "Requirement already satisfied: notebook in /usr/local/lib/python3.7/dist-packages (from jupyter->auto-ts) (5.3.1)\n",
            "Requirement already satisfied: jupyter-console in /usr/local/lib/python3.7/dist-packages (from jupyter->auto-ts) (5.2.0)\n",
            "Requirement already satisfied: tornado>=4.0 in /usr/local/lib/python3.7/dist-packages (from ipykernel->jupyter->auto-ts) (5.1.1)\n",
            "Requirement already satisfied: jupyter-client in /usr/local/lib/python3.7/dist-packages (from ipykernel->jupyter->auto-ts) (5.3.5)\n",
            "Requirement already satisfied: jupyterlab-widgets>=1.0.0 in /usr/local/lib/python3.7/dist-packages (from ipywidgets->jupyter->auto-ts) (1.0.0)\n",
            "Requirement already satisfied: widgetsnbextension~=3.5.0 in /usr/local/lib/python3.7/dist-packages (from ipywidgets->jupyter->auto-ts) (3.5.1)\n",
            "Requirement already satisfied: nbformat>=4.2.0 in /usr/local/lib/python3.7/dist-packages (from ipywidgets->jupyter->auto-ts) (5.1.3)\n",
            "Requirement already satisfied: jsonschema!=2.5.0,>=2.4 in /usr/local/lib/python3.7/dist-packages (from nbformat>=4.2.0->ipywidgets->jupyter->auto-ts) (2.6.0)\n",
            "Requirement already satisfied: jupyter-core in /usr/local/lib/python3.7/dist-packages (from nbformat>=4.2.0->ipywidgets->jupyter->auto-ts) (4.7.1)\n",
            "Requirement already satisfied: terminado>=0.8.1 in /usr/local/lib/python3.7/dist-packages (from notebook->jupyter->auto-ts) (0.10.1)\n",
            "Requirement already satisfied: Send2Trash in /usr/local/lib/python3.7/dist-packages (from notebook->jupyter->auto-ts) (1.5.0)\n",
            "Requirement already satisfied: jinja2 in /usr/local/lib/python3.7/dist-packages (from notebook->jupyter->auto-ts) (2.11.3)\n",
            "Requirement already satisfied: pyzmq>=13 in /usr/local/lib/python3.7/dist-packages (from jupyter-client->ipykernel->jupyter->auto-ts) (22.1.0)\n",
            "Requirement already satisfied: ptyprocess in /usr/local/lib/python3.7/dist-packages (from terminado>=0.8.1->notebook->jupyter->auto-ts) (0.7.0)\n",
            "Requirement already satisfied: MarkupSafe>=0.23 in /usr/local/lib/python3.7/dist-packages (from jinja2->notebook->jupyter->auto-ts) (2.0.1)\n",
            "Requirement already satisfied: defusedxml in /usr/local/lib/python3.7/dist-packages (from nbconvert->jupyter->auto-ts) (0.7.1)\n",
            "Requirement already satisfied: mistune<2,>=0.8.1 in /usr/local/lib/python3.7/dist-packages (from nbconvert->jupyter->auto-ts) (0.8.4)\n",
            "Requirement already satisfied: entrypoints>=0.2.2 in /usr/local/lib/python3.7/dist-packages (from nbconvert->jupyter->auto-ts) (0.3)\n",
            "Requirement already satisfied: pandocfilters>=1.4.1 in /usr/local/lib/python3.7/dist-packages (from nbconvert->jupyter->auto-ts) (1.4.3)\n",
            "Requirement already satisfied: bleach in /usr/local/lib/python3.7/dist-packages (from nbconvert->jupyter->auto-ts) (3.3.0)\n",
            "Requirement already satisfied: testpath in /usr/local/lib/python3.7/dist-packages (from nbconvert->jupyter->auto-ts) (0.5.0)\n",
            "Requirement already satisfied: webencodings in /usr/local/lib/python3.7/dist-packages (from bleach->nbconvert->jupyter->auto-ts) (0.5.1)\n",
            "Requirement already satisfied: packaging in /usr/local/lib/python3.7/dist-packages (from bleach->nbconvert->jupyter->auto-ts) (20.9)\n",
            "Requirement already satisfied: urllib3 in /usr/local/lib/python3.7/dist-packages (from pmdarima->auto-ts) (1.24.3)\n",
            "Requirement already satisfied: patsy>=0.5 in /usr/local/lib/python3.7/dist-packages (from statsmodels->auto-ts) (0.5.1)\n",
            "Requirement already satisfied: importlib-metadata in /usr/local/lib/python3.7/dist-packages (from prettytable->auto-ts) (4.5.0)\n",
            "Requirement already satisfied: zipp>=0.5 in /usr/local/lib/python3.7/dist-packages (from importlib-metadata->prettytable->auto-ts) (3.4.1)\n",
            "Requirement already satisfied: typing-extensions>=3.6.4 in /usr/local/lib/python3.7/dist-packages (from importlib-metadata->prettytable->auto-ts) (3.7.4.3)\n",
            "Requirement already satisfied: qtpy in /usr/local/lib/python3.7/dist-packages (from qtconsole->jupyter->auto-ts) (1.9.0)\n",
            "Installing collected packages: threadpoolctl, locket, scikit-learn, partd, fsspec, pmdarima, dask, auto-ts\n",
            "  Attempting uninstall: scikit-learn\n",
            "    Found existing installation: scikit-learn 0.22.2.post1\n",
            "    Uninstalling scikit-learn-0.22.2.post1:\n",
            "      Successfully uninstalled scikit-learn-0.22.2.post1\n",
            "  Attempting uninstall: dask\n",
            "    Found existing installation: dask 2.12.0\n",
            "    Uninstalling dask-2.12.0:\n",
            "      Successfully uninstalled dask-2.12.0\n",
            "Successfully installed auto-ts-0.0.37 dask-2021.6.2 fsspec-2021.6.1 locket-0.2.1 partd-1.2.0 pmdarima-1.8.2 scikit-learn-0.24.2 threadpoolctl-2.1.0\n",
            "\u001b[33mWARNING: Running pip as the 'root' user can result in broken permissions and conflicting behaviour with the system package manager. It is recommended to use a virtual environment instead: https://pip.pypa.io/warnings/venv\u001b[0m\n"
          ],
          "name": "stdout"
        }
      ]
    },
    {
      "cell_type": "code",
      "metadata": {
        "id": "gHE6F5vePOfW",
        "colab": {
          "base_uri": "https://localhost:8080/"
        },
        "outputId": "131ed8a3-d1e3-4f79-e3fa-3f87f06bc416"
      },
      "source": [
        "#import libraries\n",
        "import pandas as pd\n",
        "import numpy as np \n",
        "from datetime import datetime, timedelta\n",
        "import sys\n",
        "import matplotlib.pyplot as plt\n",
        "import warnings\n",
        "from kats.consts import TimeSeriesData #already has lstm, and maybe all models\n",
        "from auto_ts import auto_timeseries #another auto ensembler"
      ],
      "execution_count": 3,
      "outputs": [
        {
          "output_type": "stream",
          "text": [
            "Imported auto_timeseries version:0.0.36. Call by using:\n",
            "model = auto_timeseries(score_type='rmse',\n",
            "                time_interval='M',\n",
            "                non_seasonal_pdq=None, seasonality=False, seasonal_period=12,\n",
            "                model_type=['best'],\n",
            "                verbose=2)\n",
            "model.fit(traindata, ts_column,target)\n",
            "model.predict(testdata, model='best')\n",
            "\n"
          ],
          "name": "stdout"
        }
      ]
    },
    {
      "cell_type": "code",
      "metadata": {
        "id": "-s66HpcfrFSV",
        "outputId": "8625586e-0a0c-427d-b4f0-fa526047ac97",
        "colab": {
          "base_uri": "https://localhost:8080/"
        }
      },
      "source": [
        "import sys\n",
        "sys.modules.keys()"
      ],
      "execution_count": 4,
      "outputs": [
        {
          "output_type": "execute_result",
          "data": {
            "text/plain": [
              "dict_keys(['sys', 'builtins', '_frozen_importlib', '_imp', '_thread', '_warnings', '_weakref', 'zipimport', '_frozen_importlib_external', '_io', 'marshal', 'posix', 'encodings', 'codecs', '_codecs', 'encodings.aliases', 'encodings.utf_8', '_signal', '__main__', 'encodings.latin_1', 'io', 'abc', '_abc', '_bootlocale', '_locale', 'warnings', 're', 'enum', 'types', '_collections', 'sre_compile', '_sre', 'sre_parse', 'sre_constants', 'functools', '_functools', 'collections', '_collections_abc', 'operator', '_operator', 'keyword', 'heapq', '_heapq', 'itertools', 'reprlib', 'copyreg', 'site', 'os', 'stat', '_stat', 'posixpath', 'genericpath', 'os.path', '_sitebuiltins', 'importlib', 'importlib._bootstrap', 'importlib._bootstrap_external', 'importlib.util', 'importlib.abc', 'importlib.machinery', 'contextlib', 'google', 'google.cloud', 'google.logging', 'mpl_toolkits', 'sphinxcontrib', 'sitecustomize', 'runpy', 'pkgutil', 'weakref', '_weakrefset', 'ipykernel', 'ipykernel._version', 'ipykernel.connect', '__future__', 'json', 'json.decoder', 'json.scanner', '_json', 'json.encoder', 'subprocess', 'time', 'signal', 'errno', '_posixsubprocess', 'select', 'selectors', 'collections.abc', 'math', 'threading', 'traceback', 'linecache', 'tokenize', 'token', 'IPython', 'IPython.core', 'IPython.core.getipython', 'IPython.core.release', 'IPython.core.application', 'atexit', 'copy', 'glob', 'fnmatch', 'logging', 'string', '_string', 'shutil', 'zlib', 'bz2', '_compression', '_bz2', 'lzma', '_lzma', 'pwd', 'grp', 'traitlets', 'traitlets.traitlets', 'ast', '_ast', 'inspect', 'dis', 'opcode', '_opcode', 'traitlets.utils', 'traitlets.utils.getargspec', 'traitlets.utils.importstring', 'traitlets.utils.sentinel', 'traitlets.utils.bunch', 'traitlets.utils.descriptions', 'traitlets.utils.decorators', 'traitlets._version', 'traitlets.config', 'traitlets.config.application', 'pprint', 'traitlets.config.configurable', 'traitlets.config.loader', 'argparse', 'gettext', 'locale', 'ipython_genutils', 'ipython_genutils._version', 'ipython_genutils.path', 'random', 'hashlib', '_hashlib', '_blake2', '_sha3', 'bisect', '_bisect', '_random', 'ipython_genutils.py3compat', 'ipython_genutils.encoding', 'platform', 'ipython_genutils.text', 'textwrap', 'IPython.core.crashhandler', 'IPython.core.ultratb', 'pydoc', 'sysconfig', 'urllib', 'urllib.parse', '_sysconfigdata_m_linux_x86_64-linux-gnu', 'IPython.core.debugger', 'bdb', 'IPython.utils', 'IPython.utils.PyColorize', 'IPython.utils.coloransi', 'IPython.utils.ipstruct', 'IPython.utils.py3compat', 'IPython.utils.encoding', 'IPython.utils.colorable', 'pygments', 'IPython.utils.ulinecache', 'IPython.utils.openpy', 'IPython.core.excolors', 'IPython.testing', 'IPython.testing.skipdoctest', 'pdb', 'cmd', 'code', 'codeop', 'IPython.core.display_trap', 'IPython.utils.path', 'IPython.utils.process', 'IPython.utils._process_posix', 'pexpect', 'pexpect.exceptions', 'pexpect.utils', 'pexpect.expect', 'pexpect.pty_spawn', 'pty', 'tty', 'termios', 'ptyprocess', 'ptyprocess.ptyprocess', 'fcntl', 'resource', 'struct', '_struct', 'ptyprocess.util', 'pexpect.spawnbase', 'pexpect.run', 'IPython.utils._process_common', 'shlex', 'IPython.utils.decorators', 'IPython.utils.data', 'IPython.utils.terminal', 'IPython.utils.sysinfo', 'IPython.utils._sysinfo', 'IPython.core.profiledir', 'IPython.paths', 'tempfile', 'IPython.utils.importstring', 'IPython.terminal', 'IPython.terminal.embed', 'IPython.core.compilerop', 'IPython.core.magic_arguments', 'IPython.core.error', 'IPython.utils.text', 'pathlib', 'ntpath', 'IPython.core.magic', 'getopt', 'IPython.core.oinspect', 'IPython.core.page', 'IPython.core.display', 'base64', 'binascii', 'mimetypes', 'IPython.lib', 'IPython.lib.security', 'getpass', 'IPython.lib.pretty', 'datetime', '_datetime', 'IPython.utils.dir2', 'IPython.utils.wildcard', 'IPython.utils.signatures', 'pygments.lexers', 'pygments.lexers._mapping', 'pygments.modeline', 'pygments.plugin', 'pygments.util', 'pygments.lexers.python', 'pygments.lexer', 'pygments.filter', 'pygments.filters', 'pygments.token', 'pygments.regexopt', 'pygments.unistring', 'pygments.formatters', 'pygments.formatters._mapping', 'pygments.formatters.html', 'pygments.formatter', 'pygments.styles', 'IPython.core.inputsplitter', 'IPython.core.inputtransformer', 'IPython.core.splitinput', 'IPython.utils.tokenize2', 'IPython.utils._tokenize_py3', 'decorator', 'IPython.core.interactiveshell', 'pickleshare', 'pickle', '_compat_pickle', '_pickle', 'IPython.core.prefilter', 'IPython.core.autocall', 'IPython.core.macro', 'IPython.core.shadowns', 'IPython.core.alias', 'IPython.core.builtin_trap', 'IPython.core.events', 'IPython.core.displayhook', 'IPython.core.displaypub', 'IPython.core.extensions', 'IPython.core.formatters', 'IPython.utils.sentinel', 'IPython.core.history', 'sqlite3', 'sqlite3.dbapi2', '_sqlite3', 'IPython.core.logger', 'IPython.core.payload', 'IPython.core.usage', 'IPython.display', 'IPython.lib.display', 'IPython.utils.io', 'IPython.utils.capture', 'IPython.utils.strdispatch', 'IPython.core.hooks', 'IPython.utils.syspathcontext', 'IPython.utils.tempdir', 'IPython.utils.contexts', 'IPython.terminal.interactiveshell', 'prompt_toolkit', 'prompt_toolkit.interface', 'six', 'prompt_toolkit.application', 'prompt_toolkit.buffer', 'prompt_toolkit.auto_suggest', 'prompt_toolkit.filters', 'prompt_toolkit.filters.base', 'prompt_toolkit.utils', 'wcwidth', 'wcwidth.wcwidth', 'wcwidth.table_wide', 'wcwidth.table_zero', 'wcwidth.unicode_versions', 'six.moves', 'prompt_toolkit.filters.cli', 'prompt_toolkit.enums', 'prompt_toolkit.key_binding', 'prompt_toolkit.key_binding.vi_state', 'prompt_toolkit.cache', 'prompt_toolkit.filters.types', 'prompt_toolkit.filters.utils', 'prompt_toolkit.clipboard', 'prompt_toolkit.clipboard.base', 'prompt_toolkit.selection', 'prompt_toolkit.clipboard.in_memory', 'prompt_toolkit.completion', 'prompt_toolkit.document', 'prompt_toolkit.history', 'prompt_toolkit.search_state', 'prompt_toolkit.validation', 'prompt_toolkit.buffer_mapping', 'prompt_toolkit.key_binding.bindings', 'prompt_toolkit.key_binding.bindings.basic', 'prompt_toolkit.keys', 'prompt_toolkit.layout', 'prompt_toolkit.layout.containers', 'prompt_toolkit.layout.controls', 'prompt_toolkit.mouse_events', 'prompt_toolkit.token', 'prompt_toolkit.layout.lexers', 'prompt_toolkit.layout.utils', 'prompt_toolkit.layout.processors', 'prompt_toolkit.reactive', 'prompt_toolkit.layout.screen', 'prompt_toolkit.layout.dimension', 'prompt_toolkit.layout.margins', 'prompt_toolkit.renderer', 'prompt_toolkit.layout.mouse_handlers', 'prompt_toolkit.output', 'prompt_toolkit.styles', 'prompt_toolkit.styles.base', 'prompt_toolkit.styles.defaults', 'prompt_toolkit.styles.from_dict', 'prompt_toolkit.styles.utils', 'prompt_toolkit.styles.from_pygments', 'pygments.style', 'pygments.styles.default', 'prompt_toolkit.key_binding.bindings.named_commands', 'prompt_toolkit.key_binding.bindings.completion', 'prompt_toolkit.key_binding.registry', 'prompt_toolkit.key_binding.input_processor', 'prompt_toolkit.key_binding.bindings.emacs', 'prompt_toolkit.key_binding.bindings.scroll', 'prompt_toolkit.key_binding.bindings.vi', 'prompt_toolkit.key_binding.digraphs', 'prompt_toolkit.key_binding.defaults', 'prompt_toolkit.eventloop', 'prompt_toolkit.eventloop.base', 'prompt_toolkit.eventloop.callbacks', 'prompt_toolkit.input', 'prompt_toolkit.terminal', 'prompt_toolkit.terminal.vt100_input', 'prompt_toolkit.shortcuts', 'prompt_toolkit.layout.menus', 'prompt_toolkit.layout.prompt', 'prompt_toolkit.layout.toolbars', 'prompt_toolkit.terminal.vt100_output', 'array', 'prompt_toolkit.key_binding.manager', 'IPython.terminal.debugger', 'IPython.core.completer', 'unicodedata', 'IPython.core.latex_symbols', 'IPython.utils.generics', 'simplegeneric', 'IPython.terminal.ptutils', 'IPython.terminal.shortcuts', 'IPython.terminal.magics', 'IPython.lib.clipboard', 'IPython.terminal.pt_inputhooks', 'IPython.terminal.prompts', 'pkg_resources', 'zipfile', 'plistlib', 'xml', 'xml.parsers', 'xml.parsers.expat', 'pyexpat.errors', 'pyexpat.model', 'pyexpat', 'xml.parsers.expat.model', 'xml.parsers.expat.errors', 'email', 'email.parser', 'email.feedparser', 'email.errors', 'email._policybase', 'email.header', 'email.quoprimime', 'email.base64mime', 'email.charset', 'email.encoders', 'quopri', 'email.utils', 'socket', '_socket', 'email._parseaddr', 'calendar', 'pkg_resources.extern', 'pkg_resources._vendor', 'pkg_resources._vendor.appdirs', 'pkg_resources.extern.appdirs', 'pkg_resources._vendor.packaging', 'pkg_resources._vendor.packaging.__about__', 'pkg_resources.extern.packaging', 'pkg_resources.extern.packaging.version', 'pkg_resources.extern.packaging._structures', 'pkg_resources.extern.packaging._typing', 'pkg_resources.extern.packaging.specifiers', 'pkg_resources.extern.packaging._compat', 'pkg_resources.extern.packaging.utils', 'pkg_resources.extern.packaging.requirements', 'pkg_resources._vendor.pyparsing', 'pkg_resources.extern.pyparsing', 'pkg_resources.extern.packaging.markers', 'IPython.terminal.ipapp', 'IPython.core.magics', 'IPython.core.magics.auto', 'IPython.core.magics.basic', 'IPython.core.magics.code', 'IPython.core.magics.config', 'IPython.core.magics.display', 'IPython.core.magics.execution', 'gc', 'timeit', 'cProfile', '_lsprof', 'profile', 'pstats', 'IPython.utils.module_paths', 'imp', 'IPython.utils.timing', 'IPython.core.magics.extension', 'IPython.core.magics.history', 'IPython.core.magics.logging', 'IPython.core.magics.namespace', 'IPython.core.magics.osm', 'IPython.core.magics.pylab', 'IPython.core.pylabtools', 'IPython.core.magics.script', 'IPython.lib.backgroundjobs', 'IPython.core.shellapp', 'IPython.extensions', 'IPython.extensions.storemagic', 'IPython.utils.frame', 'jupyter_client', 'jupyter_client._version', 'jupyter_client.connect', 'zmq', 'ctypes', '_ctypes', 'ctypes._endian', 'zmq.backend', 'zmq.backend.select', 'typing', 'typing.io', 'typing.re', 'zmq.backend.cython', 'zmq.backend.cython.constants', 'cython_runtime', 'zmq.backend.cython.error', '_cython_0_29_21', 'zmq.backend.cython.message', 'zmq.error', 'zmq.backend.cython.context', 'zmq.backend.cython.socket', 'zmq.backend.cython.utils', 'zmq.backend.cython._poll', 'zmq.backend.cython._version', 'zmq.backend.cython._device', 'zmq.backend.cython._proxy_steerable', 'zmq.sugar', 'zmq.sugar.constants', 'zmq.utils', 'zmq.utils.constant_names', 'zmq.sugar.context', 'zmq.sugar.attrsettr', 'zmq.sugar.socket', 'zmq.sugar.poll', 'zmq.utils.jsonapi', 'zmq.utils.strtypes', 'zmq.sugar.frame', 'zmq.sugar.tracker', 'zmq.sugar.version', 'zmq.sugar.stopwatch', 'jupyter_client.localinterfaces', 'jupyter_core', 'jupyter_core.version', 'jupyter_core.paths', 'jupyter_client.launcher', 'traitlets.log', 'jupyter_client.client', 'jupyter_client.channels', 'jupyter_client.channelsabc', 'jupyter_client.clientabc', 'jupyter_client.manager', 'ipython_genutils.importstring', 'jupyter_client.kernelspec', 'jupyter_client.managerabc', 'jupyter_client.blocking', 'jupyter_client.blocking.client', 'queue', '_queue', 'jupyter_client.blocking.channels', 'jupyter_client.multikernelmanager', 'uuid', 'ipykernel.kernelapp', 'tornado', 'tornado.ioloop', 'numbers', 'tornado.concurrent', 'tornado.log', 'logging.handlers', 'tornado.escape', 'tornado.util', 'tornado.speedups', 'html', 'html.entities', 'curses', '_curses', 'tornado.stack_context', 'concurrent', 'concurrent.futures', 'concurrent.futures._base', 'asyncio', 'asyncio.base_events', 'ssl', '_ssl', 'asyncio.constants', 'asyncio.coroutines', 'asyncio.base_futures', 'asyncio.format_helpers', 'asyncio.log', 'asyncio.events', 'contextvars', '_contextvars', 'asyncio.base_tasks', '_asyncio', 'asyncio.futures', 'asyncio.protocols', 'asyncio.sslproto', 'asyncio.transports', 'asyncio.tasks', 'asyncio.locks', 'asyncio.runners', 'asyncio.queues', 'asyncio.streams', 'asyncio.subprocess', 'asyncio.unix_events', 'asyncio.base_subprocess', 'asyncio.selector_events', 'tornado.platform', 'tornado.platform.auto', 'tornado.platform.posix', 'tornado.platform.common', 'tornado.platform.interface', 'concurrent.futures.thread', 'zmq.eventloop', 'zmq.eventloop.ioloop', 'tornado.platform.asyncio', 'tornado.gen', 'zmq.eventloop.zmqstream', 'ipykernel.iostream', 'jupyter_client.session', 'hmac', 'jupyter_client.jsonutil', 'dateutil', 'dateutil._version', 'dateutil.parser', 'dateutil.parser._parser', 'decimal', '_decimal', 'dateutil.relativedelta', 'dateutil._common', 'dateutil.tz', 'dateutil.tz.tz', 'dateutil.tz._common', 'dateutil.tz._factories', 'dateutil.parser.isoparser', '_strptime', 'jupyter_client.adapter', 'ipykernel.heartbeat', 'ipykernel.ipkernel', 'IPython.utils.tokenutil', 'ipykernel.comm', 'ipykernel.comm.manager', 'ipykernel.comm.comm', 'ipykernel.kernelbase', 'ipykernel.jsonutil', 'ipykernel.zmqshell', 'IPython.core.payloadpage', 'ipykernel.displayhook', 'ipykernel.parentpoller', 'google.colab', 'google.colab._import_hooks', 'google.colab._import_hooks._altair', 'google.colab._import_hooks._bokeh', 'google.colab._import_hooks._cv2', 'google.colab._import_magics', 'google.colab._installation_commands', 'google.colab._reprs', 'IPython.utils.traitlets', 'google.colab._shell_customizations', 'google.colab._ipython', 'google.colab._system_commands', 'google.colab._message', 'google.colab.errors', 'google.colab.output', 'google.colab.output._area', 'google.colab.output._js_builder', 'google.colab.output._js', 'google.colab.output._publish', 'google.colab.output._tags', 'google.colab.output._util', 'google.colab._tensorflow_magics', 'google.colab.auth', 'google.colab.data_table', 'google.colab._interactive_table_helper', 'pandas', 'numpy', 'numpy._globals', 'numpy.__config__', 'numpy.version', 'numpy._distributor_init', 'numpy.core', 'numpy.core.multiarray', 'numpy.core.overrides', 'numpy.core._multiarray_umath', 'numpy.compat', 'numpy.compat._inspect', 'numpy.compat.py3k', 'numpy.core.umath', 'numpy.core.numerictypes', 'numpy.core._string_helpers', 'numpy.core._type_aliases', 'numpy.core._dtype', 'numpy.core.numeric', 'numpy.core.shape_base', 'numpy.core._asarray', 'numpy.core.fromnumeric', 'numpy.core._methods', 'numpy.core._exceptions', 'numpy.core._ufunc_config', 'numpy.core.arrayprint', 'numpy.core.defchararray', 'numpy.core.records', 'numpy.core.memmap', 'numpy.core.function_base', 'numpy.core.machar', 'numpy.core.getlimits', 'numpy.core.einsumfunc', 'numpy.core._add_newdocs', 'numpy.core._multiarray_tests', 'numpy.core._dtype_ctypes', 'numpy.core._internal', 'numpy._pytesttester', 'numpy.lib', 'numpy.lib.mixins', 'numpy.lib.scimath', 'numpy.lib.type_check', 'numpy.lib.ufunclike', 'numpy.lib.index_tricks', 'numpy.matrixlib', 'numpy.matrixlib.defmatrix', 'numpy.linalg', 'numpy.linalg.linalg', 'numpy.lib.twodim_base', 'numpy.linalg.lapack_lite', 'numpy.linalg._umath_linalg', 'numpy.lib.function_base', 'numpy.lib.histograms', 'numpy.lib.stride_tricks', 'numpy.lib.nanfunctions', 'numpy.lib.shape_base', 'numpy.lib.polynomial', 'numpy.lib.utils', 'numpy.lib.arraysetops', 'numpy.lib.npyio', 'numpy.lib.format', 'numpy.lib._datasource', 'numpy.lib._iotools', 'numpy.lib.financial', 'numpy.lib.arrayterator', 'numpy.lib.arraypad', 'numpy.lib._version', 'numpy.fft', 'numpy.fft._pocketfft', 'numpy.fft._pocketfft_internal', 'numpy.fft.helper', 'numpy.polynomial', 'numpy.polynomial.polynomial', 'numpy.polynomial.polyutils', 'numpy.polynomial._polybase', 'numpy.polynomial.chebyshev', 'numpy.polynomial.legendre', 'numpy.polynomial.hermite', 'numpy.polynomial.hermite_e', 'numpy.polynomial.laguerre', 'numpy.random', 'numpy.random._pickle', 'numpy.random.mtrand', 'numpy.random.bit_generator', 'numpy.random._common', 'secrets', 'numpy.random._bounded_integers', 'numpy.random._mt19937', 'numpy.random._philox', 'numpy.random._pcg64', 'numpy.random._sfc64', 'numpy.random._generator', 'numpy.ctypeslib', 'numpy.ma', 'numpy.ma.core', 'numpy.ma.extras', 'pytz', 'pytz.exceptions', 'pytz.lazy', 'pytz.tzinfo', 'pytz.tzfile', 'pandas.compat', 'pandas._typing', 'pandas.compat.numpy', 'distutils', 'distutils.version', 'pandas._libs', 'pandas._libs.interval', 'pandas._libs.hashtable', 'pandas._libs.missing', 'pandas._libs.tslibs', 'pandas._libs.tslibs.dtypes', 'pandas._libs.tslibs.conversion', 'pandas._libs.tslibs.base', 'pandas._libs.tslibs.nattype', 'pandas._libs.tslibs.np_datetime', 'pandas._libs.tslibs.timezones', 'pandas._libs.tslibs.tzconversion', 'pandas._libs.tslibs.ccalendar', 'pandas._libs.tslibs.parsing', 'pandas._libs.tslibs.offsets', 'pandas._libs.tslibs.timedeltas', 'pandas._libs.tslibs.timestamps', 'pandas._libs.tslibs.fields', 'pandas._config', 'pandas._config.config', 'pandas._config.dates', 'pandas._config.display', 'pandas._config.localization', 'pandas._libs.tslibs.strptime', 'dateutil.easter', 'pandas._libs.properties', 'pandas._libs.tslibs.period', 'pandas._libs.tslibs.vectorized', 'pandas._libs.ops_dispatch', 'pandas._libs.algos', 'pandas._libs.lib', 'pandas._libs.tslib', 'pandas.core', 'pandas.core.config_init', 'pandas.core.api', 'pandas.core.dtypes', 'pandas.core.dtypes.dtypes', 'pandas.core.dtypes.base', 'pandas.errors', 'pandas.core.dtypes.generic', 'pandas.core.dtypes.inference', 'pandas.core.dtypes.missing', 'pandas.core.dtypes.common', 'pandas.core.algorithms', 'pandas.util', 'pandas.util._decorators', 'pandas.core.util', 'pandas.core.util.hashing', 'pandas._libs.hashing', 'pandas.core.dtypes.cast', 'pandas.util._validators', 'pandas.core.construction', 'pandas.core.common', 'pandas.core.indexers', 'pandas.core.arrays', 'pandas.core.arrays.base', 'pandas.compat.numpy.function', 'pandas.core.ops', 'pandas.core.ops.array_ops', 'pandas._libs.ops', 'pandas.core.ops.missing', 'pandas.core.ops.roperator', 'pandas.core.ops.dispatch', 'pandas.core.ops.invalid', 'pandas.core.ops.common', 'pandas.core.ops.docstrings', 'pandas.core.ops.mask_ops', 'pandas.core.ops.methods', 'pandas.core.missing', 'pandas.compat._optional', 'pandas.core.sorting', 'pandas.core.arrays.boolean', 'pandas.core.arrays.masked', 'pandas.core.nanops', 'bottleneck', 'bottleneck.reduce', 'bottleneck.nonreduce', 'bottleneck.nonreduce_axis', 'bottleneck.move', 'bottleneck.slow', 'bottleneck.slow.reduce', 'bottleneck.slow.nonreduce', 'bottleneck.slow.nonreduce_axis', 'bottleneck.slow.move', 'bottleneck.benchmark', 'bottleneck.benchmark.bench', 'bottleneck.benchmark.autotimeit', 'bottleneck.benchmark.bench_detailed', 'bottleneck.tests', 'bottleneck.tests.util', 'bottleneck._pytesttester', 'bottleneck._version', 'pandas.core.array_algos', 'pandas.core.array_algos.masked_reductions', 'pandas.core.arrays.categorical', 'csv', '_csv', 'pandas.core.accessor', 'pandas.core.array_algos.transforms', 'pandas.core.arrays._mixins', 'pandas.core.base', 'pandas.io', 'pandas.io.formats', 'pandas.io.formats.console', 'pandas.core.arrays.datetimes', 'pandas.core.arrays.datetimelike', 'pandas.tseries', 'pandas.tseries.frequencies', 'pandas.core.arrays._ranges', 'pandas.tseries.offsets', 'pandas.core.arrays.integer', 'pandas.core.tools', 'pandas.core.tools.numeric', 'pandas.core.arrays.interval', 'pandas.core.indexes', 'pandas.core.indexes.base', 'pandas._libs.index', 'pandas._libs.join', 'pandas.core.dtypes.concat', 'pandas.core.arrays.sparse', 'pandas.core.arrays.sparse.accessor', 'pandas.core.arrays.sparse.array', 'pandas._libs.sparse', 'pandas.core.arrays.sparse.dtype', 'pandas.io.formats.printing', 'pandas.core.indexes.frozen', 'pandas.core.strings', 'pandas.core.arrays.numpy_', 'pandas.core.arrays.period', 'pandas.core.arrays.string_', 'pandas.core.arrays.timedeltas', 'pandas.core.groupby', 'pandas.core.groupby.generic', 'pandas.core.aggregation', 'pandas.core.indexes.api', 'pandas.core.indexes.category', 'pandas.core.indexes.extension', 'pandas.core.indexes.datetimes', 'pandas.core.indexes.datetimelike', 'pandas.core.indexes.numeric', 'pandas.core.tools.timedeltas', 'pandas.core.tools.times', 'pandas.core.indexes.interval', 'pandas.util._exceptions', 'pandas.core.indexes.multi', 'pandas.core.indexes.timedeltas', 'pandas.core.indexes.period', 'pandas.core.indexes.range', 'pandas.core.series', 'pandas._libs.reshape', 'pandas.core.generic', 'pandas.core.indexing', 'pandas._libs.indexing', 'pandas.core.internals', 'pandas.core.internals.blocks', 'pandas._libs.writers', 'pandas._libs.internals', 'pandas.core.internals.concat', 'pandas.core.internals.managers', 'pandas.core.internals.ops', 'pandas.core.shared_docs', 'pandas.io.formats.format', 'pandas.io.common', 'gzip', 'mmap', 'pandas.core.indexes.accessors', 'pandas.core.tools.datetimes', 'pandas.arrays', 'pandas.plotting', 'pandas.plotting._core', 'pandas.plotting._misc', 'pandas.core.window', 'pandas.core.window.ewm', 'pandas._libs.window', 'pandas._libs.window.aggregations', 'pandas.core.window.common', 'pandas.core.groupby.base', 'pandas.core.window.rolling', 'pandas.core.util.numba_', 'pandas.core.window.indexers', 'pandas._libs.window.indexers', 'pandas.core.window.numba_', 'pandas.core.window.expanding', 'pandas.core.frame', 'pandas.core.internals.construction', 'pandas.core.reshape', 'pandas.core.reshape.melt', 'pandas.core.reshape.concat', 'pandas.core.reshape.util', 'pandas.io.formats.info', 'pandas.core.groupby.groupby', 'pandas._libs.groupby', 'pandas.core.groupby.ops', 'pandas._libs.reduction', 'pandas.core.groupby.grouper', 'pandas.core.groupby.categorical', 'pandas.tseries.api', 'pandas.core.computation', 'pandas.core.computation.api', 'pandas.core.computation.eval', 'pandas.core.computation.engines', 'pandas.core.computation.align', 'pandas.core.computation.common', 'pandas.core.computation.ops', 'pandas.core.computation.scope', 'pandas.compat.chainmap', 'pandas.core.computation.expr', 'pandas.core.computation.parsing', 'pandas.core.reshape.api', 'pandas.core.reshape.merge', 'pandas.core.reshape.pivot', 'pandas.core.reshape.reshape', 'pandas.core.reshape.tile', 'pandas.api', 'pandas.api.extensions', 'pandas.api.indexers', 'pandas.api.types', 'pandas.core.dtypes.api', 'pandas.util._print_versions', 'pandas.io.api', 'pandas.io.clipboards', 'pandas.io.excel', 'pandas.io.excel._base', 'pandas._libs.parsers', 'pandas.io.excel._util', 'pandas.io.parsers', 'pandas.io.date_converters', 'pandas.io.excel._odfreader', 'pandas.io.excel._openpyxl', 'pandas.io.excel._pyxlsb', 'pandas.io.excel._xlrd', 'pandas.io.excel._odswriter', 'pandas._libs.json', 'pandas.io.formats.excel', 'pandas.io.formats.css', 'pandas.io.excel._xlsxwriter', 'pandas.io.excel._xlwt', 'pandas.io.feather_format', 'pandas.io.gbq', 'pandas.io.html', 'pandas.io.json', 'pandas.io.json._json', 'pandas.io.json._normalize', 'pandas.io.json._table_schema', 'pandas.io.orc', 'pandas.io.parquet', 'pandas.io.pickle', 'pandas.compat.pickle_compat', 'pandas.io.pytables', 'pandas.core.computation.pytables', 'pandas.io.sas', 'pandas.io.sas.sasreader', 'pandas.io.spss', 'pandas.io.sql', 'pandas.io.stata', 'pandas.util._tester', 'pandas.testing', 'pandas._testing', 'pandas._libs.testing', 'pandas._version', 'google.colab.drive', 'pexpect.popen_spawn', 'psutil', 'psutil._common', 'psutil._compat', 'psutil._exceptions', 'psutil._pslinux', 'psutil._psposix', 'psutil._psutil_linux', 'psutil._psutil_posix', 'google.colab.files', 'http', 'http.server', 'http.client', 'email.message', 'uu', 'email._encoded_words', 'email.iterators', 'socketserver', 'six.moves.urllib', 'google.colab.snippets', 'google.colab.widgets', 'google.colab.widgets._grid', 'google.colab.widgets._widget', 'google.colab.widgets._tabbar', 'google.colab._kernel', 'google.colab._shell', 'google.colab._event_manager', 'google.colab._history', 'google.colab._inspector', 'astor', 'astor.code_gen', 'astor.op_util', 'astor.node_util', 'astor.string_repr', 'astor.source_repr', 'astor.file_util', 'astor.tree_walk', 'google.colab._pip', 'encodings.idna', 'stringprep', 'faulthandler', 'ipykernel.datapub', 'ipykernel.serialize', 'ipykernel.pickleutil', 'ipykernel.codeutil', 'IPython.lib.deepreload', 'IPython.core.completerlib', 'matplotlib', 'matplotlib.cbook', 'matplotlib.cbook.deprecation', 'matplotlib.rcsetup', 'matplotlib.fontconfig_pattern', 'pyparsing', 'matplotlib.colors', 'matplotlib.docstring', 'matplotlib._color_data', 'cycler', 'matplotlib._version', 'matplotlib.ft2font', 'kiwisolver', 'matplotlib.pyplot', 'matplotlib.colorbar', 'matplotlib.artist', 'matplotlib.path', 'matplotlib._path', 'matplotlib.transforms', 'matplotlib.collections', 'matplotlib.cm', 'matplotlib._cm', 'matplotlib._cm_listed', 'matplotlib.lines', 'matplotlib.markers', 'matplotlib.contour', 'matplotlib.ticker', 'matplotlib.font_manager', 'matplotlib.afm', 'matplotlib._mathtext_data', 'matplotlib.text', 'matplotlib.patches', 'matplotlib.bezier', 'matplotlib.textpath', 'matplotlib._text_layout', 'matplotlib.dviread', 'matplotlib.mathtext', 'matplotlib.texmanager', 'matplotlib.blocking_input', 'matplotlib.gridspec', 'matplotlib._pylab_helpers', 'matplotlib.tight_layout', 'matplotlib._layoutbox', 'matplotlib._constrained_layout', 'matplotlib.image', 'matplotlib.backend_bases', 'matplotlib.backend_tools', 'matplotlib.tight_bbox', 'matplotlib.widgets', 'PIL', 'PIL._version', 'matplotlib._image', 'matplotlib.style', 'matplotlib.style.core', 'matplotlib.figure', 'matplotlib.backends', 'matplotlib.projections', 'matplotlib.axes', 'matplotlib.axes._subplots', 'matplotlib.axes._axes', 'matplotlib.category', 'matplotlib.units', 'matplotlib.dates', 'dateutil.rrule', 'matplotlib.legend', 'matplotlib.offsetbox', 'matplotlib.container', 'matplotlib.legend_handler', 'matplotlib.mlab', 'matplotlib.quiver', 'matplotlib.stackplot', 'matplotlib.streamplot', 'matplotlib.table', 'matplotlib.tri', 'matplotlib.tri.triangulation', 'matplotlib.tri.tricontour', 'matplotlib.tri.tritools', 'matplotlib.tri.trifinder', 'matplotlib.tri.triinterpolate', 'matplotlib.tri.trirefine', 'matplotlib.tri.tripcolor', 'matplotlib.tri.triplot', 'matplotlib.axes._base', 'matplotlib.axis', 'matplotlib.scale', 'matplotlib.spines', 'matplotlib.axes._secondary_axes', 'matplotlib.projections.geo', 'matplotlib.projections.polar', 'mpl_toolkits.mplot3d', 'mpl_toolkits.mplot3d.axes3d', 'mpl_toolkits.mplot3d.art3d', 'mpl_toolkits.mplot3d.proj3d', 'mpl_toolkits.mplot3d.axis3d', 'ipykernel.pylab', 'ipykernel.pylab.backend_inline', 'matplotlib.backends.backend_agg', 'matplotlib.backends._backend_agg', 'PIL.Image', 'PIL.ImageMode', 'PIL.TiffTags', 'PIL._binary', 'PIL._util', 'PIL._imaging', 'cffi', 'cffi.api', 'cffi.lock', 'cffi.error', 'cffi.model', 'ipykernel.pylab.config', 'ipykernel.eventloops', 'storemagic', 'ipywidgets', 'ipywidgets._version', 'ipywidgets.widgets', 'ipywidgets.widgets.widget', 'ipywidgets.widgets.domwidget', 'ipywidgets.widgets.trait_types', 'ipywidgets.widgets.util', 'ipywidgets.widgets.widget_layout', 'ipywidgets.widgets.widget_style', 'ipywidgets.widgets.valuewidget', 'ipywidgets.widgets.widget_core', 'ipywidgets.widgets.widget_bool', 'ipywidgets.widgets.widget_description', 'ipywidgets.widgets.widget_button', 'ipywidgets.widgets.widget_box', 'ipywidgets.widgets.docutils', 'ipywidgets.widgets.widget_float', 'ipywidgets.widgets.widget_int', 'ipywidgets.widgets.widget_color', 'ipywidgets.widgets.widget_date', 'ipywidgets.widgets.widget_output', 'ipywidgets.widgets.widget_selection', 'ipywidgets.widgets.widget_selectioncontainer', 'ipywidgets.widgets.widget_string', 'ipywidgets.widgets.widget_controller', 'ipywidgets.widgets.interaction', 'ipywidgets.widgets.widget_link', 'ipywidgets.widgets.widget_media', 'ipywidgets.widgets.widget_templates', 'ipywidgets.widgets.widget_upload', 'google.colab._debugpy', 'debugpy', 'debugpy._version', 'debugpy.common', 'debugpy.common.compat', 'debugpy.common.fmt', 'debugpy.common.json', 'portpicker', 'debugpy.server', 'debugpy._vendored', 'debugpy._vendored._util', 'debugpy._vendored.force_pydevd', '_pydevd_bundle', '_pydevd_bundle.pydevd_constants', 'encodings.ascii', '_pydevd_bundle.pydevd_vm_type', '_pydev_imps', '_pydev_imps._pydev_saved_modules', 'xmlrpc', 'xmlrpc.client', 'xmlrpc.server', '_pydev_bundle', '_pydev_runfiles', '_pydevd_frame_eval', 'pydev_ipython', 'pydevd_concurrency_analyser', 'pydevd_plugins', 'pydevd', 'pydevd_file_utils', '_pydev_bundle.pydev_log', '_pydev_bundle._pydev_filesystem_encoding', '_pydevd_bundle.pydevd_comm_constants', '_pydev_bundle.pydev_imports', '_pydev_imps._pydev_execfile', '_pydevd_bundle.pydevd_exec2', '_pydev_bundle.pydev_is_thread_alive', '_pydev_bundle.pydev_override', '_pydevd_bundle.pydevd_extension_utils', 'pydevd_plugins.extensions', '_pydevd_bundle.pydevd_frame_utils', '_pydevd_bundle.pydevd_filtering', '_pydevd_bundle.pydevd_io', '_pydevd_bundle.pydevd_utils', '_pydev_bundle.pydev_console_utils', '_pydev_bundle._pydev_calltip_util', '_pydev_bundle._pydev_imports_tipper', '_pydev_bundle._pydev_tipper_common', '_pydevd_bundle.pydevd_vars', '_pydevd_bundle.pydevd_xml', '_pydevd_bundle.pydevd_resolver', '_pydevd_bundle.pydevd_safe_repr', '_pydevd_bundle.pydevd_extension_api', '_pydevd_bundle.pydevd_thread_lifecycle', '_pydevd_bundle.pydevd_additional_thread_info', '_pydevd_bundle.pydevd_cython_wrapper', '_pydevd_bundle.pydevd_cython', '_pydevd_bundle.pydevd_dont_trace', '_pydevd_bundle.pydevd_save_locals', '_pydevd_bundle.pydevd_timeout', '_pydevd_bundle.pydevd_daemon_thread', 'pydevd_tracing', '_pydev_bundle.pydev_monkey', '_pydevd_bundle.pydevd_breakpoints', '_pydevd_bundle.pydevd_import_class', '_pydevd_bundle.pydevd_defaults', '_pydevd_bundle.pydevd_custom_frames', '_pydevd_bundle.pydevd_dont_trace_files', '_pydevd_bundle.pydevd_net_command_factory_xml', '_pydevd_bundle.pydevd_net_command', '_pydev_bundle._pydev_completer', 'pydevconsole', '_pydev_bundle.pydev_umd', '_pydevd_bundle.pydevd_trace_dispatch', '_pydevd_bundle.pydevd_additional_thread_info_regular', '_pydevd_bundle.pydevd_frame', '_pydevd_frame_eval.pydevd_frame_eval_main', '_pydevd_bundle.pydevd_source_mapping', 'pydevd_concurrency_analyser.pydevd_concurrency_logger', 'pydevd_concurrency_analyser.pydevd_thread_wrappers', '_pydevd_bundle.pydevd_comm', '_pydevd_bundle._debug_adapter', '_pydevd_bundle._debug_adapter.pydevd_schema', '_pydevd_bundle._debug_adapter.pydevd_base_schema', '_pydevd_bundle._debug_adapter.pydevd_schema_log', '_pydevd_bundle.pydevd_console', '_pydevd_bundle.pydevd_process_net_command_json', '_pydevd_bundle.pydevd_api', '_pydevd_bundle.pydevd_net_command_factory_json', '_pydevd_bundle.pydevd_collect_bytecode_info', '_pydevd_bundle.pydevd_json_debug_options', '_pydevd_bundle.pydevd_process_net_command', '_pydevd_bundle.pydevd_traceproperty', '_pydevd_bundle.pydevd_suspended_frames', '_pydevd_bundle.pydevd_plugin_utils', '_pydevd_bundle.pydevd_trace_api', 'pydevd_plugins.django_debug', 'pydevd_plugins.jinja2_debug', 'pydevd_plugins.extensions.types', 'pydevd_plugins.extensions.types.pydevd_plugin_numpy_types', 'pydevd_plugins.extensions.types.pydevd_helpers', 'pydevd_plugins.extensions.types.pydevd_plugins_django_form_str', 'debugpy.server.api', 'debugpy.adapter', 'debugpy.common.log', 'debugpy.common.timestamp', 'debugpy.common.util', 'debugpy.common.sockets', 'encodings.hex_codec', 'kats', 'kats.consts', 'kats.utils', 'kats.utils.backtesters', 'multiprocessing', 'multiprocessing.context', 'multiprocessing.process', 'multiprocessing.reduction', '__mp_main__', 'kats.utils.cupik', 'kats.utils.decomposition', 'statsmodels', 'statsmodels._version', 'statsmodels.tsa', 'statsmodels.tools', 'statsmodels.tools.tools', 'numpy.lib.recfunctions', 'numpy.ma.mrecords', 'numpy.testing', 'unittest', 'unittest.result', 'unittest.util', 'unittest.case', 'difflib', 'unittest.suite', 'unittest.loader', 'unittest.main', 'unittest.runner', 'unittest.signals', 'numpy.testing._private', 'numpy.testing._private.utils', 'numpy.testing._private.decorators', 'numpy.testing._private.nosetester', 'scipy', 'scipy._lib', 'scipy._lib._testutils', 'scipy._lib.deprecation', 'scipy._distributor_init', 'scipy.__config__', 'scipy.version', 'scipy._lib._version', 'scipy._lib.six', 'scipy._lib._ccallback', 'scipy._lib._ccallback_c', 'scipy.fft', 'scipy.fft._basic', 'scipy._lib.uarray', 'scipy._lib._uarray', 'scipy._lib._uarray._backend', 'scipy._lib._uarray._uarray', 'scipy.fft._realtransforms', 'scipy.fft._helper', 'scipy.fft._pocketfft', 'scipy.fft._pocketfft.basic', 'scipy.fft._pocketfft.pypocketfft', 'scipy.fft._pocketfft.helper', 'scipy.fft._pocketfft.realtransforms', 'scipy.fft._backend', 'numpy.dual', 'scipy.linalg', 'scipy.linalg.linalg_version', 'scipy.linalg.misc', 'scipy.linalg.blas', 'scipy.linalg._fblas', 'scipy.linalg.lapack', 'scipy.linalg._flapack', 'scipy._lib._util', 'scipy.linalg.basic', 'scipy.linalg.flinalg', 'scipy.linalg._flinalg', 'scipy.linalg.decomp', 'scipy.linalg.decomp_svd', 'scipy.linalg._solve_toeplitz', '_cython_0_29_14', 'scipy.linalg.decomp_lu', 'scipy.linalg._decomp_ldl', 'scipy.linalg.decomp_cholesky', 'scipy.linalg.decomp_qr', 'scipy.linalg._decomp_qz', 'scipy.linalg.decomp_schur', 'scipy.linalg._decomp_polar', 'scipy.linalg.matfuncs', 'scipy.linalg.special_matrices', 'scipy.linalg._expm_frechet', 'scipy.linalg._matfuncs_sqrtm', 'scipy.linalg._solvers', 'scipy.linalg._procrustes', 'scipy.linalg._decomp_update', 'scipy.linalg.cython_blas', 'scipy.linalg.cython_lapack', 'scipy.linalg._sketches', 'scipy.sparse', 'scipy.sparse.base', 'scipy._lib._numpy_compat', 'scipy.sparse.sputils', 'scipy.sparse.csr', 'scipy.sparse._sparsetools', 'scipy.sparse.compressed', 'scipy.sparse.data', 'scipy.sparse.dia', 'scipy.sparse._index', 'scipy.sparse.csc', 'scipy.sparse.lil', 'scipy.sparse._csparsetools', 'scipy.sparse.dok', 'scipy.sparse.coo', 'scipy.sparse.bsr', 'scipy.sparse.construct', 'scipy.sparse.extract', 'scipy.sparse._matrix_io', 'scipy.sparse.csgraph', 'scipy.sparse.csgraph._laplacian', 'scipy.sparse.csgraph._shortest_path', 'scipy.sparse.csgraph._validation', 'scipy.sparse.csgraph._tools', 'scipy.sparse.csgraph._traversal', 'scipy.sparse.csgraph._min_spanning_tree', 'scipy.sparse.csgraph._flow', 'scipy.sparse.csgraph._matching', 'scipy.sparse.csgraph._reordering', 'statsmodels.compat', 'statsmodels.tools._testing', 'statsmodels.compat.pandas', 'statsmodels.compat.python', 'statsmodels.tools.data', 'statsmodels.tools.validation', 'statsmodels.tools.validation.validation', 'statsmodels.tsa.seasonal', 'statsmodels.tsa._stl', 'statsmodels.tsa.tsatools', 'statsmodels.compat.numpy', 'statsmodels.tools.sm_exceptions', 'statsmodels.tsa.filters', 'statsmodels.tsa.filters.filtertools', 'scipy.fftpack', 'scipy.fftpack.basic', 'scipy.fftpack.helper', 'scipy.fftpack.pseudo_diffs', 'scipy.fftpack.convolve', 'scipy.fftpack.realtransforms', 'scipy.signal', 'scipy.signal.sigtools', 'scipy.signal.windows', 'scipy.signal.windows.windows', 'scipy.special', 'scipy.special.sf_error', 'scipy.special._ufuncs', 'scipy.special._ufuncs_cxx', 'scipy.special._basic', 'scipy.special.specfun', 'scipy.special.orthogonal', 'scipy.special._comb', 'scipy.special._logsumexp', 'scipy.special.spfun_stats', 'scipy.special._ellip_harm', 'scipy.special._ellip_harm_2', 'scipy.special.lambertw', 'scipy.special._spherical_bessel', 'scipy.signal.waveforms', 'scipy.signal._max_len_seq', 'scipy.signal._max_len_seq_inner', 'scipy.signal._upfirdn', 'scipy.signal._upfirdn_apply', 'scipy.signal.spline', 'scipy.signal.bsplines', 'scipy.signal.filter_design', 'scipy.optimize', 'scipy.optimize.optimize', 'scipy.optimize.linesearch', 'scipy.optimize.minpack2', 'scipy.optimize._minimize', 'scipy.optimize._trustregion_dogleg', 'scipy.optimize._trustregion', 'scipy.optimize._trustregion_ncg', 'scipy.optimize._trustregion_krylov', 'scipy.optimize._trlib', 'scipy.optimize._trlib._trlib', 'scipy._lib.messagestream', 'scipy.optimize._trustregion_exact', 'scipy.optimize._trustregion_constr', 'scipy.optimize._trustregion_constr.minimize_trustregion_constr', 'scipy.sparse.linalg', 'scipy.sparse.linalg.isolve', 'scipy.sparse.linalg.isolve.iterative', 'scipy.sparse.linalg.isolve._iterative', 'scipy.sparse.linalg.interface', 'scipy.sparse.linalg.isolve.utils', 'scipy._lib._threadsafety', 'scipy._lib.decorator', 'scipy.sparse.linalg.isolve.minres', 'scipy.sparse.linalg.isolve.lgmres', 'scipy.sparse.linalg.isolve._gcrotmk', 'scipy.sparse.linalg.isolve.lsqr', 'scipy.sparse.linalg.isolve.lsmr', 'scipy.sparse.linalg.dsolve', 'scipy.sparse.linalg.dsolve.linsolve', 'scipy.sparse.linalg.dsolve._superlu', 'scipy.sparse.linalg.dsolve._add_newdocs', 'scipy.sparse.linalg.eigen', 'scipy.sparse.linalg.eigen.arpack', 'scipy.sparse.linalg.eigen.arpack.arpack', 'scipy.sparse.linalg.eigen.arpack._arpack', 'scipy.sparse.linalg.eigen.lobpcg', 'scipy.sparse.linalg.eigen.lobpcg.lobpcg', 'scipy.sparse.linalg.matfuncs', 'scipy.sparse.linalg._expm_multiply', 'scipy.sparse.linalg._onenormest', 'scipy.sparse.linalg._norm', 'scipy.optimize._differentiable_functions', 'scipy.optimize._numdiff', 'scipy.optimize._group_columns', 'scipy.optimize._hessian_update_strategy', 'scipy.optimize._constraints', 'scipy.optimize._trustregion_constr.equality_constrained_sqp', 'scipy.optimize._trustregion_constr.projections', 'scipy.optimize._trustregion_constr.qp_subproblem', 'scipy.optimize._trustregion_constr.canonical_constraint', 'scipy.optimize._trustregion_constr.tr_interior_point', 'scipy.optimize._trustregion_constr.report', 'scipy.optimize.lbfgsb', 'scipy.optimize._lbfgsb', 'scipy.optimize.tnc', 'scipy.optimize.moduleTNC', 'scipy.optimize.cobyla', 'scipy.optimize._cobyla', 'scipy.optimize.slsqp', 'scipy.optimize._slsqp', 'scipy.optimize._root', 'scipy.optimize.minpack', 'scipy.optimize._minpack', 'scipy.optimize._lsq', 'scipy.optimize._lsq.least_squares', 'scipy.optimize._lsq.trf', 'scipy.optimize._lsq.common', 'scipy.optimize._lsq.dogbox', 'scipy.optimize._lsq.lsq_linear', 'scipy.optimize._lsq.trf_linear', 'scipy.optimize._lsq.givens_elimination', 'scipy.optimize._lsq.bvls', 'scipy.optimize._spectral', 'scipy.optimize.nonlin', 'scipy.optimize._root_scalar', 'scipy.optimize.zeros', 'scipy.optimize._zeros', 'scipy.optimize.nnls', 'scipy.optimize._nnls', 'scipy.optimize._basinhopping', 'scipy.optimize._linprog', 'scipy.optimize._linprog_ip', 'scipy.optimize._linprog_util', 'scipy.optimize._remove_redundancy', 'scipy.optimize._linprog_simplex', 'scipy.optimize._linprog_rs', 'scipy.optimize._bglu_dense', 'scipy.optimize._lsap', 'scipy.optimize._lsap_module', 'scipy.optimize._differentialevolution', 'scipy.optimize._shgo', 'scipy.spatial', 'scipy.spatial.kdtree', 'scipy.spatial.ckdtree', 'scipy.spatial.qhull', 'scipy.spatial._spherical_voronoi', 'scipy.spatial._voronoi', 'scipy.spatial._plotutils', 'scipy.spatial._procrustes', 'scipy.spatial.distance', 'scipy.spatial._distance_wrap', 'scipy.spatial._hausdorff', 'scipy.spatial.transform', 'scipy.spatial.transform.rotation', 'scipy.spatial.transform._rotation_groups', 'scipy.constants', 'scipy.constants.codata', 'scipy.constants.constants', 'scipy.spatial.transform._rotation_spline', 'scipy.optimize._shgo_lib', 'scipy.optimize._shgo_lib.sobol_seq', 'scipy.optimize._shgo_lib.triangulation', 'scipy.optimize._dual_annealing', 'scipy.signal.fir_filter_design', 'scipy.signal.ltisys', 'scipy.integrate', 'scipy.integrate.quadrature', 'scipy.integrate.odepack', 'scipy.integrate._odepack', 'scipy.integrate.quadpack', 'scipy.integrate._quadpack', 'scipy.integrate._ode', 'scipy.integrate.vode', 'scipy.integrate._dop', 'scipy.integrate.lsoda', 'scipy.integrate._bvp', 'scipy.integrate._ivp', 'scipy.integrate._ivp.ivp', 'scipy.integrate._ivp.bdf', 'scipy.integrate._ivp.common', 'scipy.integrate._ivp.base', 'scipy.integrate._ivp.radau', 'scipy.integrate._ivp.rk', 'scipy.integrate._ivp.dop853_coefficients', 'scipy.integrate._ivp.lsoda', 'scipy.integrate._quad_vec', 'scipy.interpolate', 'scipy.interpolate.interpolate', 'scipy.interpolate.fitpack', 'scipy.interpolate._fitpack_impl', 'scipy.interpolate._fitpack', 'scipy.interpolate.dfitpack', 'scipy.interpolate._bsplines', 'scipy.interpolate._bspl', 'scipy.interpolate.polyint', 'scipy.interpolate._ppoly', 'scipy.interpolate.fitpack2', 'scipy.interpolate.interpnd', 'scipy.interpolate.rbf', 'scipy.interpolate._cubic', 'scipy.interpolate.ndgriddata', 'scipy.interpolate._pade', 'scipy.signal.lti_conversion', 'scipy.signal.signaltools', 'scipy.signal._arraytools', 'scipy.signal._sosfilt', 'scipy.signal._savitzky_golay', 'scipy.ndimage', 'scipy.ndimage.filters', 'scipy.ndimage._ni_support', 'scipy.ndimage._nd_image', 'scipy.ndimage._ni_docstrings', 'scipy._lib.doccer', 'scipy.ndimage.fourier', 'scipy.ndimage.interpolation', 'scipy.ndimage.measurements', 'scipy.ndimage._ni_label', '_ni_label', 'scipy.ndimage.morphology', 'scipy.signal.spectral', 'scipy.signal._spectral', 'scipy.signal.wavelets', 'scipy.signal._peak_finding', 'scipy.stats', 'scipy.stats.stats', 'scipy.stats.distributions', 'scipy.stats._distn_infrastructure', 'scipy.stats._distr_params', 'scipy.misc', 'scipy.misc.doccer', 'scipy.misc.common', 'scipy.stats._constants', 'scipy.stats._continuous_distns', 'scipy.stats._stats', 'scipy.stats._tukeylambda_stats', 'scipy.stats._discrete_distns', 'scipy.stats.mstats_basic', 'scipy.stats._stats_mstats_common', 'scipy.stats._rvs_sampling', 'scipy.stats._hypotests', 'scipy.stats.morestats', 'scipy.stats.statlib', 'scipy.stats.contingency', 'scipy.stats._binned_statistic', 'scipy.stats.kde', 'scipy.stats.mvn', 'scipy.stats.mstats', 'scipy.stats.mstats_extras', 'scipy.stats._multivariate', 'scipy.signal._peak_finding_utils', 'kats.utils.emp_confidence_int', 'kats.utils.parameter_tuning_utils', 'kats.utils.simulator', 'kats.utils.time_series_parameter_tuning', 'multiprocessing.pool', 'multiprocessing.util', 'ax', 'ax.core', 'ax.core.arm', 'ax.core.types', 'botorch', 'botorch.acquisition', 'botorch.acquisition.acquisition', 'botorch.exceptions', 'botorch.exceptions.errors', 'botorch.exceptions.warnings', 'botorch.models', 'botorch.models.cost', 'torch', 'torch._utils', 'torch._utils_internal', 'torch.version', 'torch._six', 'torch._C._onnx', 'torch._C._jit', 'torch._C._jit_tree_views', 'torch._C._te', 'torch._C.cpp', 'torch._C.cpp.nn', 'torch._C._cudart', 'torch._C._nvtx', 'torch._C._cudnn', 'torch._C', 'torch._C._fft', 'torch._C._fx', 'torch._C._linalg', 'torch._C._nn', 'torch._C._special', 'torch._tensor', 'torch._namedtensor_internals', 'torch.overrides', 'torch.utils', 'torch.utils.throughput_benchmark', 'torch.utils._crash_handler', 'torch.utils.hooks', 'torch.storage', 'torch.random', 'torch.serialization', 'tarfile', 'torch.types', 'torch._tensor_str', 'torch.cuda', 'torch.cuda._utils', 'torch.cuda.streams', 'torch.cuda.memory', 'torch.cuda.random', 'torch.cuda.sparse', 'torch.cuda.profiler', 'torch.cuda.nvtx', 'torch.cuda.amp', 'torch.cuda.amp.autocast_mode', 'torch.cuda.amp.common', 'torch.cuda.amp.grad_scaler', 'torch.sparse', 'torch.functional', 'torch.nn', 'torch.nn.modules', 'torch.nn.modules.module', 'torch.nn.parameter', 'torch.nn.modules.linear', 'torch.nn.functional', 'torch._VF', 'torch._torch_docs', 'torch._jit_internal', 'torch.distributed', 'torch._C._distributed_c10d', 'torch.distributed.distributed_c10d', 'torch.distributed.constants', 'torch.distributed.rendezvous', 'torch.distributed.rpc', 'torch._C._distributed_rpc', 'torch.distributed.rpc.api', 'torch.futures', 'torch.distributed.rpc.internal', 'torch.distributed.rpc.constants', 'torch.distributed.rpc.backend_registry', 'torch.distributed.rpc.functions', 'torch.distributed.autograd', 'torch._C._distributed_autograd', 'torch.distributed.rpc.options', 'torch.distributed.rpc.server_process_global_profiler', 'torch.autograd', 'torch.autograd.variable', 'torch.autograd.function', 'torch.autograd.gradcheck', 'torch.testing', 'torch.testing._core', 'cmath', 'torch.testing._asserts', 'torch.testing._check_kernel_launches', 'torch._vmap_internals', 'torch.utils._pytree', 'torch.autograd.grad_mode', 'torch.autograd.anomaly_mode', 'torch.autograd.functional', 'torch.autograd.forward_ad', 'torch._C._autograd', 'torch.autograd.profiler', 'torch.package', 'torch.package.analyze', 'torch.package.analyze.trace_dependencies', 'torch.package.analyze.is_from_package', 'torch.package._mangling', 'torch.package.file_structure_representation', 'torch.package.glob_group', 'torch.package.importer', 'torch.package.package_exporter', 'pickletools', 'dataclasses', 'torch.package._digraph', 'torch.package._importlib', 'torch.package._package_pickler', 'torch.package._stdlib', 'torch.package.find_file_dependencies', 'torch.package.package_importer', 'torch.package._mock_zipreader', 'torch.package._package_unpickler', 'typing_extensions', 'torch.nn._reduction', 'torch.nn.grad', 'torch.nn.modules.utils', 'torch.nn.init', 'torch.nn.modules.lazy', 'torch.nn.modules.conv', 'torch.nn.common_types', 'torch.nn.modules.activation', 'torch.nn.modules.loss', 'torch.nn.modules.distance', 'torch.nn.modules.container', 'torch.nn.modules.pooling', 'torch.nn.modules.batchnorm', 'torch.nn.modules._functions', 'torch.nn.modules.instancenorm', 'torch.nn.modules.normalization', 'torch.nn.modules.dropout', 'torch.nn.modules.padding', 'torch.nn.modules.sparse', 'torch.nn.modules.rnn', 'torch.nn.utils', 'torch.nn.utils.rnn', 'torch.nn.utils.clip_grad', 'torch.nn.utils.weight_norm', 'torch.nn.utils.convert_parameters', 'torch.nn.utils.spectral_norm', 'torch.nn.utils.fusion', 'torch.nn.utils.memory_format', 'torch.nn.utils.parametrizations', 'torch.nn.utils.parametrize', 'torch.nn.modules.pixelshuffle', 'torch.nn.modules.upsampling', 'torch.nn.modules.fold', 'torch.nn.modules.adaptive', 'torch.nn.modules.transformer', 'torch.nn.modules.flatten', 'torch.nn.modules.channelshuffle', 'torch.nn.parallel', 'torch.nn.parallel.parallel_apply', 'torch.nn.parallel.replicate', 'torch.nn.parallel.comm', 'torch.cuda.nccl', 'torch.nn.parallel.data_parallel', 'torch.nn.parallel.scatter_gather', 'torch.nn.parallel._functions', 'torch.nn.parallel.distributed', 'torch._lowrank', 'torch._linalg_utils', 'torch._autograd_functions', 'torch.fft', 'torch.nn.intrinsic', 'torch.nn.intrinsic.modules', 'torch.nn.intrinsic.modules.fused', 'torch.nn.quantizable', 'torch.nn.quantizable.modules', 'torch.nn.quantizable.modules.activation', 'torch.nn.quantized', 'torch.nn.quantized.modules', 'torch.nn.quantized.modules.activation', 'torch.nn.quantized.functional', 'torch.nn.quantized.modules.utils', 'torch.jit', 'torch.jit._script', 'torch.jit._recursive', 'torch.jit.frontend', 'torch.jit._monkeytype_config', 'torch.jit.annotations', 'torch.jit._state', 'astunparse', 'astunparse.unparser', 'astunparse.printer', 'torch.jit._builtins', 'torch.backends', 'torch.backends.cudnn', 'torch.jit._check', 'torch.jit._fuser', 'torch.jit._serialization', 'torch.jit._trace', 'torch.jit._async', 'torch.jit._freeze', 'torch.nn.quantized.modules.batchnorm', 'torch.nn.quantized.modules.normalization', 'torch.nn.quantized.modules.conv', 'torch.nn.intrinsic.qat', 'torch.nn.intrinsic.qat.modules', 'torch.nn.intrinsic.qat.modules.linear_relu', 'torch.nn.qat', 'torch.nn.qat.modules', 'torch.nn.qat.modules.linear', 'torch.nn.qat.modules.conv', 'torch.nn.intrinsic.qat.modules.conv_fused', 'torch._ops', 'torch.nn.quantized.modules.linear', 'torch.nn.quantized.modules.embedding_ops', 'torch.nn.quantized.modules.functional_modules', 'torch.nn.quantizable.modules.rnn', 'torch.optim', 'torch.optim.adadelta', 'torch.optim._functional', 'torch.optim.optimizer', 'torch.optim.adagrad', 'torch.optim.adam', 'torch.optim.adamw', 'torch.optim.sparse_adam', 'torch.optim.adamax', 'torch.optim.asgd', 'torch.optim.sgd', 'torch.optim.rprop', 'torch.optim.rmsprop', 'torch.optim.lbfgs', 'torch.optim.lr_scheduler', 'torch.optim.swa_utils', 'torch.optim._multi_tensor', 'torch.optim._multi_tensor.adam', 'torch.optim._multi_tensor.adamw', 'torch.optim._multi_tensor.sgd', 'torch.optim._multi_tensor.rmsprop', 'torch.optim._multi_tensor.rprop', 'torch.optim._multi_tensor.asgd', 'torch.optim._multi_tensor.adamax', 'torch.optim._multi_tensor.adadelta', 'torch.multiprocessing', 'torch.multiprocessing.reductions', 'multiprocessing.resource_sharer', 'torch.multiprocessing.spawn', 'multiprocessing.connection', '_multiprocessing', 'torch.special', 'torch.utils.backcompat', 'torch.onnx', 'torch.linalg', 'torch.hub', 'urllib.request', 'urllib.error', 'urllib.response', 'tqdm', 'tqdm.std', 'tqdm.utils', 'tqdm._monitor', 'tqdm.gui', 'tqdm._tqdm_pandas', 'tqdm.cli', 'tqdm._version', 'tqdm.auto', 'tqdm.autonotebook', 'tqdm.notebook', 'torch.distributions', 'torch.distributions.bernoulli', 'torch.distributions.constraints', 'torch.distributions.exp_family', 'torch.distributions.distribution', 'torch.distributions.utils', 'torch.distributions.beta', 'torch.distributions.dirichlet', 'torch.distributions.binomial', 'torch.distributions.categorical', 'torch.distributions.cauchy', 'torch.distributions.chi2', 'torch.distributions.gamma', 'torch.distributions.constraint_registry', 'torch.distributions.transforms', 'torch.distributions.continuous_bernoulli', 'torch.distributions.exponential', 'torch.distributions.fishersnedecor', 'torch.distributions.geometric', 'torch.distributions.gumbel', 'torch.distributions.uniform', 'torch.distributions.transformed_distribution', 'torch.distributions.independent', 'torch.distributions.half_cauchy', 'torch.distributions.half_normal', 'torch.distributions.normal', 'torch.distributions.kl', 'torch.distributions.laplace', 'torch.distributions.lowrank_multivariate_normal', 'torch.distributions.multivariate_normal', 'torch.distributions.one_hot_categorical', 'torch.distributions.pareto', 'torch.distributions.poisson', 'torch.distributions.kumaraswamy', 'torch.distributions.lkj_cholesky', 'torch.distributions.log_normal', 'torch.distributions.logistic_normal', 'torch.distributions.mixture_same_family', 'torch.distributions.multinomial', 'torch.distributions.negative_binomial', 'torch.distributions.relaxed_bernoulli', 'torch.distributions.relaxed_categorical', 'torch.distributions.studentT', 'torch.distributions.von_mises', 'torch.distributions.weibull', 'torch.backends.cuda', 'torch.backends.mkl', 'torch.backends.mkldnn', 'torch.backends.openmp', 'torch.backends.quantized', 'torch.quantization', 'torch.quantization.quantize', 'torch.quantization.quantization_mappings', 'torch.nn.intrinsic.quantized', 'torch.nn.intrinsic.quantized.modules', 'torch.nn.intrinsic.quantized.modules.linear_relu', 'torch.nn.intrinsic.quantized.modules.conv_relu', 'torch.nn.intrinsic.quantized.modules.bn_relu', 'torch.nn.quantized.dynamic', 'torch.nn.quantized.dynamic.modules', 'torch.nn.quantized.dynamic.modules.linear', 'torch.nn.quantized.dynamic.modules.rnn', 'torch.quantization.stubs', 'torch.quantization.fake_quantize', 'torch.quantization.observer', 'torch.quantization.utils', 'torch.quantization.quant_type', 'torch.quantization.qconfig', 'torch.quantization.fuse_modules', 'torch.quantization.fuser_method_mappings', 'torch.quantization.quantize_jit', 'torch.utils.data', 'torch.utils.data.sampler', 'torch.utils.data.dataset', 'torch.utils.data._typing', 'torch.utils.data.distributed', 'torch.utils.data.dataloader', 'torch.utils.data._utils', 'torch.utils.data._utils.worker', 'torch.utils.data._utils.signal_handling', 'torch.utils.data._utils.pin_memory', 'torch.utils.data._utils.collate', 'torch.utils.data._utils.fetch', 'torch.utils.data._decorator', 'torch.utils.data.datapipes', 'torch.utils.data.datapipes.iter', 'torch.utils.data.datapipes.iter.listdirfiles', 'torch.utils.data.datapipes.utils', 'torch.utils.data.datapipes.utils.common', 'torch.utils.data.datapipes.iter.loadfilesfromdisk', 'torch.utils.data.datapipes.iter.readfilesfromtar', 'torch.utils.data.datapipes.iter.readfilesfromzip', 'torch.utils.data.datapipes.iter.routeddecoder', 'torch.utils.data.datapipes.utils.decoder', 'torch.utils.data.datapipes.iter.callable', 'dill', 'dill.info', 'dill._dill', '_pyio', 'dill.settings', 'dill.source', 'dill.temp', 'dill.detect', 'dill.pointers', 'dill.objtypes', 'torch.utils.data.datapipes.iter.combining', 'torch.utils.data.datapipes.iter.combinatorics', 'torch.utils.data.datapipes.iter.grouping', 'torch.utils.data.datapipes.iter.selecting', 'torch.__config__', 'torch.__future__', 'torch.profiler', 'torch.profiler.profiler', 'torch._tensor_docs', 'torch._storage_docs', 'torch._classes', 'torch.quasirandom', 'torch.multiprocessing._atfork', 'torch._lobpcg', 'botorch.models.deterministic', 'botorch.models.model', 'botorch.settings', 'botorch.logging', 'botorch.models.utils', 'gpytorch', 'gpytorch.beta_features', 'gpytorch.settings', 'gpytorch.distributions', 'gpytorch.distributions.delta', 'gpytorch.distributions.distribution', 'gpytorch.distributions.multivariate_normal', 'gpytorch.lazy', 'gpytorch.lazy.added_diag_lazy_tensor', 'gpytorch.utils', 'gpytorch.utils.broadcasting', 'gpytorch.utils.cholesky', 'gpytorch.utils.errors', 'gpytorch.utils.warnings', 'gpytorch.utils.grid', 'gpytorch.utils.interpolation', 'gpytorch.utils.lanczos', 'gpytorch.utils.pivoted_cholesky', 'gpytorch.utils.quadrature', 'gpytorch.utils.sparse', 'gpytorch.utils.contour_integral_quad', 'gpytorch.utils.linear_cg', 'gpytorch.utils.deprecation', 'unittest.mock', 'gpytorch.utils.minres', 'gpytorch.utils.memoize', 'gpytorch.utils.pinverse', 'gpytorch.utils.qr', 'gpytorch.utils.stochastic_lq', 'gpytorch.lazy.diag_lazy_tensor', 'gpytorch.lazy.lazy_tensor', 'gpytorch.functions', 'gpytorch.functions._dsmm', 'gpytorch.functions._log_normal_cdf', 'gpytorch.functions.matern_covariance', 'gpytorch.functions.rbf_covariance', 'gpytorch.functions._diagonalization', 'gpytorch.functions._inv_matmul', 'gpytorch.functions._inv_quad', 'gpytorch.functions._inv_quad_log_det', 'gpytorch.functions._matmul', 'gpytorch.functions._root_decomposition', 'gpytorch.functions._sqrt_inv_matmul', 'gpytorch.utils.getitem', 'gpytorch.lazy.lazy_tensor_representation_tree', 'gpytorch.lazy.non_lazy_tensor', 'gpytorch.lazy.triangular_lazy_tensor', 'gpytorch.lazy.batch_repeat_lazy_tensor', 'gpytorch.lazy.psd_sum_lazy_tensor', 'gpytorch.lazy.sum_lazy_tensor', 'gpytorch.lazy.zero_lazy_tensor', 'gpytorch.lazy.root_lazy_tensor', 'gpytorch.lazy.matmul_lazy_tensor', 'gpytorch.lazy.block_diag_lazy_tensor', 'gpytorch.lazy.block_lazy_tensor', 'gpytorch.lazy.block_interleaved_lazy_tensor', 'gpytorch.lazy.cat_lazy_tensor', 'gpytorch.lazy.chol_lazy_tensor', 'gpytorch.lazy.constant_mul_lazy_tensor', 'gpytorch.lazy.interpolated_lazy_tensor', 'gpytorch.lazy.keops_lazy_tensor', 'gpytorch.lazy.kronecker_product_added_diag_lazy_tensor', 'gpytorch.lazy.kronecker_product_lazy_tensor', 'gpytorch.lazy.lazy_evaluated_kernel_tensor', 'gpytorch.lazy.low_rank_root_added_diag_lazy_tensor', 'gpytorch.lazy.low_rank_root_lazy_tensor', 'gpytorch.lazy.sum_batch_lazy_tensor', 'gpytorch.lazy.mul_lazy_tensor', 'gpytorch.lazy.sum_kronecker_lazy_tensor', 'gpytorch.lazy.toeplitz_lazy_tensor', 'gpytorch.utils.toeplitz', 'gpytorch.distributions.multitask_multivariate_normal', 'gpytorch.kernels', 'gpytorch.kernels.keops', 'gpytorch.kernels.keops.matern_kernel', 'gpytorch.kernels.keops.keops_kernel', 'gpytorch.kernels.kernel', 'gpytorch.constraints', 'gpytorch.constraints.constraints', 'gpytorch.utils.transforms', 'gpytorch.models', 'gpytorch.models.deep_gps', 'gpytorch.models.deep_gps.deep_gp', 'gpytorch.likelihoods', 'gpytorch.likelihoods.bernoulli_likelihood', 'gpytorch.likelihoods.likelihood', 'gpytorch.module', 'gpytorch.likelihoods.beta_likelihood', 'gpytorch.likelihoods.gaussian_likelihood', 'gpytorch.likelihoods.noise_models', 'gpytorch.likelihoods.laplace_likelihood', 'gpytorch.likelihoods.likelihood_list', 'gpytorch.likelihoods.multitask_gaussian_likelihood', 'gpytorch.likelihoods.softmax_likelihood', 'gpytorch.likelihoods.student_t_likelihood', 'gpytorch.models.approximate_gp', 'gpytorch.models.gp', 'gpytorch.models.pyro', 'gpytorch.models.exact_prediction_strategies', 'gpytorch.models.gplvm', 'gpytorch.models.gplvm.bayesian_gplvm', 'gpytorch.models.gplvm.latent_variable', 'gpytorch.models.exact_gp', 'gpytorch.models.model_list', 'gpytorch.kernels.keops.rbf_kernel', 'gpytorch.kernels.rbf_kernel', 'gpytorch.kernels.additive_structure_kernel', 'gpytorch.kernels.arc_kernel', 'gpytorch.priors', 'gpytorch.priors.horseshoe_prior', 'gpytorch.priors.prior', 'gpytorch.priors.lkj_prior', 'gpytorch.priors.smoothed_box_prior', 'gpytorch.priors.torch_priors', 'gpytorch.priors.utils', 'gpytorch.kernels.cosine_kernel', 'gpytorch.kernels.cylindrical_kernel', 'gpytorch.kernels.distributional_input_kernel', 'gpytorch.kernels.gaussian_symmetrized_kl_kernel', 'gpytorch.kernels.grid_interpolation_kernel', 'gpytorch.kernels.grid_kernel', 'gpytorch.kernels.index_kernel', 'gpytorch.kernels.inducing_point_kernel', 'gpytorch.mlls', 'gpytorch.mlls.added_loss_term', 'gpytorch.mlls.deep_approximate_mll', 'gpytorch.mlls._approximate_mll', 'gpytorch.mlls.marginal_log_likelihood', 'gpytorch.mlls.deep_predictive_log_likelihood', 'gpytorch.models.deep_gps.dspp', 'gpytorch.mlls.exact_marginal_log_likelihood', 'gpytorch.mlls.gamma_robust_variational_elbo', 'gpytorch.mlls.inducing_point_kernel_added_loss_term', 'gpytorch.mlls.kl_gaussian_added_loss_term', 'gpytorch.mlls.leave_one_out_pseudo_likelihood', 'gpytorch.mlls.noise_model_added_loss_term', 'gpytorch.mlls.predictive_log_likelihood', 'gpytorch.mlls.sum_marginal_log_likelihood', 'gpytorch.mlls.variational_elbo', 'gpytorch.kernels.lcm_kernel', 'gpytorch.kernels.multitask_kernel', 'gpytorch.kernels.linear_kernel', 'gpytorch.kernels.matern_kernel', 'gpytorch.kernels.multi_device_kernel', 'gpytorch.kernels.newton_girard_additive_kernel', 'gpytorch.kernels.periodic_kernel', 'gpytorch.kernels.polynomial_kernel', 'gpytorch.kernels.polynomial_kernel_grad', 'gpytorch.kernels.product_structure_kernel', 'gpytorch.kernels.rbf_kernel_grad', 'gpytorch.kernels.rff_kernel', 'gpytorch.kernels.rq_kernel', 'gpytorch.kernels.scale_kernel', 'gpytorch.kernels.spectral_delta_kernel', 'gpytorch.kernels.spectral_mixture_kernel', 'gpytorch.means', 'gpytorch.means.constant_mean', 'gpytorch.means.mean', 'gpytorch.means.constant_mean_grad', 'gpytorch.means.linear_mean', 'gpytorch.means.multitask_mean', 'gpytorch.means.zero_mean', 'gpytorch.optim', 'gpytorch.optim.ngd', 'gpytorch.variational', 'gpytorch.variational._variational_distribution', 'gpytorch.variational._variational_strategy', 'gpytorch.variational.additive_grid_interpolation_variational_strategy', 'gpytorch.variational.grid_interpolation_variational_strategy', 'gpytorch.variational.batch_decoupled_variational_strategy', 'gpytorch.variational.delta_variational_distribution', 'gpytorch.variational.variational_strategy', 'gpytorch.variational.cholesky_variational_distribution', 'gpytorch.variational.ciq_variational_strategy', 'gpytorch.variational.natural_variational_distribution', 'gpytorch.variational.independent_multitask_variational_strategy', 'gpytorch.variational.lmc_variational_strategy', 'gpytorch.variational.mean_field_variational_distribution', 'gpytorch.variational.orthogonally_decoupled_variational_strategy', 'gpytorch.variational.tril_natural_variational_distribution', 'gpytorch.variational.unwhitened_variational_strategy', 'botorch.posteriors', 'botorch.posteriors.deterministic', 'botorch.posteriors.posterior', 'botorch.posteriors.gpytorch', 'botorch.posteriors.higher_order', 'botorch.posteriors.multitask', 'botorch.posteriors.transformed', 'botorch.sampling', 'botorch.sampling.pairwise_samplers', 'botorch.sampling.samplers', 'botorch.utils', 'botorch.utils.constraints', 'botorch.utils.feasible_volume', 'botorch.utils.sampling', 'botorch.sampling.qmc', 'botorch.utils.objective', 'botorch.utils.rounding', 'botorch.utils.transforms', 'botorch.utils.containers', 'botorch.models.gp_regression', 'botorch.models.gpytorch', 'botorch.models.transforms', 'botorch.models.transforms.input', 'botorch.models.transforms.utils', 'botorch.models.transforms.outcome', 'botorch.models.gp_regression_fidelity', 'botorch.models.kernels', 'botorch.models.kernels.categorical', 'botorch.models.kernels.downsampling', 'botorch.models.kernels.exponential_decay', 'botorch.models.kernels.linear_truncated_fidelity', 'botorch.models.gp_regression_mixed', 'botorch.models.higher_order_gp', 'botorch.models.model_list_gp_regression', 'botorch.models.multitask', 'botorch.models.pairwise_gp', 'botorch.acquisition.active_learning', 'botorch.acquisition.analytic', 'botorch.acquisition.objective', 'botorch.acquisition.cost_aware', 'botorch.acquisition.fixed_feature', 'botorch.acquisition.input_constructors', 'botorch.acquisition.monte_carlo', 'botorch.acquisition.utils', 'botorch.acquisition.multi_objective', 'botorch.acquisition.multi_objective.analytic', 'botorch.acquisition.multi_objective.objective', 'botorch.utils.multi_objective', 'botorch.utils.multi_objective.hypervolume', 'botorch.utils.multi_objective.pareto', 'botorch.utils.multi_objective.scalarization', 'botorch.utils.multi_objective.box_decompositions', 'botorch.utils.multi_objective.box_decompositions.box_decomposition_list', 'botorch.utils.multi_objective.box_decompositions.box_decomposition', 'botorch.utils.multi_objective.box_decompositions.utils', 'botorch.utils.multi_objective.box_decompositions.dominated', 'botorch.utils.multi_objective.box_decompositions.non_dominated', 'botorch.acquisition.multi_objective.max_value_entropy_search', 'botorch.acquisition.max_value_entropy_search', 'botorch.acquisition.multi_objective.monte_carlo', 'botorch.acquisition.multi_objective.utils', 'botorch.utils.torch', 'botorch.models.converter', 'botorch.acquisition.knowledge_gradient', 'botorch.acquisition.multi_step_lookahead', 'botorch.optim', 'botorch.optim.initializers', 'botorch.optim.utils', 'botorch.optim.numpy_converter', 'botorch.optim.optimize', 'botorch.generation', 'botorch.generation.gen', 'botorch.generation.utils', 'botorch.optim.parameter_constraints', 'botorch.optim.stopping', 'botorch.generation.sampling', 'botorch.test_functions', 'botorch.test_functions.multi_fidelity', 'botorch.test_functions.synthetic', 'botorch.test_functions.base', 'botorch.test_functions.multi_objective', 'botorch.cross_validation', 'botorch.fit', 'botorch.optim.fit', 'botorch.version', 'ax.utils', 'ax.utils.common', 'ax.utils.common.base', 'ax.utils.common.equality', 'ax.utils.common.typeutils', 'ax.core.batch_trial', 'ax.core.base_trial', 'ax.core.abstract_data', 'ax.utils.common.serialization', 'ax.core.generator_run', 'ax.core.optimization_config', 'ax.core.metric', 'ax.core.data', 'ax.core.objective', 'ax.utils.common.logger', 'ax.core.outcome_constraint', 'ax.core.search_space', 'ax.core.parameter', 'ax.exceptions', 'ax.exceptions.core', 'ax.core.parameter_constraint', 'ax.core.runner', 'ax.core.trial', 'ax.utils.common.docutils', 'ax.core.experiment', 'ax.core.map_data', 'ax.core.map_metric', 'ax.utils.common.constants', 'ax.utils.common.timeutils', 'ax.core.observation', 'ax.core.simple_experiment', 'ax.modelbridge', 'ax.modelbridge.transforms', 'ax.modelbridge.base', 'ax.modelbridge.modelbridge_utils', 'ax.modelbridge.transforms.base', 'ax.models', 'ax.models.random', 'ax.models.random.sobol', 'ax.models.base', 'ax.models.model_utils', 'ax.models.numpy_base', 'ax.models.torch_base', 'ax.models.random.base', 'ax.models.torch', 'ax.models.torch.botorch', 'ax.models.torch.botorch_defaults', 'ax.models.torch.utils', 'ax.exceptions.model', 'ax.models.torch.frontier_utils', 'ax.models.torch.botorch_moo_defaults', 'ax.modelbridge.transforms.cast', 'ax.modelbridge.factory', 'ax.core.multi_type_experiment', 'ax.modelbridge.discrete', 'ax.modelbridge.array', 'ax.models.discrete_base', 'ax.modelbridge.multi_objective_torch', 'ax.modelbridge.torch', 'ax.modelbridge.random', 'ax.modelbridge.registry', 'ax.modelbridge.transforms.centered_unit_x', 'ax.modelbridge.transforms.choice_encode', 'ax.modelbridge.transforms.utils', 'ax.modelbridge.transforms.convert_metric_names', 'ax.modelbridge.transforms.derelativize', 'ax.modelbridge.transforms.ivw', 'ax.modelbridge.transforms.int_range_to_choice', 'ax.modelbridge.transforms.int_to_float', 'ax.modelbridge.transforms.rounding', 'ax.modelbridge.transforms.log', 'ax.modelbridge.transforms.one_hot', 'sklearn', 'sklearn._config', 'sklearn._distributor_init', 'sklearn.__check_build', 'sklearn.__check_build._check_build', 'sklearn.base', 'sklearn.utils', 'sklearn.utils.murmurhash', 'sklearn.utils.class_weight', 'sklearn.utils.validation', 'joblib', 'joblib.memory', 'joblib.hashing', 'joblib.func_inspect', 'joblib.logger', 'joblib.disk', 'joblib._store_backends', 'joblib.backports', 'joblib.numpy_pickle', 'joblib.compressor', 'joblib.numpy_pickle_utils', 'joblib.numpy_pickle_compat', 'joblib.parallel', 'joblib._multiprocessing_helpers', 'joblib._parallel_backends', 'joblib.my_exceptions', 'joblib._deprecated_my_exceptions', 'joblib.pool', 'joblib._memmapping_reducer', 'joblib.externals', 'joblib.externals.loky', 'joblib.externals.loky._base', 'joblib.externals.loky.backend', 'joblib.externals.loky.backend.context', 'joblib.externals.loky.backend.process', 'joblib.externals.loky.backend.compat', 'joblib.externals.loky.backend.compat_posix', 'multiprocessing.synchronize', 'joblib.externals.loky.backend.reduction', 'joblib.externals.loky.backend._posix_reduction', 'joblib.externals.cloudpickle', 'joblib.externals.cloudpickle.cloudpickle', 'joblib.externals.cloudpickle.compat', 'joblib.externals.cloudpickle.cloudpickle_fast', 'joblib.externals.loky.reusable_executor', 'joblib.externals.loky.process_executor', 'joblib.externals.loky.backend.queues', 'multiprocessing.queues', 'joblib.externals.loky.backend.utils', 'concurrent.futures.process', 'joblib.externals.loky.cloudpickle_wrapper', 'joblib.externals.loky.backend.resource_tracker', 'joblib.externals.loky.backend.spawn', 'joblib.executor', 'sklearn.utils.fixes', 'sklearn.utils.deprecation', 'sklearn.exceptions', 'sklearn.utils._joblib', 'sklearn.utils._estimator_html_repr', 'sklearn.utils._tags', 'sklearn.utils._show_versions', 'sklearn.utils._openmp_helpers', 'sklearn.preprocessing', 'sklearn.preprocessing._function_transformer', 'sklearn.preprocessing._data', 'sklearn.utils.extmath', 'sklearn.utils._logistic_sigmoid', 'sklearn.utils.sparsefuncs_fast', '_cython_0_29_23', 'sklearn.utils.sparsefuncs', 'sklearn.preprocessing._csr_polynomial_expansion', 'sklearn.preprocessing._encoders', 'sklearn.utils._encode', 'sklearn.preprocessing._label', 'sklearn.utils.multiclass', 'sklearn.preprocessing._discretization', 'ax.modelbridge.transforms.remove_fixed', 'ax.modelbridge.transforms.search_space_to_choice', 'ax.modelbridge.transforms.standardize_y', 'ax.modelbridge.transforms.stratified_standardize_y', 'ax.modelbridge.transforms.task_encode', 'ax.modelbridge.transforms.trial_as_task', 'ax.modelbridge.transforms.unit_x', 'ax.models.discrete', 'ax.models.discrete.eb_thompson', 'ax.models.discrete.thompson', 'ax.exceptions.constants', 'ax.utils.stats', 'ax.utils.stats.statstools', 'ax.models.discrete.full_factorial', 'ax.models.random.uniform', 'ax.models.torch.alebo', 'ax.models.random.alebo_initializer', 'ax.models.torch.botorch_kg', 'ax.models.torch.botorch_mes', 'ax.models.torch.botorch_modular', 'ax.models.torch.botorch_modular.model', 'ax.models.torch.botorch_modular.acquisition', 'ax.models.torch.botorch_modular.default_options', 'ax.models.torch.botorch_modular.surrogate', 'ax.models.torch.botorch_modular.list_surrogate', 'ax.models.torch.botorch_modular.utils', 'ax.models.torch.botorch_moo', 'ax.utils.common.kwargs', 'typeguard', 'ax.modelbridge.numpy', 'ax.service', 'ax.service.managed_loop', 'ax.modelbridge.dispatch_utils', 'ax.modelbridge.generation_strategy', 'ax.exceptions.generation_strategy', 'ax.modelbridge.transforms.winsorize', 'ax.service.utils', 'ax.service.utils.best_point', 'ax.service.utils.instantiation', 'ax.utils.common.executils', 'ax.storage', 'ax.storage.json_store', 'ax.storage.json_store.load', 'ax.storage.json_store.decoder', 'ax.benchmark', 'ax.benchmark.benchmark_problem', 'ax.utils.measurement', 'ax.utils.measurement.synthetic_functions', 'ax.exceptions.storage', 'ax.storage.json_store.decoders', 'ax.storage.botorch_modular_registry', 'ax.storage.transform_registry', 'ax.modelbridge.transforms.cap_parameter', 'ax.modelbridge.transforms.power_transform_y', 'ax.storage.json_store.registry', 'ax.benchmark.benchmark_result', 'ax.core.utils', 'ax.plot', 'ax.plot.base', 'plotly', '_plotly_utils', '_plotly_utils.importers', 'plotly.utils', '_plotly_utils.utils', '_plotly_utils.optional_imports', '_plotly_utils.basevalidators', '_plotly_utils.data_utils', '_plotly_utils.png', 'ax.plot.pareto_frontier', 'plotly.graph_objs', 'ax.plot.color', 'ax.plot.helper', 'ax.plot.pareto_utils', 'ax.models.torch.posterior_mean', 'plotly.graph_objs._figure', 'plotly.basedatatypes', '_plotly_utils.exceptions', 'plotly.optional_imports', 'plotly.shapeannotation', 'plotly.subplots', 'plotly.graph_objs._scatter', 'ax.plot.render', 'plotly.offline', 'plotly.offline.offline', 'plotly.tools', 'plotly.exceptions', 'plotly.files', '_plotly_utils.files', 'plotly.offline._plotlyjs_version', 'jinja2', 'markupsafe', 'markupsafe._speedups', 'jinja2.bccache', 'jinja2._compat', 'jinja2.utils', 'jinja2.environment', 'jinja2.nodes', 'jinja2.compiler', 'jinja2.exceptions', 'jinja2.idtracking', 'jinja2.visitor', 'jinja2.optimizer', 'jinja2.defaults', 'jinja2.filters', 'jinja2.runtime', 'jinja2.tests', 'jinja2.lexer', 'jinja2._identifier', 'jinja2.parser', 'jinja2.loaders', 'ax.plot.trace', 'ax.utils.report', 'ax.utils.report.render', 'ax.metrics', 'ax.metrics.branin', 'ax.metrics.noisy_function', 'ax.metrics.chemistry', 'ax.metrics.factorial', 'ax.metrics.sklearn', 'sklearn.datasets', 'sklearn.datasets._base', 'sklearn.datasets._covtype', 'sklearn.datasets._kddcup99', 'sklearn.datasets._lfw', 'sklearn.datasets._twenty_newsgroups', 'sklearn.feature_extraction', 'sklearn.feature_extraction._dict_vectorizer', 'sklearn.feature_extraction._hash', 'sklearn.feature_extraction._hashing_fast', 'sklearn.feature_extraction.image', 'sklearn.feature_extraction.text', 'sklearn.feature_extraction._stop_words', 'sklearn.datasets._openml', 'sklearn.externals', 'sklearn.externals._arff', 'sklearn.datasets._samples_generator', 'sklearn.utils.random', 'sklearn.utils._random', 'sklearn.datasets._svmlight_format_io', 'sklearn.datasets._svmlight_format_fast', 'sklearn.datasets._olivetti_faces', 'scipy.io', 'scipy.io.matlab', 'scipy.io.matlab.mio', 'scipy.io.matlab.miobase', 'scipy.io.matlab.byteordercodes', 'scipy.io.matlab.mio4', 'scipy.io.matlab.mio_utils', 'scipy.io.matlab.mio5', 'scipy.io.matlab.mio5_utils', 'scipy.io.matlab.streams', 'scipy.io.matlab.mio5_params', 'scipy.io.netcdf', 'scipy.io._fortran', 'scipy.io.mmio', 'scipy.io.idl', 'scipy.io.harwell_boeing', 'scipy.io.harwell_boeing.hb', 'scipy.io.harwell_boeing._fortran_format_parser', 'sklearn.datasets._species_distributions', 'sklearn.datasets._california_housing', 'sklearn.datasets._rcv1', 'sklearn.ensemble', 'sklearn.ensemble._base', 'sklearn.utils.metaestimators', 'sklearn.ensemble._forest', 'sklearn.metrics', 'sklearn.metrics._ranking', 'sklearn.metrics._base', 'sklearn.metrics._classification', 'sklearn.metrics.cluster', 'sklearn.metrics.cluster._supervised', 'sklearn.metrics.cluster._expected_mutual_info_fast', 'sklearn.metrics.cluster._unsupervised', 'sklearn.metrics.pairwise', 'sklearn.utils._mask', 'sklearn.metrics._pairwise_fast', 'sklearn.metrics.cluster._bicluster', 'sklearn.metrics._regression', 'sklearn._loss', 'sklearn._loss.glm_distribution', 'sklearn.utils.stats', 'sklearn.metrics._scorer', 'sklearn.metrics._plot', 'sklearn.metrics._plot.det_curve', 'sklearn.metrics._plot.base', 'sklearn.metrics._plot.roc_curve', 'sklearn.metrics._plot.precision_recall_curve', 'sklearn.metrics._plot.confusion_matrix', 'sklearn.tree', 'sklearn.tree._classes', 'sklearn.tree._criterion', 'sklearn.tree._splitter', 'sklearn.tree._tree', 'sklearn.neighbors', 'sklearn.neighbors._ball_tree', 'sklearn.neighbors._dist_metrics', 'sklearn.neighbors._typedefs', 'sklearn.neighbors._kd_tree', 'sklearn.neighbors._graph', 'sklearn.neighbors._base', 'sklearn.neighbors._unsupervised', 'sklearn.neighbors._classification', 'sklearn.neighbors._regression', 'sklearn.neighbors._nearest_centroid', 'sklearn.neighbors._kde', 'sklearn.neighbors._lof', 'sklearn.neighbors._nca', 'sklearn.decomposition', 'sklearn.decomposition._nmf', 'sklearn.decomposition._cdnmf_fast', 'sklearn.decomposition._pca', 'sklearn.decomposition._base', 'sklearn.utils._arpack', 'sklearn.decomposition._incremental_pca', 'sklearn.decomposition._kernel_pca', 'sklearn.decomposition._sparse_pca', 'sklearn.linear_model', 'sklearn.linear_model._base', 'sklearn.utils._seq_dataset', 'sklearn.linear_model._bayes', 'sklearn.linear_model._least_angle', 'sklearn.utils.arrayfuncs', 'sklearn.utils._cython_blas', 'sklearn.model_selection', 'sklearn.model_selection._split', 'sklearn.model_selection._validation', 'sklearn.model_selection._search', 'sklearn.linear_model._coordinate_descent', 'sklearn.linear_model._cd_fast', 'sklearn.linear_model._glm', 'sklearn.linear_model._glm.glm', 'sklearn.utils.optimize', 'sklearn.linear_model._glm.link', 'sklearn.linear_model._huber', 'sklearn.linear_model._sgd_fast', 'sklearn.utils._weight_vector', 'sklearn.linear_model._stochastic_gradient', 'sklearn.linear_model._ridge', 'sklearn.linear_model._sag', 'sklearn.linear_model._sag_fast', 'sklearn.linear_model._logistic', 'sklearn.svm', 'sklearn.svm._classes', 'sklearn.svm._base', 'sklearn.svm._libsvm', 'sklearn.svm._liblinear', 'sklearn.svm._libsvm_sparse', 'sklearn.svm._bounds', 'sklearn.linear_model._omp', 'sklearn.linear_model._passive_aggressive', 'sklearn.linear_model._perceptron', 'sklearn.linear_model._ransac', 'sklearn.linear_model._theil_sen', 'sklearn.decomposition._dict_learning', 'sklearn.decomposition._truncated_svd', 'sklearn.decomposition._fastica', 'sklearn.decomposition._factor_analysis', 'sklearn.decomposition._lda', 'sklearn.decomposition._online_lda_fast', 'sklearn.neighbors._quad_tree', 'sklearn.tree._utils', 'scipy.special.cython_special', 'sklearn.tree._export', 'sklearn.tree._reingold_tilford', 'sklearn.ensemble._bagging', 'sklearn.ensemble._iforest', 'sklearn.ensemble._weight_boosting', 'sklearn.ensemble._gb', 'sklearn.ensemble._gradient_boosting', 'sklearn.ensemble._gb_losses', 'sklearn.dummy', 'sklearn.ensemble._voting', 'sklearn.ensemble._stacking', 'sklearn.neural_network', 'sklearn.neural_network._rbm', 'sklearn.neural_network._multilayer_perceptron', 'sklearn.neural_network._base', 'sklearn.neural_network._stochastic_optimizers', 'ax.metrics.hartmann6', 'ax.metrics.l2norm', 'ax.runners', 'ax.runners.simulated_backend', 'ax.utils.testing', 'ax.utils.testing.backend_simulator', 'ax.runners.synthetic', 'ax.storage.json_store.encoders', 'ax.storage.utils', 'ax.storage.json_store.save', 'ax.storage.json_store.encoder', 'ax.version', 'kats.detectors', 'kats.detectors.bocpd_model', 'kats.detectors.bocpd', 'seaborn', 'seaborn.rcmod', 'seaborn.palettes', 'colorsys', 'seaborn.external', 'seaborn.external.husl', 'seaborn.utils', 'seaborn.colors', 'seaborn.colors.xkcd_rgb', 'seaborn.colors.crayons', 'seaborn.relational', 'seaborn._core', 'seaborn._decorators', 'seaborn.algorithms', 'seaborn.axisgrid', 'seaborn._docstrings', 'seaborn.external.docscrape', 'seaborn.regression', 'seaborn.categorical', 'seaborn.distributions', 'seaborn._statistics', 'seaborn.matrix', 'scipy.cluster', 'scipy.cluster.vq', 'scipy.cluster._vq', 'scipy.cluster.hierarchy', 'scipy.cluster._hierarchy', 'scipy.cluster._optimal_leaf_ordering', 'seaborn.cm', 'seaborn.miscplot', 'seaborn.widgets', 'kats.detectors.detector', 'kats.detectors.detector_consts', 'attr', 'attr.converters', 'attr._compat', 'attr._make', 'attr._config', 'attr.setters', 'attr.exceptions', 'attr.filters', 'attr.validators', 'attr._cmp', 'attr._funcs', 'attr._version_info', 'attr._next_gen', 'statsmodels.stats', 'statsmodels.stats.multitest', 'statsmodels.stats._knockoff', 'statsmodels.iolib', 'statsmodels.iolib.foreign', 'statsmodels.iolib.openfile', 'statsmodels.iolib.table', 'statsmodels.iolib.smpickle', 'statsmodels.iolib.summary2', 'statsmodels.iolib.tableformatting', 'kats.detectors.changepoint_evaluator', 'kats.detectors.cusum_detection', 'pandas.plotting._matplotlib', 'pandas.plotting._matplotlib.boxplot', 'pandas.plotting._matplotlib.core', 'pandas.plotting._matplotlib.compat', 'pandas.plotting._matplotlib.converter', 'pandas.plotting._matplotlib.style', 'pandas.plotting._matplotlib.tools', 'pandas.plotting._matplotlib.hist', 'pandas.plotting._matplotlib.misc', 'kats.detectors.cusum_model', 'kats.detectors.hourly_ratio_detection', 'sklearn.covariance', 'sklearn.covariance._empirical_covariance', 'sklearn.covariance._shrunk_covariance', 'sklearn.covariance._robust_covariance', 'sklearn.covariance._graph_lasso', 'sklearn.covariance._elliptic_envelope', 'kats.detectors.outlier', 'kats.detectors.prophet_detector', 'fbprophet', 'fbprophet.forecaster', 'fbprophet.make_holidays', 'fbprophet.hdays', 'convertdate', 'convertdate.armenian', 'convertdate.gregorian', 'convertdate.utils', 'convertdate.julian', 'convertdate.bahai', 'pymeeus', 'pymeeus.Angle', 'pymeeus.base', 'pymeeus.Epoch', 'pymeeus.Sun', 'pymeeus.Coordinates', 'pymeeus.Interpolation', 'pymeeus.Earth', 'convertdate.coptic', 'convertdate.daycount', 'convertdate.julianday', 'convertdate.dublin', 'convertdate.french_republican', 'convertdate.data', 'convertdate.data.french_republican_days', 'convertdate.hebrew', 'convertdate.holidays', 'convertdate.islamic', 'convertdate.indian_civil', 'convertdate.iso', 'convertdate.ordinal', 'convertdate.mayan', 'convertdate.persian', 'convertdate.positivist', 'convertdate.data.positivist', 'lunarcalendar', 'lunarcalendar.converter', 'lunarcalendar._compact', 'lunarcalendar.festival', 'lunarcalendar.basefestival', 'lunarcalendar.solarterm', 'lunarcalendar._calc', 'ephem', 'ephem._libastro', 'holidays', 'holidays.countries', 'holidays.countries.angola', 'holidays.constants', 'holidays.holiday_base', 'holidays.countries.argentina', 'holidays.countries.aruba', 'holidays.countries.australia', 'holidays.countries.austria', 'holidays.countries.bangladesh', 'holidays.countries.belarus', 'holidays.countries.belgium', 'holidays.countries.brazil', 'holidays.countries.bulgaria', 'holidays.countries.burundi', 'holidays.utils', 'hijri_converter', 'hijri_converter.convert', 'hijri_converter.locales', 'hijri_converter.locales.ar', 'hijri_converter.locales.bn', 'hijri_converter.locales.en', 'hijri_converter.ummalqura', 'holidays.countries.canada', 'holidays.countries.chile', 'holidays.countries.colombia', 'holidays.countries.croatia', 'holidays.countries.czechia', 'holidays.countries.denmark', 'holidays.countries.djibouti', 'holidays.countries.dominican_republic', 'holidays.countries.egypt', 'holidays.countries.estonia', 'holidays.countries.european_central_bank', 'holidays.countries.finland', 'holidays.countries.france', 'holidays.countries.germany', 'holidays.countries.greece', 'holidays.countries.honduras', 'holidays.countries.hongkong', 'holidays.countries.hungary', 'holidays.countries.iceland', 'holidays.countries.india', 'holidays.countries.ireland', 'holidays.countries.united_kingdom', 'holidays.countries.italy', 'holidays.countries.israel', 'holidays.countries.japan', 'holidays.countries.kenya', 'holidays.countries.korea', 'korean_lunar_calendar', 'korean_lunar_calendar.korean_lunar_calendar', 'holidays.countries.latvia', 'holidays.countries.lithuania', 'holidays.countries.luxembourg', 'holidays.countries.malawi', 'holidays.countries.mexico', 'holidays.countries.morocco', 'holidays.countries.mozambique', 'holidays.countries.netherlands', 'holidays.countries.new_zealand', 'holidays.countries.nicaragua', 'holidays.countries.nigeria', 'holidays.countries.norway', 'holidays.countries.paraguay', 'holidays.countries.peru', 'holidays.countries.poland', 'holidays.countries.portugal', 'holidays.countries.romania', 'holidays.countries.russia', 'holidays.countries.serbia', 'holidays.countries.singapore', 'holidays.countries.slovakia', 'holidays.countries.slovenia', 'holidays.countries.south_africa', 'holidays.countries.spain', 'holidays.countries.sweden', 'holidays.countries.switzerland', 'holidays.countries.turkey', 'holidays.countries.ukraine', 'holidays.countries.united_arab_emirates', 'holidays.countries.united_states', 'holidays.countries.vietnam', 'fbprophet.models', 'fbprophet.plot', 'fbprophet.diagnostics', 'fbprophet.serialize', 'kats.detectors.residual_translation', 'kats.detectors.robust_stat_detection', 'kats.detectors.seasonality', 'statsmodels.api', 'statsmodels.datasets', 'statsmodels.datasets.anes96', 'statsmodels.datasets.anes96.data', 'statsmodels.datasets.utils', 'statsmodels.datasets.cancer', 'statsmodels.datasets.cancer.data', 'statsmodels.datasets.committee', 'statsmodels.datasets.committee.data', 'statsmodels.datasets.ccard', 'statsmodels.datasets.ccard.data', 'statsmodels.datasets.copper', 'statsmodels.datasets.copper.data', 'statsmodels.datasets.cpunish', 'statsmodels.datasets.cpunish.data', 'statsmodels.datasets.elnino', 'statsmodels.datasets.elnino.data', 'statsmodels.datasets.engel', 'statsmodels.datasets.engel.data', 'statsmodels.datasets.grunfeld', 'statsmodels.datasets.grunfeld.data', 'statsmodels.datasets.interest_inflation', 'statsmodels.datasets.interest_inflation.data', 'statsmodels.datasets.longley', 'statsmodels.datasets.longley.data', 'statsmodels.datasets.macrodata', 'statsmodels.datasets.macrodata.data', 'statsmodels.datasets.modechoice', 'statsmodels.datasets.modechoice.data', 'statsmodels.datasets.nile', 'statsmodels.datasets.nile.data', 'statsmodels.datasets.randhie', 'statsmodels.datasets.randhie.data', 'statsmodels.datasets.scotland', 'statsmodels.datasets.scotland.data', 'statsmodels.datasets.spector', 'statsmodels.datasets.spector.data', 'statsmodels.datasets.stackloss', 'statsmodels.datasets.stackloss.data', 'statsmodels.datasets.star98', 'statsmodels.datasets.star98.data', 'statsmodels.datasets.strikes', 'statsmodels.datasets.strikes.data', 'statsmodels.datasets.sunspots', 'statsmodels.datasets.sunspots.data', 'statsmodels.datasets.fair', 'statsmodels.datasets.fair.data', 'statsmodels.datasets.heart', 'statsmodels.datasets.heart.data', 'statsmodels.datasets.statecrime', 'statsmodels.datasets.statecrime.data', 'statsmodels.datasets.co2', 'statsmodels.datasets.co2.data', 'statsmodels.datasets.fertility', 'statsmodels.datasets.fertility.data', 'statsmodels.datasets.china_smoking', 'statsmodels.datasets.china_smoking.data', 'statsmodels.regression', 'statsmodels.regression.linear_model', 'statsmodels.tools.decorators', 'statsmodels.base', 'statsmodels.base.model', 'statsmodels.base.data', 'statsmodels.stats.contrast', 'statsmodels.base.wrapper', 'statsmodels.tools.numdiff', 'statsmodels.formula', 'statsmodels.formula.formulatools', 'patsy', 'patsy.version', 'patsy.origin', 'patsy.highlevel', 'patsy.design_info', 'patsy.util', 'patsy.compat', 'patsy.constraint', 'patsy.infix_parser', 'patsy.parse_formula', 'patsy.tokens', 'patsy.contrasts', 'patsy.desc', 'patsy.eval', 'patsy.builtins', 'patsy.categorical', 'patsy.state', 'patsy.splines', 'patsy.mgcv_cubic_splines', 'patsy.build', 'patsy.redundancy', 'patsy.missing', 'patsy.user_util', 'statsmodels.base.optimizer', 'statsmodels.emplike', 'statsmodels.emplike.elregress', 'statsmodels.emplike.descriptive', 'statsmodels.graphics', 'statsmodels.graphics.utils', 'statsmodels.regression._prediction', 'statsmodels.regression.recursive_ls', 'statsmodels.tsa.statespace', 'statsmodels.tsa.statespace.mlemodel', 'statsmodels.tools.eval_measures', 'statsmodels.tsa.base', 'statsmodels.tsa.base.prediction', 'statsmodels.tsa.base.tsa_model', 'statsmodels.tsa.statespace.news', 'statsmodels.iolib.summary', 'statsmodels.tsa.statespace.simulation_smoother', 'statsmodels.tsa.statespace.kalman_smoother', 'statsmodels.tsa.statespace.representation', 'statsmodels.tsa.statespace.tools', 'statsmodels.tsa.statespace._initialization', 'statsmodels.tsa.statespace._representation', 'statsmodels.tsa.statespace._tools', 'statsmodels.tsa.statespace._kalman_filter', 'statsmodels.tsa.statespace._filters', 'statsmodels.tsa.statespace._filters._conventional', 'statsmodels.tsa.statespace._filters._univariate', 'statsmodels.tsa.statespace._filters._univariate_diffuse', 'statsmodels.tsa.statespace._filters._inversions', 'statsmodels.tsa.statespace._kalman_smoother', 'statsmodels.tsa.statespace._smoothers', 'statsmodels.tsa.statespace._smoothers._conventional', 'statsmodels.tsa.statespace._smoothers._univariate', 'statsmodels.tsa.statespace._smoothers._univariate_diffuse', 'statsmodels.tsa.statespace._smoothers._classical', 'statsmodels.tsa.statespace._smoothers._alternative', 'statsmodels.tsa.statespace._simulation_smoother', 'statsmodels.tsa.statespace._cfa_simulation_smoother', 'statsmodels.tsa.statespace.initialization', 'statsmodels.tsa.statespace.kalman_filter', 'statsmodels.tsa.statespace.cfa_simulation_smoother', 'statsmodels.regression.quantile_regression', 'statsmodels.regression.mixed_linear_model', 'statsmodels.base._penalties', 'statsmodels.genmod', 'statsmodels.genmod.api', 'statsmodels.genmod.generalized_linear_model', 'statsmodels.genmod.families', 'statsmodels.genmod.families.links', 'statsmodels.genmod.families.family', 'statsmodels.genmod.families.varfuncs', 'statsmodels.regression._tools', 'statsmodels.graphics._regressionplots_doc', 'statsmodels.genmod._prediction', 'statsmodels.genmod.generalized_estimating_equations', 'statsmodels.genmod.cov_struct', 'statsmodels.stats.correlation_tools', 'statsmodels.discrete', 'statsmodels.discrete.discrete_margins', 'statsmodels.genmod.bayes_mixed_glm', 'statsmodels.robust', 'statsmodels.robust.norms', 'statsmodels.robust.scale', 'statsmodels.robust._qn', 'statsmodels.robust.robust_linear_model', 'statsmodels.discrete.discrete_model', 'statsmodels.base.l1_slsqp', 'statsmodels.base.l1_solvers_common', 'statsmodels.distributions', 'statsmodels.distributions.empirical_distribution', 'statsmodels.distributions.edgeworth', 'statsmodels.distributions.discrete', 'statsmodels.compat.scipy', 'cvxopt', 'cvxopt.base', 'cvxopt.printing', 'cvxopt.solvers', 'cvxopt.cvxprog', 'cvxopt.coneprog', 'cvxopt.blas', 'cvxopt.lapack', 'cvxopt._version', 'statsmodels.discrete.count_model', 'statsmodels.tsa.api', 'statsmodels.tsa.ar_model', 'statsmodels.tools.docstring', 'statsmodels.tsa.arima_process', 'statsmodels.tsa.deterministic', 'statsmodels.tsa.kalmanf', 'statsmodels.tsa.kalmanf.kalmanfilter', 'statsmodels.tsa.kalmanf.kalman_loglike', 'statsmodels.tsa.vector_ar', 'statsmodels.tsa.vector_ar.util', 'statsmodels.tsa.arima', 'statsmodels.tsa.arima.api', 'statsmodels.tsa.arima.model', 'statsmodels.tsa.statespace.sarimax', 'statsmodels.tsa.arima.specification', 'statsmodels.tsa.arima.tools', 'statsmodels.tsa.arima.params', 'statsmodels.tsa.arima.estimators', 'statsmodels.tsa.arima.estimators.yule_walker', 'statsmodels.tsa.arima.estimators.burg', 'statsmodels.tsa.arima.estimators.hannan_rissanen', 'statsmodels.tsa.arima.estimators.innovations', 'statsmodels.tsa.innovations', 'statsmodels.tsa.innovations.arma_innovations', 'statsmodels.tsa.innovations._arma_innovations', 'statsmodels.tsa.stattools', 'statsmodels.tsa._bds', 'statsmodels.tsa._innovations', 'statsmodels.tsa.adfvalues', 'statsmodels.tsa.arima_model', 'statsmodels.tsa.arima.estimators.gls', 'statsmodels.tsa.arima.estimators.statespace', 'statsmodels.tsa.vector_ar.var_model', 'statsmodels.tools.linalg', 'statsmodels.tsa.vector_ar.output', 'statsmodels.tsa.vector_ar.plotting', 'statsmodels.tsa.vector_ar.hypothesis_test_results', 'statsmodels.tsa.vector_ar.irf', 'statsmodels.tsa.vector_ar.vecm', 'statsmodels.tsa.coint_tables', 'statsmodels.tsa.vector_ar.svar_model', 'statsmodels.tsa.filters.api', 'statsmodels.tsa.filters.bk_filter', 'statsmodels.tsa.filters.hp_filter', 'statsmodels.tsa.filters.cf_filter', 'statsmodels.tsa.interp', 'statsmodels.tsa.interp.denton', 'statsmodels.tsa.base.datetools', 'statsmodels.graphics.tsaplots', 'statsmodels.tsa.x13', 'statsmodels.tsa.statespace.api', 'statsmodels.tsa.statespace.exponential_smoothing', 'statsmodels.tsa.exponential_smoothing', 'statsmodels.tsa.exponential_smoothing.initialization', 'statsmodels.tsa.statespace.structural', 'statsmodels.tsa.statespace.varmax', 'statsmodels.tsa.statespace.dynamic_factor', 'statsmodels.multivariate', 'statsmodels.multivariate.pca', 'statsmodels.tsa.statespace.dynamic_factor_mq', 'statsmodels.tsa.statespace._quarterly_ar1', 'statsmodels.tsa.regime_switching', 'statsmodels.tsa.regime_switching.markov_regression', 'statsmodels.tsa.regime_switching.markov_switching', 'statsmodels.tsa.regime_switching._hamilton_filter', 'statsmodels.tsa.regime_switching._kim_smoother', 'statsmodels.tsa.regime_switching.markov_autoregression', 'statsmodels.tsa.exponential_smoothing.ets', 'statsmodels.base.covtype', 'statsmodels.tsa.exponential_smoothing.base', 'statsmodels.tsa.exponential_smoothing._ets_smooth', 'statsmodels.tsa.holtwinters', 'statsmodels.tsa.holtwinters.model', 'statsmodels.tsa.holtwinters._exponential_smoothers', 'statsmodels.tsa.holtwinters._smoothers', 'statsmodels.tsa.holtwinters.results', 'statsmodels.tsa.innovations.api', 'statsmodels.tsa.forecasting', 'statsmodels.tsa.forecasting.stl', 'statsmodels.duration', 'statsmodels.duration.survfunc', 'statsmodels.duration.hazard_regression', 'statsmodels.imputation', 'statsmodels.imputation.mice', 'statsmodels.imputation.bayes_mi', 'statsmodels.nonparametric', 'statsmodels.nonparametric.api', 'statsmodels.nonparametric.kde', 'statsmodels.sandbox', 'statsmodels.sandbox.nonparametric', 'statsmodels.sandbox.nonparametric.kernels', 'statsmodels.nonparametric.bandwidths', 'statsmodels.nonparametric.kdetools', 'statsmodels.nonparametric.linbin', 'statsmodels.nonparametric.smoothers_lowess', 'statsmodels.nonparametric._smoothers_lowess', 'statsmodels.nonparametric.kernel_density', 'statsmodels.nonparametric.kernels', 'statsmodels.nonparametric._kernel_base', 'statsmodels.nonparametric.kernel_regression', 'statsmodels.__init__', 'statsmodels.gam', 'statsmodels.gam.generalized_additive_model', 'statsmodels.base._penalized', 'statsmodels.gam.gam_penalties', 'statsmodels.gam.gam_cross_validation', 'statsmodels.gam.gam_cross_validation.gam_cross_validation', 'statsmodels.gam.smooth_basis', 'statsmodels.gam.gam_cross_validation.cross_validators', 'statsmodels.gam.api', 'statsmodels.graphics.gofplots', 'statsmodels.graphics.api', 'statsmodels.graphics.functional', 'statsmodels.graphics.correlation', 'statsmodels.graphics.boxplots', 'statsmodels.graphics.regressionplots', 'statsmodels.sandbox.regression', 'statsmodels.sandbox.regression.predstd', 'statsmodels.graphics.factorplots', 'statsmodels.graphics.plottools', 'statsmodels.graphics.agreement', 'statsmodels.stats.api', 'statsmodels.stats.diagnostic', 'statsmodels.stats._lilliefors', 'statsmodels.stats._lilliefors_critical_values', 'statsmodels.stats.tabledist', 'statsmodels.stats._adnorm', 'statsmodels.stats.multicomp', 'statsmodels.sandbox.stats', 'statsmodels.sandbox.stats.multicomp', 'statsmodels.stats.gof', 'statsmodels.stats.stattools', 'statsmodels.stats.sandwich_covariance', 'statsmodels.tools.grouputils', 'statsmodels.stats.moment_helpers', 'statsmodels.stats.weightstats', 'statsmodels.stats.proportion', 'statsmodels.stats.base', 'statsmodels.tools.testing', 'statsmodels.stats.power', 'statsmodels.tools.rootfinding', 'statsmodels.stats.descriptivestats', 'statsmodels.stats.anova', 'statsmodels.stats.oaxaca', 'statsmodels.sandbox.stats.runs', 'statsmodels.stats.contingency_tables', 'statsmodels.stats.mediation', 'statsmodels.emplike.api', 'statsmodels.emplike.originregress', 'statsmodels.emplike.elanova', 'statsmodels.emplike.aft_el', 'statsmodels.duration.api', 'statsmodels.multivariate.manova', 'statsmodels.multivariate.multivariate_ols', 'statsmodels.multivariate.factor', 'statsmodels.multivariate.factor_rotation', 'statsmodels.multivariate.factor_rotation._wrappers', 'statsmodels.multivariate.factor_rotation._analytic_rotation', 'statsmodels.multivariate.factor_rotation._gpa_rotation', 'statsmodels.multivariate.api', 'statsmodels.multivariate.cancorr', 'statsmodels.formula.api', 'statsmodels.tools.print_version', 'statsmodels.tools.web', 'webbrowser', 'kats.graphics', 'kats.graphics.plots', 'kats.detectors.stat_sig_detector', 'kats.detectors.trend_mk', 'pymannkendall', 'pymannkendall.pymannkendall', 'pymannkendall._version', 'kats.models', 'kats.models.arima', 'kats.models.model', 'kats.models.bayesian_var', 'kats.models.ensemble', 'kats.models.ensemble.ensemble', 'kats.models.holtwinters', 'kats.models.linear_model', 'kats.models.prophet', 'kats.models.quadratic_model', 'kats.models.sarima', 'kats.models.ensemble.kats_ensemble', 'kats.models.theta', 'kats.models.ensemble.median_ensemble', 'kats.models.ensemble.weighted_avg_ensemble', 'kats.models.harmonic_regression', 'kats.models.lstm', 'kats.models.metalearner', 'kats.models.metalearner.get_metadata', 'kats.models.stlf', 'kats.tsfeatures', 'kats.tsfeatures.tsfeatures', 'numba', 'numba._version', 'numba.misc', 'numba.misc.init_utils', 'numba.core', 'numba.core.config', 'yaml', 'yaml.error', 'yaml.tokens', 'yaml.events', 'yaml.nodes', 'yaml.loader', 'yaml.reader', 'yaml.scanner', 'yaml.parser', 'yaml.composer', 'yaml.constructor', 'yaml.resolver', 'yaml.dumper', 'yaml.emitter', 'yaml.serializer', 'yaml.representer', 'llvmlite', 'llvmlite._version', 'llvmlite.binding', 'llvmlite.binding.dylib', 'llvmlite.binding.ffi', 'llvmlite.binding.common', 'llvmlite.utils', 'llvmlite.binding.executionengine', 'llvmlite.binding.targets', 'llvmlite.binding.object_file', 'llvmlite.binding.initfini', 'llvmlite.binding.linker', 'llvmlite.binding.module', 'llvmlite.binding.value', 'llvmlite.binding.context', 'llvmlite.binding.options', 'llvmlite.binding.passmanagers', 'llvmlite.binding.transforms', 'llvmlite.binding.analysis', 'llvmlite.ir', 'llvmlite.ir.types', 'llvmlite.ir._utils', 'llvmlite.ir.values', 'llvmlite.ir.module', 'llvmlite.ir.context', 'llvmlite.ir.builder', 'llvmlite.ir.instructions', 'llvmlite.ir.transforms', 'numba.testing', 'numba.testing.main', 'numba.testing.loader', 'numba.testing._runtests', 'numba.core.types', 'numba.core.utils', 'numba.core.types.abstract', 'numba.core.types.containers', 'numba.core.types.common', 'numba.core.types.misc', 'numba.core.typeconv', 'numba.core.typeconv.castgraph', 'numba.core.errors', 'numba.core.types.functions', 'numba.core.types.iterators', 'numba.core.types.npytypes', 'numba.core.types.scalars', 'numba.np', 'numba.np.npdatetime_helpers', 'numba.core.types.function_type', 'numba.misc.special', 'numba.core.typing', 'numba.core.typing.context', 'numba.core.typeconv.rules', 'numba.core.typeconv.typeconv', 'numba.core.typeconv._typeconv', 'numba.core.typing.templates', 'numba.core.cpu_options', 'numba.core.typing.typeof', 'numba.np.numpy_support', 'numba.core.cgutils', 'numba.core.datamodel', 'numba.core.datamodel.manager', 'numba.core.datamodel.packer', 'numba.core.datamodel.registry', 'numba.core.datamodel.models', 'numba.core.typing.asnumbatype', 'numba.core.decorators', 'numba.stencils', 'numba.stencils.stencil', 'numba.core.ir', 'numba.core.consts', 'numba.core.ir_utils', 'numba.core.extending', 'numba.core.imputils', 'numba.core.pythonapi', 'llvmlite.llvmpy', 'llvmlite.llvmpy.core', 'numba._helperlib', 'numba.core.lowering', 'numba.core.debuginfo', 'numba.core.funcdesc', 'numba.core.itanium_mangler', 'numba.core.generators', 'numba.core.removerefctpass', 'numba.core.environment', 'numba._dynfunc', 'numba.core.serialize', 'numba.core.analysis', 'numba.core.controlflow', 'numba.core.postproc', 'numba.core.transforms', 'numba.core.rewrites', 'numba.core.rewrites.registry', 'numba.core.rewrites.static_getitem', 'numba.core.rewrites.static_raise', 'numba.core.rewrites.static_binop', 'numba.core.rewrites.ir_print', 'numba.core.registry', 'numba.core.descriptors', 'numba.core.dispatcher', 'numba._devicearray', 'numba._dispatcher', 'numba.core.compiler', 'numba.core.tracing', 'numba.core.interpreter', 'numba.core.dataflow', 'numba.core.byteflow', 'numba.core.unsafe', 'numba.core.unsafe.eh', 'numba.cpython', 'numba.cpython.unsafe', 'numba.cpython.unsafe.tuple', 'numba.core.bytecode', 'numba.core.callconv', 'numba.core.base', 'numba.core.event', 'numba.core.compiler_lock', 'numba.np.arrayobj', 'numba.misc.quicksort', 'numba.misc.mergesort', 'numba.cpython.slicing', 'numba.cpython.builtins', 'numba.core.typing.builtins', 'numba.parfors', 'numba.parfors.parfor_lowering', 'numba.parfors.parfor', 'numba.core.typeinfer', 'numba.stencils.stencilparfor', 'numba.core.typing.npydecl', 'numba.parfors.array_analysis', 'numba.np.unsafe', 'numba.np.unsafe.ndarray', 'numba.core.sigutils', 'numba.parfors.parfor_lowering_utils', 'numba.extending', 'numba.core.cpu', 'numba.core.callwrapper', 'numba.core.codegen', 'llvmlite.llvmpy.passes', 'numba.core.runtime', 'numba.core.runtime.nrt', 'numba.core.runtime.nrtdynmod', 'numba.core.runtime._nrt_python', 'numba.core.runtime.nrtopt', 'numba.misc.inspection', 'numba.misc.llvm_pass_timings', 'numba.core.externals', 'numba.core.intrinsics', 'numba.core.fastmathpass', 'numba.core.options', 'numba.core.entrypoints', 'numba.cpython.setobj', 'numba.cpython.listobj', 'numba.core.inline_closurecall', 'numba.cpython.rangeobj', 'numba.core.compiler_machinery', 'numba.core.untyped_passes', 'numba.core.ssa', 'numba.core.typed_passes', 'numba.core.annotations', 'numba.core.annotations.type_annotations', 'numba.core.object_mode_passes', 'numba.core.pylowering', 'numba.core.caching', 'numba.misc.appdirs', 'numba.np.ufunc', 'numba.np.ufunc.decorators', 'numba.np.ufunc._internal', 'numba.np.ufunc.parallel', 'numba.np.ufunc.wrappers', 'numba.np.ufunc.ufuncbuilder', 'numba.np.ufunc.sigparse', 'numba.np.ufunc.dufunc', 'numba.np.ufunc.gufunc', 'numba.np.ufunc.array_exprs', 'numba.experimental', 'numba.experimental.jitclass', 'numba.experimental.jitclass.decorators', 'numba.experimental.jitclass.base', 'numba.experimental.jitclass._box', 'numba.experimental.jitclass.boxing', 'numba.core.withcontexts', 'numba.typed', 'numba.typed.typeddict', 'numba.typed.dictobject', 'numba.typed.typedobjectutils', 'numba.cpython.unicode', 'numba.cpython.hashing', 'numba.core.unsafe.bytes', 'numba.cpython.unicode_support', 'numba.core.boxing', 'numba.cpython.charseq', 'numba.typed.dictimpl', 'numba.experimental.function_type', 'numba.core.ccallback', 'numba.core.typing.ctypes_utils', 'numba.typed.typedlist', 'numba.typed.listobject', 'kats.models.metalearner.metalearner_hpt', 'kats.models.metalearner.metalearner_modelselect', 'sklearn.naive_bayes', 'sklearn.pipeline', 'kats.models.metalearner.metalearner_predictability', 'kats.models.nowcasting', 'kats.models.nowcasting.feature_extraction', 'kats.models.nowcasting.model_io', 'kats.models.nowcasting.nowcasting', 'kats.models.reconciliation', 'kats.models.reconciliation.base_models', 'kats.models.reconciliation.thm', 'kats.models.var', 'auto_ts', 'dask', 'dask.config', 'dask.datasets', 'dask.utils', 'dask.core', 'dask.utils_test', 'dask._version', 'dask.base', 'tlz', 'tlz._build_tlz', 'toolz', 'toolz.itertoolz', 'toolz.utils', 'toolz.functoolz', 'toolz._signatures', 'toolz.dicttoolz', 'toolz.recipes', 'toolz.curried', 'toolz.curried.operator', 'toolz.curried.exceptions', 'toolz.sandbox', 'toolz.sandbox.core', 'toolz.sandbox.parallel', 'toolz._version', 'tlz.utils', 'tlz.itertoolz', 'tlz._signatures', 'tlz.functoolz', 'tlz.dicttoolz', 'tlz.recipes', 'tlz._version', 'dask.local', 'dask.callbacks', 'dask.order', 'dask.threaded', 'dask.system', 'dask.context', 'dask.hashing', 'dask.multiprocessing', 'cloudpickle', 'cloudpickle.cloudpickle', 'dask.optimization', 'tblib', 'tblib.cpython', 'tblib.pickling_support', 'dask.delayed', 'dask.highlevelgraph', 'encodings.raw_unicode_escape', 'dask.dataframe', 'dask.dataframe.backends', 'dask.dataframe._compat', 'dask.dataframe.core', 'dask.array', 'dask.array.backends', 'dask.array.dispatch', 'dask.array.numpy_compat', 'dask.array.fft', 'dask.array.core', 'fsspec', 'importlib_metadata', 'zipp', 'importlib_metadata._adapters', 'importlib_metadata._text', 'importlib_metadata._functools', 'importlib_metadata._meta', 'importlib_metadata._compat', 'importlib_metadata._collections', 'importlib_metadata._itertools', 'fsspec.caching', 'fsspec._version', 'fsspec.core', 'fsspec.compression', 'fsspec.utils', 'fsspec.spec', 'fsspec.config', 'configparser', 'fsspec.dircache', 'fsspec.transaction', 'fsspec.registry', 'fsspec.exceptions', 'fsspec.mapping', 'tlz.curried', 'tlz.curried.operator', 'dask.blockwise', 'dask.compatibility', 'dask.layers', 'dask.sizeof', 'dask.array.chunk', 'dask.array.chunk_types', 'dask.array.slicing', 'dask.array.optimization', 'dask.array.blockwise', 'dask.array.utils', 'dask.array.creation', 'dask.array.ufunc', 'dask.array.wrap', 'dask.array.lib', 'dask.array.lib.stride_tricks', 'dask.array.overlap', 'dask.array.linalg', 'dask.array.random', 'dask.array.ma', 'dask.array.routines', 'dask.array.einsumfuncs', 'dask.array.gufunc', 'dask.array.percentile', 'dask.array.rechunk', 'dask.array.reductions', 'dask.array.reshape', 'dask.array.tiledb_io', 'dask.dataframe.methods', 'dask.dataframe.dispatch', 'dask.dataframe.utils', 'dask.dataframe._dtypes', 'dask.dataframe.extensions', 'dask.dataframe._accessor', 'dask.dataframe.accessor', 'dask.dataframe.categorical', 'dask.dataframe.optimize', 'pandas.core.computation.expressions', 'pandas.core.computation.check', 'numexpr', 'numexpr.__config__', 'numexpr.interpreter', 'numexpr.expressions', 'numexpr.necompiler', 'numexpr.utils', 'numexpr.version', 'dask.dataframe.rolling', 'dask.dataframe.groupby', 'dask.dataframe.shuffle', 'dask.dataframe.io', 'dask.dataframe.io.demo', 'dask.dataframe.io.csv', 'fsspec.implementations', 'fsspec.implementations.local', 'dask.bytes', 'dask.bytes.core', 'dask.dataframe.io.hdf', 'dask.dataframe.io.io', 'dask.dataframe.io.json', 'dask.dataframe.io.sql', 'dask.dataframe.io.parquet', 'dask.dataframe.io.parquet.core', 'dask.dataframe.io.parquet.utils', 'dask.dataframe.io.orc', 'dask.dataframe.io.utils', 'dask.dataframe.multi', 'dask.dataframe.numeric', 'dask.dataframe.reshape', 'auto_ts.models', 'auto_ts.models.build_base', 'auto_ts.models.ar_based', 'auto_ts.models.ar_based.build_arima', 'auto_ts.utils', 'auto_ts.utils.colors', 'auto_ts.utils.etl', 'auto_ts.utils.eda', 'auto_ts.utils.val', 'auto_ts.utils.metrics', 'auto_ts.models.ar_based.param_finder', 'auto_ts.models.ar_based.build_sarimax', 'auto_ts.models.ar_based.build_arima_base', 'auto_ts.models.ar_based.build_autoarimax', 'pmdarima', 'pmdarima.__check_build', 'pmdarima.__check_build._check_build', 'pmdarima.arima', 'pmdarima.arima.approx', 'pmdarima.utils', 'pmdarima.utils.array', 'pmdarima.compat', 'pmdarima.compat.matplotlib', 'pmdarima.compat.pandas', 'pmdarima.compat.pmdarima', 'pmdarima.compat.numpy', 'pmdarima.compat.sklearn', 'pmdarima.compat.statsmodels', 'pmdarima.utils._array', 'pmdarima.utils.metaestimators', 'pmdarima.utils.visualization', 'pmdarima.utils.wrapped', 'pmdarima.arima._arima', 'pmdarima.arima.arima', 'pmdarima.arima._validation', 'pmdarima.warnings', 'pmdarima.base', 'pmdarima.arima.auto', 'pmdarima.arima._doc', 'pmdarima.arima.utils', 'pmdarima.context_managers', 'pmdarima.arima.stationarity', 'pmdarima.decorators', 'pmdarima.arima.seasonality', 'pmdarima.arima._context', 'pmdarima.arima._auto_solvers', 'pmdarima.utils._show_versions', 'pmdarima.datasets', 'pmdarima.datasets.airpassengers', 'pmdarima.datasets.ausbeer', 'pmdarima.datasets.austres', 'pmdarima.datasets.gasoline', 'pmdarima.datasets._base', 'urllib3', 'urllib3.connectionpool', 'urllib3.exceptions', 'urllib3.packages', 'urllib3.packages.ssl_match_hostname', 'urllib3.packages.six', 'urllib3.packages.six.moves', 'urllib3.packages.six.moves.http_client', 'urllib3.connection', 'urllib3.util', 'urllib3.util.connection', 'urllib3.util.wait', 'urllib3.contrib', 'urllib3.contrib._appengine_environ', 'urllib3.util.request', 'urllib3.util.response', 'urllib3.util.ssl_', 'urllib3.util.timeout', 'urllib3.util.retry', 'urllib3.util.url', 'urllib3.packages.six.moves.urllib', 'urllib3.packages.six.moves.urllib.parse', 'urllib3._collections', 'urllib3.request', 'urllib3.filepost', 'urllib3.fields', 'urllib3.response', 'urllib3.util.queue', 'urllib3.poolmanager', 'pmdarima.datasets.heartrate', 'pmdarima.datasets.lynx', 'pmdarima.datasets.stocks', 'pmdarima.datasets.sunspots', 'pmdarima.datasets.taylor', 'pmdarima.datasets.wineind', 'pmdarima.datasets.woolyrnq', 'pmdarima.model_selection', 'pmdarima.model_selection._split', 'pmdarima.model_selection._validation', 'pmdarima.metrics', 'pmdarima.preprocessing', 'pmdarima.preprocessing.base', 'pmdarima.preprocessing.endog', 'pmdarima.preprocessing.endog.boxcox', 'pmdarima.preprocessing.endog.base', 'pmdarima.preprocessing.endog.log', 'pmdarima.preprocessing.exog', 'pmdarima.preprocessing.exog.dates', 'pmdarima.preprocessing.exog.base', 'pmdarima.preprocessing.exog.fourier', 'pmdarima.preprocessing.exog._fourier', 'auto_ts.models.ar_based.build_var', 'auto_ts.models.build_ml', 'sklearn.discriminant_analysis', 'xgboost', 'xgboost.core', 'xgboost.compat', 'xgboost.libpath', 'xgboost.training', 'xgboost.rabit', 'xgboost.callback', 'xgboost.sklearn', 'xgboost.plotting', 'xlrd', 'xlrd.info', 'xlrd.timemachine', 'xlrd.biffh', 'xlrd.formula', 'xlrd.book', 'xlrd.sheet', 'xlrd.formatting', 'xlrd.compdoc', 'xlrd.xldate', 'xlrd.xlsx', 'auto_ts.models.build_prophet', 'auto_ts.utils.logging', 'auto_ts.models.build_pyflux'])"
            ]
          },
          "metadata": {
            "tags": []
          },
          "execution_count": 4
        }
      ]
    },
    {
      "cell_type": "code",
      "metadata": {
        "id": "jWgdO0yoP-nk"
      },
      "source": [
        "warnings.simplefilter(action='ignore')\n",
        "sys.path.append(\"../\")"
      ],
      "execution_count": 5,
      "outputs": []
    },
    {
      "cell_type": "code",
      "metadata": {
        "id": "pn2nEo9MQPHM"
      },
      "source": [
        "#import data file\n",
        "header = [\"date\",\"time\",\"value\"]\n",
        "df = pd.read_csv(\"EURUSD1440.csv\", usecols=range(0,3), names=header)"
      ],
      "execution_count": 6,
      "outputs": []
    },
    {
      "cell_type": "code",
      "metadata": {
        "colab": {
          "base_uri": "https://localhost:8080/"
        },
        "id": "_uhVPTxiUHsf",
        "outputId": "00e5a11a-a257-4329-b3dd-b8319f0811ac"
      },
      "source": [
        "#check data file\n",
        "df.info()"
      ],
      "execution_count": 7,
      "outputs": [
        {
          "output_type": "stream",
          "text": [
            "<class 'pandas.core.frame.DataFrame'>\n",
            "RangeIndex: 12702 entries, 0 to 12701\n",
            "Data columns (total 3 columns):\n",
            " #   Column  Non-Null Count  Dtype  \n",
            "---  ------  --------------  -----  \n",
            " 0   date    12702 non-null  object \n",
            " 1   time    12702 non-null  object \n",
            " 2   value   12702 non-null  float64\n",
            "dtypes: float64(1), object(2)\n",
            "memory usage: 297.8+ KB\n"
          ],
          "name": "stdout"
        }
      ]
    },
    {
      "cell_type": "code",
      "metadata": {
        "colab": {
          "base_uri": "https://localhost:8080/",
          "height": 206
        },
        "id": "snckPPt1QaL8",
        "outputId": "2deff25e-1b5e-4a4e-8e81-e54cc5a144e3"
      },
      "source": [
        "df.head()"
      ],
      "execution_count": 8,
      "outputs": [
        {
          "output_type": "execute_result",
          "data": {
            "text/html": [
              "<div>\n",
              "<style scoped>\n",
              "    .dataframe tbody tr th:only-of-type {\n",
              "        vertical-align: middle;\n",
              "    }\n",
              "\n",
              "    .dataframe tbody tr th {\n",
              "        vertical-align: top;\n",
              "    }\n",
              "\n",
              "    .dataframe thead th {\n",
              "        text-align: right;\n",
              "    }\n",
              "</style>\n",
              "<table border=\"1\" class=\"dataframe\">\n",
              "  <thead>\n",
              "    <tr style=\"text-align: right;\">\n",
              "      <th></th>\n",
              "      <th>date</th>\n",
              "      <th>time</th>\n",
              "      <th>value</th>\n",
              "    </tr>\n",
              "  </thead>\n",
              "  <tbody>\n",
              "    <tr>\n",
              "      <th>0</th>\n",
              "      <td>1971.01.04</td>\n",
              "      <td>00:00</td>\n",
              "      <td>0.5369</td>\n",
              "    </tr>\n",
              "    <tr>\n",
              "      <th>1</th>\n",
              "      <td>1971.01.05</td>\n",
              "      <td>00:00</td>\n",
              "      <td>0.5366</td>\n",
              "    </tr>\n",
              "    <tr>\n",
              "      <th>2</th>\n",
              "      <td>1971.01.06</td>\n",
              "      <td>00:00</td>\n",
              "      <td>0.5365</td>\n",
              "    </tr>\n",
              "    <tr>\n",
              "      <th>3</th>\n",
              "      <td>1971.01.07</td>\n",
              "      <td>00:00</td>\n",
              "      <td>0.5368</td>\n",
              "    </tr>\n",
              "    <tr>\n",
              "      <th>4</th>\n",
              "      <td>1971.01.08</td>\n",
              "      <td>00:00</td>\n",
              "      <td>0.5371</td>\n",
              "    </tr>\n",
              "  </tbody>\n",
              "</table>\n",
              "</div>"
            ],
            "text/plain": [
              "         date   time   value\n",
              "0  1971.01.04  00:00  0.5369\n",
              "1  1971.01.05  00:00  0.5366\n",
              "2  1971.01.06  00:00  0.5365\n",
              "3  1971.01.07  00:00  0.5368\n",
              "4  1971.01.08  00:00  0.5371"
            ]
          },
          "metadata": {
            "tags": []
          },
          "execution_count": 8
        }
      ]
    },
    {
      "cell_type": "code",
      "metadata": {
        "id": "zfegrxUGaITJ"
      },
      "source": [
        "#pd.to_datetime\n",
        "df[\"time\"] = pd.to_datetime(df['date']+' '+df['time'])\n",
        "df_df = df[[\"time\",\"value\"]]\n",
        "df_df = df_df.tail(100)"
      ],
      "execution_count": 9,
      "outputs": []
    },
    {
      "cell_type": "code",
      "metadata": {
        "colab": {
          "base_uri": "https://localhost:8080/"
        },
        "id": "ss9fL_bdZokP",
        "outputId": "80dfc6df-1f0e-4c32-d31f-a476458872d1"
      },
      "source": [
        "#show pd.datetime applied\n",
        "df_df.info()"
      ],
      "execution_count": 10,
      "outputs": [
        {
          "output_type": "stream",
          "text": [
            "<class 'pandas.core.frame.DataFrame'>\n",
            "RangeIndex: 100 entries, 12602 to 12701\n",
            "Data columns (total 2 columns):\n",
            " #   Column  Non-Null Count  Dtype         \n",
            "---  ------  --------------  -----         \n",
            " 0   time    100 non-null    datetime64[ns]\n",
            " 1   value   100 non-null    float64       \n",
            "dtypes: datetime64[ns](1), float64(1)\n",
            "memory usage: 1.7 KB\n"
          ],
          "name": "stdout"
        }
      ]
    },
    {
      "cell_type": "code",
      "metadata": {
        "colab": {
          "base_uri": "https://localhost:8080/",
          "height": 206
        },
        "id": "BLx2juhgU1qP",
        "outputId": "ca8876b5-66d0-4f5d-88c9-a0f2e4b3fbe8"
      },
      "source": [
        "df.tail()"
      ],
      "execution_count": 11,
      "outputs": [
        {
          "output_type": "execute_result",
          "data": {
            "text/html": [
              "<div>\n",
              "<style scoped>\n",
              "    .dataframe tbody tr th:only-of-type {\n",
              "        vertical-align: middle;\n",
              "    }\n",
              "\n",
              "    .dataframe tbody tr th {\n",
              "        vertical-align: top;\n",
              "    }\n",
              "\n",
              "    .dataframe thead th {\n",
              "        text-align: right;\n",
              "    }\n",
              "</style>\n",
              "<table border=\"1\" class=\"dataframe\">\n",
              "  <thead>\n",
              "    <tr style=\"text-align: right;\">\n",
              "      <th></th>\n",
              "      <th>date</th>\n",
              "      <th>time</th>\n",
              "      <th>value</th>\n",
              "    </tr>\n",
              "  </thead>\n",
              "  <tbody>\n",
              "    <tr>\n",
              "      <th>12697</th>\n",
              "      <td>2021.06.30</td>\n",
              "      <td>2021-06-30</td>\n",
              "      <td>1.18968</td>\n",
              "    </tr>\n",
              "    <tr>\n",
              "      <th>12698</th>\n",
              "      <td>2021.07.01</td>\n",
              "      <td>2021-07-01</td>\n",
              "      <td>1.18547</td>\n",
              "    </tr>\n",
              "    <tr>\n",
              "      <th>12699</th>\n",
              "      <td>2021.07.02</td>\n",
              "      <td>2021-07-02</td>\n",
              "      <td>1.18488</td>\n",
              "    </tr>\n",
              "    <tr>\n",
              "      <th>12700</th>\n",
              "      <td>2021.07.05</td>\n",
              "      <td>2021-07-05</td>\n",
              "      <td>1.18590</td>\n",
              "    </tr>\n",
              "    <tr>\n",
              "      <th>12701</th>\n",
              "      <td>2021.07.06</td>\n",
              "      <td>2021-07-06</td>\n",
              "      <td>1.18597</td>\n",
              "    </tr>\n",
              "  </tbody>\n",
              "</table>\n",
              "</div>"
            ],
            "text/plain": [
              "             date       time    value\n",
              "12697  2021.06.30 2021-06-30  1.18968\n",
              "12698  2021.07.01 2021-07-01  1.18547\n",
              "12699  2021.07.02 2021-07-02  1.18488\n",
              "12700  2021.07.05 2021-07-05  1.18590\n",
              "12701  2021.07.06 2021-07-06  1.18597"
            ]
          },
          "metadata": {
            "tags": []
          },
          "execution_count": 11
        }
      ]
    },
    {
      "cell_type": "code",
      "metadata": {
        "id": "v4c15Edq4IIE",
        "outputId": "4fd1e567-5415-4a4d-8009-47de3b144e1e",
        "colab": {
          "base_uri": "https://localhost:8080/"
        }
      },
      "source": [
        "#construct TimeSeriesData object for each time series\n",
        "df_ts = TimeSeriesData(df_df)\n",
        "print(type(df_ts.time))\n",
        "print(type(df_ts.value))"
      ],
      "execution_count": 12,
      "outputs": [
        {
          "output_type": "stream",
          "text": [
            "<class 'pandas.core.series.Series'>\n",
            "<class 'pandas.core.series.Series'>\n"
          ],
          "name": "stdout"
        }
      ]
    },
    {
      "cell_type": "code",
      "metadata": {
        "id": "X9NPNj_M4IAH",
        "outputId": "0e8d1adb-f630-4659-a493-6057d9569f00",
        "colab": {
          "base_uri": "https://localhost:8080/",
          "height": 424
        }
      },
      "source": [
        "#plot current data\n",
        "%matplotlib inline\n",
        "#Must pass the name of the value columns to plot\n",
        "df_ts.plot(cols=['value'])\n",
        "plt.show()"
      ],
      "execution_count": 14,
      "outputs": [
        {
          "output_type": "display_data",
          "data": {
            "image/png": "[encoded data removed]",
            "text/plain": [
              "<Figure size 720x432 with 1 Axes>"
            ]
          },
          "metadata": {
            "tags": []
          }
        }
      ]
    },
    {
      "cell_type": "code",
      "metadata": {
        "id": "RrauoL328Mmm"
      },
      "source": [
        "#examples below in case needed in the future"
      ],
      "execution_count": null,
      "outputs": []
    },
    {
      "cell_type": "code",
      "metadata": {
        "id": "oedOdGqd4H5E",
        "outputId": "f6641ab7-a1c8-4cf5-85c7-0062c520f5a1",
        "colab": {
          "base_uri": "https://localhost:8080/",
          "height": 206
        }
      },
      "source": [
        "#convert to pandas.DataFrame \n",
        "df_ts.to_dataframe().tail()"
      ],
      "execution_count": 15,
      "outputs": [
        {
          "output_type": "execute_result",
          "data": {
            "text/html": [
              "<div>\n",
              "<style scoped>\n",
              "    .dataframe tbody tr th:only-of-type {\n",
              "        vertical-align: middle;\n",
              "    }\n",
              "\n",
              "    .dataframe tbody tr th {\n",
              "        vertical-align: top;\n",
              "    }\n",
              "\n",
              "    .dataframe thead th {\n",
              "        text-align: right;\n",
              "    }\n",
              "</style>\n",
              "<table border=\"1\" class=\"dataframe\">\n",
              "  <thead>\n",
              "    <tr style=\"text-align: right;\">\n",
              "      <th></th>\n",
              "      <th>time</th>\n",
              "      <th>value</th>\n",
              "    </tr>\n",
              "  </thead>\n",
              "  <tbody>\n",
              "    <tr>\n",
              "      <th>95</th>\n",
              "      <td>2021-06-30</td>\n",
              "      <td>1.18968</td>\n",
              "    </tr>\n",
              "    <tr>\n",
              "      <th>96</th>\n",
              "      <td>2021-07-01</td>\n",
              "      <td>1.18547</td>\n",
              "    </tr>\n",
              "    <tr>\n",
              "      <th>97</th>\n",
              "      <td>2021-07-02</td>\n",
              "      <td>1.18488</td>\n",
              "    </tr>\n",
              "    <tr>\n",
              "      <th>98</th>\n",
              "      <td>2021-07-05</td>\n",
              "      <td>1.18590</td>\n",
              "    </tr>\n",
              "    <tr>\n",
              "      <th>99</th>\n",
              "      <td>2021-07-06</td>\n",
              "      <td>1.18597</td>\n",
              "    </tr>\n",
              "  </tbody>\n",
              "</table>\n",
              "</div>"
            ],
            "text/plain": [
              "         time    value\n",
              "95 2021-06-30  1.18968\n",
              "96 2021-07-01  1.18547\n",
              "97 2021-07-02  1.18488\n",
              "98 2021-07-05  1.18590\n",
              "99 2021-07-06  1.18597"
            ]
          },
          "metadata": {
            "tags": []
          },
          "execution_count": 15
        }
      ]
    },
    {
      "cell_type": "code",
      "metadata": {
        "id": "SM6gIIZe4Hx-",
        "outputId": "69afe718-c5b2-4b1d-e587-2ba242b50c0f",
        "colab": {
          "base_uri": "https://localhost:8080/"
        }
      },
      "source": [
        "#convert to numpy.ndarray\n",
        "df_ts.to_array()[0:5]"
      ],
      "execution_count": 16,
      "outputs": [
        {
          "output_type": "execute_result",
          "data": {
            "text/plain": [
              "array([[Timestamp('2021-02-17 00:00:00'), 1.21071],\n",
              "       [Timestamp('2021-02-18 00:00:00'), 1.20394],\n",
              "       [Timestamp('2021-02-19 00:00:00'), 1.20908],\n",
              "       [Timestamp('2021-02-22 00:00:00'), 1.2114200000000002],\n",
              "       [Timestamp('2021-02-23 00:00:00'), 1.21563]], dtype=object)"
            ]
          },
          "metadata": {
            "tags": []
          },
          "execution_count": 16
        }
      ]
    },
    {
      "cell_type": "code",
      "metadata": {
        "id": "7f57qWqK8S1c",
        "outputId": "6298f8fe-b0d6-4d0a-b3cf-d22f35fd4217",
        "colab": {
          "base_uri": "https://localhost:8080/"
        }
      },
      "source": [
        "df_ts.is_empty()"
      ],
      "execution_count": 17,
      "outputs": [
        {
          "output_type": "execute_result",
          "data": {
            "text/plain": [
              "False"
            ]
          },
          "metadata": {
            "tags": []
          },
          "execution_count": 17
        }
      ]
    },
    {
      "cell_type": "code",
      "metadata": {
        "id": "mIQcwUv18hQb",
        "outputId": "0dfa4c7b-5164-4302-841c-d9fa106cc383",
        "colab": {
          "base_uri": "https://localhost:8080/"
        }
      },
      "source": [
        "df_ts.is_univariate()"
      ],
      "execution_count": 18,
      "outputs": [
        {
          "output_type": "execute_result",
          "data": {
            "text/plain": [
              "True"
            ]
          },
          "metadata": {
            "tags": []
          },
          "execution_count": 18
        }
      ]
    },
    {
      "cell_type": "code",
      "metadata": {
        "id": "DidRWcp04Hng"
      },
      "source": [
        "#end examples"
      ],
      "execution_count": null,
      "outputs": []
    },
    {
      "cell_type": "code",
      "metadata": {
        "id": "bxWm0sUA8Vwa"
      },
      "source": [
        "#forecast: Kats follows the sklearn API pattern."
      ],
      "execution_count": null,
      "outputs": []
    },
    {
      "cell_type": "code",
      "metadata": {
        "id": "LpaULaYP8tyi"
      },
      "source": [
        "#import the param and model classes for Prophet, then LSTM model.\n",
        "from kats.models.prophet import ProphetModel, ProphetParams\n",
        "from kats.models.lstm import LSTMForecast, LSTMParams, LSTMModel\n",
        "\n",
        "# params = ProphetParams(seasonality_mode='multiplicative')\n",
        "# m = ProphetModel(eurusd15_ts, params)\n",
        "# m.fit()\n",
        "# fcst = m.predict(steps=24)\n",
        "#create a model param instance\n",
        "params = LSTMParams(hidden_size=125,time_window=25,num_epochs=250) #hidden,time_window,epoch\n",
        "#create a prophet model instance\n",
        "m=LSTMModel(df_ts, params) \n",
        "#fit model simply by calling m.fit()\n",
        "m.fit() \n",
        "#make prediction for next 0-24GMT (96 M15 periods)\n",
        "fcst = m.predict(steps=24)"
      ],
      "execution_count": 20,
      "outputs": []
    },
    {
      "cell_type": "code",
      "metadata": {
        "id": "PydIcEJv_J5E",
        "outputId": "ab1ef17f-d84a-40d7-fdf6-c1ec68871f44",
        "colab": {
          "base_uri": "https://localhost:8080/",
          "height": 801
        }
      },
      "source": [
        "\n",
        "fcst.head(100)"
      ],
      "execution_count": 21,
      "outputs": [
        {
          "output_type": "execute_result",
          "data": {
            "text/html": [
              "<div>\n",
              "<style scoped>\n",
              "    .dataframe tbody tr th:only-of-type {\n",
              "        vertical-align: middle;\n",
              "    }\n",
              "\n",
              "    .dataframe tbody tr th {\n",
              "        vertical-align: top;\n",
              "    }\n",
              "\n",
              "    .dataframe thead th {\n",
              "        text-align: right;\n",
              "    }\n",
              "</style>\n",
              "<table border=\"1\" class=\"dataframe\">\n",
              "  <thead>\n",
              "    <tr style=\"text-align: right;\">\n",
              "      <th></th>\n",
              "      <th>time</th>\n",
              "      <th>fcst</th>\n",
              "      <th>fcst_lower</th>\n",
              "      <th>fcst_upper</th>\n",
              "    </tr>\n",
              "  </thead>\n",
              "  <tbody>\n",
              "    <tr>\n",
              "      <th>0</th>\n",
              "      <td>2021-07-07</td>\n",
              "      <td>1.184067</td>\n",
              "      <td>1.124864</td>\n",
              "      <td>1.243271</td>\n",
              "    </tr>\n",
              "    <tr>\n",
              "      <th>1</th>\n",
              "      <td>2021-07-08</td>\n",
              "      <td>1.185195</td>\n",
              "      <td>1.125936</td>\n",
              "      <td>1.244455</td>\n",
              "    </tr>\n",
              "    <tr>\n",
              "      <th>2</th>\n",
              "      <td>2021-07-09</td>\n",
              "      <td>1.187904</td>\n",
              "      <td>1.128509</td>\n",
              "      <td>1.247299</td>\n",
              "    </tr>\n",
              "    <tr>\n",
              "      <th>3</th>\n",
              "      <td>2021-07-12</td>\n",
              "      <td>1.189508</td>\n",
              "      <td>1.130033</td>\n",
              "      <td>1.248984</td>\n",
              "    </tr>\n",
              "    <tr>\n",
              "      <th>4</th>\n",
              "      <td>2021-07-13</td>\n",
              "      <td>1.191079</td>\n",
              "      <td>1.131525</td>\n",
              "      <td>1.250633</td>\n",
              "    </tr>\n",
              "    <tr>\n",
              "      <th>5</th>\n",
              "      <td>2021-07-14</td>\n",
              "      <td>1.192925</td>\n",
              "      <td>1.133279</td>\n",
              "      <td>1.252572</td>\n",
              "    </tr>\n",
              "    <tr>\n",
              "      <th>6</th>\n",
              "      <td>2021-07-15</td>\n",
              "      <td>1.194686</td>\n",
              "      <td>1.134952</td>\n",
              "      <td>1.254420</td>\n",
              "    </tr>\n",
              "    <tr>\n",
              "      <th>7</th>\n",
              "      <td>2021-07-16</td>\n",
              "      <td>1.196675</td>\n",
              "      <td>1.136841</td>\n",
              "      <td>1.256508</td>\n",
              "    </tr>\n",
              "    <tr>\n",
              "      <th>8</th>\n",
              "      <td>2021-07-19</td>\n",
              "      <td>1.198686</td>\n",
              "      <td>1.138752</td>\n",
              "      <td>1.258621</td>\n",
              "    </tr>\n",
              "    <tr>\n",
              "      <th>9</th>\n",
              "      <td>2021-07-20</td>\n",
              "      <td>1.201065</td>\n",
              "      <td>1.141012</td>\n",
              "      <td>1.261119</td>\n",
              "    </tr>\n",
              "    <tr>\n",
              "      <th>10</th>\n",
              "      <td>2021-07-21</td>\n",
              "      <td>1.202564</td>\n",
              "      <td>1.142436</td>\n",
              "      <td>1.262693</td>\n",
              "    </tr>\n",
              "    <tr>\n",
              "      <th>11</th>\n",
              "      <td>2021-07-22</td>\n",
              "      <td>1.203032</td>\n",
              "      <td>1.142880</td>\n",
              "      <td>1.263183</td>\n",
              "    </tr>\n",
              "    <tr>\n",
              "      <th>12</th>\n",
              "      <td>2021-07-23</td>\n",
              "      <td>1.203704</td>\n",
              "      <td>1.143519</td>\n",
              "      <td>1.263890</td>\n",
              "    </tr>\n",
              "    <tr>\n",
              "      <th>13</th>\n",
              "      <td>2021-07-26</td>\n",
              "      <td>1.205551</td>\n",
              "      <td>1.145273</td>\n",
              "      <td>1.265828</td>\n",
              "    </tr>\n",
              "    <tr>\n",
              "      <th>14</th>\n",
              "      <td>2021-07-27</td>\n",
              "      <td>1.207454</td>\n",
              "      <td>1.147081</td>\n",
              "      <td>1.267827</td>\n",
              "    </tr>\n",
              "    <tr>\n",
              "      <th>15</th>\n",
              "      <td>2021-07-28</td>\n",
              "      <td>1.209300</td>\n",
              "      <td>1.148835</td>\n",
              "      <td>1.269765</td>\n",
              "    </tr>\n",
              "    <tr>\n",
              "      <th>16</th>\n",
              "      <td>2021-07-29</td>\n",
              "      <td>1.211219</td>\n",
              "      <td>1.150658</td>\n",
              "      <td>1.271780</td>\n",
              "    </tr>\n",
              "    <tr>\n",
              "      <th>17</th>\n",
              "      <td>2021-07-30</td>\n",
              "      <td>1.211250</td>\n",
              "      <td>1.150687</td>\n",
              "      <td>1.271812</td>\n",
              "    </tr>\n",
              "    <tr>\n",
              "      <th>18</th>\n",
              "      <td>2021-08-02</td>\n",
              "      <td>1.207802</td>\n",
              "      <td>1.147412</td>\n",
              "      <td>1.268192</td>\n",
              "    </tr>\n",
              "    <tr>\n",
              "      <th>19</th>\n",
              "      <td>2021-08-03</td>\n",
              "      <td>1.205385</td>\n",
              "      <td>1.145116</td>\n",
              "      <td>1.265654</td>\n",
              "    </tr>\n",
              "    <tr>\n",
              "      <th>20</th>\n",
              "      <td>2021-08-04</td>\n",
              "      <td>1.202597</td>\n",
              "      <td>1.142467</td>\n",
              "      <td>1.262727</td>\n",
              "    </tr>\n",
              "    <tr>\n",
              "      <th>21</th>\n",
              "      <td>2021-08-05</td>\n",
              "      <td>1.203566</td>\n",
              "      <td>1.143388</td>\n",
              "      <td>1.263744</td>\n",
              "    </tr>\n",
              "    <tr>\n",
              "      <th>22</th>\n",
              "      <td>2021-08-06</td>\n",
              "      <td>1.207156</td>\n",
              "      <td>1.146798</td>\n",
              "      <td>1.267514</td>\n",
              "    </tr>\n",
              "    <tr>\n",
              "      <th>23</th>\n",
              "      <td>2021-08-09</td>\n",
              "      <td>1.207969</td>\n",
              "      <td>1.147570</td>\n",
              "      <td>1.268367</td>\n",
              "    </tr>\n",
              "  </tbody>\n",
              "</table>\n",
              "</div>"
            ],
            "text/plain": [
              "         time      fcst  fcst_lower  fcst_upper\n",
              "0  2021-07-07  1.184067    1.124864    1.243271\n",
              "1  2021-07-08  1.185195    1.125936    1.244455\n",
              "2  2021-07-09  1.187904    1.128509    1.247299\n",
              "3  2021-07-12  1.189508    1.130033    1.248984\n",
              "4  2021-07-13  1.191079    1.131525    1.250633\n",
              "5  2021-07-14  1.192925    1.133279    1.252572\n",
              "6  2021-07-15  1.194686    1.134952    1.254420\n",
              "7  2021-07-16  1.196675    1.136841    1.256508\n",
              "8  2021-07-19  1.198686    1.138752    1.258621\n",
              "9  2021-07-20  1.201065    1.141012    1.261119\n",
              "10 2021-07-21  1.202564    1.142436    1.262693\n",
              "11 2021-07-22  1.203032    1.142880    1.263183\n",
              "12 2021-07-23  1.203704    1.143519    1.263890\n",
              "13 2021-07-26  1.205551    1.145273    1.265828\n",
              "14 2021-07-27  1.207454    1.147081    1.267827\n",
              "15 2021-07-28  1.209300    1.148835    1.269765\n",
              "16 2021-07-29  1.211219    1.150658    1.271780\n",
              "17 2021-07-30  1.211250    1.150687    1.271812\n",
              "18 2021-08-02  1.207802    1.147412    1.268192\n",
              "19 2021-08-03  1.205385    1.145116    1.265654\n",
              "20 2021-08-04  1.202597    1.142467    1.262727\n",
              "21 2021-08-05  1.203566    1.143388    1.263744\n",
              "22 2021-08-06  1.207156    1.146798    1.267514\n",
              "23 2021-08-09  1.207969    1.147570    1.268367"
            ]
          },
          "metadata": {
            "tags": []
          },
          "execution_count": 21
        }
      ]
    },
    {
      "cell_type": "code",
      "metadata": {
        "id": "-0TA6HYE_JaJ",
        "outputId": "387b1b39-86d1-4f52-8d73-6ccea2126f5a",
        "colab": {
          "base_uri": "https://localhost:8080/",
          "height": 441
        }
      },
      "source": [
        "m.plot()\n",
        "# pd.plotting.register_matplotlib_converters()\n",
        "# %matplotlib inline\n",
        "\n",
        "# fig = m.plot()\n",
        "# plt.xlim('2021-01-05 00:00:00','2021-12-06 12:00:00')\n",
        "# plt.ylim(1.16,1.23)"
      ],
      "execution_count": 22,
      "outputs": [
        {
          "output_type": "display_data",
          "data": {
            "image/png": "[encoded data removed]",
            "text/plain": [
              "<Figure size 720x432 with 1 Axes>"
            ]
          },
          "metadata": {
            "tags": []
          }
        }
      ]
    },
    {
      "cell_type": "code",
      "metadata": {
        "id": "B5ESdMX9CKS-"
      },
      "source": [
        "# #try CUSUM\n",
        "# import numpy as np\n",
        "\n",
        "# from kats.consts import TimeSeriesData\n",
        "# from kats.detectors.cusum_detection import CUSUMDetector\n",
        "\n",
        "# #changepoints\n",
        "# change_points = CUSUMDetector(eurusd15_ts).detector()\n",
        "# change_points.plot()\n",
        " "
      ],
      "execution_count": null,
      "outputs": []
    },
    {
      "cell_type": "code",
      "metadata": {
        "id": "HTDNcAEc4HZd"
      },
      "source": [
        "#do the below after ensemble"
      ],
      "execution_count": null,
      "outputs": []
    },
    {
      "cell_type": "code",
      "metadata": {
        "id": "kI4vhLlagSIg"
      },
      "source": [
        "# #preprocessing complete, start model\n",
        "# from kats.consts import TimeSeriesData\n",
        "# eurusd15_ts = TimeSeriesData(eurusd15_df)"
      ],
      "execution_count": null,
      "outputs": []
    },
    {
      "cell_type": "code",
      "metadata": {
        "id": "P22K7clthLSH"
      },
      "source": [
        "# #GetMetaData\n",
        "# from kats.models.metalearner.get_metadata import GetMetaData\n",
        "# MD = GetMetaData(data = eurusd15_ts)"
      ],
      "execution_count": null,
      "outputs": []
    },
    {
      "cell_type": "markdown",
      "metadata": {
        "id": "CXlJWfCSjYqO"
      },
      "source": [
        ""
      ]
    },
    {
      "cell_type": "code",
      "metadata": {
        "id": "tCve7XY4iV55"
      },
      "source": [
        ""
      ],
      "execution_count": null,
      "outputs": []
    }
  ]
}