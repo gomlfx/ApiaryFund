{
  "nbformat": 4,
  "nbformat_minor": 0,
  "metadata": {
    "colab": {
      "provenance": [],
      "authorship_tag": "ABX9TyOPgCnEPAdZ5kbhMMj82Oyp",
      "include_colab_link": true
    },
    "kernelspec": {
      "name": "python3",
      "display_name": "Python 3"
    },
    "language_info": {
      "name": "python"
    }
  },
  "cells": [
    {
      "cell_type": "markdown",
      "metadata": {
        "id": "view-in-github",
        "colab_type": "text"
      },
      "source": [
        "<a href=\"https://colab.research.google.com/github/gomlfx/ApiaryFund_/blob/master/bayes_rule.ipynb\" target=\"_parent\"><img src=\"https://colab.research.google.com/assets/colab-badge.svg\" alt=\"Open In Colab\"/></a>"
      ]
    },
    {
      "cell_type": "code",
      "execution_count": null,
      "metadata": {
        "id": "YIOJX5Mtikyb"
      },
      "outputs": [],
      "source": [
        "import random\n",
        "\n",
        "# Define the events\n",
        "events = [\"event1\", \"event2\", \"event3\", \"event4\", \"event5\", \"event6\", \"event7\"]\n",
        "\n",
        "# Initialize the prior probabilities\n",
        "prior_probabilities = [0.1, 0.1, 0.1, 0.1, 0.1, 0.1, 0.1]\n",
        "\n",
        "# Define the likelihoods\n",
        "likelihoods = [[0.5, 0.2, 0.1, 0.1, 0.1, 0.1, 0.1],\n",
        "               [0.1, 0.5, 0.2, 0.1, 0.1, 0.1, 0.1],\n",
        "               [0.1, 0.1, 0.5, 0.2, 0.1, 0.1, 0.1],\n",
        "               [0.1, 0.1, 0.1, 0.5, 0.2, 0.1, 0.1],\n",
        "               [0.1, 0.1, 0.1, 0.1, 0.5, 0.2, 0.1],\n",
        "               [0.1, 0.1, 0.1, 0.1, 0.1, 0.5, 0.2],\n",
        "               [0.1, 0.1, 0.1, 0.1, 0.1, 0.1, 0.5]]\n",
        "\n",
        "# Define the number of times each event has happened\n",
        "event_counts = [0, 0, 0, 0, 0, 0, 0]\n",
        "\n",
        "# Iterate over the events\n",
        "for i in range(len(events)):\n",
        "\n",
        "  # Calculate the posterior probability\n",
        "  posterior_probability = prior_probabilities[i] * likelihoods[i][event_counts[i]]\n",
        "\n",
        "  # Update the prior probability\n",
        "  prior_probabilities[i] = posterior_probability\n",
        "\n",
        "# Print the posterior probabilities\n",
        "print(prior_probabilities)\n"
      ]
    }
  ]
}