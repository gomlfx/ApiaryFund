{
  "nbformat": 4,
  "nbformat_minor": 0,
  "metadata": {
    "colab": {
      "name": "fbprophet_H_high_low.ipynb",
      "provenance": [],
      "collapsed_sections": [],
      "authorship_tag": "ABX9TyPC/kPmeZD5SVDltLckP9/Y",
      "include_colab_link": true
    },
    "kernelspec": {
      "name": "python3",
      "display_name": "Python 3"
    }
  },
  "cells": [
    {
      "cell_type": "markdown",
      "metadata": {
        "id": "view-in-github",
        "colab_type": "text"
      },
      "source": [
        "<a href=\"https://colab.research.google.com/github/gomlfx/apiaryfund/blob/master/fbprophet_H_high_low.ipynb\" target=\"_parent\"><img src=\"https://colab.research.google.com/assets/colab-badge.svg\" alt=\"Open In Colab\"/></a>"
      ]
    },
    {
      "cell_type": "code",
      "metadata": {
        "id": "8Wc8wpLgiPbF",
        "colab_type": "code",
        "colab": {}
      },
      "source": [
        "import pandas as pd\n",
        "from fbprophet import Prophet\n",
        "from datetime import datetime\n",
        "import matplotlib.pyplot as plt\n",
        "pd.plotting.register_matplotlib_converters()\n",
        "%matplotlib inline"
      ],
      "execution_count": 1,
      "outputs": []
    },
    {
      "cell_type": "code",
      "metadata": {
        "id": "gXVwlsikikTn",
        "colab_type": "code",
        "colab": {
          "base_uri": "https://localhost:8080/",
          "height": 202
        },
        "outputId": "b39a339f-f7c0-43b4-c901-3b3203d1343c"
      },
      "source": [
        "#for the high prediction\n",
        "df = pd.read_csv('EURUSD_H1_197101040000_202009210500.csv', sep='\\t')\n",
        "df['<DATETIME>'] = df['<DATE>'] + \" \" + df['<TIME>']\n",
        "pd_df2 = pd.DataFrame(data = df.tail(5760))\n",
        "pd_df2.rename(columns={\"<DATETIME>\":\"ds\",\"<HIGH>\":\"y\"}, inplace=True)\n",
        "df = pd_df2\n",
        "df['ds'] = pd.to_datetime(df['ds'])\n",
        "#m = Prophet().fit(df)\n",
        "m = Prophet(daily_seasonality=True,weekly_seasonality=True,yearly_seasonality=True).fit(df) \n",
        "future = m.make_future_dataframe(periods=1, freq='H')\n",
        "#making sure to drop weekends before running into m.predict\n",
        "future = future[future['ds'].dt.dayofweek < 5]\n",
        "fcst_h = m.predict(future)\n",
        "fcst_h[['ds','yhat']].tail(1)"
      ],
      "execution_count": 2,
      "outputs": [
        {
          "output_type": "execute_result",
          "data": {
            "text/html": [
              "<div>\n",
              "<style scoped>\n",
              "    .dataframe tbody tr th:only-of-type {\n",
              "        vertical-align: middle;\n",
              "    }\n",
              "\n",
              "    .dataframe tbody tr th {\n",
              "        vertical-align: top;\n",
              "    }\n",
              "\n",
              "    .dataframe thead th {\n",
              "        text-align: right;\n",
              "    }\n",
              "</style>\n",
              "<table border=\"1\" class=\"dataframe\">\n",
              "  <thead>\n",
              "    <tr style=\"text-align: right;\">\n",
              "      <th></th>\n",
              "      <th>ds</th>\n",
              "      <th>yhat</th>\n",
              "    </tr>\n",
              "  </thead>\n",
              "  <tbody>\n",
              "    <tr>\n",
              "      <th>5756</th>\n",
              "      <td>2020-09-21 02:00:00</td>\n",
              "      <td>1.188362</td>\n",
              "    </tr>\n",
              "    <tr>\n",
              "      <th>5757</th>\n",
              "      <td>2020-09-21 03:00:00</td>\n",
              "      <td>1.188663</td>\n",
              "    </tr>\n",
              "    <tr>\n",
              "      <th>5758</th>\n",
              "      <td>2020-09-21 04:00:00</td>\n",
              "      <td>1.188853</td>\n",
              "    </tr>\n",
              "    <tr>\n",
              "      <th>5759</th>\n",
              "      <td>2020-09-21 05:00:00</td>\n",
              "      <td>1.188899</td>\n",
              "    </tr>\n",
              "    <tr>\n",
              "      <th>5760</th>\n",
              "      <td>2020-09-21 06:00:00</td>\n",
              "      <td>1.188918</td>\n",
              "    </tr>\n",
              "  </tbody>\n",
              "</table>\n",
              "</div>"
            ],
            "text/plain": [
              "                      ds      yhat\n",
              "5756 2020-09-21 02:00:00  1.188362\n",
              "5757 2020-09-21 03:00:00  1.188663\n",
              "5758 2020-09-21 04:00:00  1.188853\n",
              "5759 2020-09-21 05:00:00  1.188899\n",
              "5760 2020-09-21 06:00:00  1.188918"
            ]
          },
          "metadata": {
            "tags": []
          },
          "execution_count": 2
        }
      ]
    },
    {
      "cell_type": "code",
      "metadata": {
        "id": "BWckUa7dioKY",
        "colab_type": "code",
        "colab": {
          "base_uri": "https://localhost:8080/",
          "height": 202
        },
        "outputId": "ea5030fd-7cd1-4aa0-9ed0-ed48057afcbd"
      },
      "source": [
        "#for the low prediction\n",
        "df = pd.read_csv('EURUSD_H1_197101040000_202009210500.csv', sep='\\t')\n",
        "df['<DATETIME>'] = df['<DATE>'] + \" \" + df['<TIME>']\n",
        "pd_df2 = pd.DataFrame(data = df.tail(5760))\n",
        "pd_df2.rename(columns={\"<DATETIME>\":\"ds\",\"<LOW>\":\"y\"}, inplace=True)\n",
        "df = pd_df2\n",
        "df['ds'] = pd.to_datetime(df['ds'])\n",
        "#m = Prophet().fit(df)\n",
        "m = Prophet(daily_seasonality=True,weekly_seasonality=True,yearly_seasonality=True).fit(df) \n",
        "future = m.make_future_dataframe(periods=1, freq='H')\n",
        "#making sure to drop weekends before running into m.predict\n",
        "future = future[future['ds'].dt.dayofweek < 5]\n",
        "fcst_l = m.predict(future)\n",
        "fcst_l[['ds','yhat']].tail(1)"
      ],
      "execution_count": 3,
      "outputs": [
        {
          "output_type": "execute_result",
          "data": {
            "text/html": [
              "<div>\n",
              "<style scoped>\n",
              "    .dataframe tbody tr th:only-of-type {\n",
              "        vertical-align: middle;\n",
              "    }\n",
              "\n",
              "    .dataframe tbody tr th {\n",
              "        vertical-align: top;\n",
              "    }\n",
              "\n",
              "    .dataframe thead th {\n",
              "        text-align: right;\n",
              "    }\n",
              "</style>\n",
              "<table border=\"1\" class=\"dataframe\">\n",
              "  <thead>\n",
              "    <tr style=\"text-align: right;\">\n",
              "      <th></th>\n",
              "      <th>ds</th>\n",
              "      <th>yhat</th>\n",
              "    </tr>\n",
              "  </thead>\n",
              "  <tbody>\n",
              "    <tr>\n",
              "      <th>5756</th>\n",
              "      <td>2020-09-21 02:00:00</td>\n",
              "      <td>1.186874</td>\n",
              "    </tr>\n",
              "    <tr>\n",
              "      <th>5757</th>\n",
              "      <td>2020-09-21 03:00:00</td>\n",
              "      <td>1.187028</td>\n",
              "    </tr>\n",
              "    <tr>\n",
              "      <th>5758</th>\n",
              "      <td>2020-09-21 04:00:00</td>\n",
              "      <td>1.187249</td>\n",
              "    </tr>\n",
              "    <tr>\n",
              "      <th>5759</th>\n",
              "      <td>2020-09-21 05:00:00</td>\n",
              "      <td>1.187550</td>\n",
              "    </tr>\n",
              "    <tr>\n",
              "      <th>5760</th>\n",
              "      <td>2020-09-21 06:00:00</td>\n",
              "      <td>1.187837</td>\n",
              "    </tr>\n",
              "  </tbody>\n",
              "</table>\n",
              "</div>"
            ],
            "text/plain": [
              "                      ds      yhat\n",
              "5756 2020-09-21 02:00:00  1.186874\n",
              "5757 2020-09-21 03:00:00  1.187028\n",
              "5758 2020-09-21 04:00:00  1.187249\n",
              "5759 2020-09-21 05:00:00  1.187550\n",
              "5760 2020-09-21 06:00:00  1.187837"
            ]
          },
          "metadata": {
            "tags": []
          },
          "execution_count": 3
        }
      ]
    },
    {
      "cell_type": "code",
      "metadata": {
        "id": "JxoPIwJJirnC",
        "colab_type": "code",
        "colab": {
          "base_uri": "https://localhost:8080/",
          "height": 890
        },
        "outputId": "5b9c894e-26ff-491c-fe6c-5cd19472454f"
      },
      "source": [
        "#next time combine on a single chart\n",
        "pd.plotting.register_matplotlib_converters()\n",
        "%matplotlib inline\n",
        "fig = m.plot(fcst_h)\n",
        "plt.xlim('2020-09-21 01:00:00','2020-09-21 7:00:00')\n",
        "plt.ylim(1.18,1.19)\n",
        "\n",
        "fig = m.plot(fcst_l)\n",
        "plt.xlim('2020-09-21 01:00:00','2020-09-21 7:00:00')\n",
        "plt.ylim(1.18,1.19)"
      ],
      "execution_count": 5,
      "outputs": [
        {
          "output_type": "execute_result",
          "data": {
            "text/plain": [
              "(1.18, 1.19)"
            ]
          },
          "metadata": {
            "tags": []
          },
          "execution_count": 5
        },
        {
          "output_type": "display_data",
          "data": {
            "image/png": "[encoded data removed]",
            "text/plain": [
              "<Figure size 720x432 with 1 Axes>"
            ]
          },
          "metadata": {
            "tags": []
          }
        },
        {
          "output_type": "display_data",
          "data": {
            "image/png": "[encoded data removed]",
            "text/plain": [
              "<Figure size 720x432 with 1 Axes>"
            ]
          },
          "metadata": {
            "tags": []
          }
        }
      ]
    },
    {
      "cell_type": "code",
      "metadata": {
        "id": "ewi0fkYQj8O9",
        "colab_type": "code",
        "colab": {}
      },
      "source": [
        ""
      ],
      "execution_count": 4,
      "outputs": []
    }
  ]
}