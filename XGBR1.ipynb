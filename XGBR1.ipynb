{
  "nbformat": 4,
  "nbformat_minor": 0,
  "metadata": {
    "colab": {
      "name": "XGBR1.ipynb",
      "provenance": [],
      "collapsed_sections": [],
      "authorship_tag": "ABX9TyO3cVXp4NHrusTED6i0+VIC",
      "include_colab_link": true
    },
    "kernelspec": {
      "name": "python3",
      "display_name": "Python 3"
    },
    "language_info": {
      "name": "python"
    }
  },
  "cells": [
    {
      "cell_type": "markdown",
      "metadata": {
        "id": "view-in-github",
        "colab_type": "text"
      },
      "source": [
        "<a href=\"https://colab.research.google.com/github/gomlfx/ApiaryFund/blob/master/XGBR1.ipynb\" target=\"_parent\"><img src=\"https://colab.research.google.com/assets/colab-badge.svg\" alt=\"Open In Colab\"/></a>"
      ]
    },
    {
      "cell_type": "code",
      "metadata": {
        "id": "L33tTbkVyHeD"
      },
      "source": [
        "#designed for Jupyter/kaggle/colab\n",
        "import pandas as pd\n",
        "import numpy as np\n",
        "#import matplotlib for plotting \n",
        "import matplotlib.pyplot as plt\n",
        "%matplotlib inline\n",
        "#import normalization\n",
        "from sklearn import preprocessing\n",
        "import xgboost as xg\n",
        "from sklearn.ensemble import RandomForestRegressor as rf"
      ],
      "execution_count": 1,
      "outputs": []
    },
    {
      "cell_type": "code",
      "metadata": {
        "id": "Cv2oYmBSAHBp",
        "colab": {
          "base_uri": "https://localhost:8080/"
        },
        "outputId": "ad76be62-f178-46e0-d835-2d3e3fa67aff"
      },
      "source": [
        " #MT4 csv \n",
        "df1=pd.read_csv('EURUSD1440.csv', names=['d','t','eu_o','eu_h','eu_l','eu_c','eu_v'])\n",
        "df1 = df1.tail(2000)\n",
        "df2=pd.read_csv('GBPUSD1440.csv', names=['d','t','gu_o','gu_h','gu_l','gu_c','gu_v'])\n",
        "df2 = df2.tail(2000)\n",
        "\n",
        "df3=pd.read_csv('USDCAD1440.csv', names=['d','t','uc_o','uc_h','uc_l','uc_c','uc_v'])\n",
        "df3 = df3.tail(2000)\n",
        "\n",
        "df4=pd.read_csv('USDCHF1440.csv', names=['d','t','uf_o','uf_h','uf_l','uf_c','uf_v'])\n",
        "df4 = df4.tail(2000)\n",
        "\n",
        "df5=pd.read_csv('USDJPY1440.csv', names=['d','t','uj_o','uj_h','uj_l','uj_c','uj_v'])\n",
        "df5 = df5.tail(2000)\n",
        "\n",
        "df6=pd.read_csv('USDSEK1440.csv', names=['d','t','us_o','us_h','us_l','us_c','us_v'])\n",
        "df6 = df6.tail(2000)\n",
        "\n",
        "#using merge\n",
        "df_m_1 = df1.merge(df2, on='d')\n",
        "df_m_2 = df_m_1.merge(df3, on='d')\n",
        "df_m_3 = df_m_2.merge(df4, on='d')\n",
        "df_m_4 = df_m_3.merge(df5, on='d')\n",
        "df_m_5 = df_m_4.merge(df6, on='d')\n",
        "df_m_5 = df_m_5.drop(columns='t_x')\n",
        "df_m_5 = df_m_5.drop(columns='t_y')\n",
        "\n",
        "pd.set_option('display.max_columns', None)\n",
        "print(df_m_5) "
      ],
      "execution_count": 2,
      "outputs": [
        {
          "output_type": "stream",
          "name": "stdout",
          "text": [
            "               d     eu_o     eu_h     eu_l     eu_c    eu_v     gu_o  \\\n",
            "0     2014.03.14  1.38676  1.39374  1.38473  1.39134   77320  1.66229   \n",
            "1     2014.03.17  1.39062  1.39474  1.38788  1.39252   54560  1.66419   \n",
            "2     2014.03.18  1.39251  1.39427  1.38797  1.39304   65439  1.66356   \n",
            "3     2014.03.19  1.39304  1.39329  1.38095  1.38223   71553  1.65916   \n",
            "4     2014.03.20  1.38226  1.38448  1.37490  1.37782   73086  1.65376   \n",
            "...          ...      ...      ...      ...      ...     ...      ...   \n",
            "1993  2021.11.23  1.12339  1.12748  1.12258  1.12483  104536  1.33930   \n",
            "1994  2021.11.24  1.12467  1.12551  1.11859  1.12000  112792  1.33744   \n",
            "1995  2021.11.25  1.11959  1.12295  1.11959  1.12062   44916  1.33243   \n",
            "1996  2021.11.26  1.12058  1.13295  1.12051  1.13177  138554  1.33158   \n",
            "1997  2021.11.29  1.13063  1.13117  1.13052  1.13097     207  1.33386   \n",
            "\n",
            "         gu_h     gu_l     gu_c   gu_v     uc_o     uc_h     uc_l     uc_c  \\\n",
            "0     1.66499  1.65869  1.66439  65960  1.10743  1.11105  1.10644  1.10996   \n",
            "1     1.66659  1.66047  1.66356  46095  1.10936  1.11075  1.10448  1.10502   \n",
            "2     1.66476  1.65452  1.65916  61262  1.10512  1.11462  1.10250  1.11342   \n",
            "3     1.66542  1.65078  1.65376  69795  1.11344  1.12709  1.11219  1.12374   \n",
            "4     1.65681  1.64799  1.65016  60737  1.12374  1.12783  1.12340  1.12429   \n",
            "...       ...      ...      ...    ...      ...      ...      ...      ...   \n",
            "1993  1.34086  1.33418  1.33780  35730  1.26948  1.27444  1.26599  1.26693   \n",
            "1994  1.33892  1.33151  1.33280  33435  1.26663  1.27097  1.26509  1.26648   \n",
            "1995  1.33530  1.33047  1.33164  25719  1.26555  1.26766  1.26402  1.26456   \n",
            "1996  1.33596  1.32772  1.33235  42921  1.26449  1.27994  1.26449  1.27860   \n",
            "1997  1.33386  1.33263  1.33288    100  1.27580  1.27616  1.27517  1.27557   \n",
            "\n",
            "       uc_v     uf_o     uf_h     uf_l     uf_c   uf_v     uj_o     uj_h  \\\n",
            "0     35961  0.87459  0.87616  0.87036  0.87213  50919  101.829  101.879   \n",
            "1     28709  0.87206  0.87561  0.87130  0.87312  38803  101.269  101.870   \n",
            "2     38986  0.87308  0.87692  0.87237  0.87303  42641  101.769  101.941   \n",
            "3     47630  0.87297  0.88295  0.87281  0.88038  51307  101.420  102.682   \n",
            "4     34085  0.88041  0.88695  0.88002  0.88371  51956  102.316  102.547   \n",
            "...     ...      ...      ...      ...      ...    ...      ...      ...   \n",
            "1993  34331  0.93086  0.93439  0.93011  0.93313  30715  114.870  115.192   \n",
            "1994  34606  0.93283  0.93733  0.93209  0.93392  29908  115.111  115.521   \n",
            "1995  19538  0.93382  0.93613  0.93239  0.93564  21596  115.402  115.455   \n",
            "1996  41366  0.93575  0.93589  0.92107  0.92347  44008  115.296  115.365   \n",
            "1997    315  0.92255  0.92295  0.92145  0.92238     47  113.538  113.578   \n",
            "\n",
            "         uj_l     uj_c    uj_v     us_o     us_h     us_l     us_c   us_v  \n",
            "0     101.207  101.352  105593  6.37722  6.40011  6.35986  6.38116  63699  \n",
            "1     101.240  101.766   75485  6.38068  6.40511  6.34375  6.34901  46660  \n",
            "2     101.280  101.440   79933  6.34901  6.37584  6.32310  6.32490  55201  \n",
            "3     101.298  102.312   79007  6.32490  6.41133  6.32422  6.40371  58837  \n",
            "4     102.211  102.382   82628  6.40361  6.43941  6.39274  6.41095  56399  \n",
            "...       ...      ...     ...      ...      ...      ...      ...    ...  \n",
            "1993  114.480  115.129   49655  8.98692  9.05286  8.97004  9.04097  40131  \n",
            "1994  114.822  115.401   47423  9.03311  9.14057  9.02853  9.12259  36605  \n",
            "1995  115.239  115.341   23627  9.11333  9.12367  9.05598  9.07990  26093  \n",
            "1996  113.052  113.285   87016  9.08432  9.18200  9.06362  9.14441  40881  \n",
            "1997  113.354  113.380     679  9.11969  9.13061  9.11042  9.12102    108  \n",
            "\n",
            "[1998 rows x 31 columns]\n"
          ]
        }
      ]
    },
    {
      "cell_type": "code",
      "metadata": {
        "colab": {
          "base_uri": "https://localhost:8080/",
          "height": 226
        },
        "id": "wv_Xq-NlXzui",
        "outputId": "50b8ff24-3147-4cba-e566-60a2eac651e0"
      },
      "source": [
        "df_m_5.tail()"
      ],
      "execution_count": 3,
      "outputs": [
        {
          "output_type": "execute_result",
          "data": {
            "text/html": [
              "<div>\n",
              "<style scoped>\n",
              "    .dataframe tbody tr th:only-of-type {\n",
              "        vertical-align: middle;\n",
              "    }\n",
              "\n",
              "    .dataframe tbody tr th {\n",
              "        vertical-align: top;\n",
              "    }\n",
              "\n",
              "    .dataframe thead th {\n",
              "        text-align: right;\n",
              "    }\n",
              "</style>\n",
              "<table border=\"1\" class=\"dataframe\">\n",
              "  <thead>\n",
              "    <tr style=\"text-align: right;\">\n",
              "      <th></th>\n",
              "      <th>d</th>\n",
              "      <th>eu_o</th>\n",
              "      <th>eu_h</th>\n",
              "      <th>eu_l</th>\n",
              "      <th>eu_c</th>\n",
              "      <th>eu_v</th>\n",
              "      <th>gu_o</th>\n",
              "      <th>gu_h</th>\n",
              "      <th>gu_l</th>\n",
              "      <th>gu_c</th>\n",
              "      <th>gu_v</th>\n",
              "      <th>uc_o</th>\n",
              "      <th>uc_h</th>\n",
              "      <th>uc_l</th>\n",
              "      <th>uc_c</th>\n",
              "      <th>uc_v</th>\n",
              "      <th>uf_o</th>\n",
              "      <th>uf_h</th>\n",
              "      <th>uf_l</th>\n",
              "      <th>uf_c</th>\n",
              "      <th>uf_v</th>\n",
              "      <th>uj_o</th>\n",
              "      <th>uj_h</th>\n",
              "      <th>uj_l</th>\n",
              "      <th>uj_c</th>\n",
              "      <th>uj_v</th>\n",
              "      <th>us_o</th>\n",
              "      <th>us_h</th>\n",
              "      <th>us_l</th>\n",
              "      <th>us_c</th>\n",
              "      <th>us_v</th>\n",
              "    </tr>\n",
              "  </thead>\n",
              "  <tbody>\n",
              "    <tr>\n",
              "      <th>1993</th>\n",
              "      <td>2021.11.23</td>\n",
              "      <td>1.12339</td>\n",
              "      <td>1.12748</td>\n",
              "      <td>1.12258</td>\n",
              "      <td>1.12483</td>\n",
              "      <td>104536</td>\n",
              "      <td>1.33930</td>\n",
              "      <td>1.34086</td>\n",
              "      <td>1.33418</td>\n",
              "      <td>1.33780</td>\n",
              "      <td>35730</td>\n",
              "      <td>1.26948</td>\n",
              "      <td>1.27444</td>\n",
              "      <td>1.26599</td>\n",
              "      <td>1.26693</td>\n",
              "      <td>34331</td>\n",
              "      <td>0.93086</td>\n",
              "      <td>0.93439</td>\n",
              "      <td>0.93011</td>\n",
              "      <td>0.93313</td>\n",
              "      <td>30715</td>\n",
              "      <td>114.870</td>\n",
              "      <td>115.192</td>\n",
              "      <td>114.480</td>\n",
              "      <td>115.129</td>\n",
              "      <td>49655</td>\n",
              "      <td>8.98692</td>\n",
              "      <td>9.05286</td>\n",
              "      <td>8.97004</td>\n",
              "      <td>9.04097</td>\n",
              "      <td>40131</td>\n",
              "    </tr>\n",
              "    <tr>\n",
              "      <th>1994</th>\n",
              "      <td>2021.11.24</td>\n",
              "      <td>1.12467</td>\n",
              "      <td>1.12551</td>\n",
              "      <td>1.11859</td>\n",
              "      <td>1.12000</td>\n",
              "      <td>112792</td>\n",
              "      <td>1.33744</td>\n",
              "      <td>1.33892</td>\n",
              "      <td>1.33151</td>\n",
              "      <td>1.33280</td>\n",
              "      <td>33435</td>\n",
              "      <td>1.26663</td>\n",
              "      <td>1.27097</td>\n",
              "      <td>1.26509</td>\n",
              "      <td>1.26648</td>\n",
              "      <td>34606</td>\n",
              "      <td>0.93283</td>\n",
              "      <td>0.93733</td>\n",
              "      <td>0.93209</td>\n",
              "      <td>0.93392</td>\n",
              "      <td>29908</td>\n",
              "      <td>115.111</td>\n",
              "      <td>115.521</td>\n",
              "      <td>114.822</td>\n",
              "      <td>115.401</td>\n",
              "      <td>47423</td>\n",
              "      <td>9.03311</td>\n",
              "      <td>9.14057</td>\n",
              "      <td>9.02853</td>\n",
              "      <td>9.12259</td>\n",
              "      <td>36605</td>\n",
              "    </tr>\n",
              "    <tr>\n",
              "      <th>1995</th>\n",
              "      <td>2021.11.25</td>\n",
              "      <td>1.11959</td>\n",
              "      <td>1.12295</td>\n",
              "      <td>1.11959</td>\n",
              "      <td>1.12062</td>\n",
              "      <td>44916</td>\n",
              "      <td>1.33243</td>\n",
              "      <td>1.33530</td>\n",
              "      <td>1.33047</td>\n",
              "      <td>1.33164</td>\n",
              "      <td>25719</td>\n",
              "      <td>1.26555</td>\n",
              "      <td>1.26766</td>\n",
              "      <td>1.26402</td>\n",
              "      <td>1.26456</td>\n",
              "      <td>19538</td>\n",
              "      <td>0.93382</td>\n",
              "      <td>0.93613</td>\n",
              "      <td>0.93239</td>\n",
              "      <td>0.93564</td>\n",
              "      <td>21596</td>\n",
              "      <td>115.402</td>\n",
              "      <td>115.455</td>\n",
              "      <td>115.239</td>\n",
              "      <td>115.341</td>\n",
              "      <td>23627</td>\n",
              "      <td>9.11333</td>\n",
              "      <td>9.12367</td>\n",
              "      <td>9.05598</td>\n",
              "      <td>9.07990</td>\n",
              "      <td>26093</td>\n",
              "    </tr>\n",
              "    <tr>\n",
              "      <th>1996</th>\n",
              "      <td>2021.11.26</td>\n",
              "      <td>1.12058</td>\n",
              "      <td>1.13295</td>\n",
              "      <td>1.12051</td>\n",
              "      <td>1.13177</td>\n",
              "      <td>138554</td>\n",
              "      <td>1.33158</td>\n",
              "      <td>1.33596</td>\n",
              "      <td>1.32772</td>\n",
              "      <td>1.33235</td>\n",
              "      <td>42921</td>\n",
              "      <td>1.26449</td>\n",
              "      <td>1.27994</td>\n",
              "      <td>1.26449</td>\n",
              "      <td>1.27860</td>\n",
              "      <td>41366</td>\n",
              "      <td>0.93575</td>\n",
              "      <td>0.93589</td>\n",
              "      <td>0.92107</td>\n",
              "      <td>0.92347</td>\n",
              "      <td>44008</td>\n",
              "      <td>115.296</td>\n",
              "      <td>115.365</td>\n",
              "      <td>113.052</td>\n",
              "      <td>113.285</td>\n",
              "      <td>87016</td>\n",
              "      <td>9.08432</td>\n",
              "      <td>9.18200</td>\n",
              "      <td>9.06362</td>\n",
              "      <td>9.14441</td>\n",
              "      <td>40881</td>\n",
              "    </tr>\n",
              "    <tr>\n",
              "      <th>1997</th>\n",
              "      <td>2021.11.29</td>\n",
              "      <td>1.13063</td>\n",
              "      <td>1.13117</td>\n",
              "      <td>1.13052</td>\n",
              "      <td>1.13097</td>\n",
              "      <td>207</td>\n",
              "      <td>1.33386</td>\n",
              "      <td>1.33386</td>\n",
              "      <td>1.33263</td>\n",
              "      <td>1.33288</td>\n",
              "      <td>100</td>\n",
              "      <td>1.27580</td>\n",
              "      <td>1.27616</td>\n",
              "      <td>1.27517</td>\n",
              "      <td>1.27557</td>\n",
              "      <td>315</td>\n",
              "      <td>0.92255</td>\n",
              "      <td>0.92295</td>\n",
              "      <td>0.92145</td>\n",
              "      <td>0.92238</td>\n",
              "      <td>47</td>\n",
              "      <td>113.538</td>\n",
              "      <td>113.578</td>\n",
              "      <td>113.354</td>\n",
              "      <td>113.380</td>\n",
              "      <td>679</td>\n",
              "      <td>9.11969</td>\n",
              "      <td>9.13061</td>\n",
              "      <td>9.11042</td>\n",
              "      <td>9.12102</td>\n",
              "      <td>108</td>\n",
              "    </tr>\n",
              "  </tbody>\n",
              "</table>\n",
              "</div>"
            ],
            "text/plain": [
              "               d     eu_o     eu_h     eu_l     eu_c    eu_v     gu_o  \\\n",
              "1993  2021.11.23  1.12339  1.12748  1.12258  1.12483  104536  1.33930   \n",
              "1994  2021.11.24  1.12467  1.12551  1.11859  1.12000  112792  1.33744   \n",
              "1995  2021.11.25  1.11959  1.12295  1.11959  1.12062   44916  1.33243   \n",
              "1996  2021.11.26  1.12058  1.13295  1.12051  1.13177  138554  1.33158   \n",
              "1997  2021.11.29  1.13063  1.13117  1.13052  1.13097     207  1.33386   \n",
              "\n",
              "         gu_h     gu_l     gu_c   gu_v     uc_o     uc_h     uc_l     uc_c  \\\n",
              "1993  1.34086  1.33418  1.33780  35730  1.26948  1.27444  1.26599  1.26693   \n",
              "1994  1.33892  1.33151  1.33280  33435  1.26663  1.27097  1.26509  1.26648   \n",
              "1995  1.33530  1.33047  1.33164  25719  1.26555  1.26766  1.26402  1.26456   \n",
              "1996  1.33596  1.32772  1.33235  42921  1.26449  1.27994  1.26449  1.27860   \n",
              "1997  1.33386  1.33263  1.33288    100  1.27580  1.27616  1.27517  1.27557   \n",
              "\n",
              "       uc_v     uf_o     uf_h     uf_l     uf_c   uf_v     uj_o     uj_h  \\\n",
              "1993  34331  0.93086  0.93439  0.93011  0.93313  30715  114.870  115.192   \n",
              "1994  34606  0.93283  0.93733  0.93209  0.93392  29908  115.111  115.521   \n",
              "1995  19538  0.93382  0.93613  0.93239  0.93564  21596  115.402  115.455   \n",
              "1996  41366  0.93575  0.93589  0.92107  0.92347  44008  115.296  115.365   \n",
              "1997    315  0.92255  0.92295  0.92145  0.92238     47  113.538  113.578   \n",
              "\n",
              "         uj_l     uj_c   uj_v     us_o     us_h     us_l     us_c   us_v  \n",
              "1993  114.480  115.129  49655  8.98692  9.05286  8.97004  9.04097  40131  \n",
              "1994  114.822  115.401  47423  9.03311  9.14057  9.02853  9.12259  36605  \n",
              "1995  115.239  115.341  23627  9.11333  9.12367  9.05598  9.07990  26093  \n",
              "1996  113.052  113.285  87016  9.08432  9.18200  9.06362  9.14441  40881  \n",
              "1997  113.354  113.380    679  9.11969  9.13061  9.11042  9.12102    108  "
            ]
          },
          "metadata": {},
          "execution_count": 3
        }
      ]
    },
    {
      "cell_type": "code",
      "metadata": {
        "id": "IXIM5S0O1UHY"
      },
      "source": [
        "df_m_5.insert(1,'index',df_m_5.index)"
      ],
      "execution_count": 4,
      "outputs": []
    },
    {
      "cell_type": "code",
      "metadata": {
        "id": "MT4vPMgBZrg8"
      },
      "source": [
        "#new column: high vs low\n",
        "df_m_5['eu_h_or_l'] = ((df_m_5.eu_h - df_m_5.eu_o) > (df_m_5.eu_o - df_m_5.eu_l)) \n",
        "df_m_5.eu_h_or_l = df_m_5.eu_h_or_l.replace({True:1,False:0})\n",
        "\n",
        "#new column: close vs yesterday\n",
        "df_m_5['eu_c_vs_c'] = (df_m_5.eu_c > df_m_5.eu_o) \n",
        "df_m_5.eu_c_vs_c = df_m_5.eu_c_vs_c.replace({True:1,False:0})\n",
        "\n",
        "#new column: shift tomorrow to today\n",
        "df_m_5['eu_High_next_day'] = df_m_5['eu_h'].shift(-1)\n",
        "df_m_5['eu_Low_next_day'] = df_m_5['eu_l'].shift(-1)\n",
        "df_m_5['eu_Close_next_day'] = df_m_5['eu_c'].shift(-1)\n",
        "df_m_5 = df_m_5.dropna()\n"
      ],
      "execution_count": 5,
      "outputs": []
    },
    {
      "cell_type": "code",
      "metadata": {
        "colab": {
          "base_uri": "https://localhost:8080/",
          "height": 226
        },
        "id": "sbaNPw8ctli1",
        "outputId": "6ddda583-5b31-4d4c-f907-4bf00eebdf0e"
      },
      "source": [
        "df_m_5.tail()"
      ],
      "execution_count": 6,
      "outputs": [
        {
          "output_type": "execute_result",
          "data": {
            "text/html": [
              "<div>\n",
              "<style scoped>\n",
              "    .dataframe tbody tr th:only-of-type {\n",
              "        vertical-align: middle;\n",
              "    }\n",
              "\n",
              "    .dataframe tbody tr th {\n",
              "        vertical-align: top;\n",
              "    }\n",
              "\n",
              "    .dataframe thead th {\n",
              "        text-align: right;\n",
              "    }\n",
              "</style>\n",
              "<table border=\"1\" class=\"dataframe\">\n",
              "  <thead>\n",
              "    <tr style=\"text-align: right;\">\n",
              "      <th></th>\n",
              "      <th>d</th>\n",
              "      <th>index</th>\n",
              "      <th>eu_o</th>\n",
              "      <th>eu_h</th>\n",
              "      <th>eu_l</th>\n",
              "      <th>eu_c</th>\n",
              "      <th>eu_v</th>\n",
              "      <th>gu_o</th>\n",
              "      <th>gu_h</th>\n",
              "      <th>gu_l</th>\n",
              "      <th>gu_c</th>\n",
              "      <th>gu_v</th>\n",
              "      <th>uc_o</th>\n",
              "      <th>uc_h</th>\n",
              "      <th>uc_l</th>\n",
              "      <th>uc_c</th>\n",
              "      <th>uc_v</th>\n",
              "      <th>uf_o</th>\n",
              "      <th>uf_h</th>\n",
              "      <th>uf_l</th>\n",
              "      <th>uf_c</th>\n",
              "      <th>uf_v</th>\n",
              "      <th>uj_o</th>\n",
              "      <th>uj_h</th>\n",
              "      <th>uj_l</th>\n",
              "      <th>uj_c</th>\n",
              "      <th>uj_v</th>\n",
              "      <th>us_o</th>\n",
              "      <th>us_h</th>\n",
              "      <th>us_l</th>\n",
              "      <th>us_c</th>\n",
              "      <th>us_v</th>\n",
              "      <th>eu_h_or_l</th>\n",
              "      <th>eu_c_vs_c</th>\n",
              "      <th>eu_High_next_day</th>\n",
              "      <th>eu_Low_next_day</th>\n",
              "      <th>eu_Close_next_day</th>\n",
              "    </tr>\n",
              "  </thead>\n",
              "  <tbody>\n",
              "    <tr>\n",
              "      <th>1992</th>\n",
              "      <td>2021.11.22</td>\n",
              "      <td>1992</td>\n",
              "      <td>1.12878</td>\n",
              "      <td>1.12903</td>\n",
              "      <td>1.12306</td>\n",
              "      <td>1.12333</td>\n",
              "      <td>110260</td>\n",
              "      <td>1.34503</td>\n",
              "      <td>1.34503</td>\n",
              "      <td>1.33838</td>\n",
              "      <td>1.33944</td>\n",
              "      <td>36466</td>\n",
              "      <td>1.26400</td>\n",
              "      <td>1.27048</td>\n",
              "      <td>1.26277</td>\n",
              "      <td>1.26995</td>\n",
              "      <td>28908</td>\n",
              "      <td>0.92767</td>\n",
              "      <td>0.93345</td>\n",
              "      <td>0.92667</td>\n",
              "      <td>0.93325</td>\n",
              "      <td>29297</td>\n",
              "      <td>113.937</td>\n",
              "      <td>114.959</td>\n",
              "      <td>113.923</td>\n",
              "      <td>114.871</td>\n",
              "      <td>48575</td>\n",
              "      <td>8.93010</td>\n",
              "      <td>9.01339</td>\n",
              "      <td>8.92970</td>\n",
              "      <td>8.99650</td>\n",
              "      <td>35881</td>\n",
              "      <td>0</td>\n",
              "      <td>0</td>\n",
              "      <td>1.12748</td>\n",
              "      <td>1.12258</td>\n",
              "      <td>1.12483</td>\n",
              "    </tr>\n",
              "    <tr>\n",
              "      <th>1993</th>\n",
              "      <td>2021.11.23</td>\n",
              "      <td>1993</td>\n",
              "      <td>1.12339</td>\n",
              "      <td>1.12748</td>\n",
              "      <td>1.12258</td>\n",
              "      <td>1.12483</td>\n",
              "      <td>104536</td>\n",
              "      <td>1.33930</td>\n",
              "      <td>1.34086</td>\n",
              "      <td>1.33418</td>\n",
              "      <td>1.33780</td>\n",
              "      <td>35730</td>\n",
              "      <td>1.26948</td>\n",
              "      <td>1.27444</td>\n",
              "      <td>1.26599</td>\n",
              "      <td>1.26693</td>\n",
              "      <td>34331</td>\n",
              "      <td>0.93086</td>\n",
              "      <td>0.93439</td>\n",
              "      <td>0.93011</td>\n",
              "      <td>0.93313</td>\n",
              "      <td>30715</td>\n",
              "      <td>114.870</td>\n",
              "      <td>115.192</td>\n",
              "      <td>114.480</td>\n",
              "      <td>115.129</td>\n",
              "      <td>49655</td>\n",
              "      <td>8.98692</td>\n",
              "      <td>9.05286</td>\n",
              "      <td>8.97004</td>\n",
              "      <td>9.04097</td>\n",
              "      <td>40131</td>\n",
              "      <td>1</td>\n",
              "      <td>1</td>\n",
              "      <td>1.12551</td>\n",
              "      <td>1.11859</td>\n",
              "      <td>1.12000</td>\n",
              "    </tr>\n",
              "    <tr>\n",
              "      <th>1994</th>\n",
              "      <td>2021.11.24</td>\n",
              "      <td>1994</td>\n",
              "      <td>1.12467</td>\n",
              "      <td>1.12551</td>\n",
              "      <td>1.11859</td>\n",
              "      <td>1.12000</td>\n",
              "      <td>112792</td>\n",
              "      <td>1.33744</td>\n",
              "      <td>1.33892</td>\n",
              "      <td>1.33151</td>\n",
              "      <td>1.33280</td>\n",
              "      <td>33435</td>\n",
              "      <td>1.26663</td>\n",
              "      <td>1.27097</td>\n",
              "      <td>1.26509</td>\n",
              "      <td>1.26648</td>\n",
              "      <td>34606</td>\n",
              "      <td>0.93283</td>\n",
              "      <td>0.93733</td>\n",
              "      <td>0.93209</td>\n",
              "      <td>0.93392</td>\n",
              "      <td>29908</td>\n",
              "      <td>115.111</td>\n",
              "      <td>115.521</td>\n",
              "      <td>114.822</td>\n",
              "      <td>115.401</td>\n",
              "      <td>47423</td>\n",
              "      <td>9.03311</td>\n",
              "      <td>9.14057</td>\n",
              "      <td>9.02853</td>\n",
              "      <td>9.12259</td>\n",
              "      <td>36605</td>\n",
              "      <td>0</td>\n",
              "      <td>0</td>\n",
              "      <td>1.12295</td>\n",
              "      <td>1.11959</td>\n",
              "      <td>1.12062</td>\n",
              "    </tr>\n",
              "    <tr>\n",
              "      <th>1995</th>\n",
              "      <td>2021.11.25</td>\n",
              "      <td>1995</td>\n",
              "      <td>1.11959</td>\n",
              "      <td>1.12295</td>\n",
              "      <td>1.11959</td>\n",
              "      <td>1.12062</td>\n",
              "      <td>44916</td>\n",
              "      <td>1.33243</td>\n",
              "      <td>1.33530</td>\n",
              "      <td>1.33047</td>\n",
              "      <td>1.33164</td>\n",
              "      <td>25719</td>\n",
              "      <td>1.26555</td>\n",
              "      <td>1.26766</td>\n",
              "      <td>1.26402</td>\n",
              "      <td>1.26456</td>\n",
              "      <td>19538</td>\n",
              "      <td>0.93382</td>\n",
              "      <td>0.93613</td>\n",
              "      <td>0.93239</td>\n",
              "      <td>0.93564</td>\n",
              "      <td>21596</td>\n",
              "      <td>115.402</td>\n",
              "      <td>115.455</td>\n",
              "      <td>115.239</td>\n",
              "      <td>115.341</td>\n",
              "      <td>23627</td>\n",
              "      <td>9.11333</td>\n",
              "      <td>9.12367</td>\n",
              "      <td>9.05598</td>\n",
              "      <td>9.07990</td>\n",
              "      <td>26093</td>\n",
              "      <td>1</td>\n",
              "      <td>1</td>\n",
              "      <td>1.13295</td>\n",
              "      <td>1.12051</td>\n",
              "      <td>1.13177</td>\n",
              "    </tr>\n",
              "    <tr>\n",
              "      <th>1996</th>\n",
              "      <td>2021.11.26</td>\n",
              "      <td>1996</td>\n",
              "      <td>1.12058</td>\n",
              "      <td>1.13295</td>\n",
              "      <td>1.12051</td>\n",
              "      <td>1.13177</td>\n",
              "      <td>138554</td>\n",
              "      <td>1.33158</td>\n",
              "      <td>1.33596</td>\n",
              "      <td>1.32772</td>\n",
              "      <td>1.33235</td>\n",
              "      <td>42921</td>\n",
              "      <td>1.26449</td>\n",
              "      <td>1.27994</td>\n",
              "      <td>1.26449</td>\n",
              "      <td>1.27860</td>\n",
              "      <td>41366</td>\n",
              "      <td>0.93575</td>\n",
              "      <td>0.93589</td>\n",
              "      <td>0.92107</td>\n",
              "      <td>0.92347</td>\n",
              "      <td>44008</td>\n",
              "      <td>115.296</td>\n",
              "      <td>115.365</td>\n",
              "      <td>113.052</td>\n",
              "      <td>113.285</td>\n",
              "      <td>87016</td>\n",
              "      <td>9.08432</td>\n",
              "      <td>9.18200</td>\n",
              "      <td>9.06362</td>\n",
              "      <td>9.14441</td>\n",
              "      <td>40881</td>\n",
              "      <td>1</td>\n",
              "      <td>1</td>\n",
              "      <td>1.13117</td>\n",
              "      <td>1.13052</td>\n",
              "      <td>1.13097</td>\n",
              "    </tr>\n",
              "  </tbody>\n",
              "</table>\n",
              "</div>"
            ],
            "text/plain": [
              "               d  index     eu_o     eu_h     eu_l     eu_c    eu_v     gu_o  \\\n",
              "1992  2021.11.22   1992  1.12878  1.12903  1.12306  1.12333  110260  1.34503   \n",
              "1993  2021.11.23   1993  1.12339  1.12748  1.12258  1.12483  104536  1.33930   \n",
              "1994  2021.11.24   1994  1.12467  1.12551  1.11859  1.12000  112792  1.33744   \n",
              "1995  2021.11.25   1995  1.11959  1.12295  1.11959  1.12062   44916  1.33243   \n",
              "1996  2021.11.26   1996  1.12058  1.13295  1.12051  1.13177  138554  1.33158   \n",
              "\n",
              "         gu_h     gu_l     gu_c   gu_v     uc_o     uc_h     uc_l     uc_c  \\\n",
              "1992  1.34503  1.33838  1.33944  36466  1.26400  1.27048  1.26277  1.26995   \n",
              "1993  1.34086  1.33418  1.33780  35730  1.26948  1.27444  1.26599  1.26693   \n",
              "1994  1.33892  1.33151  1.33280  33435  1.26663  1.27097  1.26509  1.26648   \n",
              "1995  1.33530  1.33047  1.33164  25719  1.26555  1.26766  1.26402  1.26456   \n",
              "1996  1.33596  1.32772  1.33235  42921  1.26449  1.27994  1.26449  1.27860   \n",
              "\n",
              "       uc_v     uf_o     uf_h     uf_l     uf_c   uf_v     uj_o     uj_h  \\\n",
              "1992  28908  0.92767  0.93345  0.92667  0.93325  29297  113.937  114.959   \n",
              "1993  34331  0.93086  0.93439  0.93011  0.93313  30715  114.870  115.192   \n",
              "1994  34606  0.93283  0.93733  0.93209  0.93392  29908  115.111  115.521   \n",
              "1995  19538  0.93382  0.93613  0.93239  0.93564  21596  115.402  115.455   \n",
              "1996  41366  0.93575  0.93589  0.92107  0.92347  44008  115.296  115.365   \n",
              "\n",
              "         uj_l     uj_c   uj_v     us_o     us_h     us_l     us_c   us_v  \\\n",
              "1992  113.923  114.871  48575  8.93010  9.01339  8.92970  8.99650  35881   \n",
              "1993  114.480  115.129  49655  8.98692  9.05286  8.97004  9.04097  40131   \n",
              "1994  114.822  115.401  47423  9.03311  9.14057  9.02853  9.12259  36605   \n",
              "1995  115.239  115.341  23627  9.11333  9.12367  9.05598  9.07990  26093   \n",
              "1996  113.052  113.285  87016  9.08432  9.18200  9.06362  9.14441  40881   \n",
              "\n",
              "      eu_h_or_l  eu_c_vs_c  eu_High_next_day  eu_Low_next_day  \\\n",
              "1992          0          0           1.12748          1.12258   \n",
              "1993          1          1           1.12551          1.11859   \n",
              "1994          0          0           1.12295          1.11959   \n",
              "1995          1          1           1.13295          1.12051   \n",
              "1996          1          1           1.13117          1.13052   \n",
              "\n",
              "      eu_Close_next_day  \n",
              "1992            1.12483  \n",
              "1993            1.12000  \n",
              "1994            1.12062  \n",
              "1995            1.13177  \n",
              "1996            1.13097  "
            ]
          },
          "metadata": {},
          "execution_count": 6
        }
      ]
    },
    {
      "cell_type": "code",
      "metadata": {
        "colab": {
          "base_uri": "https://localhost:8080/"
        },
        "id": "jMLvjXAmBoSE",
        "outputId": "09ec9038-9965-4d69-c5d1-1eda4596a857"
      },
      "source": [
        "\n",
        "df_m_5.isna().sum()"
      ],
      "execution_count": 7,
      "outputs": [
        {
          "output_type": "execute_result",
          "data": {
            "text/plain": [
              "d                    0\n",
              "index                0\n",
              "eu_o                 0\n",
              "eu_h                 0\n",
              "eu_l                 0\n",
              "eu_c                 0\n",
              "eu_v                 0\n",
              "gu_o                 0\n",
              "gu_h                 0\n",
              "gu_l                 0\n",
              "gu_c                 0\n",
              "gu_v                 0\n",
              "uc_o                 0\n",
              "uc_h                 0\n",
              "uc_l                 0\n",
              "uc_c                 0\n",
              "uc_v                 0\n",
              "uf_o                 0\n",
              "uf_h                 0\n",
              "uf_l                 0\n",
              "uf_c                 0\n",
              "uf_v                 0\n",
              "uj_o                 0\n",
              "uj_h                 0\n",
              "uj_l                 0\n",
              "uj_c                 0\n",
              "uj_v                 0\n",
              "us_o                 0\n",
              "us_h                 0\n",
              "us_l                 0\n",
              "us_c                 0\n",
              "us_v                 0\n",
              "eu_h_or_l            0\n",
              "eu_c_vs_c            0\n",
              "eu_High_next_day     0\n",
              "eu_Low_next_day      0\n",
              "eu_Close_next_day    0\n",
              "dtype: int64"
            ]
          },
          "metadata": {},
          "execution_count": 7
        }
      ]
    },
    {
      "cell_type": "code",
      "metadata": {
        "colab": {
          "base_uri": "https://localhost:8080/"
        },
        "id": "dEAMxmGyCWRB",
        "outputId": "c1164422-1d65-41df-8c1a-1f24c59a6a83"
      },
      "source": [
        "df_m_5.info()"
      ],
      "execution_count": 8,
      "outputs": [
        {
          "output_type": "stream",
          "name": "stdout",
          "text": [
            "<class 'pandas.core.frame.DataFrame'>\n",
            "Int64Index: 1997 entries, 0 to 1996\n",
            "Data columns (total 37 columns):\n",
            " #   Column             Non-Null Count  Dtype  \n",
            "---  ------             --------------  -----  \n",
            " 0   d                  1997 non-null   object \n",
            " 1   index              1997 non-null   int64  \n",
            " 2   eu_o               1997 non-null   float64\n",
            " 3   eu_h               1997 non-null   float64\n",
            " 4   eu_l               1997 non-null   float64\n",
            " 5   eu_c               1997 non-null   float64\n",
            " 6   eu_v               1997 non-null   int64  \n",
            " 7   gu_o               1997 non-null   float64\n",
            " 8   gu_h               1997 non-null   float64\n",
            " 9   gu_l               1997 non-null   float64\n",
            " 10  gu_c               1997 non-null   float64\n",
            " 11  gu_v               1997 non-null   int64  \n",
            " 12  uc_o               1997 non-null   float64\n",
            " 13  uc_h               1997 non-null   float64\n",
            " 14  uc_l               1997 non-null   float64\n",
            " 15  uc_c               1997 non-null   float64\n",
            " 16  uc_v               1997 non-null   int64  \n",
            " 17  uf_o               1997 non-null   float64\n",
            " 18  uf_h               1997 non-null   float64\n",
            " 19  uf_l               1997 non-null   float64\n",
            " 20  uf_c               1997 non-null   float64\n",
            " 21  uf_v               1997 non-null   int64  \n",
            " 22  uj_o               1997 non-null   float64\n",
            " 23  uj_h               1997 non-null   float64\n",
            " 24  uj_l               1997 non-null   float64\n",
            " 25  uj_c               1997 non-null   float64\n",
            " 26  uj_v               1997 non-null   int64  \n",
            " 27  us_o               1997 non-null   float64\n",
            " 28  us_h               1997 non-null   float64\n",
            " 29  us_l               1997 non-null   float64\n",
            " 30  us_c               1997 non-null   float64\n",
            " 31  us_v               1997 non-null   int64  \n",
            " 32  eu_h_or_l          1997 non-null   int64  \n",
            " 33  eu_c_vs_c          1997 non-null   int64  \n",
            " 34  eu_High_next_day   1997 non-null   float64\n",
            " 35  eu_Low_next_day    1997 non-null   float64\n",
            " 36  eu_Close_next_day  1997 non-null   float64\n",
            "dtypes: float64(27), int64(9), object(1)\n",
            "memory usage: 592.9+ KB\n"
          ]
        }
      ]
    },
    {
      "cell_type": "code",
      "metadata": {
        "colab": {
          "base_uri": "https://localhost:8080/"
        },
        "id": "QhfQ9UadZ1PE",
        "outputId": "950e3a0d-eab5-4950-a127-f1d03b111417"
      },
      "source": [
        "#for high prediction\n",
        "#select rows to use for x,y\n",
        "x = df_m_5.iloc[:,np.r_[1:34]].values\n",
        "print(x)\n",
        "y = df_m_5.iloc[:,[34]].values\n",
        "print(y) "
      ],
      "execution_count": 9,
      "outputs": [
        {
          "output_type": "stream",
          "name": "stdout",
          "text": [
            "[[0.00000e+00 1.38676e+00 1.39374e+00 ... 6.36990e+04 1.00000e+00\n",
            "  1.00000e+00]\n",
            " [1.00000e+00 1.39062e+00 1.39474e+00 ... 4.66600e+04 1.00000e+00\n",
            "  1.00000e+00]\n",
            " [2.00000e+00 1.39251e+00 1.39427e+00 ... 5.52010e+04 0.00000e+00\n",
            "  1.00000e+00]\n",
            " ...\n",
            " [1.99400e+03 1.12467e+00 1.12551e+00 ... 3.66050e+04 0.00000e+00\n",
            "  0.00000e+00]\n",
            " [1.99500e+03 1.11959e+00 1.12295e+00 ... 2.60930e+04 1.00000e+00\n",
            "  1.00000e+00]\n",
            " [1.99600e+03 1.12058e+00 1.13295e+00 ... 4.08810e+04 1.00000e+00\n",
            "  1.00000e+00]]\n",
            "[[1.39474]\n",
            " [1.39427]\n",
            " [1.39329]\n",
            " ...\n",
            " [1.12295]\n",
            " [1.13295]\n",
            " [1.13117]]\n"
          ]
        }
      ]
    },
    {
      "cell_type": "code",
      "metadata": {
        "id": "cqTW_s-u3g67"
      },
      "source": [
        "from sklearn.model_selection import train_test_split\n",
        "X_train, X_test, y_train, y_test = train_test_split(x, y, test_size = 0.30)"
      ],
      "execution_count": 10,
      "outputs": []
    },
    {
      "cell_type": "code",
      "metadata": {
        "colab": {
          "base_uri": "https://localhost:8080/"
        },
        "id": "3HCgL_QEZ1dr",
        "outputId": "58be3b0e-7caf-49e7-eb0c-5e735e66b701"
      },
      "source": [
        "#for high prediction and accuracy test\n",
        "# create regressor object\n",
        "regressor = xg.XGBRegressor(n_estimators=10000, objective='reg:squarederror', nthread=-1, n_jobs=-1)\n",
        "#regressor = rf(n_estimators = 1000, n_jobs=-1, criterion=\"absolute_error\", random_state=3)\n",
        "# fit the regressor with x and y data\n",
        "regressor.fit(X_train, y_train)"
      ],
      "execution_count": 11,
      "outputs": [
        {
          "output_type": "execute_result",
          "data": {
            "text/plain": [
              "XGBRegressor(n_estimators=10000, n_jobs=-1, nthread=-1,\n",
              "             objective='reg:squarederror')"
            ]
          },
          "metadata": {},
          "execution_count": 11
        }
      ]
    },
    {
      "cell_type": "code",
      "metadata": {
        "id": "xmHBSVwEPp5t"
      },
      "source": [
        "y_pred = regressor.predict(X_test)"
      ],
      "execution_count": 12,
      "outputs": []
    },
    {
      "cell_type": "code",
      "metadata": {
        "id": "Z4bGcB9U62Js"
      },
      "source": [
        "def mean_absolute_percentage_error(y_true,y_pred):\n",
        "  y_true, y_pred = np.array(y_true), np.array(y_pred)\n",
        "  return np.mean(np.abs((y_true - y_pred) / y_true)) * 100\n",
        "\n",
        "mape = mean_absolute_percentage_error(y_test,y_pred)"
      ],
      "execution_count": 13,
      "outputs": []
    },
    {
      "cell_type": "code",
      "metadata": {
        "colab": {
          "base_uri": "https://localhost:8080/"
        },
        "id": "suK5rCpV0p9g",
        "outputId": "733c279b-dfeb-46d9-f0e5-50c743aae52f"
      },
      "source": [
        "#for regression score\n",
        "from sklearn import metrics \n",
        "print('MAE:', metrics.mean_absolute_error(y_test,y_pred))\n",
        "print('MSE:', metrics.mean_squared_error(y_test, y_pred))\n",
        "print('RMSE:', np.sqrt(metrics.mean_squared_error(y_test, y_pred)))\n",
        "print('MAPE:', mape)\n",
        "print('MedAE', metrics.median_absolute_error(y_test,y_pred)) "
      ],
      "execution_count": 14,
      "outputs": [
        {
          "output_type": "stream",
          "name": "stdout",
          "text": [
            "MAE: 0.0031118045354207344\n",
            "MSE: 1.8170286544004365e-05\n",
            "RMSE: 0.004262661908245171\n",
            "MAPE: 6.344650968204937\n",
            "MedAE 0.0025380512237549446\n"
          ]
        }
      ]
    },
    {
      "cell_type": "code",
      "metadata": {
        "colab": {
          "base_uri": "https://localhost:8080/"
        },
        "id": "ppP40BoAwFGk",
        "outputId": "8a0382e7-1d31-49b3-8167-1bd45a41d9e2"
      },
      "source": [
        "#extract row for variable\n",
        "last_row = df_m_5.iloc[-1:,np.r_[1:34]].values\n",
        "print(last_row) "
      ],
      "execution_count": 15,
      "outputs": [
        {
          "output_type": "stream",
          "name": "stdout",
          "text": [
            "[[1.99600e+03 1.12058e+00 1.13295e+00 1.12051e+00 1.13177e+00 1.38554e+05\n",
            "  1.33158e+00 1.33596e+00 1.32772e+00 1.33235e+00 4.29210e+04 1.26449e+00\n",
            "  1.27994e+00 1.26449e+00 1.27860e+00 4.13660e+04 9.35750e-01 9.35890e-01\n",
            "  9.21070e-01 9.23470e-01 4.40080e+04 1.15296e+02 1.15365e+02 1.13052e+02\n",
            "  1.13285e+02 8.70160e+04 9.08432e+00 9.18200e+00 9.06362e+00 9.14441e+00\n",
            "  4.08810e+04 1.00000e+00 1.00000e+00]]\n"
          ]
        }
      ]
    },
    {
      "cell_type": "code",
      "metadata": {
        "colab": {
          "base_uri": "https://localhost:8080/"
        },
        "id": "We73bOV2Z1uQ",
        "outputId": "b6daefa0-14e7-4a82-956c-e41e56bd2d59"
      },
      "source": [
        "#for high prediction\n",
        "y_pred_h = regressor.predict(last_row) # test the output by changing values\n",
        "print('high prediction is:', y_pred_h)"
      ],
      "execution_count": 16,
      "outputs": [
        {
          "output_type": "stream",
          "name": "stdout",
          "text": [
            "high prediction is: [1.1323243]\n"
          ]
        }
      ]
    },
    {
      "cell_type": "code",
      "metadata": {
        "id": "85rbSjDxemSP"
      },
      "source": [
        "# #for close prediction\n",
        "# # Visualising the Random Forest Regression results\n",
        "\n",
        "# # arange for creating a range of values\n",
        "# # from min value of x to max\n",
        "# # value of x with a difference of 0.01\n",
        "# # between two consecutive values\n",
        "# X_grid = np.arange(min(x), max(x), 1)\n",
        "\n",
        "# # reshape for reshaping the data into a len(X_grid)*1 array,\n",
        "# # i.e. to make a column out of the X_grid value\t\t\t\t\n",
        "# X_grid = X_grid.reshape((len(X_grid), 1))\n",
        "\n",
        "# # Scatter plot for original data\n",
        "# plt.scatter(x, y, color = 'blue')\n",
        "\n",
        "# # plot predicted data\n",
        "# plt.scatter(X_grid, regressor.predict(X_grid),\n",
        "# \t\tcolor = 'green')\n",
        "# plt.title('Random Forest Regression')\n",
        "# plt.xlabel('Position level')\n",
        "# plt.ylabel('EURUSD')\n",
        "# plt.xlim(1900,1994)\n",
        "# plt.ylim(1.13,1.17)\n",
        "# plt.show()\n"
      ],
      "execution_count": 17,
      "outputs": []
    },
    {
      "cell_type": "code",
      "metadata": {
        "colab": {
          "base_uri": "https://localhost:8080/"
        },
        "id": "kIHV30_ZH5eg",
        "outputId": "dfc5002f-4f75-4773-8155-d95ad0a6dae5"
      },
      "source": [
        "#for low prediction\n",
        "#select rows to use for x,y\n",
        "x = df_m_5.iloc[:,np.r_[1:34]].values\n",
        "print(x)\n",
        "y = df_m_5.iloc[:,[35]].values\n",
        "print(y) "
      ],
      "execution_count": 18,
      "outputs": [
        {
          "output_type": "stream",
          "name": "stdout",
          "text": [
            "[[0.00000e+00 1.38676e+00 1.39374e+00 ... 6.36990e+04 1.00000e+00\n",
            "  1.00000e+00]\n",
            " [1.00000e+00 1.39062e+00 1.39474e+00 ... 4.66600e+04 1.00000e+00\n",
            "  1.00000e+00]\n",
            " [2.00000e+00 1.39251e+00 1.39427e+00 ... 5.52010e+04 0.00000e+00\n",
            "  1.00000e+00]\n",
            " ...\n",
            " [1.99400e+03 1.12467e+00 1.12551e+00 ... 3.66050e+04 0.00000e+00\n",
            "  0.00000e+00]\n",
            " [1.99500e+03 1.11959e+00 1.12295e+00 ... 2.60930e+04 1.00000e+00\n",
            "  1.00000e+00]\n",
            " [1.99600e+03 1.12058e+00 1.13295e+00 ... 4.08810e+04 1.00000e+00\n",
            "  1.00000e+00]]\n",
            "[[1.38788]\n",
            " [1.38797]\n",
            " [1.38095]\n",
            " ...\n",
            " [1.11959]\n",
            " [1.12051]\n",
            " [1.13052]]\n"
          ]
        }
      ]
    },
    {
      "cell_type": "code",
      "metadata": {
        "id": "s-d3TjyWS22Q"
      },
      "source": [
        "#for low prediction\n",
        "from sklearn.model_selection import train_test_split\n",
        "X_train, X_test, y_train, y_test = train_test_split(x, y, test_size = 0.30)"
      ],
      "execution_count": 19,
      "outputs": []
    },
    {
      "cell_type": "code",
      "metadata": {
        "colab": {
          "base_uri": "https://localhost:8080/"
        },
        "id": "W2CQQyXSS22R",
        "outputId": "8bb4291b-057b-4499-8bf9-db60011744a1"
      },
      "source": [
        "#for low prediction and accuracy test\n",
        "# create regressor object\n",
        "regressor = xg.XGBRegressor(n_estimators=10000, objective='reg:squarederror', nthread=-1, n_jobs=-1)\n",
        "#regressor = rf(n_estimators = 1000, n_jobs=-1, criterion=\"absolute_error\", random_state=2)\n",
        "# fit the regressor with x and y data\n",
        "regressor.fit(X_train, y_train)"
      ],
      "execution_count": 20,
      "outputs": [
        {
          "output_type": "execute_result",
          "data": {
            "text/plain": [
              "XGBRegressor(n_estimators=10000, n_jobs=-1, nthread=-1,\n",
              "             objective='reg:squarederror')"
            ]
          },
          "metadata": {},
          "execution_count": 20
        }
      ]
    },
    {
      "cell_type": "code",
      "metadata": {
        "id": "DSflbgeHS22R"
      },
      "source": [
        "#for low pred \n",
        "y_pred = regressor.predict(X_test)\n",
        "mape = mean_absolute_percentage_error(y_test,y_pred)"
      ],
      "execution_count": 21,
      "outputs": []
    },
    {
      "cell_type": "code",
      "metadata": {
        "id": "HAlEpAY7S22R",
        "colab": {
          "base_uri": "https://localhost:8080/"
        },
        "outputId": "a00a903c-3c4c-4f06-b0c6-9d5a22b722e0"
      },
      "source": [
        "#for low pred regression score\n",
        "from sklearn import metrics \n",
        "print('MAE:', metrics.mean_absolute_error(y_test,y_pred))\n",
        "print('MSE:', metrics.mean_squared_error(y_test, y_pred))\n",
        "print('RMSE:', np.sqrt(metrics.mean_squared_error(y_test, y_pred)))\n",
        "print('MAPE:', mape)\n",
        "print('MedAE', metrics.median_absolute_error(y_test,y_pred)) "
      ],
      "execution_count": 22,
      "outputs": [
        {
          "output_type": "stream",
          "name": "stdout",
          "text": [
            "MAE: 0.003115888036155705\n",
            "MSE: 1.7317060498577302e-05\n",
            "RMSE: 0.004161377235793134\n",
            "MAPE: 6.563024001412784\n",
            "MedAE 0.0024142199897767558\n"
          ]
        }
      ]
    },
    {
      "cell_type": "code",
      "metadata": {
        "id": "imhGUfGcS22R",
        "colab": {
          "base_uri": "https://localhost:8080/"
        },
        "outputId": "ace5010c-8e88-4962-cc10-02dcbb5d4b42"
      },
      "source": [
        "#for low pred \n",
        "y_pred_l = regressor.predict(last_row) # test the output by changing values\n",
        "print('low prediction is:', y_pred_l)"
      ],
      "execution_count": 23,
      "outputs": [
        {
          "output_type": "stream",
          "name": "stdout",
          "text": [
            "low prediction is: [1.1302643]\n"
          ]
        }
      ]
    },
    {
      "cell_type": "code",
      "metadata": {
        "id": "DvA_vsGiIJvu"
      },
      "source": [
        "# #for low prediction\n",
        "# # Visualising the Random Forest Regression results\n",
        "\n",
        "# # arange for creating a range of values\n",
        "# # from min value of x to max\n",
        "# # value of x with a difference of 0.01\n",
        "# # between two consecutive values\n",
        "# X_grid = np.arange(min(x), max(x), 1)\n",
        "\n",
        "# # reshape for reshaping the data into a len(X_grid)*1 array,\n",
        "# # i.e. to make a column out of the X_grid value\t\t\t\t\n",
        "# X_grid = X_grid.reshape((len(X_grid), 1))\n",
        "\n",
        "# # Scatter plot for original data\n",
        "# plt.scatter(x, y, color = 'blue')\n",
        "\n",
        "# # plot predicted data\n",
        "# plt.scatter(X_grid, regressor.predict(X_grid),\n",
        "# \t\tcolor = 'green')\n",
        "# plt.title('Random Forest Regression')\n",
        "# plt.xlabel('Position level')\n",
        "# plt.ylabel('EURUSD')\n",
        "# plt.xlim(7980,8000)\n",
        "# plt.ylim(1.15,1.17)\n",
        "# plt.show()"
      ],
      "execution_count": 24,
      "outputs": []
    },
    {
      "cell_type": "code",
      "metadata": {
        "id": "CNQOZ0oNIwHQ",
        "colab": {
          "base_uri": "https://localhost:8080/"
        },
        "outputId": "6c7fd5e5-57fc-4d25-96eb-7fb1328e7de2"
      },
      "source": [
        "#for close prediction\n",
        "#select rows to use for x,y\n",
        "x = df_m_5.iloc[:,np.r_[1:34]].values\n",
        "print(x)\n",
        "y = df_m_5.iloc[:,[36]].values\n",
        "print(y) "
      ],
      "execution_count": 25,
      "outputs": [
        {
          "output_type": "stream",
          "name": "stdout",
          "text": [
            "[[0.00000e+00 1.38676e+00 1.39374e+00 ... 6.36990e+04 1.00000e+00\n",
            "  1.00000e+00]\n",
            " [1.00000e+00 1.39062e+00 1.39474e+00 ... 4.66600e+04 1.00000e+00\n",
            "  1.00000e+00]\n",
            " [2.00000e+00 1.39251e+00 1.39427e+00 ... 5.52010e+04 0.00000e+00\n",
            "  1.00000e+00]\n",
            " ...\n",
            " [1.99400e+03 1.12467e+00 1.12551e+00 ... 3.66050e+04 0.00000e+00\n",
            "  0.00000e+00]\n",
            " [1.99500e+03 1.11959e+00 1.12295e+00 ... 2.60930e+04 1.00000e+00\n",
            "  1.00000e+00]\n",
            " [1.99600e+03 1.12058e+00 1.13295e+00 ... 4.08810e+04 1.00000e+00\n",
            "  1.00000e+00]]\n",
            "[[1.39252]\n",
            " [1.39304]\n",
            " [1.38223]\n",
            " ...\n",
            " [1.12062]\n",
            " [1.13177]\n",
            " [1.13097]]\n"
          ]
        }
      ]
    },
    {
      "cell_type": "code",
      "metadata": {
        "id": "WEJIyPqMViu4"
      },
      "source": [
        "#for close prediction\n",
        "from sklearn.model_selection import train_test_split\n",
        "X_train, X_test, y_train, y_test = train_test_split(x, y, test_size = 0.30)"
      ],
      "execution_count": 26,
      "outputs": []
    },
    {
      "cell_type": "code",
      "metadata": {
        "id": "g_WdTiJbViu4",
        "colab": {
          "base_uri": "https://localhost:8080/"
        },
        "outputId": "03449bf9-bc1a-4517-ce1d-8e52eb7810ba"
      },
      "source": [
        "#for close prediction and accuracy test\n",
        "\n",
        "# create regressor object\n",
        "regressor = xg.XGBRegressor(n_estimators=10000, objective='reg:squarederror', nthread=-1, n_jobs=-1)\n",
        "#regressor = rf(n_estimators = 1000, n_jobs=-1, criterion=\"absolute_error\", random_state=3)\n",
        "# fit the regressor with x and y data\n",
        "regressor.fit(X_train, y_train)"
      ],
      "execution_count": 27,
      "outputs": [
        {
          "output_type": "execute_result",
          "data": {
            "text/plain": [
              "XGBRegressor(n_estimators=10000, n_jobs=-1, nthread=-1,\n",
              "             objective='reg:squarederror')"
            ]
          },
          "metadata": {},
          "execution_count": 27
        }
      ]
    },
    {
      "cell_type": "code",
      "metadata": {
        "id": "lviE4TesViu5"
      },
      "source": [
        "#for close prediction\n",
        "y_pred = regressor.predict(X_test)\n",
        "mape = mean_absolute_percentage_error(y_test,y_pred)"
      ],
      "execution_count": 28,
      "outputs": []
    },
    {
      "cell_type": "code",
      "metadata": {
        "id": "9N5zeqU0Viu5",
        "colab": {
          "base_uri": "https://localhost:8080/"
        },
        "outputId": "eada74f1-8845-479a-f2d1-63eb9a6a5348"
      },
      "source": [
        "#for close regression score\n",
        "from sklearn import metrics \n",
        "print('MAE:', metrics.mean_absolute_error(y_test,y_pred))\n",
        "print('MSE:', metrics.mean_squared_error(y_test, y_pred))\n",
        "print('RMSE:', np.sqrt(metrics.mean_squared_error(y_test, y_pred)))\n",
        "print('MAPE:', mape)\n",
        "print('MedAE', metrics.median_absolute_error(y_test,y_pred)) \n",
        "#print('MdAPE', metrics)"
      ],
      "execution_count": 29,
      "outputs": [
        {
          "output_type": "stream",
          "name": "stdout",
          "text": [
            "MAE: 0.004553578386497495\n",
            "MSE: 3.6408061831196936e-05\n",
            "RMSE: 0.006033909332364627\n",
            "MAPE: 6.581921087253724\n",
            "MedAE 0.0036106148529053694\n"
          ]
        }
      ]
    },
    {
      "cell_type": "code",
      "metadata": {
        "id": "NzvYU1gFViu5",
        "colab": {
          "base_uri": "https://localhost:8080/"
        },
        "outputId": "40caf1ff-e0c3-4236-e0d6-e275de0c4034"
      },
      "source": [
        "#for close pred \n",
        "y_pred_c = regressor.predict(last_row) # test the output by changing values\n",
        "print('close prediction is:', y_pred_c)"
      ],
      "execution_count": 30,
      "outputs": [
        {
          "output_type": "stream",
          "name": "stdout",
          "text": [
            "close prediction is: [1.1313605]\n"
          ]
        }
      ]
    },
    {
      "cell_type": "code",
      "metadata": {
        "id": "m6tqvMO4EBCp",
        "colab": {
          "base_uri": "https://localhost:8080/"
        },
        "outputId": "79cda864-907c-4b12-f600-d6a65c707c0a"
      },
      "source": [
        "print('Today the predictions are:')\n",
        "print('high', y_pred_h)\n",
        "print('close', y_pred_c)\n",
        "print('low', y_pred_l)\n",
        "print('Please use these as polarities.')"
      ],
      "execution_count": 31,
      "outputs": [
        {
          "output_type": "stream",
          "name": "stdout",
          "text": [
            "Today the predictions are:\n",
            "high [1.1323243]\n",
            "close [1.1313605]\n",
            "low [1.1302643]\n",
            "Please use these as polarities.\n"
          ]
        }
      ]
    },
    {
      "cell_type": "code",
      "metadata": {
        "id": "coLwLO0xJ76K"
      },
      "source": [
        "# #for high prediction\n",
        "# # Visualising the Random Forest Regression results\n",
        "\n",
        "# # arange for creating a range of values\n",
        "# # from min value of x to max\n",
        "# # value of x with a difference of 0.01\n",
        "# # between two consecutive values\n",
        "# X_grid = np.arange(min(x), max(x), 1)\n",
        "\n",
        "# # reshape for reshaping the data into a len(X_grid)*1 array,\n",
        "# # i.e. to make a column out of the X_grid value\t\t\t\t\n",
        "# X_grid = X_grid.reshape((len(X_grid), 1))\n",
        "\n",
        "# # Scatter plot for original data\n",
        "# plt.scatter(x, y, color = 'blue')\n",
        "\n",
        "# # plot predicted data\n",
        "# plt.scatter(X_grid, regressor.predict(X_grid),\n",
        "# \t\tcolor = 'green')\n",
        "# plt.title('Random Forest Regression')\n",
        "# plt.xlabel('Position level')\n",
        "# plt.ylabel('EURUSD')\n",
        "# plt.xlim(7980,8002)\n",
        "# plt.ylim(1.15,1.17)\n",
        "# plt.show()"
      ],
      "execution_count": 32,
      "outputs": []
    }
  ]
}