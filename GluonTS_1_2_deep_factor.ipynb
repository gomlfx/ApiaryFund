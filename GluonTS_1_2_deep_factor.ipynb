{
  "cells": [
    {
      "cell_type": "markdown",
      "metadata": {
        "id": "view-in-github",
        "colab_type": "text"
      },
      "source": [
        "<a href=\"https://colab.research.google.com/github/gomlfx/ApiaryFund/blob/master/GluonTS_1_2_deep_factor.ipynb\" target=\"_parent\"><img src=\"https://colab.research.google.com/assets/colab-badge.svg\" alt=\"Open In Colab\"/></a>"
      ]
    },
    {
      "cell_type": "code",
      "execution_count": 1,
      "metadata": {
        "id": "v28DJzHXeDW9"
      },
      "outputs": [],
      "source": [
        "import pandas as pd"
      ]
    },
    {
      "cell_type": "code",
      "execution_count": 2,
      "metadata": {
        "colab": {
          "base_uri": "https://localhost:8080/"
        },
        "id": "ma1yzIATZTMD",
        "outputId": "23a124e0-77f0-45d7-d794-eaae9dff3b6d"
      },
      "outputs": [
        {
          "output_type": "stream",
          "name": "stdout",
          "text": [
            "Requirement already satisfied: mxnet~=1.7 in /usr/local/lib/python3.7/dist-packages (1.9.0)\n",
            "Requirement already satisfied: gluonts in /usr/local/lib/python3.7/dist-packages (0.8.1)\n",
            "Requirement already satisfied: requests<3,>=2.20.0 in /usr/local/lib/python3.7/dist-packages (from mxnet~=1.7) (2.23.0)\n",
            "Requirement already satisfied: numpy<2.0.0,>1.16.0 in /usr/local/lib/python3.7/dist-packages (from mxnet~=1.7) (1.19.5)\n",
            "Requirement already satisfied: graphviz<0.9.0,>=0.8.1 in /usr/local/lib/python3.7/dist-packages (from mxnet~=1.7) (0.8.4)\n",
            "Requirement already satisfied: idna<3,>=2.5 in /usr/local/lib/python3.7/dist-packages (from requests<3,>=2.20.0->mxnet~=1.7) (2.10)\n",
            "Requirement already satisfied: certifi>=2017.4.17 in /usr/local/lib/python3.7/dist-packages (from requests<3,>=2.20.0->mxnet~=1.7) (2021.10.8)\n",
            "Requirement already satisfied: urllib3!=1.25.0,!=1.25.1,<1.26,>=1.21.1 in /usr/local/lib/python3.7/dist-packages (from requests<3,>=2.20.0->mxnet~=1.7) (1.24.3)\n",
            "Requirement already satisfied: chardet<4,>=3.0.2 in /usr/local/lib/python3.7/dist-packages (from requests<3,>=2.20.0->mxnet~=1.7) (3.0.4)\n",
            "Requirement already satisfied: tqdm~=4.23 in /usr/local/lib/python3.7/dist-packages (from gluonts) (4.62.3)\n",
            "Requirement already satisfied: typing-extensions~=3.10.0.0 in /usr/local/lib/python3.7/dist-packages (from gluonts) (3.10.0.2)\n",
            "Requirement already satisfied: holidays>=0.9 in /usr/local/lib/python3.7/dist-packages (from gluonts) (0.10.5.2)\n",
            "Requirement already satisfied: pandas~=1.0 in /usr/local/lib/python3.7/dist-packages (from gluonts) (1.3.5)\n",
            "Requirement already satisfied: matplotlib~=3.0 in /usr/local/lib/python3.7/dist-packages (from gluonts) (3.2.2)\n",
            "Requirement already satisfied: pydantic~=1.1 in /usr/local/lib/python3.7/dist-packages (from gluonts) (1.9.0)\n",
            "Requirement already satisfied: toolz~=0.10 in /usr/local/lib/python3.7/dist-packages (from gluonts) (0.11.2)\n",
            "Requirement already satisfied: korean-lunar-calendar in /usr/local/lib/python3.7/dist-packages (from holidays>=0.9->gluonts) (0.2.1)\n",
            "Requirement already satisfied: hijri-converter in /usr/local/lib/python3.7/dist-packages (from holidays>=0.9->gluonts) (2.2.2)\n",
            "Requirement already satisfied: convertdate>=2.3.0 in /usr/local/lib/python3.7/dist-packages (from holidays>=0.9->gluonts) (2.4.0)\n",
            "Requirement already satisfied: python-dateutil in /usr/local/lib/python3.7/dist-packages (from holidays>=0.9->gluonts) (2.8.2)\n",
            "Requirement already satisfied: six in /usr/local/lib/python3.7/dist-packages (from holidays>=0.9->gluonts) (1.15.0)\n",
            "Requirement already satisfied: pymeeus<=1,>=0.3.13 in /usr/local/lib/python3.7/dist-packages (from convertdate>=2.3.0->holidays>=0.9->gluonts) (0.5.11)\n",
            "Requirement already satisfied: kiwisolver>=1.0.1 in /usr/local/lib/python3.7/dist-packages (from matplotlib~=3.0->gluonts) (1.3.2)\n",
            "Requirement already satisfied: cycler>=0.10 in /usr/local/lib/python3.7/dist-packages (from matplotlib~=3.0->gluonts) (0.11.0)\n",
            "Requirement already satisfied: pyparsing!=2.0.4,!=2.1.2,!=2.1.6,>=2.0.1 in /usr/local/lib/python3.7/dist-packages (from matplotlib~=3.0->gluonts) (3.0.7)\n",
            "Requirement already satisfied: pytz>=2017.3 in /usr/local/lib/python3.7/dist-packages (from pandas~=1.0->gluonts) (2018.9)\n"
          ]
        }
      ],
      "source": [
        "#install GluonTS\n",
        "!pip install --upgrade mxnet~=1.7 gluonts"
      ]
    },
    {
      "cell_type": "code",
      "execution_count": 3,
      "metadata": {
        "id": "1vH7mX0edOyn"
      },
      "outputs": [],
      "source": [
        "#metatrader 5 history file an timeframe is ok\n",
        "df = pd.read_csv('/content/EURUSD_H4_200001030000_202202030000.csv')\n"
      ]
    },
    {
      "cell_type": "code",
      "execution_count": 4,
      "metadata": {
        "id": "q0wCDd8sftJx"
      },
      "outputs": [],
      "source": [
        "#split mt5 into columns\n",
        "df.columns=['header']\n",
        "df = df.header.str.split('\\t', expand=True)"
      ]
    },
    {
      "cell_type": "code",
      "execution_count": 5,
      "metadata": {
        "colab": {
          "base_uri": "https://localhost:8080/",
          "height": 424
        },
        "id": "gsjnTnmNkW5i",
        "outputId": "ea04254f-838e-4f0a-dd4c-f7ce9978aa30"
      },
      "outputs": [
        {
          "output_type": "execute_result",
          "data": {
            "text/html": [
              "\n",
              "  <div id=\"df-5c2499d2-8d11-4fdf-aff6-8bad5a576464\">\n",
              "    <div class=\"colab-df-container\">\n",
              "      <div>\n",
              "<style scoped>\n",
              "    .dataframe tbody tr th:only-of-type {\n",
              "        vertical-align: middle;\n",
              "    }\n",
              "\n",
              "    .dataframe tbody tr th {\n",
              "        vertical-align: top;\n",
              "    }\n",
              "\n",
              "    .dataframe thead th {\n",
              "        text-align: right;\n",
              "    }\n",
              "</style>\n",
              "<table border=\"1\" class=\"dataframe\">\n",
              "  <thead>\n",
              "    <tr style=\"text-align: right;\">\n",
              "      <th></th>\n",
              "      <th>0</th>\n",
              "      <th>1</th>\n",
              "      <th>2</th>\n",
              "      <th>3</th>\n",
              "      <th>4</th>\n",
              "      <th>5</th>\n",
              "      <th>6</th>\n",
              "      <th>7</th>\n",
              "      <th>8</th>\n",
              "    </tr>\n",
              "  </thead>\n",
              "  <tbody>\n",
              "    <tr>\n",
              "      <th>0</th>\n",
              "      <td>2000.01.03</td>\n",
              "      <td>00:00:00</td>\n",
              "      <td>1.00730</td>\n",
              "      <td>1.01900</td>\n",
              "      <td>1.00730</td>\n",
              "      <td>1.01750</td>\n",
              "      <td>670</td>\n",
              "      <td>0</td>\n",
              "      <td>50</td>\n",
              "    </tr>\n",
              "    <tr>\n",
              "      <th>1</th>\n",
              "      <td>2000.01.03</td>\n",
              "      <td>04:00:00</td>\n",
              "      <td>1.01730</td>\n",
              "      <td>1.01810</td>\n",
              "      <td>1.01540</td>\n",
              "      <td>1.01570</td>\n",
              "      <td>609</td>\n",
              "      <td>0</td>\n",
              "      <td>50</td>\n",
              "    </tr>\n",
              "    <tr>\n",
              "      <th>2</th>\n",
              "      <td>2000.01.03</td>\n",
              "      <td>08:00:00</td>\n",
              "      <td>1.01540</td>\n",
              "      <td>1.01670</td>\n",
              "      <td>1.00930</td>\n",
              "      <td>1.01150</td>\n",
              "      <td>1731</td>\n",
              "      <td>0</td>\n",
              "      <td>50</td>\n",
              "    </tr>\n",
              "    <tr>\n",
              "      <th>3</th>\n",
              "      <td>2000.01.03</td>\n",
              "      <td>12:00:00</td>\n",
              "      <td>1.01180</td>\n",
              "      <td>1.01180</td>\n",
              "      <td>1.00540</td>\n",
              "      <td>1.00730</td>\n",
              "      <td>1562</td>\n",
              "      <td>0</td>\n",
              "      <td>50</td>\n",
              "    </tr>\n",
              "    <tr>\n",
              "      <th>4</th>\n",
              "      <td>2000.01.03</td>\n",
              "      <td>16:00:00</td>\n",
              "      <td>1.00770</td>\n",
              "      <td>1.02400</td>\n",
              "      <td>1.00700</td>\n",
              "      <td>1.02180</td>\n",
              "      <td>1484</td>\n",
              "      <td>0</td>\n",
              "      <td>50</td>\n",
              "    </tr>\n",
              "    <tr>\n",
              "      <th>...</th>\n",
              "      <td>...</td>\n",
              "      <td>...</td>\n",
              "      <td>...</td>\n",
              "      <td>...</td>\n",
              "      <td>...</td>\n",
              "      <td>...</td>\n",
              "      <td>...</td>\n",
              "      <td>...</td>\n",
              "      <td>...</td>\n",
              "    </tr>\n",
              "    <tr>\n",
              "      <th>34395</th>\n",
              "      <td>2022.02.02</td>\n",
              "      <td>08:00:00</td>\n",
              "      <td>1.12732</td>\n",
              "      <td>1.12942</td>\n",
              "      <td>1.12667</td>\n",
              "      <td>1.12932</td>\n",
              "      <td>11753</td>\n",
              "      <td>0</td>\n",
              "      <td>0</td>\n",
              "    </tr>\n",
              "    <tr>\n",
              "      <th>34396</th>\n",
              "      <td>2022.02.02</td>\n",
              "      <td>12:00:00</td>\n",
              "      <td>1.12931</td>\n",
              "      <td>1.13301</td>\n",
              "      <td>1.12897</td>\n",
              "      <td>1.13112</td>\n",
              "      <td>17083</td>\n",
              "      <td>0</td>\n",
              "      <td>0</td>\n",
              "    </tr>\n",
              "    <tr>\n",
              "      <th>34397</th>\n",
              "      <td>2022.02.02</td>\n",
              "      <td>16:00:00</td>\n",
              "      <td>1.13115</td>\n",
              "      <td>1.13212</td>\n",
              "      <td>1.12926</td>\n",
              "      <td>1.13113</td>\n",
              "      <td>18868</td>\n",
              "      <td>0</td>\n",
              "      <td>0</td>\n",
              "    </tr>\n",
              "    <tr>\n",
              "      <th>34398</th>\n",
              "      <td>2022.02.02</td>\n",
              "      <td>20:00:00</td>\n",
              "      <td>1.13112</td>\n",
              "      <td>1.13142</td>\n",
              "      <td>1.13020</td>\n",
              "      <td>1.13035</td>\n",
              "      <td>6153</td>\n",
              "      <td>0</td>\n",
              "      <td>0</td>\n",
              "    </tr>\n",
              "    <tr>\n",
              "      <th>34399</th>\n",
              "      <td>2022.02.03</td>\n",
              "      <td>00:00:00</td>\n",
              "      <td>1.13018</td>\n",
              "      <td>1.13051</td>\n",
              "      <td>1.12980</td>\n",
              "      <td>1.13010</td>\n",
              "      <td>1328</td>\n",
              "      <td>0</td>\n",
              "      <td>7</td>\n",
              "    </tr>\n",
              "  </tbody>\n",
              "</table>\n",
              "<p>34400 rows × 9 columns</p>\n",
              "</div>\n",
              "      <button class=\"colab-df-convert\" onclick=\"convertToInteractive('df-5c2499d2-8d11-4fdf-aff6-8bad5a576464')\"\n",
              "              title=\"Convert this dataframe to an interactive table.\"\n",
              "              style=\"display:none;\">\n",
              "        \n",
              "  <svg xmlns=\"http://www.w3.org/2000/svg\" height=\"24px\"viewBox=\"0 0 24 24\"\n",
              "       width=\"24px\">\n",
              "    <path d=\"M0 0h24v24H0V0z\" fill=\"none\"/>\n",
              "    <path d=\"M18.56 5.44l.94 2.06.94-2.06 2.06-.94-2.06-.94-.94-2.06-.94 2.06-2.06.94zm-11 1L8.5 8.5l.94-2.06 2.06-.94-2.06-.94L8.5 2.5l-.94 2.06-2.06.94zm10 10l.94 2.06.94-2.06 2.06-.94-2.06-.94-.94-2.06-.94 2.06-2.06.94z\"/><path d=\"M17.41 7.96l-1.37-1.37c-.4-.4-.92-.59-1.43-.59-.52 0-1.04.2-1.43.59L10.3 9.45l-7.72 7.72c-.78.78-.78 2.05 0 2.83L4 21.41c.39.39.9.59 1.41.59.51 0 1.02-.2 1.41-.59l7.78-7.78 2.81-2.81c.8-.78.8-2.07 0-2.86zM5.41 20L4 18.59l7.72-7.72 1.47 1.35L5.41 20z\"/>\n",
              "  </svg>\n",
              "      </button>\n",
              "      \n",
              "  <style>\n",
              "    .colab-df-container {\n",
              "      display:flex;\n",
              "      flex-wrap:wrap;\n",
              "      gap: 12px;\n",
              "    }\n",
              "\n",
              "    .colab-df-convert {\n",
              "      background-color: #E8F0FE;\n",
              "      border: none;\n",
              "      border-radius: 50%;\n",
              "      cursor: pointer;\n",
              "      display: none;\n",
              "      fill: #1967D2;\n",
              "      height: 32px;\n",
              "      padding: 0 0 0 0;\n",
              "      width: 32px;\n",
              "    }\n",
              "\n",
              "    .colab-df-convert:hover {\n",
              "      background-color: #E2EBFA;\n",
              "      box-shadow: 0px 1px 2px rgba(60, 64, 67, 0.3), 0px 1px 3px 1px rgba(60, 64, 67, 0.15);\n",
              "      fill: #174EA6;\n",
              "    }\n",
              "\n",
              "    [theme=dark] .colab-df-convert {\n",
              "      background-color: #3B4455;\n",
              "      fill: #D2E3FC;\n",
              "    }\n",
              "\n",
              "    [theme=dark] .colab-df-convert:hover {\n",
              "      background-color: #434B5C;\n",
              "      box-shadow: 0px 1px 3px 1px rgba(0, 0, 0, 0.15);\n",
              "      filter: drop-shadow(0px 1px 2px rgba(0, 0, 0, 0.3));\n",
              "      fill: #FFFFFF;\n",
              "    }\n",
              "  </style>\n",
              "\n",
              "      <script>\n",
              "        const buttonEl =\n",
              "          document.querySelector('#df-5c2499d2-8d11-4fdf-aff6-8bad5a576464 button.colab-df-convert');\n",
              "        buttonEl.style.display =\n",
              "          google.colab.kernel.accessAllowed ? 'block' : 'none';\n",
              "\n",
              "        async function convertToInteractive(key) {\n",
              "          const element = document.querySelector('#df-5c2499d2-8d11-4fdf-aff6-8bad5a576464');\n",
              "          const dataTable =\n",
              "            await google.colab.kernel.invokeFunction('convertToInteractive',\n",
              "                                                     [key], {});\n",
              "          if (!dataTable) return;\n",
              "\n",
              "          const docLinkHtml = 'Like what you see? Visit the ' +\n",
              "            '<a target=\"_blank\" href=https://colab.research.google.com/notebooks/data_table.ipynb>data table notebook</a>'\n",
              "            + ' to learn more about interactive tables.';\n",
              "          element.innerHTML = '';\n",
              "          dataTable['output_type'] = 'display_data';\n",
              "          await google.colab.output.renderOutput(dataTable, element);\n",
              "          const docLink = document.createElement('div');\n",
              "          docLink.innerHTML = docLinkHtml;\n",
              "          element.appendChild(docLink);\n",
              "        }\n",
              "      </script>\n",
              "    </div>\n",
              "  </div>\n",
              "  "
            ],
            "text/plain": [
              "                0         1        2        3        4        5      6  7   8\n",
              "0      2000.01.03  00:00:00  1.00730  1.01900  1.00730  1.01750    670  0  50\n",
              "1      2000.01.03  04:00:00  1.01730  1.01810  1.01540  1.01570    609  0  50\n",
              "2      2000.01.03  08:00:00  1.01540  1.01670  1.00930  1.01150   1731  0  50\n",
              "3      2000.01.03  12:00:00  1.01180  1.01180  1.00540  1.00730   1562  0  50\n",
              "4      2000.01.03  16:00:00  1.00770  1.02400  1.00700  1.02180   1484  0  50\n",
              "...           ...       ...      ...      ...      ...      ...    ... ..  ..\n",
              "34395  2022.02.02  08:00:00  1.12732  1.12942  1.12667  1.12932  11753  0   0\n",
              "34396  2022.02.02  12:00:00  1.12931  1.13301  1.12897  1.13112  17083  0   0\n",
              "34397  2022.02.02  16:00:00  1.13115  1.13212  1.12926  1.13113  18868  0   0\n",
              "34398  2022.02.02  20:00:00  1.13112  1.13142  1.13020  1.13035   6153  0   0\n",
              "34399  2022.02.03  00:00:00  1.13018  1.13051  1.12980  1.13010   1328  0   7\n",
              "\n",
              "[34400 rows x 9 columns]"
            ]
          },
          "metadata": {},
          "execution_count": 5
        }
      ],
      "source": [
        "#check the splits\n",
        "df"
      ]
    },
    {
      "cell_type": "code",
      "execution_count": 6,
      "metadata": {
        "colab": {
          "base_uri": "https://localhost:8080/"
        },
        "id": "IKMZcqOfkZMd",
        "outputId": "16a5f350-357a-4772-a8b8-96d3c6df84e4"
      },
      "outputs": [
        {
          "output_type": "stream",
          "name": "stdout",
          "text": [
            "                0         1        5\n",
            "0      2000.01.03  00:00:00  1.01750\n",
            "1      2000.01.03  04:00:00  1.01570\n",
            "2      2000.01.03  08:00:00  1.01150\n",
            "3      2000.01.03  12:00:00  1.00730\n",
            "4      2000.01.03  16:00:00  1.02180\n",
            "...           ...       ...      ...\n",
            "34395  2022.02.02  08:00:00  1.12932\n",
            "34396  2022.02.02  12:00:00  1.13112\n",
            "34397  2022.02.02  16:00:00  1.13113\n",
            "34398  2022.02.02  20:00:00  1.13035\n",
            "34399  2022.02.03  00:00:00  1.13010\n",
            "\n",
            "[34400 rows x 3 columns]\n"
          ]
        }
      ],
      "source": [
        "#merge date and time to convert object to datetime to use as GluonTS index\n",
        "selected_columns = df[[0,1,5]]\n",
        "new_df = selected_columns.copy()\n",
        "print(new_df)"
      ]
    },
    {
      "cell_type": "code",
      "execution_count": 7,
      "metadata": {
        "id": "tRRqEkwdlXmT"
      },
      "outputs": [],
      "source": [
        "new_df['date_time_index'] = df[0] +' '+ df[1]\n",
        "new_df = new_df.drop(columns = [0,1])"
      ]
    },
    {
      "cell_type": "code",
      "execution_count": 8,
      "metadata": {
        "id": "td9O8CwRqiBs"
      },
      "outputs": [],
      "source": [
        "new_df = new_df.rename(columns={5:'price'})"
      ]
    },
    {
      "cell_type": "code",
      "execution_count": 9,
      "metadata": {
        "colab": {
          "base_uri": "https://localhost:8080/"
        },
        "id": "RO96StzjrLVJ",
        "outputId": "d9eb6637-73e7-4aaa-a114-de2ba0f27b54"
      },
      "outputs": [
        {
          "output_type": "stream",
          "name": "stdout",
          "text": [
            "                       price\n",
            "date_time_index             \n",
            "2000-01-03 00:00:00  1.01750\n",
            "2000-01-03 04:00:00  1.01570\n",
            "2000-01-03 08:00:00  1.01150\n",
            "2000-01-03 12:00:00  1.00730\n",
            "2000-01-03 16:00:00  1.02180\n",
            "...                      ...\n",
            "2022-02-02 08:00:00  1.12932\n",
            "2022-02-02 12:00:00  1.13112\n",
            "2022-02-02 16:00:00  1.13113\n",
            "2022-02-02 20:00:00  1.13035\n",
            "2022-02-03 00:00:00  1.13010\n",
            "\n",
            "[34400 rows x 1 columns]\n"
          ]
        }
      ],
      "source": [
        "#convert mt5 object formats to datetime and float\n",
        "df2 = new_df[['date_time_index','price']]\n",
        "df2['date_time_index'] = pd.to_datetime(df2['date_time_index'])\n",
        "df2['price'] = df2['price'].astype(float, errors = 'raise')\n",
        "df2 = df2.set_index('date_time_index')\n",
        "print(df2)"
      ]
    },
    {
      "cell_type": "code",
      "execution_count": 10,
      "metadata": {
        "colab": {
          "base_uri": "https://localhost:8080/"
        },
        "id": "9rlTE6bgtEKd",
        "outputId": "0f66a22f-8386-498e-f457-613bb65b1c3e"
      },
      "outputs": [
        {
          "output_type": "stream",
          "name": "stdout",
          "text": [
            "<class 'pandas.core.frame.DataFrame'>\n",
            "DatetimeIndex: 34400 entries, 2000-01-03 00:00:00 to 2022-02-03 00:00:00\n",
            "Data columns (total 1 columns):\n",
            " #   Column  Non-Null Count  Dtype  \n",
            "---  ------  --------------  -----  \n",
            " 0   price   34400 non-null  float64\n",
            "dtypes: float64(1)\n",
            "memory usage: 537.5 KB\n"
          ]
        }
      ],
      "source": [
        "#check it is done\n",
        "df2.info()"
      ]
    },
    {
      "cell_type": "code",
      "execution_count": 11,
      "metadata": {
        "colab": {
          "base_uri": "https://localhost:8080/",
          "height": 286
        },
        "id": "yYzS14iSZjRi",
        "outputId": "a9613c00-c3d4-4b71-b93d-8831271a8597"
      },
      "outputs": [
        {
          "output_type": "display_data",
          "data": {
            "image/png": "[encoded data removed]",
            "text/plain": [
              "<Figure size 432x288 with 1 Axes>"
            ]
          },
          "metadata": {
            "needs_background": "light"
          }
        }
      ],
      "source": [
        "#print the data range from above\n",
        "import matplotlib.pyplot as plt\n",
        "df2[:100].plot(linewidth=2)\n",
        "plt.grid(which='both')\n",
        "plt.show()"
      ]
    },
    {
      "cell_type": "code",
      "execution_count": 12,
      "metadata": {
        "colab": {
          "base_uri": "https://localhost:8080/"
        },
        "id": "y2jkSwYoZjz7",
        "outputId": "2c4c5388-33db-4035-8533-cb01bfa43e3c"
      },
      "outputs": [
        {
          "output_type": "stream",
          "name": "stderr",
          "text": [
            "/usr/local/lib/python3.7/dist-packages/gluonts/json.py:46: UserWarning: Using `json`-module for json-handling. Consider installing one of `orjson`, `ujson` to speed up serialization and deserialization.\n",
            "  \"Using `json`-module for json-handling. \"\n"
          ]
        }
      ],
      "source": [
        "#import Gluon\n",
        "from gluonts.dataset.common import ListDataset"
      ]
    },
    {
      "cell_type": "code",
      "execution_count": 13,
      "metadata": {
        "id": "_BAzJE6l1LS0"
      },
      "outputs": [],
      "source": [
        "#choose data range to train\n",
        "training_data = ListDataset(\n",
        "    [{\"start\": df2.index[0], \"target\": df2.price[\"2000-01-01 01:00:00\":\"2022-02-03 00:00:00\"]}], \n",
        "    freq = \"4H\"\n",
        "    )"
      ]
    },
    {
      "cell_type": "code",
      "execution_count": 14,
      "metadata": {
        "id": "QjFfjoxq2zKd"
      },
      "outputs": [],
      "source": [
        "#import model \n",
        "from gluonts.model.deepar import DeepAREstimator\n",
        "\n",
        "from gluonts.model.deep_factor._network import DeepFactorPredictionNetwork, DeepFactorTrainingNetwork\n",
        "from gluonts.model.deep_factor.RNNModel import RNNModel\n",
        "\n",
        "from gluonts.model.deep_factor import DeepFactorEstimator\n",
        "from gluonts.model.deepstate import DeepStateEstimator\n",
        "\n",
        "from gluonts.mx.trainer import Trainer"
      ]
    },
    {
      "cell_type": "code",
      "execution_count": 29,
      "metadata": {
        "colab": {
          "base_uri": "https://localhost:8080/"
        },
        "id": "Sl6QDq3u26Ma",
        "outputId": "4b985c74-ae4c-415d-b8ae-b8f730726565"
      },
      "outputs": [
        {
          "output_type": "stream",
          "name": "stderr",
          "text": [
            "/usr/local/lib/python3.7/dist-packages/gluonts/transform/split.py:36: FutureWarning: Timestamp.freq is deprecated and will be removed in a future version\n",
            "  return _shift_timestamp_helper(ts, ts.freq, offset)\n",
            "/usr/local/lib/python3.7/dist-packages/gluonts/transform/feature.py:352: FutureWarning: Timestamp.freq is deprecated and will be removed in a future version\n",
            "  self._min_time_point, self._max_time_point, freq=start.freq\n",
            "  0%|          | 0/2000 [00:00<?, ?it/s]/usr/local/lib/python3.7/dist-packages/gluonts/transform/split.py:36: FutureWarning: Timestamp.freq is deprecated and will be removed in a future version\n",
            "  return _shift_timestamp_helper(ts, ts.freq, offset)\n",
            "100%|██████████| 2000/2000 [00:23<00:00, 85.00it/s, epoch=1/20, avg_epoch_loss=-5.17]\n",
            "100%|██████████| 2000/2000 [00:23<00:00, 86.60it/s, epoch=2/20, avg_epoch_loss=-6.2]\n",
            "100%|██████████| 2000/2000 [00:23<00:00, 86.38it/s, epoch=3/20, avg_epoch_loss=-6.25]\n",
            "100%|██████████| 2000/2000 [00:23<00:00, 86.59it/s, epoch=4/20, avg_epoch_loss=-6.29]\n",
            "100%|██████████| 2000/2000 [00:23<00:00, 86.63it/s, epoch=5/20, avg_epoch_loss=-6.34]\n",
            "100%|██████████| 2000/2000 [00:23<00:00, 86.27it/s, epoch=6/20, avg_epoch_loss=-6.39]\n",
            "100%|██████████| 2000/2000 [00:23<00:00, 85.23it/s, epoch=7/20, avg_epoch_loss=-6.41]\n",
            "100%|██████████| 2000/2000 [00:23<00:00, 85.56it/s, epoch=8/20, avg_epoch_loss=-6.42]\n",
            "100%|██████████| 2000/2000 [00:23<00:00, 85.91it/s, epoch=9/20, avg_epoch_loss=-6.44]\n",
            "100%|██████████| 2000/2000 [00:23<00:00, 86.46it/s, epoch=10/20, avg_epoch_loss=-6.45]\n",
            "100%|██████████| 2000/2000 [00:23<00:00, 86.64it/s, epoch=11/20, avg_epoch_loss=-6.46]\n",
            "100%|██████████| 2000/2000 [00:23<00:00, 86.04it/s, epoch=12/20, avg_epoch_loss=-6.47]\n",
            "100%|██████████| 2000/2000 [00:23<00:00, 86.66it/s, epoch=13/20, avg_epoch_loss=-6.48]\n",
            "100%|██████████| 2000/2000 [00:23<00:00, 86.33it/s, epoch=14/20, avg_epoch_loss=-6.49]\n",
            "100%|██████████| 2000/2000 [00:23<00:00, 86.84it/s, epoch=15/20, avg_epoch_loss=-6.5]\n",
            "100%|██████████| 2000/2000 [00:23<00:00, 85.69it/s, epoch=16/20, avg_epoch_loss=-6.5]\n",
            "100%|██████████| 2000/2000 [00:23<00:00, 86.74it/s, epoch=17/20, avg_epoch_loss=-6.51]\n",
            "100%|██████████| 2000/2000 [00:22<00:00, 87.07it/s, epoch=18/20, avg_epoch_loss=-6.52]\n",
            "100%|██████████| 2000/2000 [00:23<00:00, 86.84it/s, epoch=19/20, avg_epoch_loss=-6.52]\n",
            "100%|██████████| 2000/2000 [00:23<00:00, 85.13it/s, epoch=20/20, avg_epoch_loss=-6.53]\n"
          ]
        }
      ],
      "source": [
        "#train model\n",
        "estimator = DeepFactorEstimator(freq=\"4H\", prediction_length=24,  batch_size=24, trainer=Trainer(epochs=20, num_batches_per_epoch=2000))\n",
        "#estimator = DeepFactorEstimator(freq=\"1H\", prediction_length=124, trainer=Trainer(epochs=3))\n",
        "\n",
        "predictor = estimator.train(training_data=training_data)"
      ]
    },
    {
      "cell_type": "code",
      "execution_count": 30,
      "metadata": {
        "id": "k2FSTP4e3q65"
      },
      "outputs": [],
      "source": [
        "#choose data range to predict\n",
        "test_data = ListDataset(\n",
        "    [{\"start\": df2.index[0], \"target\": df2.price[:\"2022-02-03 00:00:00\"]}],\n",
        "    freq = \"4H\"\n",
        ")"
      ]
    },
    {
      "cell_type": "code",
      "execution_count": 31,
      "metadata": {
        "colab": {
          "base_uri": "https://localhost:8080/",
          "height": 356
        },
        "id": "F3s2XjNb9BWr",
        "outputId": "be7968a6-197f-466c-d606-9feb5bdb8f1e"
      },
      "outputs": [
        {
          "output_type": "stream",
          "name": "stderr",
          "text": [
            "/usr/local/lib/python3.7/dist-packages/gluonts/transform/split.py:36: FutureWarning: Timestamp.freq is deprecated and will be removed in a future version\n",
            "  return _shift_timestamp_helper(ts, ts.freq, offset)\n",
            "/usr/local/lib/python3.7/dist-packages/gluonts/dataset/util.py:128: FutureWarning: Timestamp.freqstr is deprecated and will be removed in a future version.\n",
            "  freq = start.freqstr\n"
          ]
        },
        {
          "output_type": "display_data",
          "data": {
            "image/png": "[encoded data removed]",
            "text/plain": [
              "<Figure size 432x288 with 1 Axes>"
            ]
          },
          "metadata": {
            "needs_background": "light"
          }
        }
      ],
      "source": [
        "#plot prediction graph\n",
        "from gluonts.dataset.util import to_pandas\n",
        "\n",
        "for test_entry, forecast in zip(test_data, predictor.predict(test_data)):\n",
        "    to_pandas(test_entry)[-60:].plot(linewidth=2)\n",
        "    forecast.plot(color='g', prediction_intervals=[50.0, 90.0])\n",
        "plt.grid(which='both')"
      ]
    },
    {
      "cell_type": "code",
      "execution_count": 18,
      "metadata": {
        "id": "epAi4P4TdMB8"
      },
      "outputs": [],
      "source": [
        "from gluonts.evaluation import make_evaluation_predictions"
      ]
    },
    {
      "cell_type": "code",
      "execution_count": 19,
      "metadata": {
        "id": "MIuHz2lpdUhk"
      },
      "outputs": [],
      "source": [
        "\n",
        "def plot_prob_forecasts(ts_entry, forecast_entry):\n",
        "    plot_length = 150\n",
        "    prediction_intervals = (50.0, 90.0)\n",
        "    legend = [\"observations\", \"median prediction\"] + [f\"{k}% prediction interval\" for k in prediction_intervals][::-1]\n",
        "\n",
        "    fig, ax = plt.subplots(1, 1, figsize=(10, 7))\n",
        "    ts_entry[-plot_length:].plot(ax=ax)  # plot the time series\n",
        "    forecast_entry.plot(prediction_intervals=prediction_intervals, color='g')\n",
        "    plt.grid(which=\"both\")\n",
        "    plt.legend(legend, loc=\"upper left\")\n",
        "    plt.show()"
      ]
    },
    {
      "cell_type": "code",
      "execution_count": 20,
      "metadata": {
        "colab": {
          "base_uri": "https://localhost:8080/",
          "height": 486
        },
        "id": "OgvLlzBHcpdH",
        "outputId": "e37f4491-986d-413d-d894-bcbbe71d934e"
      },
      "outputs": [
        {
          "output_type": "stream",
          "name": "stderr",
          "text": [
            "/usr/local/lib/python3.7/dist-packages/gluonts/transform/split.py:36: FutureWarning: Timestamp.freq is deprecated and will be removed in a future version\n",
            "  return _shift_timestamp_helper(ts, ts.freq, offset)\n"
          ]
        },
        {
          "output_type": "display_data",
          "data": {
            "image/png": "[encoded data removed]",
            "text/plain": [
              "<Figure size 720x504 with 1 Axes>"
            ]
          },
          "metadata": {
            "needs_background": "light"
          }
        }
      ],
      "source": [
        "forecast_it, ts_it = make_evaluation_predictions(\n",
        "    dataset=test_data,  # test dataset\n",
        "    predictor=predictor,  # predictor\n",
        "    num_samples=24,  # number of sample paths we want for evaluation\n",
        ")\n",
        "\n",
        "forecasts = list(forecast_it)\n",
        "tss = list(ts_it)\n",
        "\n",
        "plot_prob_forecasts(tss[0], forecasts[0])"
      ]
    }
  ],
  "metadata": {
    "colab": {
      "collapsed_sections": [],
      "name": "GluonTS_1.2_deep_factor.ipynb",
      "provenance": [],
      "authorship_tag": "ABX9TyMJjHrwlmqgw+O6RLGMXN/I",
      "include_colab_link": true
    },
    "kernelspec": {
      "display_name": "Python 3",
      "name": "python3"
    },
    "language_info": {
      "name": "python"
    }
  },
  "nbformat": 4,
  "nbformat_minor": 0
}