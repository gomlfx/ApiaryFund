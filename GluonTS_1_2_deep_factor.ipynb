{
  "cells": [
    {
      "cell_type": "markdown",
      "metadata": {
        "id": "view-in-github",
        "colab_type": "text"
      },
      "source": [
        "<a href=\"https://colab.research.google.com/github/gomlfx/ApiaryFund/blob/master/GluonTS_1_2_deep_factor.ipynb\" target=\"_parent\"><img src=\"https://colab.research.google.com/assets/colab-badge.svg\" alt=\"Open In Colab\"/></a>"
      ]
    },
    {
      "cell_type": "code",
      "execution_count": 1,
      "metadata": {
        "id": "v28DJzHXeDW9"
      },
      "outputs": [],
      "source": [
        "import pandas as pd"
      ]
    },
    {
      "cell_type": "code",
      "execution_count": 2,
      "metadata": {
        "colab": {
          "base_uri": "https://localhost:8080/"
        },
        "id": "ma1yzIATZTMD",
        "outputId": "2cad340c-0033-41e5-efb1-64468e1d9b6c"
      },
      "outputs": [
        {
          "output_type": "stream",
          "name": "stdout",
          "text": [
            "Collecting mxnet~=1.7\n",
            "  Downloading mxnet-1.9.0-py3-none-manylinux2014_x86_64.whl (47.3 MB)\n",
            "\u001b[K     |████████████████████████████████| 47.3 MB 1.5 MB/s \n",
            "\u001b[?25hCollecting gluonts\n",
            "  Downloading gluonts-0.8.1-py3-none-any.whl (2.1 MB)\n",
            "\u001b[K     |████████████████████████████████| 2.1 MB 49.8 MB/s \n",
            "\u001b[?25hCollecting graphviz<0.9.0,>=0.8.1\n",
            "  Downloading graphviz-0.8.4-py2.py3-none-any.whl (16 kB)\n",
            "Requirement already satisfied: requests<3,>=2.20.0 in /usr/local/lib/python3.7/dist-packages (from mxnet~=1.7) (2.23.0)\n",
            "Requirement already satisfied: numpy<2.0.0,>1.16.0 in /usr/local/lib/python3.7/dist-packages (from mxnet~=1.7) (1.19.5)\n",
            "Requirement already satisfied: certifi>=2017.4.17 in /usr/local/lib/python3.7/dist-packages (from requests<3,>=2.20.0->mxnet~=1.7) (2021.10.8)\n",
            "Requirement already satisfied: chardet<4,>=3.0.2 in /usr/local/lib/python3.7/dist-packages (from requests<3,>=2.20.0->mxnet~=1.7) (3.0.4)\n",
            "Requirement already satisfied: urllib3!=1.25.0,!=1.25.1,<1.26,>=1.21.1 in /usr/local/lib/python3.7/dist-packages (from requests<3,>=2.20.0->mxnet~=1.7) (1.24.3)\n",
            "Requirement already satisfied: idna<3,>=2.5 in /usr/local/lib/python3.7/dist-packages (from requests<3,>=2.20.0->mxnet~=1.7) (2.10)\n",
            "Requirement already satisfied: matplotlib~=3.0 in /usr/local/lib/python3.7/dist-packages (from gluonts) (3.2.2)\n",
            "Collecting pydantic~=1.1\n",
            "  Downloading pydantic-1.9.0-cp37-cp37m-manylinux_2_17_x86_64.manylinux2014_x86_64.whl (10.9 MB)\n",
            "\u001b[K     |████████████████████████████████| 10.9 MB 43.2 MB/s \n",
            "\u001b[?25hRequirement already satisfied: holidays>=0.9 in /usr/local/lib/python3.7/dist-packages (from gluonts) (0.10.5.2)\n",
            "Requirement already satisfied: tqdm~=4.23 in /usr/local/lib/python3.7/dist-packages (from gluonts) (4.62.3)\n",
            "Requirement already satisfied: toolz~=0.10 in /usr/local/lib/python3.7/dist-packages (from gluonts) (0.11.2)\n",
            "Requirement already satisfied: typing-extensions~=3.10.0.0 in /usr/local/lib/python3.7/dist-packages (from gluonts) (3.10.0.2)\n",
            "Requirement already satisfied: pandas~=1.0 in /usr/local/lib/python3.7/dist-packages (from gluonts) (1.3.5)\n",
            "Requirement already satisfied: python-dateutil in /usr/local/lib/python3.7/dist-packages (from holidays>=0.9->gluonts) (2.8.2)\n",
            "Requirement already satisfied: korean-lunar-calendar in /usr/local/lib/python3.7/dist-packages (from holidays>=0.9->gluonts) (0.2.1)\n",
            "Requirement already satisfied: six in /usr/local/lib/python3.7/dist-packages (from holidays>=0.9->gluonts) (1.15.0)\n",
            "Requirement already satisfied: hijri-converter in /usr/local/lib/python3.7/dist-packages (from holidays>=0.9->gluonts) (2.2.2)\n",
            "Requirement already satisfied: convertdate>=2.3.0 in /usr/local/lib/python3.7/dist-packages (from holidays>=0.9->gluonts) (2.4.0)\n",
            "Requirement already satisfied: pymeeus<=1,>=0.3.13 in /usr/local/lib/python3.7/dist-packages (from convertdate>=2.3.0->holidays>=0.9->gluonts) (0.5.11)\n",
            "Requirement already satisfied: pyparsing!=2.0.4,!=2.1.2,!=2.1.6,>=2.0.1 in /usr/local/lib/python3.7/dist-packages (from matplotlib~=3.0->gluonts) (3.0.7)\n",
            "Requirement already satisfied: cycler>=0.10 in /usr/local/lib/python3.7/dist-packages (from matplotlib~=3.0->gluonts) (0.11.0)\n",
            "Requirement already satisfied: kiwisolver>=1.0.1 in /usr/local/lib/python3.7/dist-packages (from matplotlib~=3.0->gluonts) (1.3.2)\n",
            "Requirement already satisfied: pytz>=2017.3 in /usr/local/lib/python3.7/dist-packages (from pandas~=1.0->gluonts) (2018.9)\n",
            "Installing collected packages: pydantic, graphviz, mxnet, gluonts\n",
            "  Attempting uninstall: graphviz\n",
            "    Found existing installation: graphviz 0.10.1\n",
            "    Uninstalling graphviz-0.10.1:\n",
            "      Successfully uninstalled graphviz-0.10.1\n",
            "Successfully installed gluonts-0.8.1 graphviz-0.8.4 mxnet-1.9.0 pydantic-1.9.0\n"
          ]
        }
      ],
      "source": [
        "#install GluonTS\n",
        "!pip install --upgrade mxnet~=1.7 gluonts"
      ]
    },
    {
      "cell_type": "code",
      "execution_count": 35,
      "metadata": {
        "id": "1vH7mX0edOyn"
      },
      "outputs": [],
      "source": [
        "#metatrader 5 history file an timeframe is ok\n",
        "df = pd.read_csv('/content/EURUSD_H4_200001030000_202202021200.csv')\n"
      ]
    },
    {
      "cell_type": "code",
      "execution_count": 36,
      "metadata": {
        "id": "q0wCDd8sftJx"
      },
      "outputs": [],
      "source": [
        "#split mt5 into columns\n",
        "df.columns=['header']\n",
        "df = df.header.str.split('\\t', expand=True)"
      ]
    },
    {
      "cell_type": "code",
      "execution_count": 37,
      "metadata": {
        "colab": {
          "base_uri": "https://localhost:8080/",
          "height": 424
        },
        "id": "gsjnTnmNkW5i",
        "outputId": "276815bb-30b6-4ecf-fc0d-9abfe0f047a1"
      },
      "outputs": [
        {
          "output_type": "execute_result",
          "data": {
            "text/html": [
              "\n",
              "  <div id=\"df-5393deee-ae32-4819-bea6-67d77904869b\">\n",
              "    <div class=\"colab-df-container\">\n",
              "      <div>\n",
              "<style scoped>\n",
              "    .dataframe tbody tr th:only-of-type {\n",
              "        vertical-align: middle;\n",
              "    }\n",
              "\n",
              "    .dataframe tbody tr th {\n",
              "        vertical-align: top;\n",
              "    }\n",
              "\n",
              "    .dataframe thead th {\n",
              "        text-align: right;\n",
              "    }\n",
              "</style>\n",
              "<table border=\"1\" class=\"dataframe\">\n",
              "  <thead>\n",
              "    <tr style=\"text-align: right;\">\n",
              "      <th></th>\n",
              "      <th>0</th>\n",
              "      <th>1</th>\n",
              "      <th>2</th>\n",
              "      <th>3</th>\n",
              "      <th>4</th>\n",
              "      <th>5</th>\n",
              "      <th>6</th>\n",
              "      <th>7</th>\n",
              "      <th>8</th>\n",
              "    </tr>\n",
              "  </thead>\n",
              "  <tbody>\n",
              "    <tr>\n",
              "      <th>0</th>\n",
              "      <td>2010.09.10</td>\n",
              "      <td>12:00:00</td>\n",
              "      <td>1.27164</td>\n",
              "      <td>1.27370</td>\n",
              "      <td>1.26861</td>\n",
              "      <td>1.27047</td>\n",
              "      <td>7904</td>\n",
              "      <td>0</td>\n",
              "      <td>9</td>\n",
              "    </tr>\n",
              "    <tr>\n",
              "      <th>1</th>\n",
              "      <td>2010.09.10</td>\n",
              "      <td>16:00:00</td>\n",
              "      <td>1.27050</td>\n",
              "      <td>1.27435</td>\n",
              "      <td>1.26903</td>\n",
              "      <td>1.27135</td>\n",
              "      <td>6969</td>\n",
              "      <td>0</td>\n",
              "      <td>8</td>\n",
              "    </tr>\n",
              "    <tr>\n",
              "      <th>2</th>\n",
              "      <td>2010.09.10</td>\n",
              "      <td>20:00:00</td>\n",
              "      <td>1.27133</td>\n",
              "      <td>1.27291</td>\n",
              "      <td>1.26750</td>\n",
              "      <td>1.26784</td>\n",
              "      <td>3107</td>\n",
              "      <td>0</td>\n",
              "      <td>12</td>\n",
              "    </tr>\n",
              "    <tr>\n",
              "      <th>3</th>\n",
              "      <td>2010.09.13</td>\n",
              "      <td>00:00:00</td>\n",
              "      <td>1.27050</td>\n",
              "      <td>1.27945</td>\n",
              "      <td>1.27040</td>\n",
              "      <td>1.27828</td>\n",
              "      <td>5235</td>\n",
              "      <td>0</td>\n",
              "      <td>12</td>\n",
              "    </tr>\n",
              "    <tr>\n",
              "      <th>4</th>\n",
              "      <td>2010.09.13</td>\n",
              "      <td>04:00:00</td>\n",
              "      <td>1.27825</td>\n",
              "      <td>1.28074</td>\n",
              "      <td>1.27800</td>\n",
              "      <td>1.27946</td>\n",
              "      <td>4844</td>\n",
              "      <td>0</td>\n",
              "      <td>9</td>\n",
              "    </tr>\n",
              "    <tr>\n",
              "      <th>...</th>\n",
              "      <td>...</td>\n",
              "      <td>...</td>\n",
              "      <td>...</td>\n",
              "      <td>...</td>\n",
              "      <td>...</td>\n",
              "      <td>...</td>\n",
              "      <td>...</td>\n",
              "      <td>...</td>\n",
              "      <td>...</td>\n",
              "    </tr>\n",
              "    <tr>\n",
              "      <th>17717</th>\n",
              "      <td>2022.02.01</td>\n",
              "      <td>20:00:00</td>\n",
              "      <td>1.12448</td>\n",
              "      <td>1.12735</td>\n",
              "      <td>1.12427</td>\n",
              "      <td>1.12718</td>\n",
              "      <td>8213</td>\n",
              "      <td>0</td>\n",
              "      <td>0</td>\n",
              "    </tr>\n",
              "    <tr>\n",
              "      <th>17718</th>\n",
              "      <td>2022.02.02</td>\n",
              "      <td>00:00:00</td>\n",
              "      <td>1.12715</td>\n",
              "      <td>1.12770</td>\n",
              "      <td>1.12679</td>\n",
              "      <td>1.12764</td>\n",
              "      <td>3482</td>\n",
              "      <td>0</td>\n",
              "      <td>0</td>\n",
              "    </tr>\n",
              "    <tr>\n",
              "      <th>17719</th>\n",
              "      <td>2022.02.02</td>\n",
              "      <td>04:00:00</td>\n",
              "      <td>1.12765</td>\n",
              "      <td>1.12779</td>\n",
              "      <td>1.12705</td>\n",
              "      <td>1.12731</td>\n",
              "      <td>3804</td>\n",
              "      <td>0</td>\n",
              "      <td>0</td>\n",
              "    </tr>\n",
              "    <tr>\n",
              "      <th>17720</th>\n",
              "      <td>2022.02.02</td>\n",
              "      <td>08:00:00</td>\n",
              "      <td>1.12732</td>\n",
              "      <td>1.12942</td>\n",
              "      <td>1.12667</td>\n",
              "      <td>1.12932</td>\n",
              "      <td>11753</td>\n",
              "      <td>0</td>\n",
              "      <td>0</td>\n",
              "    </tr>\n",
              "    <tr>\n",
              "      <th>17721</th>\n",
              "      <td>2022.02.02</td>\n",
              "      <td>12:00:00</td>\n",
              "      <td>1.12931</td>\n",
              "      <td>1.13152</td>\n",
              "      <td>1.12897</td>\n",
              "      <td>1.13148</td>\n",
              "      <td>7531</td>\n",
              "      <td>0</td>\n",
              "      <td>0</td>\n",
              "    </tr>\n",
              "  </tbody>\n",
              "</table>\n",
              "<p>17722 rows × 9 columns</p>\n",
              "</div>\n",
              "      <button class=\"colab-df-convert\" onclick=\"convertToInteractive('df-5393deee-ae32-4819-bea6-67d77904869b')\"\n",
              "              title=\"Convert this dataframe to an interactive table.\"\n",
              "              style=\"display:none;\">\n",
              "        \n",
              "  <svg xmlns=\"http://www.w3.org/2000/svg\" height=\"24px\"viewBox=\"0 0 24 24\"\n",
              "       width=\"24px\">\n",
              "    <path d=\"M0 0h24v24H0V0z\" fill=\"none\"/>\n",
              "    <path d=\"M18.56 5.44l.94 2.06.94-2.06 2.06-.94-2.06-.94-.94-2.06-.94 2.06-2.06.94zm-11 1L8.5 8.5l.94-2.06 2.06-.94-2.06-.94L8.5 2.5l-.94 2.06-2.06.94zm10 10l.94 2.06.94-2.06 2.06-.94-2.06-.94-.94-2.06-.94 2.06-2.06.94z\"/><path d=\"M17.41 7.96l-1.37-1.37c-.4-.4-.92-.59-1.43-.59-.52 0-1.04.2-1.43.59L10.3 9.45l-7.72 7.72c-.78.78-.78 2.05 0 2.83L4 21.41c.39.39.9.59 1.41.59.51 0 1.02-.2 1.41-.59l7.78-7.78 2.81-2.81c.8-.78.8-2.07 0-2.86zM5.41 20L4 18.59l7.72-7.72 1.47 1.35L5.41 20z\"/>\n",
              "  </svg>\n",
              "      </button>\n",
              "      \n",
              "  <style>\n",
              "    .colab-df-container {\n",
              "      display:flex;\n",
              "      flex-wrap:wrap;\n",
              "      gap: 12px;\n",
              "    }\n",
              "\n",
              "    .colab-df-convert {\n",
              "      background-color: #E8F0FE;\n",
              "      border: none;\n",
              "      border-radius: 50%;\n",
              "      cursor: pointer;\n",
              "      display: none;\n",
              "      fill: #1967D2;\n",
              "      height: 32px;\n",
              "      padding: 0 0 0 0;\n",
              "      width: 32px;\n",
              "    }\n",
              "\n",
              "    .colab-df-convert:hover {\n",
              "      background-color: #E2EBFA;\n",
              "      box-shadow: 0px 1px 2px rgba(60, 64, 67, 0.3), 0px 1px 3px 1px rgba(60, 64, 67, 0.15);\n",
              "      fill: #174EA6;\n",
              "    }\n",
              "\n",
              "    [theme=dark] .colab-df-convert {\n",
              "      background-color: #3B4455;\n",
              "      fill: #D2E3FC;\n",
              "    }\n",
              "\n",
              "    [theme=dark] .colab-df-convert:hover {\n",
              "      background-color: #434B5C;\n",
              "      box-shadow: 0px 1px 3px 1px rgba(0, 0, 0, 0.15);\n",
              "      filter: drop-shadow(0px 1px 2px rgba(0, 0, 0, 0.3));\n",
              "      fill: #FFFFFF;\n",
              "    }\n",
              "  </style>\n",
              "\n",
              "      <script>\n",
              "        const buttonEl =\n",
              "          document.querySelector('#df-5393deee-ae32-4819-bea6-67d77904869b button.colab-df-convert');\n",
              "        buttonEl.style.display =\n",
              "          google.colab.kernel.accessAllowed ? 'block' : 'none';\n",
              "\n",
              "        async function convertToInteractive(key) {\n",
              "          const element = document.querySelector('#df-5393deee-ae32-4819-bea6-67d77904869b');\n",
              "          const dataTable =\n",
              "            await google.colab.kernel.invokeFunction('convertToInteractive',\n",
              "                                                     [key], {});\n",
              "          if (!dataTable) return;\n",
              "\n",
              "          const docLinkHtml = 'Like what you see? Visit the ' +\n",
              "            '<a target=\"_blank\" href=https://colab.research.google.com/notebooks/data_table.ipynb>data table notebook</a>'\n",
              "            + ' to learn more about interactive tables.';\n",
              "          element.innerHTML = '';\n",
              "          dataTable['output_type'] = 'display_data';\n",
              "          await google.colab.output.renderOutput(dataTable, element);\n",
              "          const docLink = document.createElement('div');\n",
              "          docLink.innerHTML = docLinkHtml;\n",
              "          element.appendChild(docLink);\n",
              "        }\n",
              "      </script>\n",
              "    </div>\n",
              "  </div>\n",
              "  "
            ],
            "text/plain": [
              "                0         1        2        3        4        5      6  7   8\n",
              "0      2010.09.10  12:00:00  1.27164  1.27370  1.26861  1.27047   7904  0   9\n",
              "1      2010.09.10  16:00:00  1.27050  1.27435  1.26903  1.27135   6969  0   8\n",
              "2      2010.09.10  20:00:00  1.27133  1.27291  1.26750  1.26784   3107  0  12\n",
              "3      2010.09.13  00:00:00  1.27050  1.27945  1.27040  1.27828   5235  0  12\n",
              "4      2010.09.13  04:00:00  1.27825  1.28074  1.27800  1.27946   4844  0   9\n",
              "...           ...       ...      ...      ...      ...      ...    ... ..  ..\n",
              "17717  2022.02.01  20:00:00  1.12448  1.12735  1.12427  1.12718   8213  0   0\n",
              "17718  2022.02.02  00:00:00  1.12715  1.12770  1.12679  1.12764   3482  0   0\n",
              "17719  2022.02.02  04:00:00  1.12765  1.12779  1.12705  1.12731   3804  0   0\n",
              "17720  2022.02.02  08:00:00  1.12732  1.12942  1.12667  1.12932  11753  0   0\n",
              "17721  2022.02.02  12:00:00  1.12931  1.13152  1.12897  1.13148   7531  0   0\n",
              "\n",
              "[17722 rows x 9 columns]"
            ]
          },
          "metadata": {},
          "execution_count": 37
        }
      ],
      "source": [
        "#check the splits\n",
        "df"
      ]
    },
    {
      "cell_type": "code",
      "execution_count": 38,
      "metadata": {
        "colab": {
          "base_uri": "https://localhost:8080/"
        },
        "id": "IKMZcqOfkZMd",
        "outputId": "6f065ec1-95b6-4868-ed47-d0d4d22b2534"
      },
      "outputs": [
        {
          "output_type": "stream",
          "name": "stdout",
          "text": [
            "                0         1        5\n",
            "0      2010.09.10  12:00:00  1.27047\n",
            "1      2010.09.10  16:00:00  1.27135\n",
            "2      2010.09.10  20:00:00  1.26784\n",
            "3      2010.09.13  00:00:00  1.27828\n",
            "4      2010.09.13  04:00:00  1.27946\n",
            "...           ...       ...      ...\n",
            "17717  2022.02.01  20:00:00  1.12718\n",
            "17718  2022.02.02  00:00:00  1.12764\n",
            "17719  2022.02.02  04:00:00  1.12731\n",
            "17720  2022.02.02  08:00:00  1.12932\n",
            "17721  2022.02.02  12:00:00  1.13148\n",
            "\n",
            "[17722 rows x 3 columns]\n"
          ]
        }
      ],
      "source": [
        "#merge date and time to convert object to datetime to use as GluonTS index\n",
        "selected_columns = df[[0,1,5]]\n",
        "new_df = selected_columns.copy()\n",
        "print(new_df)"
      ]
    },
    {
      "cell_type": "code",
      "execution_count": 39,
      "metadata": {
        "id": "tRRqEkwdlXmT"
      },
      "outputs": [],
      "source": [
        "new_df['date_time_index'] = df[0] +' '+ df[1]\n",
        "new_df = new_df.drop(columns = [0,1])"
      ]
    },
    {
      "cell_type": "code",
      "execution_count": 40,
      "metadata": {
        "id": "td9O8CwRqiBs"
      },
      "outputs": [],
      "source": [
        "new_df = new_df.rename(columns={5:'price'})"
      ]
    },
    {
      "cell_type": "code",
      "execution_count": 41,
      "metadata": {
        "colab": {
          "base_uri": "https://localhost:8080/"
        },
        "id": "RO96StzjrLVJ",
        "outputId": "68e354b5-490c-4c7d-9b2c-b27d53a9a525"
      },
      "outputs": [
        {
          "output_type": "stream",
          "name": "stdout",
          "text": [
            "                       price\n",
            "date_time_index             \n",
            "2010-09-10 12:00:00  1.27047\n",
            "2010-09-10 16:00:00  1.27135\n",
            "2010-09-10 20:00:00  1.26784\n",
            "2010-09-13 00:00:00  1.27828\n",
            "2010-09-13 04:00:00  1.27946\n",
            "...                      ...\n",
            "2022-02-01 20:00:00  1.12718\n",
            "2022-02-02 00:00:00  1.12764\n",
            "2022-02-02 04:00:00  1.12731\n",
            "2022-02-02 08:00:00  1.12932\n",
            "2022-02-02 12:00:00  1.13148\n",
            "\n",
            "[17722 rows x 1 columns]\n"
          ]
        }
      ],
      "source": [
        "#convert mt5 object formats to datetime and float\n",
        "df2 = new_df[['date_time_index','price']]\n",
        "df2['date_time_index'] = pd.to_datetime(df2['date_time_index'])\n",
        "df2['price'] = df2['price'].astype(float, errors = 'raise')\n",
        "df2 = df2.set_index('date_time_index')\n",
        "print(df2)"
      ]
    },
    {
      "cell_type": "code",
      "execution_count": 42,
      "metadata": {
        "colab": {
          "base_uri": "https://localhost:8080/"
        },
        "id": "9rlTE6bgtEKd",
        "outputId": "a1e5c2ad-71a8-4c1e-9514-6cc6d6f2ab23"
      },
      "outputs": [
        {
          "output_type": "stream",
          "name": "stdout",
          "text": [
            "<class 'pandas.core.frame.DataFrame'>\n",
            "DatetimeIndex: 17722 entries, 2010-09-10 12:00:00 to 2022-02-02 12:00:00\n",
            "Data columns (total 1 columns):\n",
            " #   Column  Non-Null Count  Dtype  \n",
            "---  ------  --------------  -----  \n",
            " 0   price   17722 non-null  float64\n",
            "dtypes: float64(1)\n",
            "memory usage: 276.9 KB\n"
          ]
        }
      ],
      "source": [
        "#check it is done\n",
        "df2.info()"
      ]
    },
    {
      "cell_type": "code",
      "execution_count": 43,
      "metadata": {
        "colab": {
          "base_uri": "https://localhost:8080/",
          "height": 286
        },
        "id": "yYzS14iSZjRi",
        "outputId": "49f3845c-031d-4310-a0b7-5b3f3b33b9f4"
      },
      "outputs": [
        {
          "output_type": "display_data",
          "data": {
            "image/png": "[encoded data removed]",
            "text/plain": [
              "<Figure size 432x288 with 1 Axes>"
            ]
          },
          "metadata": {
            "needs_background": "light"
          }
        }
      ],
      "source": [
        "#print the data range from above\n",
        "import matplotlib.pyplot as plt\n",
        "df2[:100].plot(linewidth=2)\n",
        "plt.grid(which='both')\n",
        "plt.show()"
      ]
    },
    {
      "cell_type": "code",
      "execution_count": 30,
      "metadata": {
        "id": "y2jkSwYoZjz7"
      },
      "outputs": [],
      "source": [
        "#import Gluon\n",
        "from gluonts.dataset.common import ListDataset"
      ]
    },
    {
      "cell_type": "code",
      "execution_count": 44,
      "metadata": {
        "id": "_BAzJE6l1LS0"
      },
      "outputs": [],
      "source": [
        "#choose data range to train\n",
        "training_data = ListDataset(\n",
        "    [{\"start\": df2.index[0], \"target\": df2.price[\"2000-01-01 01:00:00\":\"2022-02-02 12:00:00\"]}], \n",
        "    freq = \"4H\"\n",
        "    )"
      ]
    },
    {
      "cell_type": "code",
      "execution_count": 14,
      "metadata": {
        "id": "QjFfjoxq2zKd"
      },
      "outputs": [],
      "source": [
        "#import model \n",
        "from gluonts.model.deepar import DeepAREstimator\n",
        "\n",
        "from gluonts.model.deep_factor._network import DeepFactorPredictionNetwork, DeepFactorTrainingNetwork\n",
        "from gluonts.model.deep_factor.RNNModel import RNNModel\n",
        "\n",
        "from gluonts.model.deep_factor import DeepFactorEstimator\n",
        "from gluonts.model.deepstate import DeepStateEstimator\n",
        "\n",
        "from gluonts.mx.trainer import Trainer"
      ]
    },
    {
      "cell_type": "code",
      "execution_count": 45,
      "metadata": {
        "colab": {
          "base_uri": "https://localhost:8080/"
        },
        "id": "Sl6QDq3u26Ma",
        "outputId": "45ab531d-3b03-407c-a590-16e3deb6198f"
      },
      "outputs": [
        {
          "output_type": "stream",
          "name": "stderr",
          "text": [
            "/usr/local/lib/python3.7/dist-packages/gluonts/dataset/common.py:323: FutureWarning: The 'freq' argument in Timestamp is deprecated and will be removed in a future version.\n",
            "  timestamp = pd.Timestamp(string, freq=freq)\n",
            "/usr/local/lib/python3.7/dist-packages/gluonts/dataset/common.py:326: FutureWarning: Timestamp.freq is deprecated and will be removed in a future version\n",
            "  if isinstance(timestamp.freq, Tick):\n",
            "/usr/local/lib/python3.7/dist-packages/gluonts/dataset/common.py:328: FutureWarning: Timestamp.freq is deprecated and will be removed in a future version\n",
            "  timestamp.floor(timestamp.freq), timestamp.freq\n",
            "/usr/local/lib/python3.7/dist-packages/gluonts/dataset/common.py:328: FutureWarning: The 'freq' argument in Timestamp is deprecated and will be removed in a future version.\n",
            "  timestamp.floor(timestamp.freq), timestamp.freq\n",
            "/usr/local/lib/python3.7/dist-packages/gluonts/transform/split.py:36: FutureWarning: Timestamp.freq is deprecated and will be removed in a future version\n",
            "  return _shift_timestamp_helper(ts, ts.freq, offset)\n",
            "/usr/local/lib/python3.7/dist-packages/gluonts/transform/feature.py:352: FutureWarning: Timestamp.freq is deprecated and will be removed in a future version\n",
            "  self._min_time_point, self._max_time_point, freq=start.freq\n",
            "  0%|          | 0/100 [00:00<?, ?it/s]/usr/local/lib/python3.7/dist-packages/gluonts/transform/split.py:36: FutureWarning: Timestamp.freq is deprecated and will be removed in a future version\n",
            "  return _shift_timestamp_helper(ts, ts.freq, offset)\n",
            "100%|██████████| 100/100 [00:02<00:00, 33.67it/s, epoch=1/10, avg_epoch_loss=-.279]\n",
            "100%|██████████| 100/100 [00:02<00:00, 34.19it/s, epoch=2/10, avg_epoch_loss=-1.92]\n",
            "100%|██████████| 100/100 [00:02<00:00, 33.53it/s, epoch=3/10, avg_epoch_loss=-2.81]\n",
            "100%|██████████| 100/100 [00:04<00:00, 24.93it/s, epoch=4/10, avg_epoch_loss=-3.52]\n",
            "100%|██████████| 100/100 [00:02<00:00, 34.00it/s, epoch=5/10, avg_epoch_loss=-4.16]\n",
            "100%|██████████| 100/100 [00:02<00:00, 33.67it/s, epoch=6/10, avg_epoch_loss=-4.77]\n",
            "100%|██████████| 100/100 [00:02<00:00, 34.02it/s, epoch=7/10, avg_epoch_loss=-5.31]\n",
            "100%|██████████| 100/100 [00:02<00:00, 34.13it/s, epoch=8/10, avg_epoch_loss=-5.72]\n",
            "100%|██████████| 100/100 [00:02<00:00, 34.09it/s, epoch=9/10, avg_epoch_loss=-5.87]\n",
            "100%|██████████| 100/100 [00:03<00:00, 33.17it/s, epoch=10/10, avg_epoch_loss=-5.95]\n"
          ]
        }
      ],
      "source": [
        "#train model\n",
        "estimator = DeepFactorEstimator(freq=\"4H\", prediction_length=24,  batch_size=100, trainer=Trainer(epochs=10, num_batches_per_epoch=100))\n",
        "#estimator = DeepFactorEstimator(freq=\"1H\", prediction_length=124, trainer=Trainer(epochs=3))\n",
        "\n",
        "predictor = estimator.train(training_data=training_data)"
      ]
    },
    {
      "cell_type": "code",
      "execution_count": 46,
      "metadata": {
        "id": "k2FSTP4e3q65"
      },
      "outputs": [],
      "source": [
        "#choose data range to predict\n",
        "test_data = ListDataset(\n",
        "    [{\"start\": df2.index[0], \"target\": df2.price[:\"2022-02-02 12:00:00\"]}],\n",
        "    freq = \"4H\"\n",
        ")"
      ]
    },
    {
      "cell_type": "code",
      "execution_count": 47,
      "metadata": {
        "colab": {
          "base_uri": "https://localhost:8080/",
          "height": 356
        },
        "id": "F3s2XjNb9BWr",
        "outputId": "58fc4a63-f0e8-4792-ad5b-af28c95cde7d"
      },
      "outputs": [
        {
          "output_type": "stream",
          "name": "stderr",
          "text": [
            "/usr/local/lib/python3.7/dist-packages/gluonts/transform/split.py:36: FutureWarning: Timestamp.freq is deprecated and will be removed in a future version\n",
            "  return _shift_timestamp_helper(ts, ts.freq, offset)\n",
            "/usr/local/lib/python3.7/dist-packages/gluonts/dataset/util.py:128: FutureWarning: Timestamp.freqstr is deprecated and will be removed in a future version.\n",
            "  freq = start.freqstr\n"
          ]
        },
        {
          "output_type": "display_data",
          "data": {
            "image/png": "[encoded data removed]",
            "text/plain": [
              "<Figure size 432x288 with 1 Axes>"
            ]
          },
          "metadata": {
            "needs_background": "light"
          }
        }
      ],
      "source": [
        "#plot prediction graph\n",
        "from gluonts.dataset.util import to_pandas\n",
        "\n",
        "for test_entry, forecast in zip(test_data, predictor.predict(test_data)):\n",
        "    to_pandas(test_entry)[-60:].plot(linewidth=2)\n",
        "    forecast.plot(color='g', prediction_intervals=[50.0, 90.0])\n",
        "plt.grid(which='both')"
      ]
    },
    {
      "cell_type": "code",
      "execution_count": 18,
      "metadata": {
        "id": "epAi4P4TdMB8"
      },
      "outputs": [],
      "source": [
        "from gluonts.evaluation import make_evaluation_predictions"
      ]
    },
    {
      "cell_type": "code",
      "execution_count": 48,
      "metadata": {
        "id": "MIuHz2lpdUhk"
      },
      "outputs": [],
      "source": [
        "\n",
        "def plot_prob_forecasts(ts_entry, forecast_entry):\n",
        "    plot_length = 150\n",
        "    prediction_intervals = (50.0, 90.0)\n",
        "    legend = [\"observations\", \"median prediction\"] + [f\"{k}% prediction interval\" for k in prediction_intervals][::-1]\n",
        "\n",
        "    fig, ax = plt.subplots(1, 1, figsize=(10, 7))\n",
        "    ts_entry[-plot_length:].plot(ax=ax)  # plot the time series\n",
        "    forecast_entry.plot(prediction_intervals=prediction_intervals, color='g')\n",
        "    plt.grid(which=\"both\")\n",
        "    plt.legend(legend, loc=\"upper left\")\n",
        "    plt.show()"
      ]
    },
    {
      "cell_type": "code",
      "execution_count": 49,
      "metadata": {
        "colab": {
          "base_uri": "https://localhost:8080/",
          "height": 489
        },
        "id": "OgvLlzBHcpdH",
        "outputId": "bde192b0-e298-4ea4-ee90-087c9dc8b3c6"
      },
      "outputs": [
        {
          "output_type": "stream",
          "name": "stderr",
          "text": [
            "/usr/local/lib/python3.7/dist-packages/gluonts/transform/split.py:36: FutureWarning: Timestamp.freq is deprecated and will be removed in a future version\n",
            "  return _shift_timestamp_helper(ts, ts.freq, offset)\n"
          ]
        },
        {
          "output_type": "display_data",
          "data": {
            "image/png": "[encoded data removed]",
            "text/plain": [
              "<Figure size 720x504 with 1 Axes>"
            ]
          },
          "metadata": {
            "needs_background": "light"
          }
        }
      ],
      "source": [
        "forecast_it, ts_it = make_evaluation_predictions(\n",
        "    dataset=test_data,  # test dataset\n",
        "    predictor=predictor,  # predictor\n",
        "    num_samples=24,  # number of sample paths we want for evaluation\n",
        ")\n",
        "\n",
        "forecasts = list(forecast_it)\n",
        "tss = list(ts_it)\n",
        "\n",
        "plot_prob_forecasts(tss[0], forecasts[0])"
      ]
    }
  ],
  "metadata": {
    "colab": {
      "collapsed_sections": [],
      "name": "GluonTS_1.2_deep_factor.ipynb",
      "provenance": [],
      "authorship_tag": "ABX9TyN/kH8rDkxMCsE4dIVGAWmb",
      "include_colab_link": true
    },
    "kernelspec": {
      "display_name": "Python 3",
      "name": "python3"
    },
    "language_info": {
      "name": "python"
    }
  },
  "nbformat": 4,
  "nbformat_minor": 0
}